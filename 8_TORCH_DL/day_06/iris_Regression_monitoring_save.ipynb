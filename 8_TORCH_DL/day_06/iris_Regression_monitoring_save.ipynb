{
 "cells": [
  {
   "cell_type": "markdown",
   "metadata": {},
   "source": [
    "#### DNN 기반 회귀 모델 구현 + 학습 진행 모니터링 + 저장\n",
    "- 데이터셋 : iris.csv\n",
    "- Feature : 3개 Sepal_Length, Sepal_Width, Petal_Length\n",
    "- Target : 1개 Petal_Width\n",
    "- 학습-방법 : 지도학습 > 회귀\n",
    "- 알고리즘 : 인공신경망(ANN) => MLP, DNN : 은닉층이 많은 구성\n",
    "- 프레임워크 : Pytorch\n",
    "* * *\n",
    "- 모니터링\n",
    "    * 기준 : 검증데이터셋의 loss 또는 score\n",
    "    * 평가 : 학습데이터셋의 loss 또는 score와 비교해서 학습 중단여부 결정\n",
    "    * 선택 : 현재까지 진행된 모델의 파라미터(가중치, 절편) 저장 여부 또는 모델 전체 저장\n",
    "    \n"
   ]
  },
  {
   "cell_type": "markdown",
   "metadata": {},
   "source": [
    "[1] 모듈 로딩 및 데이터 준비 <hr>"
   ]
  },
  {
   "cell_type": "code",
   "execution_count": 1,
   "metadata": {},
   "outputs": [],
   "source": [
    "# 모델 관련 모듈 로딩\n",
    "import torch\n",
    "import torch.nn as nn\n",
    "import torch.nn.functional as F\n",
    "from torch.utils.data import Dataset, DataLoader\n",
    "import torch.optim as optim\n",
    "from torchmetrics.regression import R2Score, MeanSquaredError\n",
    "from torchinfo import summary\n",
    "\n",
    "# Data 관련 모듈 로딩\n",
    "import pandas as pd\n",
    "import matplotlib.pyplot as plt\n",
    "from sklearn.preprocessing import *\n",
    "from sklearn.model_selection import train_test_split"
   ]
  },
  {
   "cell_type": "code",
   "execution_count": 2,
   "metadata": {},
   "outputs": [
    {
     "name": "stdout",
     "output_type": "stream",
     "text": [
      "Pytorch V. 2.4.1+cpu\n",
      "Pandas V. 2.4.1+cpu\n"
     ]
    }
   ],
   "source": [
    "# 활용 패키지 버전 체크 => 사용자 정의 함수로 구현하기\n",
    "print(f'Pytorch V. {torch.__version__}')\n",
    "print(f'Pandas V. {torch.__version__}')"
   ]
  },
  {
   "cell_type": "code",
   "execution_count": 3,
   "metadata": {},
   "outputs": [
    {
     "data": {
      "text/html": [
       "<div>\n",
       "<style scoped>\n",
       "    .dataframe tbody tr th:only-of-type {\n",
       "        vertical-align: middle;\n",
       "    }\n",
       "\n",
       "    .dataframe tbody tr th {\n",
       "        vertical-align: top;\n",
       "    }\n",
       "\n",
       "    .dataframe thead th {\n",
       "        text-align: right;\n",
       "    }\n",
       "</style>\n",
       "<table border=\"1\" class=\"dataframe\">\n",
       "  <thead>\n",
       "    <tr style=\"text-align: right;\">\n",
       "      <th></th>\n",
       "      <th>sepal.length</th>\n",
       "      <th>sepal.width</th>\n",
       "      <th>petal.length</th>\n",
       "      <th>petal.width</th>\n",
       "    </tr>\n",
       "  </thead>\n",
       "  <tbody>\n",
       "    <tr>\n",
       "      <th>0</th>\n",
       "      <td>5.1</td>\n",
       "      <td>3.5</td>\n",
       "      <td>1.4</td>\n",
       "      <td>0.2</td>\n",
       "    </tr>\n",
       "  </tbody>\n",
       "</table>\n",
       "</div>"
      ],
      "text/plain": [
       "   sepal.length  sepal.width  petal.length  petal.width\n",
       "0           5.1          3.5           1.4          0.2"
      ]
     },
     "execution_count": 3,
     "metadata": {},
     "output_type": "execute_result"
    }
   ],
   "source": [
    "# 데이터 로딩\n",
    "DATA_FILE='../data/iris.csv'\n",
    "\n",
    "# CSV => DataFrame\n",
    "irisDF=pd.read_csv(DATA_FILE, usecols=[0,1,2,3])\n",
    "\n",
    "# 데이터 확인\n",
    "irisDF.head(1)"
   ]
  },
  {
   "cell_type": "markdown",
   "metadata": {},
   "source": [
    "[2] 모델 클래스 설계 및 정의<hr>\n",
    "- 클래스목적 : iris 데이터를 학습 및 추론 목적 \n",
    "- 클래스이름 : IrisRegModel\n",
    "- 부모클래스 : nn.Module\n",
    "- 매개변수 : 층별 입출력 개수 고정하기때문에 필요 없음\n",
    "- 속성필드 : \n",
    "- 기능역할 : __init__() : 모델 구조, forward() : 순방향 학습 <= 오버라이딩\n",
    "- 클래스구조\n",
    "    * 입력층 : 입력 3개(피처)   출력 10개(퍼셉트론/뉴런 10개 존재)\n",
    "    * 은닉층 : 입력 10개        출력 30개(퍼셉트론/뉴런 30개 존재)\n",
    "    * 출력층 : 입력 30개        출력 1개(너비값)\n",
    "\n",
    "- 활성화함수\n",
    "    * 클래스형태 => nn.MESLoss, nn.ReLU => __init__() 메서드\n",
    "    * 함수형태 => torch.nn.fuctional 아래에 => forward() 메서드"
   ]
  },
  {
   "cell_type": "code",
   "execution_count": 4,
   "metadata": {},
   "outputs": [],
   "source": [
    "class IrisRegModel(nn.Module):\n",
    "\n",
    "    # 모델 구조 구성 및 인스턴스 생성 메서드\n",
    "    def __init__(self):\n",
    "        super().__init__()\n",
    "\n",
    "        self.in_layer=nn.Linear(3,10)\n",
    "        self.hd_layer=nn.Linear(10,30)\n",
    "        self.out_layer=nn.Linear(30,1)\n",
    "\n",
    "    # 순방향 학습 진행 메서드\n",
    "    def forward(self, x):\n",
    "        y=F.relu(self.in_layer(x))\n",
    "        y=F.relu(self.hd_layer(y))\n",
    "        return self.out_layer(y)      # 회귀라서 바로 리턴"
   ]
  },
  {
   "cell_type": "code",
   "execution_count": 5,
   "metadata": {},
   "outputs": [
    {
     "name": "stdout",
     "output_type": "stream",
     "text": [
      "IrisRegModel(\n",
      "  (in_layer): Linear(in_features=3, out_features=10, bias=True)\n",
      "  (hd_layer): Linear(in_features=10, out_features=30, bias=True)\n",
      "  (out_layer): Linear(in_features=30, out_features=1, bias=True)\n",
      ")\n"
     ]
    }
   ],
   "source": [
    "# 모델 인스턴스 생성\n",
    "model=IrisRegModel()\n",
    "\n",
    "print(model)"
   ]
  },
  {
   "cell_type": "code",
   "execution_count": 6,
   "metadata": {},
   "outputs": [
    {
     "data": {
      "text/plain": [
       "==========================================================================================\n",
       "Layer (type:depth-idx)                   Output Shape              Param #\n",
       "==========================================================================================\n",
       "IrisRegModel                             [10, 1]                   --\n",
       "├─Linear: 1-1                            [10, 10]                  40\n",
       "├─Linear: 1-2                            [10, 30]                  330\n",
       "├─Linear: 1-3                            [10, 1]                   31\n",
       "==========================================================================================\n",
       "Total params: 401\n",
       "Trainable params: 401\n",
       "Non-trainable params: 0\n",
       "Total mult-adds (M): 0.00\n",
       "==========================================================================================\n",
       "Input size (MB): 0.00\n",
       "Forward/backward pass size (MB): 0.00\n",
       "Params size (MB): 0.00\n",
       "Estimated Total Size (MB): 0.01\n",
       "=========================================================================================="
      ]
     },
     "execution_count": 6,
     "metadata": {},
     "output_type": "execute_result"
    }
   ],
   "source": [
    "# 모델 사용 메모리 정보 확인\n",
    "summary(model, input_size=(10,3))"
   ]
  },
  {
   "cell_type": "markdown",
   "metadata": {},
   "source": [
    "[3] 데이터셋 클래스 설계 및 정의<hr>\n",
    "- 데이터셋 : iris.csv\n",
    "- 피쳐개수 : 3개\n",
    "- 타겟개수 : 1개\n",
    "- 클래스이름 : IrisDataset\n",
    "- 부모클래스 : utils.data.Dataset\n",
    "- 속성필드 : featureDF, targetDF, n_rows, n_features\n",
    "- 필수메서드\n",
    "    * __init__(self) : 데이터셋 저장 및 전처리, 개발자가 필요한 속성 설정\n",
    "    * __len__(self) : 데이터의 개수 반환\n",
    "    * __getitem__(self, index) : 특정 인덱스의 피쳐와 타겟 반환"
   ]
  },
  {
   "cell_type": "code",
   "execution_count": 7,
   "metadata": {},
   "outputs": [],
   "source": [
    "class IrisDataset(Dataset):\n",
    "\n",
    "    def __init__(self, featureDF, targetDF):\n",
    "        self.featureDF=featureDF\n",
    "        self.targetDF=targetDF\n",
    "        self.n_rows=featureDF.shape[0]\n",
    "        self.n_features=featureDF.shape[1]\n",
    "\n",
    "    def __len__(self):\n",
    "        return self.n_rows\n",
    "    \n",
    "    def __getitem__(self, index):\n",
    "        # 넘파이를 텐서로\n",
    "        featureTS=torch.FloatTensor(self.featureDF.iloc[index].values)\n",
    "        targetTS=torch.FloatTensor(self.targetDF.iloc[index].values)        \n",
    "        # 피쳐와 타겟 반환\n",
    "        return featureTS, targetTS"
   ]
  },
  {
   "cell_type": "markdown",
   "metadata": {},
   "source": [
    "[3-1] 데이터셋 인스턴스 생성 <hr>"
   ]
  },
  {
   "cell_type": "code",
   "execution_count": 8,
   "metadata": {},
   "outputs": [
    {
     "name": "stdout",
     "output_type": "stream",
     "text": [
      "featureDF => (150, 3), targetDF => (150, 1)\n"
     ]
    }
   ],
   "source": [
    "# 피쳐, 타겟 추출\n",
    "featureDF, targetDF=irisDF[irisDF.columns[:-1]], irisDF[irisDF.columns[-1:]]\n",
    "print(f'featureDF => {featureDF.shape}, targetDF => {targetDF.shape}')\n",
    "\n",
    "# 데이터셋 인스턴스 생성\n",
    "irisDS=IrisDataset(featureDF, targetDF)"
   ]
  },
  {
   "cell_type": "markdown",
   "metadata": {},
   "source": [
    "[4] 학습 준비\n",
    "- 학습 횟수 : EPOCH <= 처음부터 끝까지 학습하는 단위\n",
    "- 배치 크기 : BATCH_SIZE <= 한번에 학습할 데이터셋 양\n",
    "- 위치 지정 : DEVICE <= 텐서 저장 및 실행 위치 (GPU/CPU)\n",
    "- 학습률 : LR 가중치와 절편 업데이트 시 경사하강법으로 업데이트 간격 설정 0.001~0.1"
   ]
  },
  {
   "cell_type": "code",
   "execution_count": 9,
   "metadata": {},
   "outputs": [],
   "source": [
    "# 학습 진행 관련 설정\n",
    "EPOCH=1\n",
    "BATCH_SIZE=10\n",
    "BATCH_CNT=irisDF.shape[0]/BATCH_SIZE\n",
    "DEVICE= 'cuda' if torch.cuda.is_available() else 'cpu'\n",
    "LR=0.001"
   ]
  },
  {
   "cell_type": "markdown",
   "metadata": {},
   "source": [
    "- 인스턴스/객체 : 모델, 데이터셋, 최적화 + (손실함수 , 성능지표)"
   ]
  },
  {
   "cell_type": "code",
   "execution_count": 10,
   "metadata": {},
   "outputs": [
    {
     "name": "stdout",
     "output_type": "stream",
     "text": [
      "(84, 3) (38, 3) (28, 3)\n",
      "(84, 1) (38, 1) (28, 1)\n"
     ]
    }
   ],
   "source": [
    "# 모델 인스턴스\n",
    "model=IrisRegModel()\n",
    "\n",
    "# 데이터셋 인스턴스\n",
    "X_train, X_test, y_train, y_test=train_test_split(featureDF, targetDF, random_state=1)\n",
    "X_train, X_val, y_train, y_val=train_test_split(X_train, y_train, random_state=1)\n",
    "print(f'{X_train.shape} {X_test.shape} {X_val.shape}')\n",
    "print(f'{y_train.shape} {y_test.shape} {y_val.shape}')\n",
    "\n",
    "trainDS=IrisDataset(X_train, y_train)\n",
    "valDS=IrisDataset(X_val, y_val)\n",
    "testDS=IrisDataset(X_test, y_test)\n",
    "\n",
    "# 데이터로드 인스턴스\n",
    "trainDL=DataLoader(trainDS, batch_size=BATCH_SIZE)"
   ]
  },
  {
   "cell_type": "code",
   "execution_count": 11,
   "metadata": {},
   "outputs": [
    {
     "name": "stdout",
     "output_type": "stream",
     "text": [
      "torch.Size([10, 3]) torch.Size([10, 1])\n",
      "torch.Size([10, 3]) torch.Size([10, 1])\n",
      "torch.Size([10, 3]) torch.Size([10, 1])\n",
      "torch.Size([10, 3]) torch.Size([10, 1])\n",
      "torch.Size([10, 3]) torch.Size([10, 1])\n",
      "torch.Size([10, 3]) torch.Size([10, 1])\n",
      "torch.Size([10, 3]) torch.Size([10, 1])\n",
      "torch.Size([10, 3]) torch.Size([10, 1])\n",
      "torch.Size([4, 3]) torch.Size([4, 1])\n"
     ]
    }
   ],
   "source": [
    "# [테스트] 데이터로더\n",
    "for feature, target in trainDL:\n",
    "    print(feature.shape, target.shape)"
   ]
  },
  {
   "cell_type": "code",
   "execution_count": 12,
   "metadata": {},
   "outputs": [],
   "source": [
    "# 최적화 인스턴스 => W, b 텐서 즉, model.parameters() 전달\n",
    "optimizer=optim.Adam(model.parameters(), lr=LR)\n",
    "\n",
    "# 손실함수 인스턴스 => 회귀, MSE, MAE, RMSE ...\n",
    "regLoss=nn.MSELoss()"
   ]
  },
  {
   "cell_type": "markdown",
   "metadata": {},
   "source": [
    "[5] 학습 진행 <hr>"
   ]
  },
  {
   "cell_type": "markdown",
   "metadata": {},
   "source": [
    "- >>> 모델 저장 준비 "
   ]
  },
  {
   "cell_type": "code",
   "execution_count": 13,
   "metadata": {},
   "outputs": [],
   "source": [
    "### models 폴더 아래 프로젝트 폴더 아래 모델 파일 저장\n",
    "import os\n",
    "\n",
    "# 저장 경로\n",
    "SAVE_PATH = '../models/iris/'\n",
    "# 저장 파일명\n",
    "SAVE_FILE = 'model_train_wbs.pth'\n",
    "# 모델 구조 및 파라미터 모두 저장 파일명\n",
    "SAVE_MODEL='model_all.pth'"
   ]
  },
  {
   "cell_type": "code",
   "execution_count": 14,
   "metadata": {},
   "outputs": [],
   "source": [
    "# 경로상 폴더 존재 여부 체크\n",
    "if not os.path.exists(SAVE_PATH):\n",
    "    os.makedirs(SAVE_PATH) # 폴더/폴더/... 하위 폴더 까지 생성"
   ]
  },
  {
   "cell_type": "code",
   "execution_count": 15,
   "metadata": {},
   "outputs": [],
   "source": [
    "# 학습의 효과 확인 손실값과 성능평가값 저장 필요\n",
    "LOSS_HISTORY, SCORE_HISTROY=[[],[]], [[],[]]\n",
    "\n",
    "## 학습 모니터링/스케줄링 설정 \n",
    "# => LOSS_HISTORY, SCORE_HISTROY 활용\n",
    "# => 임계기준 : 10번\n",
    "BREAK_CNT = 0\n",
    "LIMIT_VALUE = 10\n",
    "\n",
    "\n",
    "for epoch in range(EPOCH):\n",
    "    # 학습 모드로 모델 설정\n",
    "    model.train()\n",
    "\n",
    "    # 배치크기 만큼 데이터 로딩해서 학습 진행\n",
    "    loss_total, score_total=0, 0\n",
    "    for featureTS, targetTS in trainDL:\n",
    "\n",
    "        # 학습 진행\n",
    "        pre_y=model(featureTS)\n",
    "\n",
    "        # 손실 계산\n",
    "        loss=regLoss(pre_y, targetTS)\n",
    "        loss_total += loss.item()\n",
    "\n",
    "        # 성능평가 계산\n",
    "        score=R2Score()(pre_y, targetTS)\n",
    "        score_total += score.item()\n",
    "\n",
    "        # 최적화 진행\n",
    "        optimizer.zero_grad()\n",
    "        loss.backward()\n",
    "        optimizer.step()\n",
    "    \n",
    "    # 에포크 당 검증기능\n",
    "    # 모델 검증 모드 설정\n",
    "    model.eval()\n",
    "    with torch.no_grad():\n",
    "\n",
    "        # 검증 데이터셋\n",
    "        val_featureTS=torch.FloatTensor(valDS.featureDF.values)\n",
    "        val_targetTS=torch.FloatTensor(valDS.targetDF.values)\n",
    "\n",
    "        # 추론/평가\n",
    "        pre_val=model(val_featureTS)\n",
    "\n",
    "        # 손실\n",
    "        loss_val=regLoss(pre_val, val_targetTS)\n",
    "\n",
    "        # 성능평가\n",
    "        score_val=R2Score()(pre_val, val_targetTS)\n",
    "    \n",
    "    # 에포크 당 손실값과 성능평가값 저장\n",
    "    LOSS_HISTORY[0].append(loss_total/BATCH_CNT)\n",
    "    SCORE_HISTROY[0].append(score_total/BATCH_CNT)\n",
    "\n",
    "    LOSS_HISTORY[1].append(loss_val)\n",
    "    SCORE_HISTROY[1].append(score_val)\n",
    "\n",
    "    # 학습 진행 모니터링 / 스케줄링 - 검증 DS 기준 => Loss와 Score 중 둘중 한 개만 보면 됨.\n",
    "    # Loss 기준\n",
    "    if len(LOSS_HISTORY[0]) >= 2:\n",
    "        if LOSS_HISTORY[1][-1] >= LOSS_HISTORY[1][-2]: BREAK_CNT += 1\n",
    "        '''\n",
    "        가장 마지막 LOSS_HISTORY 값이 이전 값보다 커졌어 그런데 LOSS 값은 갈수록 감소해야 하잖아?\n",
    "        그러니 성능이 떨어졌다고 판단하고 브레이크 카운트를 하나 늘리는 거야\n",
    "        이렇게 해서 브레이크 카운트가 10개가 되면 종료 하는거지\n",
    "        '''\n",
    "\n",
    "\n",
    "    # 성능이 좋은 학습 가중치 저장\n",
    "    SAVE_FILE = f'model_train_wbs_{epoch}_{score_val}.pth'\n",
    "    if len(SCORE_HISTROY[1]) == 1:\n",
    "        # 첫번째라서 무조건 모델 파라미터 저장\n",
    "        torch.save(model.state_dict(),SAVE_PATH+SAVE_FILE)\n",
    "        # 모델 전체 저장\n",
    "        torch.save(model,SAVE_PATH+SAVE_MODEL)\n",
    "    \n",
    "    else:\n",
    "        if SCORE_HISTROY[1][-1] > max(SCORE_HISTROY[1][:-1]):\n",
    "            # 두번째 ==> 첫번째보다 성능 좋으면 저장\n",
    "            torch.save(model.state_dict(),SAVE_PATH+SAVE_FILE)\n",
    "            torch.save(model,SAVE_PATH+SAVE_MODEL)\n",
    "\n",
    "    # 학습 중단 여부 설정\n",
    "    if BREAK_CNT > LIMIT_VALUE:\n",
    "        print('성능 및 손실 개선이 없어서 학습 중단')\n",
    "        break"
   ]
  },
  {
   "cell_type": "code",
   "execution_count": null,
   "metadata": {},
   "outputs": [],
   "source": []
  },
  {
   "cell_type": "markdown",
   "metadata": {},
   "source": [
    "- 모델 저장 방법 <hr>\n",
    "* 방법1 : 모델 파라미터만 저장\n",
    "* 방법2 : 모델 설계 구조 및 파라미터까지 모두 저장"
   ]
  },
  {
   "cell_type": "code",
   "execution_count": 16,
   "metadata": {},
   "outputs": [
    {
     "data": {
      "text/plain": [
       "OrderedDict([('in_layer.weight',\n",
       "              tensor([[-0.5057, -0.4818,  0.4021],\n",
       "                      [ 0.0095,  0.5204,  0.2853],\n",
       "                      [ 0.0302, -0.5493, -0.1407],\n",
       "                      [ 0.5394, -0.4105,  0.1067],\n",
       "                      [-0.2041,  0.0083, -0.1246],\n",
       "                      [-0.4271,  0.2855,  0.1682],\n",
       "                      [-0.4100,  0.3100,  0.2011],\n",
       "                      [-0.2694, -0.5634, -0.2321],\n",
       "                      [ 0.1027,  0.4360,  0.3451],\n",
       "                      [ 0.1728,  0.1021,  0.5786]])),\n",
       "             ('in_layer.bias',\n",
       "              tensor([ 0.3845,  0.2887,  0.4961, -0.2511, -0.2397,  0.2032,  0.1135, -0.0249,\n",
       "                       0.4119, -0.3035])),\n",
       "             ('hd_layer.weight',\n",
       "              tensor([[ 2.1962e-02, -2.5760e-01, -1.7401e-01,  3.0670e-01, -1.3117e-01,\n",
       "                       -2.6144e-01,  1.1520e-02, -2.6358e-01, -2.0000e-01,  2.6467e-01],\n",
       "                      [ 2.6302e-01, -1.8068e-01,  2.5139e-01, -8.0020e-02, -1.8983e-01,\n",
       "                        6.5698e-02,  7.0073e-02,  1.1533e-02, -4.7076e-02,  2.9741e-01],\n",
       "                      [ 1.1117e-01,  2.0315e-01, -6.6238e-02,  2.5780e-02, -2.5535e-01,\n",
       "                        2.1703e-01, -9.9758e-02, -2.0912e-01, -1.0497e-01, -2.0271e-01],\n",
       "                      [ 4.1227e-02,  8.6069e-02, -1.1953e-01,  6.1290e-03,  2.1159e-01,\n",
       "                       -1.9707e-02, -2.9497e-01, -3.8429e-02,  5.2289e-02, -1.7653e-01],\n",
       "                      [ 2.3756e-02, -1.1159e-01, -2.7307e-01,  1.3582e-01,  6.1596e-02,\n",
       "                        1.6480e-01, -2.2400e-01, -8.5565e-02, -5.2405e-02,  1.4785e-01],\n",
       "                      [-2.2891e-02,  6.8996e-02,  2.9014e-01, -2.1801e-01, -1.0205e-01,\n",
       "                        2.6843e-01,  2.9864e-01,  8.0961e-02, -2.4956e-01,  1.3483e-01],\n",
       "                      [-8.1770e-02,  9.9505e-02, -1.3566e-02,  1.8640e-01,  5.5596e-02,\n",
       "                        2.1279e-01,  1.5342e-02, -1.5917e-01,  2.7144e-01, -1.4881e-01],\n",
       "                      [ 1.9544e-01,  8.1446e-02,  2.3703e-01, -3.0263e-01,  8.3119e-03,\n",
       "                       -6.8160e-02,  2.3039e-02, -1.5124e-02,  2.3206e-02, -2.1406e-01],\n",
       "                      [-1.0161e-01,  2.6366e-01, -1.9006e-01, -3.2652e-02,  3.0649e-02,\n",
       "                       -6.9676e-02,  5.5492e-02,  7.4396e-04,  1.2803e-01,  4.7339e-02],\n",
       "                      [-2.3793e-01, -1.6182e-01, -2.8308e-01,  1.3752e-01, -9.4711e-02,\n",
       "                        1.4454e-01,  2.0403e-01,  2.0763e-01, -6.7901e-02, -2.2079e-01],\n",
       "                      [ 2.0476e-01, -2.3738e-01,  3.1615e-02, -2.8022e-02, -8.6997e-02,\n",
       "                       -8.7910e-02,  5.2737e-02,  2.2055e-01, -4.9893e-02,  1.6520e-02],\n",
       "                      [ 1.4654e-01,  5.7090e-02, -8.6476e-02, -2.2114e-01, -1.4182e-01,\n",
       "                        1.0461e-01, -1.4705e-01, -2.4652e-01,  2.9341e-01,  2.8721e-01],\n",
       "                      [ 6.4596e-02, -1.4263e-02, -1.8388e-01, -1.7810e-02,  1.7568e-01,\n",
       "                       -1.8552e-01, -8.4075e-02, -1.2137e-01,  2.3641e-01,  1.4529e-01],\n",
       "                      [ 3.9968e-03, -2.1561e-01, -3.4937e-02,  2.5033e-01, -1.7370e-01,\n",
       "                       -1.2433e-01, -6.6961e-02,  8.8930e-05,  3.0371e-01,  6.5602e-02],\n",
       "                      [-1.5146e-01, -2.9173e-01, -2.5376e-01, -7.7203e-02,  7.5319e-02,\n",
       "                        2.0318e-01,  1.2245e-01, -1.0297e-01, -6.0945e-02,  2.7926e-01],\n",
       "                      [-9.5862e-02, -2.8806e-01, -4.3720e-02, -1.1411e-01,  8.9945e-02,\n",
       "                       -2.4707e-01,  8.7856e-02, -5.3304e-02, -1.2336e-02, -1.7147e-01],\n",
       "                      [ 2.1145e-02,  3.2039e-01,  1.7229e-01,  2.2032e-01, -9.0250e-02,\n",
       "                       -1.0350e-01, -2.6157e-01, -2.1027e-01, -1.7720e-01,  1.0360e-01],\n",
       "                      [ 1.5223e-01,  1.3668e-01, -1.1235e-01,  6.4335e-02,  1.9328e-01,\n",
       "                       -2.3320e-01, -1.4140e-01, -1.7031e-01, -1.7039e-02, -1.5498e-01],\n",
       "                      [ 4.7791e-02,  2.5891e-01, -6.6023e-02, -2.7069e-01, -1.6359e-03,\n",
       "                       -2.7739e-01,  5.3214e-02,  2.0248e-01, -1.3517e-01, -2.1158e-01],\n",
       "                      [ 2.5480e-01, -2.4355e-01,  1.0783e-01,  1.3626e-01,  2.2391e-01,\n",
       "                        8.9900e-03, -9.1387e-02, -1.1760e-01, -4.6110e-02,  3.1899e-01],\n",
       "                      [ 3.1470e-01,  2.6357e-01, -2.0267e-01, -3.0887e-01, -2.4130e-01,\n",
       "                        2.7467e-01, -1.4269e-01, -6.3633e-02,  1.0736e-01,  3.0385e-01],\n",
       "                      [ 4.5780e-02, -3.1012e-01, -1.7555e-01, -2.0872e-01, -6.3159e-02,\n",
       "                        1.4466e-01,  2.5572e-01,  5.5849e-03, -2.9268e-01, -8.1478e-02],\n",
       "                      [ 1.2214e-02,  9.0675e-02,  1.6925e-01,  2.8625e-01,  2.7053e-01,\n",
       "                       -1.5312e-01,  1.3152e-01,  5.4127e-02,  5.1550e-02, -1.4993e-01],\n",
       "                      [ 8.8338e-02, -2.4691e-01, -2.8268e-01, -1.4497e-01,  7.2458e-03,\n",
       "                       -3.0876e-01, -8.4625e-03,  6.4183e-02, -1.7469e-01,  2.1042e-01],\n",
       "                      [ 2.2886e-01,  2.0285e-01,  1.8890e-01,  2.5988e-02,  2.4113e-01,\n",
       "                        1.2470e-01, -2.3654e-01, -5.5771e-02,  1.1879e-01,  2.4786e-01],\n",
       "                      [ 2.4643e-01, -2.3824e-01,  1.2349e-02, -1.6632e-01,  5.4902e-02,\n",
       "                       -1.8036e-01,  1.3358e-01,  2.2325e-01, -2.0718e-02, -1.8141e-01],\n",
       "                      [-1.6766e-01,  2.6804e-02,  5.5346e-02, -9.2691e-02,  2.7512e-01,\n",
       "                       -2.5346e-01,  9.8953e-02, -1.4575e-01, -2.8903e-01,  1.8839e-01],\n",
       "                      [ 1.5070e-01,  2.8167e-01,  9.7752e-02,  2.0251e-01,  2.2368e-01,\n",
       "                       -4.2595e-02, -2.1560e-01, -1.2485e-01,  2.2108e-01,  1.6522e-02],\n",
       "                      [ 1.0156e-01, -1.5113e-02, -9.5462e-02, -1.3320e-02, -4.8961e-02,\n",
       "                        2.5191e-01, -3.1100e-01, -3.8353e-02,  1.8467e-02,  1.4002e-01],\n",
       "                      [-1.0050e-01,  5.1989e-02, -1.8751e-01,  2.5788e-01,  3.0944e-01,\n",
       "                        5.8834e-03, -2.1186e-01, -8.0369e-02,  2.6118e-01,  2.9238e-01]])),\n",
       "             ('hd_layer.bias',\n",
       "              tensor([ 0.0374,  0.1035,  0.1777, -0.1228,  0.1087,  0.1375, -0.2867, -0.0889,\n",
       "                      -0.2872,  0.3076,  0.0405,  0.2249, -0.1604,  0.1213,  0.0947,  0.0051,\n",
       "                      -0.0334, -0.1328,  0.1306,  0.0207,  0.2643, -0.0362, -0.2212, -0.2911,\n",
       "                      -0.2095,  0.1323,  0.0713,  0.2699, -0.0404, -0.2153])),\n",
       "             ('out_layer.weight',\n",
       "              tensor([[-0.0323, -0.0759,  0.0993, -0.0780,  0.0205, -0.0700, -0.0414, -0.0819,\n",
       "                        0.1262, -0.1667, -0.0587,  0.0139, -0.0747, -0.0338, -0.0860,  0.1345,\n",
       "                        0.0680, -0.1236, -0.1048,  0.0571, -0.0085, -0.0177, -0.0341,  0.1103,\n",
       "                        0.1263, -0.0532, -0.1480,  0.0665,  0.1556, -0.0563]])),\n",
       "             ('out_layer.bias', tensor([-0.0283]))])"
      ]
     },
     "execution_count": 16,
     "metadata": {},
     "output_type": "execute_result"
    }
   ],
   "source": [
    "# 학습된 모델 파라미터 값 확인\n",
    "model.state_dict()"
   ]
  },
  {
   "cell_type": "markdown",
   "metadata": {},
   "source": [
    "* [방법 1] 모델 파라미터 즉, 층별 가중치와 절편들"
   ]
  },
  {
   "cell_type": "code",
   "execution_count": 57,
   "metadata": {},
   "outputs": [],
   "source": []
  },
  {
   "cell_type": "code",
   "execution_count": 17,
   "metadata": {},
   "outputs": [],
   "source": [
    "# 모델 저장\n",
    "torch.save(model.state_dict(),SAVE_PATH+SAVE_FILE)"
   ]
  },
  {
   "cell_type": "code",
   "execution_count": 18,
   "metadata": {},
   "outputs": [
    {
     "name": "stdout",
     "output_type": "stream",
     "text": [
      "<class 'collections.OrderedDict'>\n"
     ]
    }
   ],
   "source": [
    "# 모델 즉,가중치와 절편 로딩\n",
    "# [1] 가중치와 절편 객체로 로딩\n",
    "# [2] 모델의 state_dict 속성에 저장\n",
    "\n",
    "# 읽기\n",
    "wbTS=torch.load(SAVE_PATH+SAVE_FILE,weights_only=True)\n",
    "print(type(wbTS))"
   ]
  },
  {
   "cell_type": "code",
   "execution_count": 19,
   "metadata": {},
   "outputs": [
    {
     "data": {
      "text/plain": [
       "<All keys matched successfully>"
      ]
     },
     "execution_count": 19,
     "metadata": {},
     "output_type": "execute_result"
    }
   ],
   "source": [
    "# 모델 인스턴스에 저장\n",
    "model2=IrisRegModel()  # 층마다 W,b 초기화\n",
    "\n",
    "model2.load_state_dict(wbTS)"
   ]
  },
  {
   "cell_type": "code",
   "execution_count": 20,
   "metadata": {},
   "outputs": [
    {
     "name": "stdout",
     "output_type": "stream",
     "text": [
      "IrisRegModel(\n",
      "  (in_layer): Linear(in_features=3, out_features=10, bias=True)\n",
      "  (hd_layer): Linear(in_features=10, out_features=30, bias=True)\n",
      "  (out_layer): Linear(in_features=30, out_features=1, bias=True)\n",
      ")\n"
     ]
    }
   ],
   "source": [
    "print(model2)"
   ]
  },
  {
   "cell_type": "code",
   "execution_count": null,
   "metadata": {},
   "outputs": [],
   "source": []
  }
 ],
 "metadata": {
  "kernelspec": {
   "display_name": "TORCH_38",
   "language": "python",
   "name": "python3"
  },
  "language_info": {
   "codemirror_mode": {
    "name": "ipython",
    "version": 3
   },
   "file_extension": ".py",
   "mimetype": "text/x-python",
   "name": "python",
   "nbconvert_exporter": "python",
   "pygments_lexer": "ipython3",
   "version": "3.8.19"
  }
 },
 "nbformat": 4,
 "nbformat_minor": 2
}
