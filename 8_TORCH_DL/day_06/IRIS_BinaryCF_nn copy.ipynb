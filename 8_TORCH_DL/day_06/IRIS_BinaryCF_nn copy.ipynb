{
 "cells": [
  {
   "cell_type": "markdown",
   "metadata": {},
   "source": [
    "#####  DNN기반 이진분류 모델 구현 및 학습 모니터링과 저장\n",
    "- 데이터 셋 : iris.csv\n",
    "- 피쳐/속성 : 3개 Sepal.Length, Sepal.Width, Petal.Length, Petal.Width\n",
    "- 타겟/라벨 : 1개 Setosa와 나머지\n",
    "- 학습-방법 : 지도학습 > 분류 > 이진분류\n",
    "- 알고 리즘 : 인공신경망(ANN) -> MLP, DNN : 은닉층이 많은 구성 \n",
    "- 프레임워크 : Pytorch"
   ]
  },
  {
   "cell_type": "markdown",
   "metadata": {},
   "source": [
    "[1] 모듈 로딩 및 데이터 준비 <hr>"
   ]
  },
  {
   "cell_type": "code",
   "execution_count": 21,
   "metadata": {},
   "outputs": [],
   "source": [
    "# 모듈 로딩\n",
    "# - Model관련\n",
    "import torch              \n",
    "import torch.nn as nn              \n",
    "import torch.nn.functional as F \n",
    "from torch.utils.data import Dataset, DataLoader \n",
    "import torch.optim as optim    \n",
    "from torchmetrics.classification import F1Score, BinaryF1Score, BinaryAccuracy\n",
    "from torchmetrics.classification import BinaryConfusionMatrix\n",
    "from torchinfo import summary \n",
    "\n",
    "#- Data 및 시각화 관련\n",
    "import pandas as pd \n",
    "import matplotlib.pyplot as plt              \n",
    "from sklearn.preprocessing import * \n",
    "from sklearn.model_selection import train_test_split "
   ]
  },
  {
   "cell_type": "code",
   "execution_count": 22,
   "metadata": {},
   "outputs": [
    {
     "name": "stdout",
     "output_type": "stream",
     "text": [
      "Pytorch v.2.4.1\n",
      "Pandas  v.2.0.3\n"
     ]
    }
   ],
   "source": [
    "# 활용 패키지 버전 체크 ==> 사용자 정의함수로 구현하세요~!!\n",
    "print(f'Pytorch v.{torch.__version__}')\n",
    "print(f'Pandas  v.{pd.__version__}')"
   ]
  },
  {
   "cell_type": "code",
   "execution_count": 23,
   "metadata": {},
   "outputs": [
    {
     "data": {
      "text/html": [
       "<div>\n",
       "<style scoped>\n",
       "    .dataframe tbody tr th:only-of-type {\n",
       "        vertical-align: middle;\n",
       "    }\n",
       "\n",
       "    .dataframe tbody tr th {\n",
       "        vertical-align: top;\n",
       "    }\n",
       "\n",
       "    .dataframe thead th {\n",
       "        text-align: right;\n",
       "    }\n",
       "</style>\n",
       "<table border=\"1\" class=\"dataframe\">\n",
       "  <thead>\n",
       "    <tr style=\"text-align: right;\">\n",
       "      <th></th>\n",
       "      <th>sepal.length</th>\n",
       "      <th>sepal.width</th>\n",
       "      <th>petal.length</th>\n",
       "      <th>petal.width</th>\n",
       "      <th>variety</th>\n",
       "    </tr>\n",
       "  </thead>\n",
       "  <tbody>\n",
       "    <tr>\n",
       "      <th>0</th>\n",
       "      <td>5.1</td>\n",
       "      <td>3.5</td>\n",
       "      <td>1.4</td>\n",
       "      <td>0.2</td>\n",
       "      <td>Setosa</td>\n",
       "    </tr>\n",
       "  </tbody>\n",
       "</table>\n",
       "</div>"
      ],
      "text/plain": [
       "   sepal.length  sepal.width  petal.length  petal.width variety\n",
       "0           5.1          3.5           1.4          0.2  Setosa"
      ]
     },
     "execution_count": 23,
     "metadata": {},
     "output_type": "execute_result"
    }
   ],
   "source": [
    "###  데이터 로딩\n",
    "DATA_FILE='../data/iris.csv' \n",
    "\n",
    "### CSV >>> DataFrame\n",
    "irisDF = pd.read_csv(DATA_FILE)\n",
    "\n",
    "### 확인\n",
    "irisDF.head(1)"
   ]
  },
  {
   "cell_type": "code",
   "execution_count": 24,
   "metadata": {},
   "outputs": [
    {
     "data": {
      "text/plain": [
       "array(['Setosa', 'Versicolor', 'Virginica'], dtype=object)"
      ]
     },
     "execution_count": 24,
     "metadata": {},
     "output_type": "execute_result"
    }
   ],
   "source": [
    "### 타겟 변경 => 정수화 , 클래스 3개 => 2개\n",
    "irisDF['variety'].unique()"
   ]
  },
  {
   "cell_type": "code",
   "execution_count": 25,
   "metadata": {},
   "outputs": [
    {
     "name": "stdout",
     "output_type": "stream",
     "text": [
      "고유값 : [1 0]\n",
      "클래스별 데이터 수 : variety\n",
      "0    100\n",
      "1     50\n",
      "Name: count, dtype: int64\n"
     ]
    }
   ],
   "source": [
    "#-- 클래스 3개 => 2개\n",
    "irisDF['variety']=(irisDF['variety'] == 'Setosa')\n",
    "irisDF['variety']=irisDF['variety'].astype('int')\n",
    "\n",
    "print(f\"고유값 : {irisDF['variety'].unique()}\")\n",
    "irisDF.head(1)\n",
    "print(f\"클래스별 데이터 수 : {irisDF['variety'].value_counts()}\")"
   ]
  },
  {
   "cell_type": "markdown",
   "metadata": {},
   "source": [
    "[2] 모델 클래스 설계 및 정의 <hr>\n",
    "- 클래스목적 : iris 데이터를 학습 및 추론 목적\n",
    "- 클래스이름 : IrisBCFModel\n",
    "- 부모클래스 : nn.Module\n",
    "- 매개__변수 : 층별 입출력 개수 고정하기때문에 필요 없음!\n",
    "- 속성__필드 : \n",
    "- 기능__역할 : __init__() : 모델 구조 설정 ,  forward() : 순방향 학습 <= 오바라이딩(overriding)\n",
    "- 클래스구조 \n",
    "    * 입력층 : 입력  4개(피쳐)      출력    10개 (퍼셉트론/뉴런 10개 존재)\n",
    "    * 은닉층 : 입력 10개            출력    5개  (퍼셉트론/뉴런 5개 존재)\n",
    "    * 출력층 : 입력  5개            출력    1개  (퍼셉트론/뉴런 1개 존재 : 2진분류)\n",
    "- 활성화함수\n",
    "    * 클래스 형태 ==> nn.MESLoss, nn.ReLU ==> __init__() 메서드 \n",
    "    * 함수 형태 ==> torch.nn.functional 아래에  ==> forward()메서드"
   ]
  },
  {
   "cell_type": "code",
   "execution_count": 26,
   "metadata": {},
   "outputs": [],
   "source": [
    "class IrisBCFModel(nn.Module):\n",
    "    \n",
    "    # 모델 구조 구성 및 인스턴스 생성 메서드\n",
    "    def __init__(self):\n",
    "        super().__init__()\n",
    "        self.in_layer=nn.Linear(4, 10)\n",
    "        self.hd_layer=nn.Linear(10, 5)\n",
    "        self.out_layer=nn.Linear(5, 1)\n",
    "        \n",
    "    # 순방향 학습 진행 메서드\n",
    "    def forward(self, input_data):\n",
    "        #- 입력층\n",
    "        y=self.in_layer(input_data)   \n",
    "        y=F.relu(y)                   \n",
    "        \n",
    "        # - 은닉층 : 10개의 숫자 값(>=0)\n",
    "        y=self.hd_layer(y)            \n",
    "        y=F.relu(y)                  \n",
    "        \n",
    "        #- 출력층 : 5개의 숫자 값 => 이진분류\n",
    "        return F.sigmoid(self.out_layer(y))         \n"
   ]
  },
  {
   "cell_type": "markdown",
   "metadata": {},
   "source": [
    "[3] 데이터셋 클래스 설계 및 정의 <hr>"
   ]
  },
  {
   "cell_type": "code",
   "execution_count": 27,
   "metadata": {},
   "outputs": [],
   "source": [
    "class IrisDataset(Dataset):\n",
    "    \n",
    "    def __init__(self, featureDF, targetDF):\n",
    "        self.featureDF=featureDF \n",
    "        self.targetDF=targetDF\n",
    "        self.n_rows=featureDF.shape[0]\n",
    "        self.n_features=featureDF.shape[1]\n",
    "    \n",
    "    def __len__(self):\n",
    "        return self.n_rows\n",
    "    \n",
    "    def __getitem__(self, index):\n",
    "        # 텐서화\n",
    "        featureTS=torch.FloatTensor(self.featureDF.iloc[index].values)\n",
    "        targetTS=torch.FloatTensor(self.targetDF.iloc[index].values) \n",
    "        \n",
    "        # 피쳐와 타겟 반환\n",
    "        return featureTS, targetTS"
   ]
  },
  {
   "cell_type": "code",
   "execution_count": 28,
   "metadata": {},
   "outputs": [
    {
     "name": "stdout",
     "output_type": "stream",
     "text": [
      "torch.Size([1, 4]) torch.Size([1, 1]) tensor([[5.1000, 3.5000, 1.4000, 0.2000]]) tensor([[1.]])\n"
     ]
    }
   ],
   "source": [
    "## [테스트] 데이터셋 인스턴스 생성\n",
    "\n",
    "# - DataFram에서 피쳐와 타겟 추출\n",
    "featureDF = irisDF[irisDF.columns[:-1]]   # 2D (150, 3)\n",
    "targetDF = irisDF[irisDF.columns[-1:]]    # 2D (150, 1)\n",
    "\n",
    "# - 커스텀데이터셋 인스턴스 생성\n",
    "irisDS=IrisDataset(featureDF, targetDF)\n",
    "\n",
    "# - 데이터로더 인스턴스 생성 \n",
    "irisDL = DataLoader(irisDS)\n",
    "for feature, label in irisDL: \n",
    "    print(feature.shape, label.shape, feature, label)\n",
    "    break"
   ]
  },
  {
   "cell_type": "markdown",
   "metadata": {},
   "source": [
    "[4] 학습 준비 \n",
    "- 학습_횟수 : EPOCH         <- 처음~끝까지 공부하는 단위\n",
    "- 배치_크기 : BATCH_SIZE    <- 한번에 학습할 데이터셋 양 \n",
    "- 위치_지정 : DEVICE    <- 텐서 저장 및 실행 위치 (GPU/CPU)\n",
    "- 학_습_률 : LR 가중치와 절편 업데이트 시 경사하강법으로 업데이트 간격 설정 0.001~0.1 "
   ]
  },
  {
   "cell_type": "code",
   "execution_count": 29,
   "metadata": {},
   "outputs": [],
   "source": [
    "### 학습 진행 관련 설정\n",
    "EPOCH = 1000\n",
    "BATCH_SIZE = 10\n",
    "DEVICE = 'cuda' if torch.cuda.is_available() else 'cpu'\n",
    "LR = 0.001"
   ]
  },
  {
   "cell_type": "markdown",
   "metadata": {},
   "source": [
    "- 인스턴스/객체 : 모델, 데이터셋, 최적화 (, 손실함수, 성능지표)"
   ]
  },
  {
   "cell_type": "code",
   "execution_count": 30,
   "metadata": {},
   "outputs": [],
   "source": [
    "# 모델 인스턴스\n",
    "model=IrisBCFModel().to(DEVICE)"
   ]
  },
  {
   "cell_type": "code",
   "execution_count": 31,
   "metadata": {},
   "outputs": [
    {
     "name": "stdout",
     "output_type": "stream",
     "text": [
      "(84, 4) (38, 4) (28, 4)\n",
      "(84, 1) (38, 1) (28, 1)\n",
      "variety\n",
      "0          56\n",
      "1          28\n",
      "Name: count, dtype: int64 variety\n",
      "0          25\n",
      "1          13\n",
      "Name: count, dtype: int64 variety\n",
      "0          19\n",
      "1           9\n",
      "Name: count, dtype: int64\n",
      "<class 'pandas.core.frame.DataFrame'> <class 'pandas.core.frame.DataFrame'> <class 'pandas.core.frame.DataFrame'>\n"
     ]
    }
   ],
   "source": [
    "# DS과 DL 인스턴스\n",
    "#- 학습용, 검즈용, 테스트용 데이터 분리\n",
    "X_train, X_test, y_train, y_test =train_test_split(featureDF, targetDF, random_state=1, stratify=targetDF)\n",
    "X_train, X_val, y_train, y_val =train_test_split(X_train, y_train, random_state=1, stratify=y_train)\n",
    "\n",
    "print(f'{X_train.shape} {X_test.shape} {X_val.shape}')\n",
    "print(f'{y_train.shape} {y_test.shape} {y_val.shape}')\n",
    "print(f'{y_train.value_counts()} {y_test.value_counts()} {y_val.value_counts()}')\n",
    "print(f'{type(X_train)} {type(X_test)} {type(X_val)}')\n",
    "\n",
    "# - 학습용, 검즈용, 테스트용 데이터셋\n",
    "trainDS=IrisDataset(X_train, y_train)\n",
    "valDS=IrisDataset(X_val, y_val)\n",
    "testDS=IrisDataset(X_test, y_test)\n",
    "\n",
    "# - 학습용 데이터로더 인스턴스\n",
    "trainDL=DataLoader(trainDS, batch_size=BATCH_SIZE)"
   ]
  },
  {
   "cell_type": "markdown",
   "metadata": {},
   "source": [
    "- 최적화, 손실함수 인스턴스 생성"
   ]
  },
  {
   "cell_type": "code",
   "execution_count": 32,
   "metadata": {},
   "outputs": [],
   "source": [
    "# 최적화 인스턴스 => W,b 텐서 즉, model.parameters() 전달\n",
    "optimizer=optim.Adam(model.parameters(), lr=LR)\n",
    "\n",
    "# 손실함수 인스턴스 => 분류 => 이진분류 BinaryCrossEntropyLoss =>  BCELoss \n",
    "#                            예측값은 확률값으로 전달 ==> sigmoid() AF 처리 후 전달\n",
    "crossLoss=nn.BCELoss()"
   ]
  },
  {
   "cell_type": "markdown",
   "metadata": {},
   "source": [
    "[5] 학습 진행"
   ]
  },
  {
   "cell_type": "markdown",
   "metadata": {},
   "source": [
    "- >>> 모델 저장 관련 준비"
   ]
  },
  {
   "cell_type": "code",
   "execution_count": 33,
   "metadata": {},
   "outputs": [],
   "source": [
    "### models 폴더 아래 프로젝트 폴더 아래 모델 파일 저장\n",
    "import os\n",
    "\n",
    "# 저장 경로\n",
    "SAVE_PATH = '../models/iris/BCF/'\n",
    "# 저장 파일명\n",
    "SAVE_FILE = SAVE_PATH+'model_train_wbs.pth'\n",
    "# 모델 구조 및 파라미터 모두 저장 파일명\n",
    "SAVE_MODEL=SAVE_PATH+'model_all.pth'"
   ]
  },
  {
   "cell_type": "code",
   "execution_count": 34,
   "metadata": {},
   "outputs": [],
   "source": [
    "# 경로상 폴더 존재 여부 체크\n",
    "if not os.path.exists(SAVE_PATH):\n",
    "    os.makedirs(SAVE_PATH) # 폴더/폴더/... 하위 폴더 까지 생성"
   ]
  },
  {
   "cell_type": "code",
   "execution_count": 35,
   "metadata": {},
   "outputs": [
    {
     "data": {
      "text/plain": [
       "(9, 9)"
      ]
     },
     "execution_count": 35,
     "metadata": {},
     "output_type": "execute_result"
    }
   ],
   "source": [
    "len(trainDL), trainDL.__len__()"
   ]
  },
  {
   "cell_type": "code",
   "execution_count": 36,
   "metadata": {},
   "outputs": [
    {
     "data": {
      "text/plain": [
       "(8.4, 9, 84)"
      ]
     },
     "execution_count": 36,
     "metadata": {},
     "output_type": "execute_result"
    }
   ],
   "source": [
    "import math as m \n",
    "\n",
    "trainDS.n_rows/BATCH_SIZE, m.ceil(trainDS.n_rows/BATCH_SIZE) , trainDS.featureDF.shape[0]"
   ]
  },
  {
   "cell_type": "code",
   "execution_count": 37,
   "metadata": {},
   "outputs": [
    {
     "name": "stdout",
     "output_type": "stream",
     "text": [
      "BATCH_CNT => 9\n",
      "[0/1000]\n",
      "- [TRAIN] LOSS : 0.5810154477755228 SCORE : 0.9555555515819125\n",
      "- [VALID] LOSS : 0.5495740175247192 SCORE : 1.0\n",
      "[1/1000]\n",
      "- [TRAIN] LOSS : 0.5535724096828036 SCORE : 0.6999999947018094\n",
      "- [VALID] LOSS : 0.5229117274284363 SCORE : 0.5\n",
      "[2/1000]\n",
      "- [TRAIN] LOSS : 0.532772958278656 SCORE : 0.6555555595291985\n",
      "- [VALID] LOSS : 0.5041300058364868 SCORE : 0.5\n",
      "[3/1000]\n",
      "- [TRAIN] LOSS : 0.518136590719223 SCORE : 0.6555555595291985\n",
      "- [VALID] LOSS : 0.489285409450531 SCORE : 0.5\n",
      "[4/1000]\n",
      "- [TRAIN] LOSS : 0.5044899152384864 SCORE : 0.6555555595291985\n",
      "- [VALID] LOSS : 0.47541573643684387 SCORE : 0.5\n",
      "[5/1000]\n",
      "- [TRAIN] LOSS : 0.49218882785903084 SCORE : 0.6555555595291985\n",
      "- [VALID] LOSS : 0.46245792508125305 SCORE : 0.5\n",
      "[6/1000]\n",
      "- [TRAIN] LOSS : 0.48010827435387504 SCORE : 0.6555555595291985\n",
      "- [VALID] LOSS : 0.4491691589355469 SCORE : 0.5\n",
      "[7/1000]\n",
      "- [TRAIN] LOSS : 0.4676794608434041 SCORE : 0.6555555595291985\n",
      "- [VALID] LOSS : 0.4358203411102295 SCORE : 0.5\n",
      "[8/1000]\n",
      "- [TRAIN] LOSS : 0.4546684722105662 SCORE : 0.6555555595291985\n",
      "- [VALID] LOSS : 0.42223039269447327 SCORE : 0.5\n",
      "[9/1000]\n",
      "- [TRAIN] LOSS : 0.4410609271791246 SCORE : 0.6555555595291985\n",
      "- [VALID] LOSS : 0.4079625606536865 SCORE : 0.5\n",
      "[10/1000]\n",
      "- [TRAIN] LOSS : 0.42679812841945225 SCORE : 0.6666666666666666\n",
      "- [VALID] LOSS : 0.3929156959056854 SCORE : 0.5\n",
      "[11/1000]\n",
      "- [TRAIN] LOSS : 0.4117184148894416 SCORE : 0.7055555515819125\n",
      "- [VALID] LOSS : 0.3771502375602722 SCORE : 0.75\n",
      "[12/1000]\n",
      "- [TRAIN] LOSS : 0.39583350552452934 SCORE : 0.7944444484180875\n",
      "- [VALID] LOSS : 0.3607013523578644 SCORE : 0.75\n",
      "성능 및 손실 개선이 없어서 학습 중단\n"
     ]
    }
   ],
   "source": [
    "## 학습의 효과 확인 손실값과 성능평가값 저장 필요\n",
    "LOSS_HISTORY, SCORE_HISTORY=[[],[]], [[],[]]\n",
    "CNT=len(trainDL)\n",
    "BREAK_CNT = 0\n",
    "LIMIT_VALUE = 10\n",
    "print(f'BATCH_CNT => {CNT}')\n",
    "\n",
    "\n",
    "for epoch in range(EPOCH):\n",
    "    # 학습 모드로 모델 설정\n",
    "    model.train()\n",
    "    \n",
    "    # 배치 크기 만큼 데이터 로딩해서 학습 진행\n",
    "    loss_total, score_total=0,0\n",
    "    for featureTS, targetTS in trainDL:\n",
    "        \n",
    "        # 학습 진행\n",
    "        pre_y=model(featureTS)\n",
    "        \n",
    "        # 손실 계산\n",
    "        loss=crossLoss(pre_y, targetTS)\n",
    "        loss_total += loss.item()\n",
    "        \n",
    "        # 성능평가 계산\n",
    "        #print(f\"[TRAIN]\",pre_y, targetTS, sep='\\n')\n",
    "        #score=F1Score(task='binary', zero_division=1.0)(pre_y, targetTS)\n",
    "        score=BinaryAccuracy()(pre_y, targetTS)\n",
    "        score_total += score.item()\n",
    "        #print(\"[TRAIN - score ]\",score.item(), sep='\\n')\n",
    "        \n",
    "        # 최적화 진행\n",
    "        optimizer.zero_grad()\n",
    "        loss.backward()\n",
    "        optimizer.step()\n",
    "        \n",
    "    # 에포크 당 검증기능\n",
    "    # 모델 검증 모드 설정\n",
    "    model.eval()\n",
    "    with torch.no_grad():\n",
    "        # 검증 데이터셋\n",
    "        val_featrueTS=torch.FloatTensor(valDS.featureDF.values)\n",
    "        val_targetTS=torch.FloatTensor(valDS.targetDF.values)\n",
    "        \n",
    "        # 추론/평가\n",
    "        pre_val=model(val_featrueTS)\n",
    "    \n",
    "        # 손실\n",
    "        loss_val=crossLoss(pre_val, val_targetTS)\n",
    "        # 성능평가\n",
    "        #score_val=F1Score(task='binary')(pre_val, val_targetTS)\n",
    "        score_val=BinaryAccuracy()(pre_y, targetTS)\n",
    "\n",
    "    #에포크 당 손실값과 성능평가값 저장    \n",
    "    LOSS_HISTORY[0].append(loss_total/CNT)\n",
    "    SCORE_HISTORY[0].append(score_total/CNT)\n",
    "    \n",
    "    LOSS_HISTORY[1].append(loss_val)\n",
    "    SCORE_HISTORY[1].append(score_val)\n",
    "    \n",
    "    print(f'[{epoch}/{EPOCH}]\\n- [TRAIN] LOSS : {LOSS_HISTORY[0][-1]} SCORE : {SCORE_HISTORY[0][-1]}')\n",
    "    print(f'- [VALID] LOSS : {LOSS_HISTORY[1][-1]} SCORE : {SCORE_HISTORY[1][-1]}')\n",
    "\n",
    "\n",
    "    # 학습 진행 모니터링 / 스케줄링 - 검증 DS 기준 => Loss와 Score 중 둘중 한 개만 보면 됨.\n",
    "    # Loss 기준\n",
    "    if len(SCORE_HISTORY[0]) >= 2:\n",
    "        if SCORE_HISTORY[1][-1] <= SCORE_HISTORY[1][-2]: BREAK_CNT += 1\n",
    "\n",
    "    # 성능이 좋은 학습 가중치 저장\n",
    "    SAVE_FILE = f'model_train_wbs_{epoch}_{score_val}.pth'\n",
    "    if len(SCORE_HISTORY[1]) == 1:\n",
    "        # 첫번째라서 무조건 모델 파라미터 저장\n",
    "        torch.save(model.state_dict(),SAVE_FILE)\n",
    "        # 모델 전체 저장\n",
    "        torch.save(model,SAVE_MODEL)\n",
    "    \n",
    "    else:\n",
    "        if SCORE_HISTORY[1][-1] > max(SCORE_HISTORY[1][:-1]):\n",
    "            # 두번째 ==> 첫번째보다 성능 좋으면 저장\n",
    "            torch.save(model.state_dict(),SAVE_FILE)\n",
    "            torch.save(model,SAVE_MODEL)\n",
    "\n",
    "    # 학습 중단 여부 설정\n",
    "    if BREAK_CNT > LIMIT_VALUE:\n",
    "        print('성능 및 손실 개선이 없어서 학습 중단')\n",
    "        break\n",
    "\n",
    "    "
   ]
  },
  {
   "cell_type": "markdown",
   "metadata": {},
   "source": [
    "- 학습결과 체크 => 학습와 검증의 Loss 변화, 성능 변화"
   ]
  },
  {
   "cell_type": "code",
   "execution_count": 41,
   "metadata": {},
   "outputs": [
    {
     "data": {
      "image/png": "[encoded data removed]",
      "text/plain": [
       "<Figure size 1000x500 with 2 Axes>"
      ]
     },
     "metadata": {},
     "output_type": "display_data"
    }
   ],
   "source": [
    "# 학습 후 loss 시각화\n",
    "import matplotlib.pyplot as plt\n",
    "\n",
    "TH = len(SCORE_HISTORY[1])\n",
    "\n",
    "fg, axes=plt.subplots(1,2, figsize=(10,5), sharex=True)\n",
    "axes[0].plot(range(1, TH+1), LOSS_HISTORY[0][:TH], label='Train')\n",
    "axes[0].plot(range(1, TH+1), LOSS_HISTORY[1][:TH], label='Val')\n",
    "axes[0].grid()\n",
    "axes[0].legend()\n",
    "axes[0].set_xlabel(\"Epoch\")\n",
    "axes[0].set_ylabel(\"Loss\")\n",
    "axes[0].set_title(\"LOSS\")\n",
    "\n",
    "axes[1].plot(range(1, TH+1), SCORE_HISTORY[0][:TH], label='Train')\n",
    "axes[1].plot(range(1, TH+1), SCORE_HISTORY[1][:TH], label='Val')\n",
    "axes[1].grid()\n",
    "axes[1].legend()\n",
    "axes[1].set_xlabel(\"Epoch\")\n",
    "axes[1].set_ylabel(\"SCORE\")\n",
    "axes[1].set_title(\"SCORE\")\n",
    "plt.tight_layout()\n",
    "plt.show()"
   ]
  },
  {
   "cell_type": "markdown",
   "metadata": {},
   "source": [
    "[6] 테스트"
   ]
  },
  {
   "cell_type": "code",
   "execution_count": 39,
   "metadata": {},
   "outputs": [
    {
     "name": "stdout",
     "output_type": "stream",
     "text": [
      "- [TEST] LOSS : 0.3873760998249054 SCORE : 0.8947368264198303\n"
     ]
    }
   ],
   "source": [
    "# 모델 검증 모드 설정\n",
    "model.eval()\n",
    "with torch.no_grad():\n",
    "    # 검증 데이터셋\n",
    "    test_featrueTS=torch.FloatTensor(testDS.featureDF.values).to(DEVICE)\n",
    "    test_targetTS=torch.FloatTensor(testDS.targetDF.values).to(DEVICE)\n",
    "    \n",
    "    # 추론/평가\n",
    "    pre_test=model(test_featrueTS)\n",
    "\n",
    "    # 손실\n",
    "    loss_test=crossLoss(pre_test, test_targetTS)\n",
    "    # 성능평가\n",
    "    #score_val=F1Score(task='binary')(pre_test, val_targetTS)\n",
    "    score_Test=BinaryAccuracy()(pre_test, test_targetTS)\n",
    "    \n",
    "print(f'- [TEST] LOSS : {loss_test.item()} SCORE : {score_Test.item()}')"
   ]
  },
  {
   "cell_type": "code",
   "execution_count": null,
   "metadata": {},
   "outputs": [],
   "source": []
  }
 ],
 "metadata": {
  "kernelspec": {
   "display_name": "TORCH_38",
   "language": "python",
   "name": "python3"
  },
  "language_info": {
   "codemirror_mode": {
    "name": "ipython",
    "version": 3
   },
   "file_extension": ".py",
   "mimetype": "text/x-python",
   "name": "python",
   "nbconvert_exporter": "python",
   "pygments_lexer": "ipython3",
   "version": "3.8.19"
  }
 },
 "nbformat": 4,
 "nbformat_minor": 2
}
