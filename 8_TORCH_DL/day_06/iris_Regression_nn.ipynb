{
 "cells": [
  {
   "cell_type": "markdown",
   "metadata": {},
   "source": [
    "#### DNN 기반 회귀 모델 구현 + 학습 진행 모니터링\n",
    "- 데이터셋 : iris.csv\n",
    "- Feature : 3개 Sepal_Length, Sepal_Width, Petal_Length\n",
    "- Target : 1개 Petal_Width\n",
    "- 학습-방법 : 지도학습 > 회귀\n",
    "- 알고리즘 : 인공신경망(ANN) => MLP, DNN : 은닉층이 많은 구성\n",
    "- 프레임워크 : Pytorch\n",
    "* * *\n",
    "- 모니터링\n",
    "    * 기준 : 검증데이터셋의 loss 또는 score\n",
    "    * 평가 : 학습데이터셋의 loss 또는 score와 비교해서 학습 중단여부 결정\n",
    "    * 선택 : 현재까지 진행된 모델의 파라미터(가중치, 절편) 저장 여부 또는 모델 전체 저장\n",
    "    \n"
   ]
  },
  {
   "cell_type": "markdown",
   "metadata": {},
   "source": [
    "[1] 모듈 로딩 및 데이터 준비 <hr>"
   ]
  },
  {
   "cell_type": "code",
   "execution_count": 22,
   "metadata": {},
   "outputs": [],
   "source": [
    "# 모델 관련 모듈 로딩\n",
    "import torch\n",
    "import torch.nn as nn\n",
    "import torch.nn.functional as F\n",
    "from torch.utils.data import Dataset, DataLoader\n",
    "import torch.optim as optim\n",
    "from torchmetrics.regression import R2Score, MeanSquaredError\n",
    "from torchinfo import summary\n",
    "\n",
    "# Data 관련 모듈 로딩\n",
    "import pandas as pd\n",
    "import matplotlib.pyplot as plt\n",
    "from sklearn.preprocessing import *\n",
    "from sklearn.model_selection import train_test_split"
   ]
  },
  {
   "cell_type": "code",
   "execution_count": 23,
   "metadata": {},
   "outputs": [
    {
     "name": "stdout",
     "output_type": "stream",
     "text": [
      "Pytorch V. 2.4.1+cpu\n",
      "Pandas V. 2.4.1+cpu\n"
     ]
    }
   ],
   "source": [
    "# 활용 패키지 버전 체크 => 사용자 정의 함수로 구현하기\n",
    "print(f'Pytorch V. {torch.__version__}')\n",
    "print(f'Pandas V. {torch.__version__}')"
   ]
  },
  {
   "cell_type": "code",
   "execution_count": 24,
   "metadata": {},
   "outputs": [
    {
     "data": {
      "text/html": [
       "<div>\n",
       "<style scoped>\n",
       "    .dataframe tbody tr th:only-of-type {\n",
       "        vertical-align: middle;\n",
       "    }\n",
       "\n",
       "    .dataframe tbody tr th {\n",
       "        vertical-align: top;\n",
       "    }\n",
       "\n",
       "    .dataframe thead th {\n",
       "        text-align: right;\n",
       "    }\n",
       "</style>\n",
       "<table border=\"1\" class=\"dataframe\">\n",
       "  <thead>\n",
       "    <tr style=\"text-align: right;\">\n",
       "      <th></th>\n",
       "      <th>sepal.length</th>\n",
       "      <th>sepal.width</th>\n",
       "      <th>petal.length</th>\n",
       "      <th>petal.width</th>\n",
       "    </tr>\n",
       "  </thead>\n",
       "  <tbody>\n",
       "    <tr>\n",
       "      <th>0</th>\n",
       "      <td>5.1</td>\n",
       "      <td>3.5</td>\n",
       "      <td>1.4</td>\n",
       "      <td>0.2</td>\n",
       "    </tr>\n",
       "  </tbody>\n",
       "</table>\n",
       "</div>"
      ],
      "text/plain": [
       "   sepal.length  sepal.width  petal.length  petal.width\n",
       "0           5.1          3.5           1.4          0.2"
      ]
     },
     "execution_count": 24,
     "metadata": {},
     "output_type": "execute_result"
    }
   ],
   "source": [
    "# 데이터 로딩\n",
    "DATA_FILE='../data/iris.csv'\n",
    "\n",
    "# CSV => DataFrame\n",
    "irisDF=pd.read_csv(DATA_FILE, usecols=[0,1,2,3])\n",
    "\n",
    "# 데이터 확인\n",
    "irisDF.head(1)"
   ]
  },
  {
   "cell_type": "markdown",
   "metadata": {},
   "source": [
    "[2] 모델 클래스 설계 및 정의<hr>\n",
    "- 클래스목적 : iris 데이터를 학습 및 추론 목적 \n",
    "- 클래스이름 : IrisRegModel\n",
    "- 부모클래스 : nn.Module\n",
    "- 매개변수 : 층별 입출력 개수 고정하기때문에 필요 없음\n",
    "- 속성필드 : \n",
    "- 기능역할 : __init__() : 모델 구조, forward() : 순방향 학습 <= 오버라이딩\n",
    "- 클래스구조\n",
    "    * 입력층 : 입력 3개(피처)   출력 10개(퍼셉트론/뉴런 10개 존재)\n",
    "    * 은닉층 : 입력 10개        출력 30개(퍼셉트론/뉴런 30개 존재)\n",
    "    * 출력층 : 입력 30개        출력 1개(너비값)\n",
    "\n",
    "- 활성화함수\n",
    "    * 클래스형태 => nn.MESLoss, nn.ReLU => __init__() 메서드\n",
    "    * 함수형태 => torch.nn.fuctional 아래에 => forward() 메서드"
   ]
  },
  {
   "cell_type": "code",
   "execution_count": 25,
   "metadata": {},
   "outputs": [],
   "source": [
    "class IrisRegModel(nn.Module):\n",
    "\n",
    "    # 모델 구조 구성 및 인스턴스 생성 메서드\n",
    "    def __init__(self):\n",
    "        super().__init__()\n",
    "\n",
    "        self.in_layer=nn.Linear(3,10)\n",
    "        self.hd_layer=nn.Linear(10,30)\n",
    "        self.out_layer=nn.Linear(30,1)\n",
    "\n",
    "    # 순방향 학습 진행 메서드\n",
    "    def forward(self, x):\n",
    "        y=F.relu(self.in_layer(x))\n",
    "        y=F.relu(self.hd_layer(y))\n",
    "        return self.out_layer(y)      # 회귀라서 바로 리턴"
   ]
  },
  {
   "cell_type": "code",
   "execution_count": 26,
   "metadata": {},
   "outputs": [
    {
     "name": "stdout",
     "output_type": "stream",
     "text": [
      "IrisRegModel(\n",
      "  (in_layer): Linear(in_features=3, out_features=10, bias=True)\n",
      "  (hd_layer): Linear(in_features=10, out_features=30, bias=True)\n",
      "  (out_layer): Linear(in_features=30, out_features=1, bias=True)\n",
      ")\n"
     ]
    }
   ],
   "source": [
    "# 모델 인스턴스 생성\n",
    "model=IrisRegModel()\n",
    "\n",
    "print(model)"
   ]
  },
  {
   "cell_type": "code",
   "execution_count": 27,
   "metadata": {},
   "outputs": [
    {
     "data": {
      "text/plain": [
       "==========================================================================================\n",
       "Layer (type:depth-idx)                   Output Shape              Param #\n",
       "==========================================================================================\n",
       "IrisRegModel                             [10, 1]                   --\n",
       "├─Linear: 1-1                            [10, 10]                  40\n",
       "├─Linear: 1-2                            [10, 30]                  330\n",
       "├─Linear: 1-3                            [10, 1]                   31\n",
       "==========================================================================================\n",
       "Total params: 401\n",
       "Trainable params: 401\n",
       "Non-trainable params: 0\n",
       "Total mult-adds (M): 0.00\n",
       "==========================================================================================\n",
       "Input size (MB): 0.00\n",
       "Forward/backward pass size (MB): 0.00\n",
       "Params size (MB): 0.00\n",
       "Estimated Total Size (MB): 0.01\n",
       "=========================================================================================="
      ]
     },
     "execution_count": 27,
     "metadata": {},
     "output_type": "execute_result"
    }
   ],
   "source": [
    "# 모델 사용 메모리 정보 확인\n",
    "summary(model, input_size=(10,3))"
   ]
  },
  {
   "cell_type": "markdown",
   "metadata": {},
   "source": [
    "[3] 데이터셋 클래스 설계 및 정의<hr>\n",
    "- 데이터셋 : iris.csv\n",
    "- 피쳐개수 : 3개\n",
    "- 타겟개수 : 1개\n",
    "- 클래스이름 : IrisDataset\n",
    "- 부모클래스 : utils.data.Dataset\n",
    "- 속성필드 : featureDF, targetDF, n_rows, n_features\n",
    "- 필수메서드\n",
    "    * __init__(self) : 데이터셋 저장 및 전처리, 개발자가 필요한 속성 설정\n",
    "    * __len__(self) : 데이터의 개수 반환\n",
    "    * __getitem__(self, index) : 특정 인덱스의 피쳐와 타겟 반환"
   ]
  },
  {
   "cell_type": "code",
   "execution_count": null,
   "metadata": {},
   "outputs": [],
   "source": []
  },
  {
   "cell_type": "code",
   "execution_count": 28,
   "metadata": {},
   "outputs": [],
   "source": [
    "class IrisDataset(Dataset):\n",
    "\n",
    "    def __init__(self, featureDF, targetDF):\n",
    "        self.featureDF=featureDF\n",
    "        self.targetDF=targetDF\n",
    "        self.n_rows=featureDF.shape[0]\n",
    "        self.n_features=featureDF.shape[1]\n",
    "\n",
    "    def __len__(self):\n",
    "        return self.n_rows\n",
    "    \n",
    "    def __getitem__(self, index):\n",
    "        # 넘파이를 텐서로\n",
    "        featureTS=torch.FloatTensor(self.featureDF.iloc[index].values)\n",
    "        targetTS=torch.FloatTensor(self.targetDF.iloc[index].values)        \n",
    "        # 피쳐와 타겟 반환\n",
    "        return featureTS, targetTS"
   ]
  },
  {
   "cell_type": "markdown",
   "metadata": {},
   "source": [
    "[3-1] 데이터셋 인스턴스 생성 <hr>"
   ]
  },
  {
   "cell_type": "code",
   "execution_count": 29,
   "metadata": {},
   "outputs": [
    {
     "name": "stdout",
     "output_type": "stream",
     "text": [
      "featureDF => (150, 3), targetDF => (150, 1)\n"
     ]
    }
   ],
   "source": [
    "# 피쳐, 타겟 추출\n",
    "featureDF, targetDF=irisDF[irisDF.columns[:-1]], irisDF[irisDF.columns[-1:]]\n",
    "print(f'featureDF => {featureDF.shape}, targetDF => {targetDF.shape}')\n",
    "\n",
    "# 데이터셋 인스턴스 생성\n",
    "irisDS=IrisDataset(featureDF, targetDF)"
   ]
  },
  {
   "cell_type": "markdown",
   "metadata": {},
   "source": [
    "[4] 학습 준비\n",
    "- 학습 횟수 : EPOCH <= 처음부터 끝까지 학습하는 단위\n",
    "- 배치 크기 : BATCH_SIZE <= 한번에 학습할 데이터셋 양\n",
    "- 위치 지정 : DEVICE <= 텐서 저장 및 실행 위치 (GPU/CPU)\n",
    "- 학습률 : LR 가중치와 절편 업데이트 시 경사하강법으로 업데이트 간격 설정 0.001~0.1"
   ]
  },
  {
   "cell_type": "code",
   "execution_count": 30,
   "metadata": {},
   "outputs": [],
   "source": [
    "# 학습 진행 관련 설정\n",
    "EPOCH=1\n",
    "BATCH_SIZE=10\n",
    "BATCH_CNT=irisDF.shape[0]/BATCH_SIZE\n",
    "DEVICE= 'cuda' if torch.cuda.is_available() else 'cpu'\n",
    "LR=0.001"
   ]
  },
  {
   "cell_type": "code",
   "execution_count": 31,
   "metadata": {},
   "outputs": [
    {
     "name": "stdout",
     "output_type": "stream",
     "text": [
      "cpu\n"
     ]
    }
   ],
   "source": [
    "print(DEVICE)"
   ]
  },
  {
   "cell_type": "markdown",
   "metadata": {},
   "source": [
    "- 인스턴스/객체 : 모델, 데이터셋, 최적화 + (손실함수 , 성능지표)"
   ]
  },
  {
   "cell_type": "code",
   "execution_count": 32,
   "metadata": {},
   "outputs": [
    {
     "name": "stdout",
     "output_type": "stream",
     "text": [
      "(84, 3) (38, 3) (28, 3)\n",
      "(84, 1) (38, 1) (28, 1)\n"
     ]
    }
   ],
   "source": [
    "# 모델 인스턴스\n",
    "model=IrisRegModel()\n",
    "\n",
    "# 데이터셋 인스턴스\n",
    "X_train, X_test, y_train, y_test=train_test_split(featureDF, targetDF, random_state=1)\n",
    "X_train, X_val, y_train, y_val=train_test_split(X_train, y_train, random_state=1)\n",
    "print(f'{X_train.shape} {X_test.shape} {X_val.shape}')\n",
    "print(f'{y_train.shape} {y_test.shape} {y_val.shape}')\n",
    "\n",
    "trainDS=IrisDataset(X_train, y_train)\n",
    "valDS=IrisDataset(X_val, y_val)\n",
    "testDS=IrisDataset(X_test, y_test)\n",
    "\n",
    "# 데이터로드 인스턴스\n",
    "trainDL=DataLoader(trainDS, batch_size=BATCH_SIZE)"
   ]
  },
  {
   "cell_type": "code",
   "execution_count": 33,
   "metadata": {},
   "outputs": [
    {
     "name": "stdout",
     "output_type": "stream",
     "text": [
      "torch.Size([10, 3]) torch.Size([10, 1])\n",
      "torch.Size([10, 3]) torch.Size([10, 1])\n",
      "torch.Size([10, 3]) torch.Size([10, 1])\n",
      "torch.Size([10, 3]) torch.Size([10, 1])\n",
      "torch.Size([10, 3]) torch.Size([10, 1])\n",
      "torch.Size([10, 3]) torch.Size([10, 1])\n",
      "torch.Size([10, 3]) torch.Size([10, 1])\n",
      "torch.Size([10, 3]) torch.Size([10, 1])\n",
      "torch.Size([4, 3]) torch.Size([4, 1])\n"
     ]
    }
   ],
   "source": [
    "# [테스트] 데이터로더\n",
    "for feature, target in trainDL:\n",
    "    print(feature.shape, target.shape)"
   ]
  },
  {
   "cell_type": "code",
   "execution_count": 34,
   "metadata": {},
   "outputs": [],
   "source": [
    "# 최적화 인스턴스 => W, b 텐서 즉, model.parameters() 전달\n",
    "optimizer=optim.Adam(model.parameters(), lr=LR)\n",
    "\n",
    "# 손실함수 인스턴스 => 회귀, MSE, MAE, RMSE ...\n",
    "regLoss=nn.MSELoss()"
   ]
  },
  {
   "cell_type": "code",
   "execution_count": 35,
   "metadata": {},
   "outputs": [],
   "source": [
    "# 학습의 효과 확인 손실값과 성능평가값 저장 필요\n",
    "LOSS_HISTORY, SCORE_HISTROY=[[],[]], [[],[]]\n",
    "\n",
    "## 학습 모니터링/스케줄링 설정 \n",
    "# => LOSS_HISTORY, SCORE_HISTROY 활용\n",
    "# => 임계기준 : 10번\n",
    "BREAK_CNT = 0\n",
    "LIMIT_VALUE = 10\n",
    "\n",
    "\n",
    "for epoch in range(EPOCH):\n",
    "    # 학습 모드로 모델 설정\n",
    "    model.train()\n",
    "\n",
    "    # 배치크기 만큼 데이터 로딩해서 학습 진행\n",
    "    loss_total, score_total=0, 0\n",
    "    for featureTS, targetTS in trainDL:\n",
    "\n",
    "        # 학습 진행\n",
    "        pre_y=model(featureTS)\n",
    "\n",
    "        # 손실 계산\n",
    "        loss=regLoss(pre_y, targetTS)\n",
    "        loss_total += loss.item()\n",
    "\n",
    "        # 성능평가 계산\n",
    "        score=R2Score()(pre_y, targetTS)\n",
    "        score_total += score.item()\n",
    "\n",
    "        # 최적화 진행\n",
    "        optimizer.zero_grad()\n",
    "        loss.backward()\n",
    "        optimizer.step()\n",
    "    \n",
    "    # 에포크 당 검증기능\n",
    "    # 모델 검증 모드 설정\n",
    "    model.eval()\n",
    "    with torch.no_grad():\n",
    "\n",
    "        # 검증 데이터셋\n",
    "        val_featureTS=torch.FloatTensor(valDS.featureDF.values)\n",
    "        val_targetTS=torch.FloatTensor(valDS.targetDF.values)\n",
    "\n",
    "        # 추론/평가\n",
    "        pre_val=model(val_featureTS)\n",
    "\n",
    "        # 손실\n",
    "        loss_val=regLoss(pre_val, val_targetTS)\n",
    "\n",
    "        # 성능평가\n",
    "        score_val=R2Score()(pre_val, val_targetTS)\n",
    "    \n",
    "    # 에포크 당 손실값과 성능평가값 저장\n",
    "    LOSS_HISTORY[0].append(loss_total/BATCH_CNT)\n",
    "    SCORE_HISTROY[0].append(score_total/BATCH_CNT)\n",
    "\n",
    "    LOSS_HISTORY[1].append(loss_val)\n",
    "    SCORE_HISTROY[1].append(score_val)\n",
    "\n",
    "    # 학습 진행 모니터링 / 스케줄링 - 검증 DS 기준 => Loss와 Score 중 둘중 한 개만 보면 됨.\n",
    "    # Loss 기준\n",
    "    if len(LOSS_HISTORY[0]) >= 2:\n",
    "        if LOSS_HISTORY[1][-1] >= LOSS_HISTORY[1][-2]: BREAK_CNT += 1\n",
    "\n",
    "    # Score 기준\n",
    "    if len(SCORE_HISTROY[0]) >= 2:\n",
    "        if SCORE_HISTROY[1][-1] <= SCORE_HISTROY[1][-2]: BREAK_CNT += 1\n",
    "\n",
    "    # 학습 중단 여부 설정\n",
    "    if BREAK_CNT > LIMIT_VALUE:\n",
    "        print('성능 및 손실 개선이 없어서 학습 중단')"
   ]
  },
  {
   "cell_type": "markdown",
   "metadata": {},
   "source": [
    "- 모델 저장 방법 <hr>\n",
    "* 방법1 : 모델 파라미터만 저장\n",
    "* 방법2 : 모델 설계 구조 및 파라미터까지 모두 저장"
   ]
  },
  {
   "cell_type": "code",
   "execution_count": 36,
   "metadata": {},
   "outputs": [
    {
     "data": {
      "text/plain": [
       "OrderedDict([('in_layer.weight',\n",
       "              tensor([[-0.2276,  0.5473,  0.2135],\n",
       "                      [-0.1290, -0.1506,  0.1949],\n",
       "                      [ 0.0176, -0.2590, -0.4353],\n",
       "                      [-0.3275,  0.2157, -0.4238],\n",
       "                      [-0.0518,  0.4957,  0.3478],\n",
       "                      [-0.0082, -0.1485,  0.1133],\n",
       "                      [-0.5492,  0.3839,  0.1815],\n",
       "                      [ 0.4047, -0.1220,  0.5707],\n",
       "                      [ 0.2097,  0.2760, -0.0055],\n",
       "                      [ 0.2715,  0.0405,  0.1818]])),\n",
       "             ('in_layer.bias',\n",
       "              tensor([ 0.0688, -0.1285, -0.2274, -0.3039,  0.4169,  0.3235, -0.4621,  0.2518,\n",
       "                      -0.0622, -0.2341])),\n",
       "             ('hd_layer.weight',\n",
       "              tensor([[ 0.1251, -0.1339,  0.2973,  0.0345, -0.3089,  0.0779, -0.0489, -0.1034,\n",
       "                        0.3098, -0.0367],\n",
       "                      [-0.0987,  0.0421, -0.0111, -0.0404, -0.0063,  0.1542, -0.0606,  0.3087,\n",
       "                       -0.2883,  0.2718],\n",
       "                      [ 0.0503,  0.2688,  0.1593, -0.0752, -0.2295,  0.0454,  0.1555,  0.1998,\n",
       "                       -0.2333,  0.0285],\n",
       "                      [-0.3159,  0.3127,  0.0938, -0.1681, -0.0997, -0.0378,  0.0629, -0.0306,\n",
       "                       -0.2842, -0.2845],\n",
       "                      [ 0.1788, -0.2284, -0.0616,  0.1623,  0.1850,  0.2932,  0.0483, -0.1086,\n",
       "                        0.1450,  0.2219],\n",
       "                      [-0.2753,  0.0336, -0.1847,  0.2091,  0.1911, -0.2880,  0.2591, -0.1407,\n",
       "                       -0.2282, -0.0641],\n",
       "                      [-0.0944, -0.0487,  0.2145,  0.1624,  0.1888, -0.2382,  0.1181, -0.0389,\n",
       "                        0.0707, -0.3098],\n",
       "                      [-0.1300,  0.2359,  0.0111,  0.0120, -0.1746,  0.2466, -0.0347, -0.1871,\n",
       "                       -0.0659, -0.0576],\n",
       "                      [-0.1339, -0.2895,  0.2356, -0.1387,  0.2836, -0.0945,  0.1974,  0.0100,\n",
       "                       -0.1373,  0.0615],\n",
       "                      [-0.0710, -0.0029,  0.2260,  0.3079, -0.0880,  0.0847,  0.2874, -0.2668,\n",
       "                        0.0314, -0.2082],\n",
       "                      [ 0.0853, -0.1836,  0.1142,  0.0045,  0.1480, -0.0370, -0.1619,  0.0619,\n",
       "                        0.0141, -0.1203],\n",
       "                      [-0.2580,  0.0386, -0.3100,  0.1430, -0.1214,  0.2969, -0.0122,  0.0092,\n",
       "                        0.2419, -0.1371],\n",
       "                      [ 0.0486, -0.2466, -0.2265, -0.1255, -0.0629, -0.2783,  0.1409,  0.2524,\n",
       "                       -0.0490, -0.2939],\n",
       "                      [-0.2952,  0.0821,  0.1015, -0.2550,  0.0908,  0.2183,  0.1711, -0.2833,\n",
       "                       -0.1435, -0.1995],\n",
       "                      [ 0.2969,  0.0332, -0.1353, -0.2165, -0.0861, -0.2875, -0.0772, -0.1474,\n",
       "                       -0.0908,  0.0946],\n",
       "                      [-0.0186, -0.2372, -0.2336,  0.1501, -0.0022,  0.2002,  0.0336,  0.2646,\n",
       "                       -0.1721, -0.1290],\n",
       "                      [-0.0851, -0.0685, -0.1804,  0.0266,  0.1532,  0.1598, -0.2243,  0.0120,\n",
       "                        0.0988, -0.0639],\n",
       "                      [-0.1696, -0.0627,  0.1916, -0.2826,  0.2076, -0.2198, -0.2744, -0.1467,\n",
       "                        0.2275,  0.1320],\n",
       "                      [ 0.2581, -0.2581, -0.0929, -0.3092, -0.1581,  0.2955,  0.0692,  0.2602,\n",
       "                        0.3006, -0.3028],\n",
       "                      [-0.1356, -0.2926, -0.2893,  0.0174,  0.0802, -0.0460, -0.0567, -0.0463,\n",
       "                        0.1182, -0.2139],\n",
       "                      [-0.0568,  0.1988,  0.2231, -0.0867, -0.1297,  0.0571, -0.2106,  0.2968,\n",
       "                        0.3008, -0.0286],\n",
       "                      [ 0.1497, -0.2117,  0.0619, -0.0180, -0.2968,  0.3085, -0.0382,  0.2725,\n",
       "                        0.1993, -0.0610],\n",
       "                      [ 0.3003, -0.0155,  0.3046, -0.0846,  0.2240,  0.0877,  0.0647, -0.0422,\n",
       "                       -0.0240, -0.0745],\n",
       "                      [ 0.1067,  0.0476,  0.1099,  0.2326, -0.1037,  0.1271,  0.2014, -0.0248,\n",
       "                       -0.0758, -0.0651],\n",
       "                      [ 0.1493, -0.1698, -0.2750,  0.2153,  0.3017,  0.0960,  0.2097, -0.0385,\n",
       "                        0.0493,  0.0252],\n",
       "                      [ 0.2104, -0.1606, -0.0689,  0.1934, -0.1693, -0.2990, -0.2599, -0.2186,\n",
       "                       -0.0496, -0.1095],\n",
       "                      [-0.2431,  0.2887, -0.2026,  0.1154,  0.0785, -0.0963,  0.1548,  0.2095,\n",
       "                        0.2939, -0.2817],\n",
       "                      [-0.0620, -0.0304, -0.2622,  0.0197,  0.0670,  0.1545,  0.2204,  0.1993,\n",
       "                        0.2143, -0.2135],\n",
       "                      [-0.1715, -0.1009, -0.2043,  0.0084, -0.3115,  0.0720,  0.0011,  0.2410,\n",
       "                       -0.1349,  0.0138],\n",
       "                      [ 0.0726, -0.1518, -0.0391, -0.0830, -0.0871,  0.2539, -0.0851, -0.2948,\n",
       "                        0.2970, -0.0097]])),\n",
       "             ('hd_layer.bias',\n",
       "              tensor([-0.0040, -0.0546,  0.1736, -0.2186, -0.2591,  0.1702,  0.1256,  0.0632,\n",
       "                       0.1284, -0.2129, -0.0126,  0.2074,  0.1772, -0.0582, -0.0483, -0.2318,\n",
       "                      -0.0779, -0.0681,  0.1524, -0.1661, -0.1947,  0.2142,  0.1321,  0.0582,\n",
       "                       0.0480,  0.0272,  0.0590, -0.2815, -0.0819, -0.2204])),\n",
       "             ('out_layer.weight',\n",
       "              tensor([[ 0.0545,  0.0025,  0.0045,  0.1172,  0.0159,  0.1570,  0.0413, -0.1336,\n",
       "                        0.1815,  0.0682,  0.0689, -0.1285,  0.1186,  0.1558, -0.0470,  0.0767,\n",
       "                        0.1272,  0.1654, -0.0009,  0.1342,  0.1503,  0.1158, -0.1008,  0.0319,\n",
       "                        0.1110, -0.1672,  0.1897,  0.1571, -0.0516,  0.1258]])),\n",
       "             ('out_layer.bias', tensor([-0.0662]))])"
      ]
     },
     "execution_count": 36,
     "metadata": {},
     "output_type": "execute_result"
    }
   ],
   "source": [
    "# 학습된 모델 파라미터 값 확인\n",
    "model.state_dict()"
   ]
  },
  {
   "cell_type": "markdown",
   "metadata": {},
   "source": [
    "* [방법 1] 모델 파라미터 즉, 층별 가중치와 절편들"
   ]
  },
  {
   "cell_type": "code",
   "execution_count": 37,
   "metadata": {},
   "outputs": [],
   "source": [
    "### models 폴더 아래 프로젝트 폴더 아래 모델 파일 저장\n",
    "import os\n",
    "\n",
    "# 저장 경로\n",
    "SAVE_PATH = '../models/iris/'\n",
    "# 저장 파일명\n",
    "SAVE_FILE = 'model_train_wb.pth'"
   ]
  },
  {
   "cell_type": "code",
   "execution_count": 38,
   "metadata": {},
   "outputs": [],
   "source": [
    "# 경로상 폴더 존재 여부 체크\n",
    "if not os.path.exists(SAVE_PATH):\n",
    "    os.makedirs(SAVE_PATH) # 폴더/폴더/... 하위 폴더 까지 생성"
   ]
  },
  {
   "cell_type": "code",
   "execution_count": 39,
   "metadata": {},
   "outputs": [],
   "source": [
    "# 모델 저장\n",
    "torch.save(model.state_dict(),SAVE_PATH+SAVE_FILE)"
   ]
  },
  {
   "cell_type": "code",
   "execution_count": 40,
   "metadata": {},
   "outputs": [
    {
     "name": "stdout",
     "output_type": "stream",
     "text": [
      "<class 'collections.OrderedDict'>\n"
     ]
    }
   ],
   "source": [
    "# 모델 즉,가중치와 절편 로딩\n",
    "# [1] 가중치와 절편 객체로 로딩\n",
    "# [2] 모델의 state_dict 속성에 저장\n",
    "\n",
    "# 읽기\n",
    "wbTS=torch.load(SAVE_PATH+SAVE_FILE,weights_only=True)\n",
    "print(type(wbTS))"
   ]
  },
  {
   "cell_type": "code",
   "execution_count": 41,
   "metadata": {},
   "outputs": [
    {
     "data": {
      "text/plain": [
       "<All keys matched successfully>"
      ]
     },
     "execution_count": 41,
     "metadata": {},
     "output_type": "execute_result"
    }
   ],
   "source": [
    "# 모델 인스턴스에 저장\n",
    "model2=IrisRegModel()  # 층마다 W,b 초기화\n",
    "\n",
    "model2.load_state_dict(wbTS)"
   ]
  },
  {
   "cell_type": "code",
   "execution_count": 42,
   "metadata": {},
   "outputs": [
    {
     "name": "stdout",
     "output_type": "stream",
     "text": [
      "IrisRegModel(\n",
      "  (in_layer): Linear(in_features=3, out_features=10, bias=True)\n",
      "  (hd_layer): Linear(in_features=10, out_features=30, bias=True)\n",
      "  (out_layer): Linear(in_features=30, out_features=1, bias=True)\n",
      ")\n"
     ]
    }
   ],
   "source": [
    "print(model2)"
   ]
  },
  {
   "cell_type": "code",
   "execution_count": null,
   "metadata": {},
   "outputs": [],
   "source": []
  }
 ],
 "metadata": {
  "kernelspec": {
   "display_name": "TORCH_38",
   "language": "python",
   "name": "python3"
  },
  "language_info": {
   "codemirror_mode": {
    "name": "ipython",
    "version": 3
   },
   "file_extension": ".py",
   "mimetype": "text/x-python",
   "name": "python",
   "nbconvert_exporter": "python",
   "pygments_lexer": "ipython3",
   "version": "3.8.19"
  }
 },
 "nbformat": 4,
 "nbformat_minor": 2
}
