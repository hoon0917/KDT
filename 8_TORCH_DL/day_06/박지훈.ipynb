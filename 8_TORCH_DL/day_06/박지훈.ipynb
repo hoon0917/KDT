{
 "cells": [
  {
   "cell_type": "markdown",
   "metadata": {},
   "source": [
    "#### 1. 퍼셉트론에 개념에 대해 설명하세요<hr>\n",
    " - 입력층, 은닉층, 출력층에 존재하는 것\n",
    " - 각 입력값들의 계산 결과가 모이는 곳 이후 활성화 함수를 거쳐 다음 층으로 입력값을 전달함"
   ]
  },
  {
   "cell_type": "markdown",
   "metadata": {},
   "source": [
    "#### 2. 퍼셉트론 기본 동작 원리 및 수식을 도식화와 함께 작성해주세요<hr>\n",
    "  - 조건 : 피쳐 4개. 퍼셉트론 1개\n",
    "\n",
    "  ㅇ ----->   ┌----┐      수식 : y = w1x1 + w2x2 + w3x3 + w4x4 + b  \n",
    "  ㅇ ----->   │ ㅇ │      \n",
    "  ㅇ ----->   │    │     \n",
    "  ㅇ ----->   └----┘      \n",
    "  \n"
   ]
  },
  {
   "cell_type": "markdown",
   "metadata": {},
   "source": [
    "#### 3. 활성화함수(Activation Function)의 역할을 설명하세요<hr>\n",
    " - 기울기 소실 방지"
   ]
  },
  {
   "cell_type": "markdown",
   "metadata": {},
   "source": [
    "#### 4. 대표적인 활성화함수에 대해 설명하세요<hr>\n",
    " - Relu 함수 : 0 이상 \n",
    "\n",
    " - Leaky Relu 함수 : 0 초과\n",
    "\n",
    " - sigmoid 함수 : 0 에서 1 사이\n",
    "\n",
    " - softmax 함수 : 0.0 에서 1.0 사이"
   ]
  },
  {
   "cell_type": "markdown",
   "metadata": {},
   "source": [
    "#### 5. 경사하강법의 개념 및 대표적인 경사하강법 알고리즘에 대해 간략히 설명하세요.<hr>\n",
    " - 개념 : 기울기 값의 변경을 통해 전역 최소점을 찾고자 하는 것\n",
    " - 알고리즘 : \n"
   ]
  },
  {
   "cell_type": "markdown",
   "metadata": {},
   "source": [
    "#### 6. 회귀 모델 구현을 간략하게 코드 작성하세요.<hr>\n",
    " - 피쳐 3개"
   ]
  },
  {
   "cell_type": "code",
   "execution_count": 1,
   "metadata": {},
   "outputs": [],
   "source": [
    "# 임포트 로딩 및 데이터 준비\n",
    "import torch\n",
    "import torch.nn as nn\n",
    "import torch.nn.functional as F\n",
    "import torch.optim as optim\n",
    "from torchmetrics.regression import R2Score\n",
    "from torchmetrics.classification import BinaryF1Score\n",
    "\n",
    "import pandas as pd\n",
    "\n",
    "# dataDF \n",
    "\n",
    "# 모델 클래스 설계 및 정의\n",
    "\n",
    "class Regmodel(nn.Module) :\n",
    "    \n",
    "    def __init__(self) :\n",
    "        super().__init__()\n",
    "        self.in_layer = nn.Linear(3,5)\n",
    "        self.h_layer = nn.Linear(5,2)\n",
    "        self.out_layer = nn.Linear(2,1)\n",
    "\n",
    "    def forward(self, data) :\n",
    "        # 입력층\n",
    "        y = F.relu(self.in_layer(data))\n",
    "\n",
    "        # 은닉층\n",
    "        y = F.relu(self.h_layer(y))\n",
    "\n",
    "        # 출력층\n",
    "        return self.out_layer(y)\n",
    "    \n",
    "\n",
    "# 학습 준비\n",
    "EPOCH = 1\n",
    "BATCH_SIZE = 32\n",
    "\n",
    "model = BCFmodel()\n",
    "optimizer = optim.Adam(model.parameters(),lr=0.002)\n",
    "regLoss = nn.BCELoss()\n",
    "\n",
    "\n",
    "# 학습 진행\n",
    "\n",
    "loss_histroy, score_history = [[],[]],[[],[]]\n",
    "\n",
    "for epoch in range(EPOCH) :\n",
    "    model.train()\n",
    "\n",
    "    loss_total, score_total = 0,0\n",
    "\n",
    "    # 학습 진행\n",
    "    pre_y = model(feature)\n",
    "\n",
    "    # 손실 계산\n",
    "    loss = regloss(pre_y,target)\n",
    "    loss_total += loss\n",
    "\n",
    "    # 성능 평가\n",
    "    score = R2Score()(pre_y,target)\n",
    "    score_total += score\n",
    "\n",
    "    # 최적화 진행\n",
    "    optimizer.zero_grad()\n",
    "    loss.backward()\n",
    "    optimizer.step()\n"
   ]
  },
  {
   "cell_type": "markdown",
   "metadata": {},
   "source": [
    "#### 7. 이진분류 모델 구현을 간략하게 코드 작성하세요<hr>\n",
    " - 피쳐 5개\n",
    " - 클래스 2개\n",
    " - 층 4개"
   ]
  },
  {
   "cell_type": "code",
   "execution_count": 3,
   "metadata": {},
   "outputs": [],
   "source": [
    "# 모델 클래스 설계 및 정의\n",
    "\n",
    "class BCFmodel(nn.Module) :\n",
    "    def __init__(self) :\n",
    "        super().__init__()\n",
    "        self.in_layer = nn.Linear(5,3)\n",
    "        self.h1_layer = nn.Linear(3,10)\n",
    "        self.h2_layer = nn.Linear(10,7)\n",
    "        self.out_layer = nn.Linear(7,2)\n",
    "    \n",
    "    def forward(self,data) :\n",
    "        y = F.relu(self.in_layer(data))\n",
    "        y = F.relu(self.h1_layer(y))\n",
    "        y = F.relu(self.h2_layer(y))\n",
    "        return self.out_layer(y)\n",
    "    \n",
    "# 학습 준비\n",
    "EPOCH = 1\n",
    "BATCH_SIZE = 32\n",
    "\n",
    "model = BCFmodel()\n",
    "optimizer = optim.Adam(model.parameters(),lr=0.002)\n",
    "regLoss = nn.BCELoss()\n",
    "\n",
    "# 학습 진행\n",
    "\n",
    "loss_histroy, score_history = [[],[]],[[],[]]\n",
    "\n",
    "for epoch in range(EPOCH) :\n",
    "    model.train()\n",
    "\n",
    "    loss_total, score_total = 0,0\n",
    "\n",
    "    # 학습 진행\n",
    "    pre_y = model(feature)\n",
    "\n",
    "    # 손실 계산\n",
    "    loss = regloss(pre_y,target)\n",
    "    loss_total += loss\n",
    "\n",
    "    # 성능 평가\n",
    "    score = BinaryF1score()(pre_y,target)\n",
    "    score_total += score\n",
    "\n",
    "    # 최적화 진행\n",
    "    optimizer.zero_grad()\n",
    "    loss.backward()\n",
    "    optimizer.step()\n",
    "\n"
   ]
  },
  {
   "cell_type": "markdown",
   "metadata": {},
   "source": [
    "#### 8. 다중분류 모델 구현을 간략하게 코드 작성하세요<hr>\n",
    " - 피쳐 : 5개\n",
    " - 클래스 : 8개\n",
    " - 층 3 ~ 5개\n",
    " - 퍼셉트론 : 동적"
   ]
  },
  {
   "cell_type": "markdown",
   "metadata": {},
   "source": []
  },
  {
   "cell_type": "markdown",
   "metadata": {},
   "source": [
    "#### 9. 기울기 소실 개념 및 해결 방법을 설명하세요<hr>\n",
    " - 기울기 소실은 경사 하강법에서 전역 최소점을 찾기 위해 기울기 감소를 하는 과정에서 발생하는 현상이며 기울기아 0이 되는 현상이다\n",
    " - 이를 해결 하기 위해 활성화함수(Activate Function)을 사용해야 한다"
   ]
  },
  {
   "cell_type": "markdown",
   "metadata": {},
   "source": [
    "#### 10. 파이토치의 모델 동작 모드에 대해 관련 함수도 함께 설명하세요<hr>\n",
    " - 모델 동작 모드는 모델을 학습으로 사용할지 검증으로 사용할지를 결정하는 것\n",
    " - 학습 및 검증을 위해선 모델인스턴스명.train() or 모델인스턴스명.eval() 을 입력하면 된다\n",
    " - 단, 모델 검증 시에는 가중치 및 절편의 업데이트가 이루어지면 안되기 때문 with torch.grad()를 설정해 가중치 및 절편의 업데이트를 방지 해줘야 한다"
   ]
  },
  {
   "cell_type": "markdown",
   "metadata": {},
   "source": []
  }
 ],
 "metadata": {
  "kernelspec": {
   "display_name": "TORCH_38",
   "language": "python",
   "name": "python3"
  },
  "language_info": {
   "codemirror_mode": {
    "name": "ipython",
    "version": 3
   },
   "file_extension": ".py",
   "mimetype": "text/x-python",
   "name": "python",
   "nbconvert_exporter": "python",
   "pygments_lexer": "ipython3",
   "version": "3.8.19"
  }
 },
 "nbformat": 4,
 "nbformat_minor": 2
}
