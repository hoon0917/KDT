{
  "cells": [
    {
      "cell_type": "markdown",
      "id": "3f27af2c",
      "metadata": {},
      "source": [
        "#### Pytorch기반 DL\n",
        " - 선형회귀 LinearRegression"
      ]
    },
    {
      "cell_type": "code",
      "execution_count": 36,
      "id": "00e4488b",
      "metadata": {
        "id": "00e4488b"
      },
      "outputs": [],
      "source": [
        "## 모듈로딩\n",
        "import torch                        # 텐서 및 수치계산 함수 관련 모듈\n",
        "import torch.nn as nn               # 인공신경망\n",
        "import torch.nn.functional as F     # 함수(활성화, 손실, 거리 등등)\n",
        "import torch.optim as optim         # 경사하강법(w,b 최적화 기법 관련 모듈)"
      ]
    },
    {
      "cell_type": "code",
      "execution_count": 37,
      "id": "a9371164",
      "metadata": {
        "colab": {
          "base_uri": "https://localhost:8080/"
        },
        "id": "a9371164",
        "outputId": "9728e5ce-ec40-4667-8cfc-66dc4a160879"
      },
      "outputs": [
        {
          "data": {
            "text/plain": [
              "<torch._C.Generator at 0x20a3db04cf0>"
            ]
          },
          "execution_count": 37,
          "metadata": {},
          "output_type": "execute_result"
        }
      ],
      "source": [
        "# 재실행해도 같은 결과가 나오도록 랜덤 시드(random seed) 설정\n",
        "torch.manual_seed(1)"
      ]
    },
    {
      "cell_type": "code",
      "execution_count": 38,
      "id": "63325226",
      "metadata": {
        "id": "63325226"
      },
      "outputs": [],
      "source": [
        "# 데이터 준비 --------------------------------------------------\n",
        "x_train = torch.FloatTensor([[1], [2], [3]])    # 2D (3,1)\n",
        "y_train = torch.FloatTensor([[2], [4], [6]])    # 2D (3,1)"
      ]
    },
    {
      "cell_type": "code",
      "execution_count": 39,
      "id": "29a349fa",
      "metadata": {
        "id": "29a349fa",
        "outputId": "f9ecbcc6-f606-427e-8911-085cd556a607"
      },
      "outputs": [
        {
          "name": "stdout",
          "output_type": "stream",
          "text": [
            "x_train : torch.Size([3, 1]), 2 \n",
            "tensor([[1.],\n",
            "        [2.],\n",
            "        [3.]])\n",
            "y_train : torch.Size([3, 1]), 2 \n",
            "tensor([[2.],\n",
            "        [4.],\n",
            "        [6.]])\n"
          ]
        }
      ],
      "source": [
        "print(f'x_train : {x_train.shape}, {x_train.ndim} \\n{x_train}')\n",
        "print(f'y_train : {y_train.shape}, {y_train.ndim} \\n{y_train}')"
      ]
    },
    {
      "cell_type": "code",
      "execution_count": 40,
      "id": "9ca21c47",
      "metadata": {
        "id": "9ca21c47",
        "outputId": "70067806-356f-4fb1-8f8a-d484436c9288"
      },
      "outputs": [
        {
          "name": "stdout",
          "output_type": "stream",
          "text": [
            "W : tensor([0.], requires_grad=True), b : tensor([0.], requires_grad=True)\n"
          ]
        }
      ],
      "source": [
        "# 가중치 W, 절편 b 초기화 -------------------------------------------------\n",
        "# 가중치 W 0으로 초기화하고 학습 통해 값이 변경되는 변수 명시함\n",
        "# requires_grad=True  <= 학습을 통해 계속 값이 변경되는 변수 의미(경사하강법 할 때, 업데이트 해줘 )\n",
        "# y = Wx+b = 0x + 0\n",
        "# torch.zeros(텐서 원소 갯수)\n",
        "W = torch.zeros(1, requires_grad=True)\n",
        "b = torch.zeros(1, requires_grad=True)\n",
        "\n",
        "print(f'W : {W}, b : {b}')"
      ]
    },
    {
      "cell_type": "code",
      "execution_count": 41,
      "id": "28b0a523",
      "metadata": {
        "id": "28b0a523"
      },
      "outputs": [],
      "source": [
        "# 경사하강법 => W,b 업데이트\n",
        "# W,b 변수, 학습률지정\n",
        "# lr(learning rate) : 경사하강 할때 간격을 어떻게 할지  \n",
        "optimizer = optim.SGD([W, b], lr=0.01)\n"
      ]
    },
    {
      "cell_type": "code",
      "execution_count": 42,
      "id": "e9847f83",
      "metadata": {
        "id": "e9847f83",
        "outputId": "74b55577-f482-4162-aff8-6658faa3dce1"
      },
      "outputs": [
        {
          "name": "stdout",
          "output_type": "stream",
          "text": [
            "Epoch    0/30 W: 0.187, b: 0.080 Cost: 18.666666\n",
            "\n",
            "Epoch    1/30 W: 0.353, b: 0.151 Cost: 14.770963\n",
            "\n",
            "Epoch    2/30 W: 0.500, b: 0.214 Cost: 11.691541\n",
            "\n",
            "Epoch    3/30 W: 0.632, b: 0.270 Cost: 9.257344\n",
            "\n",
            "Epoch    4/30 W: 0.749, b: 0.319 Cost: 7.333169\n",
            "\n",
            "Epoch    5/30 W: 0.853, b: 0.363 Cost: 5.812135\n",
            "\n",
            "Epoch    6/30 W: 0.945, b: 0.401 Cost: 4.609764\n",
            "\n",
            "Epoch    7/30 W: 1.028, b: 0.435 Cost: 3.659278\n",
            "\n",
            "Epoch    8/30 W: 1.101, b: 0.466 Cost: 2.907896\n",
            "\n",
            "Epoch    9/30 W: 1.166, b: 0.492 Cost: 2.313895\n",
            "\n",
            "Epoch   10/30 W: 1.224, b: 0.516 Cost: 1.844294\n",
            "\n",
            "Epoch   11/30 W: 1.276, b: 0.536 Cost: 1.473027\n",
            "\n",
            "Epoch   12/30 W: 1.322, b: 0.555 Cost: 1.179487\n",
            "\n",
            "Epoch   13/30 W: 1.363, b: 0.571 Cost: 0.947386\n",
            "\n",
            "Epoch   14/30 W: 1.400, b: 0.585 Cost: 0.763851\n",
            "\n",
            "Epoch   15/30 W: 1.433, b: 0.597 Cost: 0.618704\n",
            "\n",
            "Epoch   16/30 W: 1.462, b: 0.608 Cost: 0.503902\n",
            "\n",
            "Epoch   17/30 W: 1.488, b: 0.617 Cost: 0.413086\n",
            "\n",
            "Epoch   18/30 W: 1.511, b: 0.625 Cost: 0.341229\n",
            "\n",
            "Epoch   19/30 W: 1.531, b: 0.632 Cost: 0.284360\n",
            "\n",
            "Epoch   20/30 W: 1.550, b: 0.638 Cost: 0.239337\n",
            "\n",
            "Epoch   21/30 W: 1.566, b: 0.644 Cost: 0.203679\n",
            "\n",
            "Epoch   22/30 W: 1.581, b: 0.648 Cost: 0.175424\n",
            "\n",
            "Epoch   23/30 W: 1.594, b: 0.652 Cost: 0.153021\n",
            "\n",
            "Epoch   24/30 W: 1.606, b: 0.655 Cost: 0.135243\n",
            "\n",
            "Epoch   25/30 W: 1.617, b: 0.658 Cost: 0.121122\n",
            "\n",
            "Epoch   26/30 W: 1.626, b: 0.660 Cost: 0.109892\n",
            "\n",
            "Epoch   27/30 W: 1.635, b: 0.662 Cost: 0.100947\n",
            "\n",
            "Epoch   28/30 W: 1.642, b: 0.663 Cost: 0.093809\n",
            "\n",
            "Epoch   29/30 W: 1.649, b: 0.664 Cost: 0.088100\n",
            "\n",
            "Epoch   30/30 W: 1.655, b: 0.665 Cost: 0.083519\n",
            "\n"
          ]
        }
      ],
      "source": [
        "# 학습(fit) --------------------------------------------------------\n",
        "EPOCHS = 30 # 원하는만큼 경사 하강법을 반복\n",
        "\n",
        "for epoch in range(EPOCHS + 1):\n",
        "\n",
        "    # H(x) 계산 = XW+b => 예측값\n",
        "    hypothesis = x_train * W + b\n",
        "\n",
        "    # cost 계산 = (예측값 - 정답)\n",
        "    cost = torch.mean((hypothesis - y_train) ** 2)\n",
        "\n",
        "    # cost로 H(x) 개선\n",
        "    optimizer.zero_grad()      # gradient를 0으로 초기화(이거 없으면 값 업데이트 할 때 누적됨)\n",
        "    cost.backward()            # 비용 함수를 미분하여 gradient(기울기) 계산 backward :역전파 기능\n",
        "\n",
        "    optimizer.step()           # W, b 업데이트\n",
        "\n",
        "\n",
        "    # 100번마다 로그 출력\n",
        "    # item을 해야 값만 나옴\n",
        "    print(f'Epoch {epoch:4d}/{EPOCHS} W: { W.item():.3f}, b: {b.item():.3f} Cost: {cost.item():.6f}\\n')"
      ]
    },
    {
      "cell_type": "code",
      "execution_count": 43,
      "id": "c211c9af",
      "metadata": {
        "id": "c211c9af",
        "outputId": "9f6c7c5c-ad49-4842-9e5d-6b8b8ccd4bc9"
      },
      "outputs": [
        {
          "data": {
            "text/plain": [
              "(1.6552637815475464, 0.6648989319801331)"
            ]
          },
          "execution_count": 43,
          "metadata": {},
          "output_type": "execute_result"
        }
      ],
      "source": [
        "## 학습 완료 후의 W, b  텐서 값 확인\n",
        "W.item(), b.item()"
      ]
    },
    {
      "cell_type": "code",
      "execution_count": 44,
      "id": "b5d0b9e1",
      "metadata": {
        "id": "b5d0b9e1",
        "outputId": "0340135c-ec34-4930-9676-cc5850c9f3f5"
      },
      "outputs": [
        {
          "data": {
            "text/plain": [
              "5.630690097808838"
            ]
          },
          "execution_count": 44,
          "metadata": {},
          "output_type": "execute_result"
        }
      ],
      "source": [
        "## x값 넣고 y값 확인\n",
        "pre_y = W*3+b\n",
        "pre_y.item()"
      ]
    },
    {
      "cell_type": "code",
      "execution_count": 45,
      "id": "95b63fc5",
      "metadata": {
        "colab": {
          "base_uri": "https://localhost:8080/",
          "height": 35
        },
        "id": "95b63fc5",
        "outputId": "9c52624e-2427-439f-d1d3-6b0811faa4ec"
      },
      "outputs": [
        {
          "data": {
            "text/plain": [
              "'num = 12, ****12****, avg = 3.45567      3.456'"
            ]
          },
          "execution_count": 45,
          "metadata": {},
          "output_type": "execute_result"
        }
      ],
      "source": [
        "num=12\n",
        "avg=3.45567\n",
        "\n",
        "f'num = {num}, {num:*^10}, avg = {avg} {avg:10.3f}'\n"
      ]
    },
    {
      "cell_type": "code",
      "execution_count": 46,
      "id": "f691de99",
      "metadata": {
        "id": "f691de99",
        "outputId": "f9056eaf-492c-4622-80f0-786ccde642c1"
      },
      "outputs": [
        {
          "name": "stdout",
          "output_type": "stream",
          "text": [
            "수식을 w로 미분한 값 : 2.0\n",
            "수식을 w로 미분한 값 : 4.0\n",
            "수식을 w로 미분한 값 : 6.0\n",
            "수식을 w로 미분한 값 : 8.0\n",
            "수식을 w로 미분한 값 : 10.0\n",
            "수식을 w로 미분한 값 : 12.0\n",
            "수식을 w로 미분한 값 : 14.0\n",
            "수식을 w로 미분한 값 : 16.0\n",
            "수식을 w로 미분한 값 : 18.0\n",
            "수식을 w로 미분한 값 : 20.0\n",
            "수식을 w로 미분한 값 : 22.0\n",
            "수식을 w로 미분한 값 : 24.0\n",
            "수식을 w로 미분한 값 : 26.0\n",
            "수식을 w로 미분한 값 : 28.0\n",
            "수식을 w로 미분한 값 : 30.0\n",
            "수식을 w로 미분한 값 : 32.0\n",
            "수식을 w로 미분한 값 : 34.0\n",
            "수식을 w로 미분한 값 : 36.0\n",
            "수식을 w로 미분한 값 : 38.0\n",
            "수식을 w로 미분한 값 : 40.0\n",
            "수식을 w로 미분한 값 : 42.0\n"
          ]
        }
      ],
      "source": [
        "## optimizer.zero_grad()가 필요한 이유\n",
        "## 미분을 통해 얻은 기울기를 이전에 계산된 기울기 값에 누적시키는 특징\n",
        "\n",
        "w = torch.tensor(2.0, requires_grad=True)\n",
        "\n",
        "nb_epochs = 20\n",
        "for epoch in range(nb_epochs + 1):\n",
        "\n",
        "  z = 2*w\n",
        "\n",
        "  z.backward()\n",
        "  print('수식을 w로 미분한 값 : {}'.format(w.grad))"
      ]
    },
    {
      "cell_type": "code",
      "execution_count": null,
      "id": "3cbd4372",
      "metadata": {
        "id": "3cbd4372"
      },
      "outputs": [],
      "source": []
    }
  ],
  "metadata": {
    "colab": {
      "provenance": []
    },
    "kernelspec": {
      "display_name": "Python 3 (ipykernel)",
      "language": "python",
      "name": "python3"
    },
    "language_info": {
      "codemirror_mode": {
        "name": "ipython",
        "version": 3
      },
      "file_extension": ".py",
      "mimetype": "text/x-python",
      "name": "python",
      "nbconvert_exporter": "python",
      "pygments_lexer": "ipython3",
      "version": "3.8.19"
    }
  },
  "nbformat": 4,
  "nbformat_minor": 5
}
