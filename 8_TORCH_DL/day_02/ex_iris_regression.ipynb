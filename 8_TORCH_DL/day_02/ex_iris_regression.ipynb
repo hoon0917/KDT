{
 "cells": [
  {
   "cell_type": "markdown",
   "metadata": {},
   "source": [
    "#### iris 데이터셋 활용해서 꽃잎 너비 예측 모델\n",
    " - 데이터셋 : iris.csv에서 2개의 Feature 사용\n",
    " - 구현프레임워크 : Pytorch"
   ]
  },
  {
   "cell_type": "markdown",
   "metadata": {},
   "source": [
    "- [1] 모듈 로딩 및 데이터 준비"
   ]
  },
  {
   "cell_type": "code",
   "execution_count": 447,
   "metadata": {},
   "outputs": [],
   "source": [
    "# 모듈 로딩\n",
    "import torch                        # 텐서 및 수치 계산 함수 관련 모듈\n",
    "import torch.nn as nn               # 인공신경망 관련 모듈\n",
    "import torch.nn.functional as F        # 손실, 거래 등 함수 관련 모듈 \n",
    "import torch.optim as optimizer     # 최적화 기법 관련 모듈\n",
    "import pandas as pd\n",
    "from sklearn.model_selection import  train_test_split"
   ]
  },
  {
   "cell_type": "code",
   "execution_count": 448,
   "metadata": {},
   "outputs": [
    {
     "data": {
      "text/html": [
       "<div>\n",
       "<style scoped>\n",
       "    .dataframe tbody tr th:only-of-type {\n",
       "        vertical-align: middle;\n",
       "    }\n",
       "\n",
       "    .dataframe tbody tr th {\n",
       "        vertical-align: top;\n",
       "    }\n",
       "\n",
       "    .dataframe thead th {\n",
       "        text-align: right;\n",
       "    }\n",
       "</style>\n",
       "<table border=\"1\" class=\"dataframe\">\n",
       "  <thead>\n",
       "    <tr style=\"text-align: right;\">\n",
       "      <th></th>\n",
       "      <th>sepal.length</th>\n",
       "      <th>sepal.width</th>\n",
       "      <th>petal.length</th>\n",
       "      <th>petal.width</th>\n",
       "    </tr>\n",
       "  </thead>\n",
       "  <tbody>\n",
       "    <tr>\n",
       "      <th>0</th>\n",
       "      <td>5.1</td>\n",
       "      <td>3.5</td>\n",
       "      <td>1.4</td>\n",
       "      <td>0.2</td>\n",
       "    </tr>\n",
       "    <tr>\n",
       "      <th>1</th>\n",
       "      <td>4.9</td>\n",
       "      <td>3.0</td>\n",
       "      <td>1.4</td>\n",
       "      <td>0.2</td>\n",
       "    </tr>\n",
       "    <tr>\n",
       "      <th>2</th>\n",
       "      <td>4.7</td>\n",
       "      <td>3.2</td>\n",
       "      <td>1.3</td>\n",
       "      <td>0.2</td>\n",
       "    </tr>\n",
       "    <tr>\n",
       "      <th>3</th>\n",
       "      <td>4.6</td>\n",
       "      <td>3.1</td>\n",
       "      <td>1.5</td>\n",
       "      <td>0.2</td>\n",
       "    </tr>\n",
       "    <tr>\n",
       "      <th>4</th>\n",
       "      <td>5.0</td>\n",
       "      <td>3.6</td>\n",
       "      <td>1.4</td>\n",
       "      <td>0.2</td>\n",
       "    </tr>\n",
       "  </tbody>\n",
       "</table>\n",
       "</div>"
      ],
      "text/plain": [
       "   sepal.length  sepal.width  petal.length  petal.width\n",
       "0           5.1          3.5           1.4          0.2\n",
       "1           4.9          3.0           1.4          0.2\n",
       "2           4.7          3.2           1.3          0.2\n",
       "3           4.6          3.1           1.5          0.2\n",
       "4           5.0          3.6           1.4          0.2"
      ]
     },
     "execution_count": 448,
     "metadata": {},
     "output_type": "execute_result"
    }
   ],
   "source": [
    "# [1-1] 데이터 로딩\n",
    "irisDF = pd.read_csv(r'C:\\Users\\KDP-17\\EX_PANDAS6\\TORCH_DL\\data\\iris.csv',usecols=[0,1,2,3])\n",
    "irisDF.head()"
   ]
  },
  {
   "cell_type": "markdown",
   "metadata": {},
   "source": [
    "[2] 모델 준비\n",
    " - 학습방법 : 지도학습 > 회귀\n",
    " - 알고리즘 : 선형관계 >> 선형모델 ==> nn.Linear"
   ]
  },
  {
   "cell_type": "code",
   "execution_count": 449,
   "metadata": {},
   "outputs": [
    {
     "data": {
      "text/plain": [
       "<torch._C.Generator at 0x1e8eb56c050>"
      ]
     },
     "execution_count": 449,
     "metadata": {},
     "output_type": "execute_result"
    }
   ],
   "source": [
    "torch.manual_seed(1)"
   ]
  },
  {
   "cell_type": "code",
   "execution_count": 450,
   "metadata": {},
   "outputs": [],
   "source": [
    "# in_features : petal.length    3개\n",
    "# out_feature : petal.width     1개\n",
    "model = nn.Linear(3,1)"
   ]
  },
  {
   "cell_type": "code",
   "execution_count": 451,
   "metadata": {},
   "outputs": [
    {
     "name": "stdout",
     "output_type": "stream",
     "text": [
      "[weight], [Parameter containing:\n",
      "tensor([[ 0.2975, -0.2548, -0.1119]], requires_grad=True)],\"\n",
      "\"\n",
      "[bias], [Parameter containing:\n",
      "tensor([0.2710], requires_grad=True)],\"\n",
      "\"\n"
     ]
    }
   ],
   "source": [
    "# 가중치와 절편 확인\n",
    "for name, name_parameter in model.named_parameters() :\n",
    "    print(f'[{name}], [{name_parameter}],\"\\n\"')"
   ]
  },
  {
   "cell_type": "markdown",
   "metadata": {},
   "source": [
    "[3] 최적화 인스턴스 준비"
   ]
  },
  {
   "cell_type": "code",
   "execution_count": 452,
   "metadata": {},
   "outputs": [],
   "source": [
    "### 모델의 가중치와 절편 최적화 이후 인스턴스에 전달\n",
    "adam_optimizer = optimizer.Adam(model.parameters(), lr=0.1)"
   ]
  },
  {
   "cell_type": "markdown",
   "metadata": {},
   "source": [
    "[4] 학습 진행"
   ]
  },
  {
   "cell_type": "markdown",
   "metadata": {},
   "source": [
    " - [4-1] 데이터셋 Tensor화 진행 : 데이터 준비 시 진행 or 학습 전 진행"
   ]
  },
  {
   "cell_type": "code",
   "execution_count": 453,
   "metadata": {},
   "outputs": [
    {
     "data": {
      "text/plain": [
       "Index(['sepal.length', 'sepal.width', 'petal.length'], dtype='object')"
      ]
     },
     "execution_count": 453,
     "metadata": {},
     "output_type": "execute_result"
    }
   ],
   "source": [
    "irisDF.columns[:-1]"
   ]
  },
  {
   "cell_type": "code",
   "execution_count": 454,
   "metadata": {},
   "outputs": [
    {
     "data": {
      "text/plain": [
       "torch.Size([150, 3])"
      ]
     },
     "execution_count": 454,
     "metadata": {},
     "output_type": "execute_result"
    }
   ],
   "source": [
    "featureTS = torch.from_numpy(irisDF[irisDF.columns[:-1]].values).float()\n",
    "featureTS.shape"
   ]
  },
  {
   "cell_type": "code",
   "execution_count": 455,
   "metadata": {},
   "outputs": [
    {
     "data": {
      "text/plain": [
       "torch.Size([150, 1])"
      ]
     },
     "execution_count": 455,
     "metadata": {},
     "output_type": "execute_result"
    }
   ],
   "source": [
    "targetTS = torch.from_numpy(irisDF[['petal.width']].values).float()\n",
    "targetTS.shape"
   ]
  },
  {
   "cell_type": "code",
   "execution_count": 456,
   "metadata": {},
   "outputs": [],
   "source": [
    "# Train, Test\n",
    "X_train, X_test, y_train, y_test = train_test_split(featureTS,targetTS,\n",
    "                                                   test_size = 0.2)\n",
    "\n",
    "# Train, Valid\n",
    "X_train, X_val, y_train, y_val = train_test_split(X_train, y_train,\n",
    "                                                   test_size = 0.2)"
   ]
  },
  {
   "cell_type": "markdown",
   "metadata": {},
   "source": [
    "- [4-2] 학습진행 : \n",
    "   * 학습횟수 결정 ==> 에포크 설정\n",
    "   * 학습결과 저장 ==> 손실저장 변수 설정"
   ]
  },
  {
   "cell_type": "code",
   "execution_count": 457,
   "metadata": {},
   "outputs": [],
   "source": [
    "EPOCH = 100"
   ]
  },
  {
   "cell_type": "code",
   "execution_count": 458,
   "metadata": {},
   "outputs": [],
   "source": [
    "# 모델 테스트/검증 함수 \n",
    "# ==> 가중치,절편 업데이트 X 그래서 최적화 미진행 해야함\n",
    "# ==> 현재 가중치와 절편으로 테스트 진행\n",
    "def testing(testTS, targetTS, kind = 'Val') :\n",
    "\n",
    "    with torch.no_grad() :      # 가중치 및 절편 업데이트 X\n",
    "        # (1) 학습진행 forward\n",
    "        pre_y = model(testTS)\n",
    "\n",
    "        # (2) 오차계산 - 손실함수\n",
    "        loss = F.mse_loss(pre_y, targetTS)\n",
    "       \n",
    "        # (3) 학습 과정 출력\n",
    "        print(f'[{kind}] LOSS : {loss}')\n",
    "\n",
    "    return loss\n"
   ]
  },
  {
   "cell_type": "code",
   "execution_count": 459,
   "metadata": {},
   "outputs": [],
   "source": [
    "# 모델 학습 함수\n",
    "def training(featureTS, targetTS, valTS, valTargetTS) :\n",
    "    \n",
    "    loss_history = [[],[]]\n",
    "\n",
    "    for epoch in range(EPOCH) : \n",
    "        # (1) 학습진행 forward\n",
    "        pre_y = model(featureTS)\n",
    "\n",
    "        # (2) 오차계산 - 손실함수\n",
    "        loss = F.mse_loss(pre_y, targetTS)\n",
    "        loss_history[0].append(loss.item())\n",
    "       \n",
    "        # (3) 최적화 - 가중치, 절편 업데이트\n",
    "        adam_optimizer.zero_grad()\n",
    "        loss.backward()\n",
    "        adam_optimizer.step()\n",
    "\n",
    "        val_loss = testing(valTS,valTargetTS)\n",
    "        loss_history[1].append(val_loss.item())\n",
    "\n",
    "\n",
    "        # (4) 학습 과정 출력\n",
    "        print(f'[{epoch}/{EPOCH}] LOSS : {loss}')\n",
    "\n",
    "    return loss_history"
   ]
  },
  {
   "cell_type": "code",
   "execution_count": 460,
   "metadata": {},
   "outputs": [
    {
     "name": "stdout",
     "output_type": "stream",
     "text": [
      "[Val] LOSS : 0.9134621024131775\n",
      "[0/100] LOSS : 0.6023434996604919\n",
      "[Val] LOSS : 0.3826148808002472\n",
      "[1/100] LOSS : 1.2888065576553345\n",
      "[Val] LOSS : 0.5390672087669373\n",
      "[2/100] LOSS : 0.5389247536659241\n",
      "[Val] LOSS : 0.9739119410514832\n",
      "[3/100] LOSS : 0.4006403982639313\n",
      "[Val] LOSS : 0.7902092933654785\n",
      "[4/100] LOSS : 0.6827318668365479\n",
      "[Val] LOSS : 0.36110588908195496\n",
      "[5/100] LOSS : 0.5439260601997375\n",
      "[Val] LOSS : 0.17990504205226898\n",
      "[6/100] LOSS : 0.2542695999145508\n",
      "[Val] LOSS : 0.2369699627161026\n",
      "[7/100] LOSS : 0.21212221682071686\n",
      "[Val] LOSS : 0.24086415767669678\n",
      "[8/100] LOSS : 0.3463667333126068\n",
      "[Val] LOSS : 0.1466463804244995\n",
      "[9/100] LOSS : 0.35259756445884705\n",
      "[Val] LOSS : 0.1197139248251915\n",
      "[10/100] LOSS : 0.2076997011899948\n",
      "[Val] LOSS : 0.22629870474338531\n",
      "[11/100] LOSS : 0.10622254759073257\n",
      "[Val] LOSS : 0.3310014009475708\n",
      "[12/100] LOSS : 0.14594291150569916\n",
      "[Val] LOSS : 0.29840049147605896\n",
      "[13/100] LOSS : 0.21966241300106049\n",
      "[Val] LOSS : 0.17227929830551147\n",
      "[14/100] LOSS : 0.20080523192882538\n",
      "[Val] LOSS : 0.08514362573623657\n",
      "[15/100] LOSS : 0.11948293447494507\n",
      "[Val] LOSS : 0.08741182833909988\n",
      "[16/100] LOSS : 0.08483162522315979\n",
      "[Val] LOSS : 0.11298007518053055\n",
      "[17/100] LOSS : 0.1268869787454605\n",
      "[Val] LOSS : 0.1002783477306366\n",
      "[18/100] LOSS : 0.1693085879087448\n",
      "[Val] LOSS : 0.07641275227069855\n",
      "[19/100] LOSS : 0.15068411827087402\n",
      "[Val] LOSS : 0.09621244668960571\n",
      "[20/100] LOSS : 0.10446575284004211\n",
      "[Val] LOSS : 0.1510496288537979\n",
      "[21/100] LOSS : 0.09547653794288635\n",
      "[Val] LOSS : 0.17757725715637207\n",
      "[22/100] LOSS : 0.12735722959041595\n",
      "[Val] LOSS : 0.14658330380916595\n",
      "[23/100] LOSS : 0.14677582681179047\n",
      "[Val] LOSS : 0.09672724455595016\n",
      "[24/100] LOSS : 0.12657947838306427\n",
      "[Val] LOSS : 0.07518962025642395\n",
      "[25/100] LOSS : 0.09888667613267899\n",
      "[Val] LOSS : 0.08031471073627472\n",
      "[26/100] LOSS : 0.10033098608255386\n",
      "[Val] LOSS : 0.0812685638666153\n",
      "[27/100] LOSS : 0.12006929516792297\n",
      "[Val] LOSS : 0.07286912202835083\n",
      "[28/100] LOSS : 0.12249663472175598\n",
      "[Val] LOSS : 0.07842006534337997\n",
      "[29/100] LOSS : 0.10255128145217896\n",
      "[Val] LOSS : 0.10496082156896591\n",
      "[30/100] LOSS : 0.08811952918767929\n",
      "[Val] LOSS : 0.1259414106607437\n",
      "[31/100] LOSS : 0.09441118687391281\n",
      "[Val] LOSS : 0.11757117509841919\n",
      "[32/100] LOSS : 0.1036742702126503\n",
      "[Val] LOSS : 0.09057586640119553\n",
      "[33/100] LOSS : 0.09679430723190308\n",
      "[Val] LOSS : 0.07130622118711472\n",
      "[34/100] LOSS : 0.08232947438955307\n",
      "[Val] LOSS : 0.06706491112709045\n",
      "[35/100] LOSS : 0.07925749570131302\n",
      "[Val] LOSS : 0.06702261418104172\n",
      "[36/100] LOSS : 0.08649616688489914\n",
      "[Val] LOSS : 0.0681345984339714\n",
      "[37/100] LOSS : 0.08766800165176392\n",
      "[Val] LOSS : 0.07890734076499939\n",
      "[38/100] LOSS : 0.07900979369878769\n",
      "[Val] LOSS : 0.0982232391834259\n",
      "[39/100] LOSS : 0.07326944917440414\n",
      "[Val] LOSS : 0.10952401161193848\n",
      "[40/100] LOSS : 0.07690604776144028\n",
      "[Val] LOSS : 0.10222163051366806\n",
      "[41/100] LOSS : 0.08068808168172836\n",
      "[Val] LOSS : 0.08543350547552109\n",
      "[42/100] LOSS : 0.07697834819555283\n",
      "[Val] LOSS : 0.07368063181638718\n",
      "[43/100] LOSS : 0.07184659689664841\n",
      "[Val] LOSS : 0.07002705335617065\n",
      "[44/100] LOSS : 0.07286985218524933\n",
      "[Val] LOSS : 0.07071896642446518\n",
      "[45/100] LOSS : 0.07629168778657913\n",
      "[Val] LOSS : 0.07632366567850113\n",
      "[46/100] LOSS : 0.07502216100692749\n",
      "[Val] LOSS : 0.08776494860649109\n",
      "[47/100] LOSS : 0.07106057554483414\n",
      "[Val] LOSS : 0.0977661982178688\n",
      "[48/100] LOSS : 0.07061152905225754\n",
      "[Val] LOSS : 0.09706664085388184\n",
      "[49/100] LOSS : 0.0727783665060997\n",
      "[Val] LOSS : 0.08660735934972763\n",
      "[50/100] LOSS : 0.07223082333803177\n",
      "[Val] LOSS : 0.07552220672369003\n",
      "[51/100] LOSS : 0.06918450444936752\n",
      "[Val] LOSS : 0.06952865421772003\n",
      "[52/100] LOSS : 0.06813541054725647\n",
      "[Val] LOSS : 0.0682472214102745\n",
      "[53/100] LOSS : 0.06925022602081299\n",
      "[Val] LOSS : 0.0710393562912941\n",
      "[54/100] LOSS : 0.06878912448883057\n",
      "[Val] LOSS : 0.07748620957136154\n",
      "[55/100] LOSS : 0.06646328419446945\n",
      "[Val] LOSS : 0.0832463800907135\n",
      "[56/100] LOSS : 0.06541476398706436\n",
      "[Val] LOSS : 0.08266044408082962\n",
      "[57/100] LOSS : 0.06596565991640091\n",
      "[Val] LOSS : 0.0757860615849495\n",
      "[58/100] LOSS : 0.06550515443086624\n",
      "[Val] LOSS : 0.0680151954293251\n",
      "[59/100] LOSS : 0.06379538029432297\n",
      "[Val] LOSS : 0.0633993074297905\n",
      "[60/100] LOSS : 0.06302861124277115\n",
      "[Val] LOSS : 0.06242245435714722\n",
      "[61/100] LOSS : 0.0633317157626152\n",
      "[Val] LOSS : 0.0646747276186943\n",
      "[62/100] LOSS : 0.06286551803350449\n",
      "[Val] LOSS : 0.06901244819164276\n",
      "[63/100] LOSS : 0.06162674352526665\n",
      "[Val] LOSS : 0.07206364721059799\n",
      "[64/100] LOSS : 0.061139773577451706\n",
      "[Val] LOSS : 0.07074709981679916\n",
      "[65/100] LOSS : 0.061267953366041183\n",
      "[Val] LOSS : 0.06595287472009659\n",
      "[66/100] LOSS : 0.06074279546737671\n",
      "[Val] LOSS : 0.061202410608530045\n",
      "[67/100] LOSS : 0.05980594828724861\n",
      "[Val] LOSS : 0.05878835543990135\n",
      "[68/100] LOSS : 0.05947428569197655\n",
      "[Val] LOSS : 0.05906574800610542\n",
      "[69/100] LOSS : 0.05940339341759682\n",
      "[Val] LOSS : 0.061553459614515305\n",
      "[70/100] LOSS : 0.058792054653167725\n",
      "[Val] LOSS : 0.0645972341299057\n",
      "[71/100] LOSS : 0.058049608021974564\n",
      "[Val] LOSS : 0.06562919169664383\n",
      "[72/100] LOSS : 0.05777178332209587\n",
      "[Val] LOSS : 0.06361212581396103\n",
      "[73/100] LOSS : 0.05751180648803711\n",
      "[Val] LOSS : 0.0601738840341568\n",
      "[74/100] LOSS : 0.05686334893107414\n",
      "[Val] LOSS : 0.05761398747563362\n",
      "[75/100] LOSS : 0.05628350377082825\n",
      "[Val] LOSS : 0.057026926428079605\n",
      "[76/100] LOSS : 0.05601503327488899\n",
      "[Val] LOSS : 0.05836622789502144\n",
      "[77/100] LOSS : 0.05562767758965492\n",
      "[Val] LOSS : 0.060661401599645615\n",
      "[78/100] LOSS : 0.05502578988671303\n",
      "[Val] LOSS : 0.06211548671126366\n",
      "[79/100] LOSS : 0.05459253862500191\n",
      "[Val] LOSS : 0.06143523380160332\n",
      "[80/100] LOSS : 0.05430969223380089\n",
      "[Val] LOSS : 0.059157419949769974\n",
      "[81/100] LOSS : 0.053865641355514526\n",
      "[Val] LOSS : 0.056951601058244705\n",
      "[82/100] LOSS : 0.05336310341954231\n",
      "[Val] LOSS : 0.05603773519396782\n",
      "[83/100] LOSS : 0.05302929878234863\n",
      "[Val] LOSS : 0.056647513061761856\n",
      "[84/100] LOSS : 0.05270913615822792\n",
      "[Val] LOSS : 0.05814535915851593\n",
      "[85/100] LOSS : 0.0522613488137722\n",
      "[Val] LOSS : 0.05924232676625252\n",
      "[86/100] LOSS : 0.05185793712735176\n",
      "[Val] LOSS : 0.05887115001678467\n",
      "[87/100] LOSS : 0.05155648663640022\n",
      "[Val] LOSS : 0.057192157953977585\n",
      "[88/100] LOSS : 0.051193367689847946\n",
      "[Val] LOSS : 0.05535208061337471\n",
      "[89/100] LOSS : 0.05077753961086273\n",
      "[Val] LOSS : 0.054375652223825455\n",
      "[90/100] LOSS : 0.05044006183743477\n",
      "[Val] LOSS : 0.05454792082309723\n",
      "[91/100] LOSS : 0.05012404918670654\n",
      "[Val] LOSS : 0.0554068386554718\n",
      "[92/100] LOSS : 0.04974306747317314\n",
      "[Val] LOSS : 0.05599796772003174\n",
      "[93/100] LOSS : 0.04937833547592163\n",
      "[Val] LOSS : 0.05555468425154686\n",
      "[94/100] LOSS : 0.04906897619366646\n",
      "[Val] LOSS : 0.054187219589948654\n",
      "[95/100] LOSS : 0.048732463270425797\n",
      "[Val] LOSS : 0.05271846428513527\n",
      "[96/100] LOSS : 0.048372071236371994\n",
      "[Val] LOSS : 0.05190662667155266\n",
      "[97/100] LOSS : 0.048055101186037064\n",
      "[Val] LOSS : 0.051949724555015564\n",
      "[98/100] LOSS : 0.04774968698620796\n",
      "[Val] LOSS : 0.05245235562324524\n",
      "[99/100] LOSS : 0.047415051609277725\n"
     ]
    }
   ],
   "source": [
    "# 모델 학습 진행\n",
    "loss = training(X_train,y_train,X_val,y_val)"
   ]
  },
  {
   "cell_type": "code",
   "execution_count": 461,
   "metadata": {},
   "outputs": [
    {
     "data": {
      "text/plain": [
       "[[0.6023434996604919,\n",
       "  1.2888065576553345,\n",
       "  0.5389247536659241,\n",
       "  0.4006403982639313,\n",
       "  0.6827318668365479,\n",
       "  0.5439260601997375,\n",
       "  0.2542695999145508,\n",
       "  0.21212221682071686,\n",
       "  0.3463667333126068,\n",
       "  0.35259756445884705,\n",
       "  0.2076997011899948,\n",
       "  0.10622254759073257,\n",
       "  0.14594291150569916,\n",
       "  0.21966241300106049,\n",
       "  0.20080523192882538,\n",
       "  0.11948293447494507,\n",
       "  0.08483162522315979,\n",
       "  0.1268869787454605,\n",
       "  0.1693085879087448,\n",
       "  0.15068411827087402,\n",
       "  0.10446575284004211,\n",
       "  0.09547653794288635,\n",
       "  0.12735722959041595,\n",
       "  0.14677582681179047,\n",
       "  0.12657947838306427,\n",
       "  0.09888667613267899,\n",
       "  0.10033098608255386,\n",
       "  0.12006929516792297,\n",
       "  0.12249663472175598,\n",
       "  0.10255128145217896,\n",
       "  0.08811952918767929,\n",
       "  0.09441118687391281,\n",
       "  0.1036742702126503,\n",
       "  0.09679430723190308,\n",
       "  0.08232947438955307,\n",
       "  0.07925749570131302,\n",
       "  0.08649616688489914,\n",
       "  0.08766800165176392,\n",
       "  0.07900979369878769,\n",
       "  0.07326944917440414,\n",
       "  0.07690604776144028,\n",
       "  0.08068808168172836,\n",
       "  0.07697834819555283,\n",
       "  0.07184659689664841,\n",
       "  0.07286985218524933,\n",
       "  0.07629168778657913,\n",
       "  0.07502216100692749,\n",
       "  0.07106057554483414,\n",
       "  0.07061152905225754,\n",
       "  0.0727783665060997,\n",
       "  0.07223082333803177,\n",
       "  0.06918450444936752,\n",
       "  0.06813541054725647,\n",
       "  0.06925022602081299,\n",
       "  0.06878912448883057,\n",
       "  0.06646328419446945,\n",
       "  0.06541476398706436,\n",
       "  0.06596565991640091,\n",
       "  0.06550515443086624,\n",
       "  0.06379538029432297,\n",
       "  0.06302861124277115,\n",
       "  0.0633317157626152,\n",
       "  0.06286551803350449,\n",
       "  0.06162674352526665,\n",
       "  0.061139773577451706,\n",
       "  0.061267953366041183,\n",
       "  0.06074279546737671,\n",
       "  0.05980594828724861,\n",
       "  0.05947428569197655,\n",
       "  0.05940339341759682,\n",
       "  0.058792054653167725,\n",
       "  0.058049608021974564,\n",
       "  0.05777178332209587,\n",
       "  0.05751180648803711,\n",
       "  0.05686334893107414,\n",
       "  0.05628350377082825,\n",
       "  0.05601503327488899,\n",
       "  0.05562767758965492,\n",
       "  0.05502578988671303,\n",
       "  0.05459253862500191,\n",
       "  0.05430969223380089,\n",
       "  0.053865641355514526,\n",
       "  0.05336310341954231,\n",
       "  0.05302929878234863,\n",
       "  0.05270913615822792,\n",
       "  0.0522613488137722,\n",
       "  0.05185793712735176,\n",
       "  0.05155648663640022,\n",
       "  0.051193367689847946,\n",
       "  0.05077753961086273,\n",
       "  0.05044006183743477,\n",
       "  0.05012404918670654,\n",
       "  0.04974306747317314,\n",
       "  0.04937833547592163,\n",
       "  0.04906897619366646,\n",
       "  0.048732463270425797,\n",
       "  0.048372071236371994,\n",
       "  0.048055101186037064,\n",
       "  0.04774968698620796,\n",
       "  0.047415051609277725],\n",
       " [0.9134621024131775,\n",
       "  0.3826148808002472,\n",
       "  0.5390672087669373,\n",
       "  0.9739119410514832,\n",
       "  0.7902092933654785,\n",
       "  0.36110588908195496,\n",
       "  0.17990504205226898,\n",
       "  0.2369699627161026,\n",
       "  0.24086415767669678,\n",
       "  0.1466463804244995,\n",
       "  0.1197139248251915,\n",
       "  0.22629870474338531,\n",
       "  0.3310014009475708,\n",
       "  0.29840049147605896,\n",
       "  0.17227929830551147,\n",
       "  0.08514362573623657,\n",
       "  0.08741182833909988,\n",
       "  0.11298007518053055,\n",
       "  0.1002783477306366,\n",
       "  0.07641275227069855,\n",
       "  0.09621244668960571,\n",
       "  0.1510496288537979,\n",
       "  0.17757725715637207,\n",
       "  0.14658330380916595,\n",
       "  0.09672724455595016,\n",
       "  0.07518962025642395,\n",
       "  0.08031471073627472,\n",
       "  0.0812685638666153,\n",
       "  0.07286912202835083,\n",
       "  0.07842006534337997,\n",
       "  0.10496082156896591,\n",
       "  0.1259414106607437,\n",
       "  0.11757117509841919,\n",
       "  0.09057586640119553,\n",
       "  0.07130622118711472,\n",
       "  0.06706491112709045,\n",
       "  0.06702261418104172,\n",
       "  0.0681345984339714,\n",
       "  0.07890734076499939,\n",
       "  0.0982232391834259,\n",
       "  0.10952401161193848,\n",
       "  0.10222163051366806,\n",
       "  0.08543350547552109,\n",
       "  0.07368063181638718,\n",
       "  0.07002705335617065,\n",
       "  0.07071896642446518,\n",
       "  0.07632366567850113,\n",
       "  0.08776494860649109,\n",
       "  0.0977661982178688,\n",
       "  0.09706664085388184,\n",
       "  0.08660735934972763,\n",
       "  0.07552220672369003,\n",
       "  0.06952865421772003,\n",
       "  0.0682472214102745,\n",
       "  0.0710393562912941,\n",
       "  0.07748620957136154,\n",
       "  0.0832463800907135,\n",
       "  0.08266044408082962,\n",
       "  0.0757860615849495,\n",
       "  0.0680151954293251,\n",
       "  0.0633993074297905,\n",
       "  0.06242245435714722,\n",
       "  0.0646747276186943,\n",
       "  0.06901244819164276,\n",
       "  0.07206364721059799,\n",
       "  0.07074709981679916,\n",
       "  0.06595287472009659,\n",
       "  0.061202410608530045,\n",
       "  0.05878835543990135,\n",
       "  0.05906574800610542,\n",
       "  0.061553459614515305,\n",
       "  0.0645972341299057,\n",
       "  0.06562919169664383,\n",
       "  0.06361212581396103,\n",
       "  0.0601738840341568,\n",
       "  0.05761398747563362,\n",
       "  0.057026926428079605,\n",
       "  0.05836622789502144,\n",
       "  0.060661401599645615,\n",
       "  0.06211548671126366,\n",
       "  0.06143523380160332,\n",
       "  0.059157419949769974,\n",
       "  0.056951601058244705,\n",
       "  0.05603773519396782,\n",
       "  0.056647513061761856,\n",
       "  0.05814535915851593,\n",
       "  0.05924232676625252,\n",
       "  0.05887115001678467,\n",
       "  0.057192157953977585,\n",
       "  0.05535208061337471,\n",
       "  0.054375652223825455,\n",
       "  0.05454792082309723,\n",
       "  0.0554068386554718,\n",
       "  0.05599796772003174,\n",
       "  0.05555468425154686,\n",
       "  0.054187219589948654,\n",
       "  0.05271846428513527,\n",
       "  0.05190662667155266,\n",
       "  0.051949724555015564,\n",
       "  0.05245235562324524]]"
      ]
     },
     "execution_count": 461,
     "metadata": {},
     "output_type": "execute_result"
    }
   ],
   "source": [
    "loss"
   ]
  },
  {
   "cell_type": "code",
   "execution_count": 462,
   "metadata": {},
   "outputs": [
    {
     "data": {
      "image/png": "[encoded data removed]",
      "text/plain": [
       "<Figure size 640x480 with 1 Axes>"
      ]
     },
     "metadata": {},
     "output_type": "display_data"
    }
   ],
   "source": [
    "# 학습 후 loss 시각화\n",
    "import matplotlib.pyplot as plt\n",
    "\n",
    "plt.plot(range(1,101),loss[0], label='Train')\n",
    "plt.plot(range(1,101),loss[1], label='Val')\n",
    "plt.title('Train & Valid')\n",
    "plt.grid()\n",
    "plt.xlabel('Epoch')\n",
    "plt.ylabel('Loss')\n",
    "plt.legend()\n",
    "plt.show()"
   ]
  },
  {
   "cell_type": "code",
   "execution_count": null,
   "metadata": {},
   "outputs": [],
   "source": []
  }
 ],
 "metadata": {
  "kernelspec": {
   "display_name": "TORCH_38",
   "language": "python",
   "name": "python3"
  },
  "language_info": {
   "codemirror_mode": {
    "name": "ipython",
    "version": 3
   },
   "file_extension": ".py",
   "mimetype": "text/x-python",
   "name": "python",
   "nbconvert_exporter": "python",
   "pygments_lexer": "ipython3",
   "version": "3.8.19"
  }
 },
 "nbformat": 4,
 "nbformat_minor": 2
}
