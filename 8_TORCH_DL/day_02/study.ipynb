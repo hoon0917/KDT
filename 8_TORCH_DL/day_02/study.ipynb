{
 "cells": [
  {
   "cell_type": "markdown",
   "metadata": {},
   "source": [
    "### Pytorch 순서\n",
    " - 1. 데이터\n",
    " - 2. Dataset 형태 변환\n",
    " - 3. Dataloader"
   ]
  }
 ],
 "metadata": {
  "kernelspec": {
   "display_name": "TORCH_38",
   "language": "python",
   "name": "python3"
  },
  "language_info": {
   "name": "python",
   "version": "3.8.19"
  }
 },
 "nbformat": 4,
 "nbformat_minor": 2
}
