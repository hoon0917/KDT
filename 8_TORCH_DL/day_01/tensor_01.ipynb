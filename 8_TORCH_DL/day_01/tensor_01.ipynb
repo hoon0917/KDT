{
 "cells": [
  {
   "cell_type": "markdown",
   "metadata": {},
   "source": [
    "#### Tensor 이해 - 생성\n",
    "- Trensor란? pytorch에서 데이터를 저장하는 객체\n",
    "  * pytorch에서 데이터를 저장하는 객체\n",
    "  * 모델에 입력/출력 데이터 형태"
   ]
  },
  {
   "cell_type": "code",
   "execution_count": 1,
   "metadata": {},
   "outputs": [
    {
     "name": "stdout",
     "output_type": "stream",
     "text": [
      "torch.v : 2.4.1\n"
     ]
    }
   ],
   "source": [
    "import torch\n",
    "\n",
    "print(f'torch.v : {torch.__version__}')"
   ]
  },
  {
   "cell_type": "code",
   "execution_count": 2,
   "metadata": {},
   "outputs": [],
   "source": [
    "'''\n",
    "함수기능 : 텐서 속성 정보 출력 함수\n",
    "'''\n",
    "\n",
    "def printinfo(obj,obj_name):\n",
    "    print(f'\\n[{obj_name}]')\n",
    "    print(f'shape : {obj.shape}')\n",
    "    print(f'dim {obj.ndim}차원')\n",
    "    print(f'dtype : {obj.dtype}')\n",
    "    print(f'device : {obj.device}')\n",
    "    print(f'data : \\n{obj.data}')"
   ]
  },
  {
   "cell_type": "markdown",
   "metadata": {},
   "source": [
    " - 텐서생성[1]torch.tensor()"
   ]
  },
  {
   "cell_type": "code",
   "execution_count": 5,
   "metadata": {},
   "outputs": [
    {
     "name": "stdout",
     "output_type": "stream",
     "text": [
      "\n",
      "[dataTF]\n",
      "shape : torch.Size([])\n",
      "dim 0차원\n",
      "dtype : torch.int64\n",
      "device : cpu\n",
      "data : \n",
      "10\n",
      "\n",
      "[dataTF]\n",
      "shape : torch.Size([])\n",
      "dim 0차원\n",
      "dtype : torch.uint8\n",
      "device : cpu\n",
      "data : \n",
      "10\n"
     ]
    }
   ],
   "source": [
    "## 데이터 1개(스칼라 생성)\n",
    "dataTF = torch.tensor(10)\n",
    "printinfo(dataTF,'dataTF')\n",
    "\n",
    "dataTF = torch.tensor(10, dtype=torch.uint8)\n",
    "printinfo(dataTF,'dataTF')"
   ]
  },
  {
   "cell_type": "code",
   "execution_count": 18,
   "metadata": {},
   "outputs": [
    {
     "name": "stdout",
     "output_type": "stream",
     "text": [
      "\n",
      "[dataTF]\n",
      "shape : torch.Size([1, 1, 1, 1])\n",
      "dim 4차원\n",
      "dtype : torch.int64\n",
      "device : cpu\n",
      "data : \n",
      "tensor([[[[10]]]])\n",
      "\n",
      "[dataTF]\n",
      "shape : torch.Size([1, 1, 2, 1])\n",
      "dim 4차원\n",
      "dtype : torch.int64\n",
      "device : cpu\n",
      "data : \n",
      "tensor([[[[10],\n",
      "          [20]]]])\n"
     ]
    }
   ],
   "source": [
    "## 데이터 1개(벡터 생성(1D))\n",
    "dataTF = torch.tensor([[[[10]]]])\n",
    "## []괄호의 숫자가 차원 수\n",
    "\n",
    "printinfo(dataTF,'dataTF')\n",
    "\n",
    "dataTF = torch.tensor([[[[10],[20]]]])\n",
    "printinfo(dataTF,'dataTF')"
   ]
  },
  {
   "cell_type": "markdown",
   "metadata": {},
   "source": [
    "[dataTF]    \n",
    "                   0축1축2축3축  \n",
    "                    ↓  ↓  ↓  ↓  \n",
    "shape : torch.Size([1, 1, 2, 1])  \n",
    "                    ↑  ↑  ↑  ↑  \n",
    "                    4D 3D 2행 1열    \n",
    "dim 4차원  \n",
    "dtype : torch.int64  \n",
    "device : cpu  \n",
    "data :   \n",
    "tensor([[[[10],  \n",
    "          [20]]]])  "
   ]
  },
  {
   "cell_type": "code",
   "execution_count": null,
   "metadata": {},
   "outputs": [],
   "source": []
  }
 ],
 "metadata": {
  "kernelspec": {
   "display_name": "ML_38",
   "language": "python",
   "name": "python3"
  },
  "language_info": {
   "codemirror_mode": {
    "name": "ipython",
    "version": 3
   },
   "file_extension": ".py",
   "mimetype": "text/x-python",
   "name": "python",
   "nbconvert_exporter": "python",
   "pygments_lexer": "ipython3",
   "version": "3.8.19"
  }
 },
 "nbformat": 4,
 "nbformat_minor": 2
}
