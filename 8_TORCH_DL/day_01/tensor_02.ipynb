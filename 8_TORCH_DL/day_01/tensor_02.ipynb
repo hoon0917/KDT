{
  "cells": [
    {
      "cell_type": "markdown",
      "metadata": {
        "id": "4fu0Fp3Pinob"
      },
      "source": [
        "#### Tensor 이해"
      ]
    },
    {
      "cell_type": "code",
      "execution_count": null,
      "metadata": {
        "id": "FMkkRy54inod"
      },
      "outputs": [],
      "source": [
        "### 모듈 로딩\n",
        "import torch"
      ]
    },
    {
      "cell_type": "markdown",
      "metadata": {
        "id": "dsOKsWFXinoe"
      },
      "source": [
        "- Tensor생성 [2] torch.rand()  "
      ]
    },
    {
      "cell_type": "code",
      "execution_count": null,
      "metadata": {
        "id": "VoG6gOe2inoe"
      },
      "outputs": [],
      "source": [
        "# 0<= ~<1 범위의 임의의 숫자 1개 추출 => rand(*size)\n",
        "# rand(*size) : 가변인자 ==> 몇 차원일지 알 수 없음!\n",
        "torch.manual_seed(1)\n",
        "\n",
        "dataTS1=torch.rand(3)           # 1D Vector\n",
        "dataTS2=torch.rand(2,3)         # 2D Maxtrix\n",
        "dataTS3=torch.rand(2,1,3)       # 3D 3D Tensor"
      ]
    },
    {
      "cell_type": "code",
      "execution_count": null,
      "metadata": {
        "id": "Pv9CXR5Einof",
        "outputId": "4ff82e90-6015-490c-b5d3-4ec0b28fd013"
      },
      "outputs": [
        {
          "name": "stdout",
          "output_type": "stream",
          "text": [
            "tensor([0.7576, 0.2793, 0.4031])\n",
            "tensor([[0.7347, 0.0293, 0.7999],\n",
            "        [0.3971, 0.7544, 0.5695]])\n",
            "tensor([[[0.4388, 0.6387, 0.5247]],\n",
            "\n",
            "        [[0.6826, 0.3051, 0.4635]]])\n"
          ]
        }
      ],
      "source": [
        "print(dataTS1, dataTS2, dataTS3, sep='\\n')"
      ]
    },
    {
      "cell_type": "markdown",
      "metadata": {
        "id": "ChoHKqACinof"
      },
      "source": [
        "- Tensor생성 [3] torch.randn()"
      ]
    },
    {
      "cell_type": "code",
      "execution_count": null,
      "metadata": {
        "id": "3ysVIR9kinog",
        "outputId": "24fc22ef-96e3-4706-9d8b-2768b0e03d8a"
      },
      "outputs": [
        {
          "name": "stdout",
          "output_type": "stream",
          "text": [
            "tensor([ 2.0731, -1.9578,  2.8238])\n",
            "tensor([[ 0.2384, -0.6317,  1.3790],\n",
            "        [ 0.6429, -0.4019,  2.5451]])\n",
            "tensor([[[ 0.0080,  1.2720,  0.9502]],\n",
            "\n",
            "        [[ 0.1889, -0.7525, -0.1523]]])\n"
          ]
        }
      ],
      "source": [
        "dataTS1=torch.randn(3)           # 1D Vector\n",
        "dataTS2=torch.randn(2,3)         # 2D Maxtrix\n",
        "dataTS3=torch.randn(2,1,3)       # 3D 3D Tensor\n",
        "\n",
        "print(dataTS1, dataTS2, dataTS3, sep='\\n')"
      ]
    },
    {
      "cell_type": "markdown",
      "metadata": {
        "id": "t5YDS2lLinog"
      },
      "source": [
        "- Tensor생성[3]torch.randint()"
      ]
    },
    {
      "cell_type": "code",
      "execution_count": null,
      "metadata": {
        "id": "S9t49EnNinog",
        "outputId": "0cd2e35b-6165-4a62-80b6-f38800fe3fbe"
      },
      "outputs": [
        {
          "data": {
            "text/plain": [
              "tensor([38, 22, 25, 27,  4, 40])"
            ]
          },
          "execution_count": 19,
          "metadata": {},
          "output_type": "execute_result"
        }
      ],
      "source": [
        "# 1D Vector\n",
        "dataTS1=torch.randint(1,46,(6,))\n",
        "dataTS1"
      ]
    },
    {
      "cell_type": "code",
      "execution_count": null,
      "metadata": {
        "id": "RhEWW5oainog",
        "outputId": "99e39bbe-e906-4bde-fdd5-52e44fdf9edd"
      },
      "outputs": [
        {
          "data": {
            "text/plain": [
              "tensor([[ 4, 19, 36, 40, 44, 15],\n",
              "        [40, 40, 29,  1, 19, 35],\n",
              "        [42,  1, 36, 24, 25, 42],\n",
              "        [ 6, 25, 22, 30,  9, 37]])"
            ]
          },
          "execution_count": 22,
          "metadata": {},
          "output_type": "execute_result"
        }
      ],
      "source": [
        "# 2D Vector\n",
        "dataTS1=torch.randint(1,46,(4, 6))\n",
        "dataTS1"
      ]
    }
  ],
  "metadata": {
    "colab": {
      "provenance": []
    },
    "kernelspec": {
      "display_name": "TORCH_38",
      "language": "python",
      "name": "python3"
    },
    "language_info": {
      "codemirror_mode": {
        "name": "ipython",
        "version": 3
      },
      "file_extension": ".py",
      "mimetype": "text/x-python",
      "name": "python",
      "nbconvert_exporter": "python",
      "pygments_lexer": "ipython3",
      "version": "3.8.19"
    }
  },
  "nbformat": 4,
  "nbformat_minor": 0
}
