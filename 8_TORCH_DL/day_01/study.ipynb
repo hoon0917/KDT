{
 "cells": [
  {
   "cell_type": "markdown",
   "metadata": {},
   "source": [
    "정수 int ==> 크기 다양함    \n",
    "byte => 8비트 => 256개  \n",
    "- 부호(-/+) : -128 ~ 0 ~ 127\n",
    "- 부호 X  : 0 ~ 255   ====> 이미지데이터 픽셀 색상값  \n",
    "\n",
    "short => 16비트 => -215 ~ + 215-1  ==> int16/uint16   \n",
    "int  => 32비트  => int32/uint32  \n",
    "long int => 64비트  => int64/uint64  "
   ]
  },
  {
   "cell_type": "markdown",
   "metadata": {},
   "source": [
    "기본 데이터 타입 => 숫자,글자 ==> int,float,char,bool    \n",
    " - C/C++/C#/Java ==> 스택에 저장\n",
    " - python ==> 힙(클래스 기반 객체)에 저장\n",
    "\n",
    "\n",
    "확장 데이터 타입 => 여러개의 기본 데이터 타입 모여서 하나의 데이터 표현 [sting]  \n",
    "C => 구조체  \n",
    "java외 OOP => 구조체+함수 => 클래스\n",
    " - C/C++C#/Python ==> 힙(클래스 기반 객체)에 저장"
   ]
  },
  {
   "cell_type": "code",
   "execution_count": 3,
   "metadata": {},
   "outputs": [
    {
     "name": "stdout",
     "output_type": "stream",
     "text": [
      "torch.v : 2.4.1\n"
     ]
    }
   ],
   "source": []
  },
  {
   "cell_type": "code",
   "execution_count": 2,
   "metadata": {},
   "outputs": [],
   "source": []
  },
  {
   "cell_type": "code",
   "execution_count": null,
   "metadata": {},
   "outputs": [],
   "source": []
  }
 ],
 "metadata": {
  "kernelspec": {
   "display_name": "TORCH_38",
   "language": "python",
   "name": "python3"
  },
  "language_info": {
   "codemirror_mode": {
    "name": "ipython",
    "version": 3
   },
   "file_extension": ".py",
   "mimetype": "text/x-python",
   "name": "python",
   "nbconvert_exporter": "python",
   "pygments_lexer": "ipython3",
   "version": "3.8.19"
  }
 },
 "nbformat": 4,
 "nbformat_minor": 2
}
