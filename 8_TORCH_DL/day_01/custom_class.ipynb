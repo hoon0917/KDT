{
 "cells": [
  {
   "cell_type": "markdown",
   "metadata": {},
   "source": [
    "사용자 정의 클래스와 상속"
   ]
  },
  {
   "cell_type": "markdown",
   "metadata": {},
   "source": [
    " - 사용자 정의 클래스 : 개발자 필요에 의해서 생성한 클래스"
   ]
  },
  {
   "cell_type": "code",
   "execution_count": 38,
   "metadata": {},
   "outputs": [],
   "source": [
    "#  ---------------------------------------------------------\n",
    "# 저장데이터 : 사람 정보 저장 클래스\n",
    "# 클래스이름 : person\n",
    "# 클래스속성 : name, age, gender\n",
    "# 클래스 기능 : eat, sleep()\n",
    "#  ---------------------------------------------------------\n",
    "class person :\n",
    "    # 클래스 변수/속성(공통으로 사용하는 속성) : 객체/인스턴스 생성 없이 사용 가능\n",
    "    born = '대한민국'\n",
    "    \n",
    "    # 인스턴스 생성해주는 메서드\n",
    "    # 인스턴스 생성 시 자동 호출 => 콜백 메서드\n",
    "    def __init__(self,name,age,gender) :\n",
    "        print('__init__()')\n",
    "        self.name = name\n",
    "        self.age = age\n",
    "        self.gender = gender\n",
    "   \n",
    "    \n",
    "    # 인스턴스 메서드\n",
    "    def eat(self, food) :\n",
    "        print(f'{self.name}가 {food} 먹는다.')\n",
    "\n",
    "    def sleep(self, where) :\n",
    "        print(f'{where}에서 잔다')\n",
    "\n",
    "    # zmffotm aptjem\n",
    "    @staticmethod\n",
    "    def test(msg):\n",
    "        print(msg)"
   ]
  },
  {
   "cell_type": "code",
   "execution_count": 39,
   "metadata": {},
   "outputs": [
    {
     "name": "stdout",
     "output_type": "stream",
     "text": [
      "__init__()\n"
     ]
    }
   ],
   "source": [
    "# 인스턴스/객체 생성\n",
    "kim = person('마징가',10,'남자')"
   ]
  },
  {
   "cell_type": "code",
   "execution_count": 40,
   "metadata": {},
   "outputs": [
    {
     "data": {
      "text/plain": [
       "'대한민국'"
      ]
     },
     "execution_count": 40,
     "metadata": {},
     "output_type": "execute_result"
    }
   ],
   "source": [
    "# 클래스 속성 : 객체/인스턴스 생성 없이 바로 사용 가능\n",
    "person.born"
   ]
  },
  {
   "cell_type": "code",
   "execution_count": 41,
   "metadata": {},
   "outputs": [
    {
     "data": {
      "text/plain": [
       "10"
      ]
     },
     "execution_count": 41,
     "metadata": {},
     "output_type": "execute_result"
    }
   ],
   "source": [
    "# 인스턴스 속성 : 객체/인스턴스 생성 없이 사용 불가\n",
    "kim.age"
   ]
  },
  {
   "cell_type": "code",
   "execution_count": 42,
   "metadata": {},
   "outputs": [
    {
     "name": "stdout",
     "output_type": "stream",
     "text": [
      "방에서 잔다\n"
     ]
    }
   ],
   "source": [
    "kim.sleep('방')"
   ]
  },
  {
   "cell_type": "markdown",
   "metadata": {},
   "source": [
    " - 상속(Inheritance) \n",
    "   * 기존 클래스의 속성과 메서드 재사용\n",
    "   * 추가 속성 및 메서드로 확장"
   ]
  },
  {
   "cell_type": "code",
   "execution_count": 43,
   "metadata": {},
   "outputs": [],
   "source": [
    "#  ---------------------------------------------------------\n",
    "# 저장데이터 : 소방관 정보 저장 클래스\n",
    "# 클래스이름 : firafighter      <= 자식 클래스, sub class\n",
    "# 클래스속성 : name, age, gender, group, position\n",
    "# 클래스 기능 : eat(), sleep(), extinguish()\n",
    "# 부모 클래스 : person          <= Super class\n",
    "#  ---------------------------------------------------------\n",
    "class firefighter(person):\n",
    "    \n",
    "    # 인스턴스 생성 메서드\n",
    "    def __init__(self, name, age, gender, group, position):\n",
    "        # 부모/Super 클래스 생성\n",
    "        super().__init__(name, age, gender )\n",
    "        # 자식/sub 클래스 생성\n",
    "        self.group = group\n",
    "        self.position = position\n",
    "\n",
    "    # 인스턴스 메서드\n",
    "    def extinguish(self,where):\n",
    "        print(f'{self.name}는 {where}에서 불을 껐다')\n",
    "\n",
    "    # 오버라이딩(Overriding)\n",
    "    # 부모클래스로부터 상속받은 메서드 중에서 변경하고 싶은 경우\n",
    "    # 구현부만 변경\n",
    "    def eat(self, food):\n",
    "        print(f'{self.name}이 {food}를 먹는다')"
   ]
  },
  {
   "cell_type": "code",
   "execution_count": 44,
   "metadata": {},
   "outputs": [
    {
     "name": "stdout",
     "output_type": "stream",
     "text": [
      "__init__()\n"
     ]
    }
   ],
   "source": [
    "park = firefighter('최정희',10,'중성','달서소방서','소방교')"
   ]
  },
  {
   "cell_type": "code",
   "execution_count": 45,
   "metadata": {},
   "outputs": [
    {
     "data": {
      "text/plain": [
       "'소방교'"
      ]
     },
     "execution_count": 45,
     "metadata": {},
     "output_type": "execute_result"
    }
   ],
   "source": [
    "park.position"
   ]
  },
  {
   "cell_type": "code",
   "execution_count": 46,
   "metadata": {},
   "outputs": [
    {
     "name": "stdout",
     "output_type": "stream",
     "text": [
      "최정희은 앞산 화재 현장에서 불을 껐다\n"
     ]
    }
   ],
   "source": [
    "park.extinguish('앞산 화재 현장')"
   ]
  },
  {
   "cell_type": "code",
   "execution_count": null,
   "metadata": {},
   "outputs": [],
   "source": []
  }
 ],
 "metadata": {
  "kernelspec": {
   "display_name": "TORCH_38",
   "language": "python",
   "name": "python3"
  },
  "language_info": {
   "codemirror_mode": {
    "name": "ipython",
    "version": 3
   },
   "file_extension": ".py",
   "mimetype": "text/x-python",
   "name": "python",
   "nbconvert_exporter": "python",
   "pygments_lexer": "ipython3",
   "version": "3.8.19"
  }
 },
 "nbformat": 4,
 "nbformat_minor": 2
}
