{
 "cells": [
  {
   "cell_type": "markdown",
   "metadata": {},
   "source": [
    "#### 사용자 정의 함수"
   ]
  },
  {
   "cell_type": "markdown",
   "metadata": {},
   "source": [
    "----\n",
    "- 함수기능 : 모델 학습 진행 함수\n",
    "- 함수이름 : training \n",
    "- 매개변수 : 함수 구동 시 필요한 재료(구동 할때마다 달라지는 값)  \n",
    "    * 모델인스턴스  \n",
    "    * 학습데이터셋 : 피쳐와 타겟(학습 전 Tensor화)  \n",
    "    * 손실함수 인스턴스  \n",
    "    * 최적화 인스턴스  \n",
    "    * 학습 횟수 : 에포크  \n",
    "    * 배치 크기 : BATCH_SIZE -> 1 에코프당 학습 횟수 \n",
    "    * 배치 개수 : BATCH_CNT  \n",
    "    * 검증용 데이터셋 : 피쳐와 타겟(검증 전 Tensor화)\n",
    "- 함수 결과 : 학습 시 에포크당 손실값과 성능 지표값, 검증에 대한 손실값과 성능 지표값\n",
    "---\n"
   ]
  },
  {
   "cell_type": "markdown",
   "metadata": {},
   "source": [
    "---\n",
    "- 함수기능 : 에포크 단위 모델 학습 진행 함수\n",
    "- 함수이름 : EpochTraing\n",
    "- 매개변수 : 함수 구동 시 필요한 재료(구동 할때마다 달라지는 값)   \n",
    "    * 모델 인스턴스    \n",
    "    * 학습용 데이터셋 : feature,label(학습 전 Tensor화)  \n",
    "    * 손실함수 인스턴스  \n",
    "    * 최적화 인스턴스  \n",
    "    * 배치 크기 : BATCH_SIZE -> 1 에코프당 학습 횟수  \n",
    "    * 배치 개수 : BATCH_CNT   \n",
    "- 함수결과 : 손실값, 성능 지표 값\n",
    "---"
   ]
  },
  {
   "cell_type": "code",
   "execution_count": 2,
   "metadata": {},
   "outputs": [],
   "source": [
    "## 모듈 로딩\n",
    "import torch\n",
    "import torch.nn as nn\n",
    "import torch.nn.functional as F\n",
    "import torch.optim as optimizer\n",
    "from torchmetrics.regression import R2Score\n",
    "from torchmetrics.classification import F1Score\n",
    "\n",
    "# 텐서 저장 및 실행 위치 설정\n",
    "DEVICE = 'cuda' if torch.cuda.is_available() else 'cpu'"
   ]
  },
  {
   "cell_type": "code",
   "execution_count": 1,
   "metadata": {},
   "outputs": [],
   "source": [
    "## 에코드 단위 학습 진행 후 손실값, 성능 지표 값 반환 함수\n",
    "def EpochTraing(model, feature, target, lossFunc, scoreFunc, optimizer, BATCH_CNT, BATCH_SIZE = 32) :\n",
    "    \n",
    "    loss_total, score_total = 0,0\n",
    "\n",
    "    # 에포크에서 배치크기만큼 데이터셋 추출 후 학습 진행\n",
    "    for batch in range(BATCH_CNT) : \n",
    "        # 배치 크기만큼 데이터셋 추출 후 텐서화 진행(메모리 과다 사용 방지를 위해)\n",
    "        start = batch * BATCH_SIZE\n",
    "        end = start + BATCH_SIZE\n",
    "\n",
    "        X_train = torch.FloatTensor(feature[start:end].values).to(DEVICE)\n",
    "        y_train = torch.FloatTensor(target[start:end].values).to(DEVICE)\n",
    "\n",
    "        # 학습 진행(예측값 뽑기)\n",
    "        pre_y = model(X_train)\n",
    "\n",
    "        # 손실 계산 \n",
    "        loss = lossFunc(pre_y,y_train)\n",
    "        loss_total += loss\n",
    "\n",
    "        # 점수 추출\n",
    "        score = scoreFunc(pre_y, y_train)\n",
    "        score_total += score\n",
    "\n",
    "        # 최적화 : w, b를 업데이트\n",
    "        optimizer.zero_grad()\n",
    "        loss.backward()\n",
    "        optimizer.step()\n",
    "\n",
    "    # 에포크 당 loss와 성능 지표값 반환\n",
    "    # 테스트 및 성능 검증 함수 사용\n",
    "    return loss_total/BATCH_CNT, 0\n",
    "    \n"
   ]
  },
  {
   "cell_type": "code",
   "execution_count": 3,
   "metadata": {},
   "outputs": [],
   "source": [
    "## 검증 및 테스트 진행 후 손실값과 성능지표값 반환 함수\n",
    "def testing(model, feature, target, lossFunc, scoreFunc) :\n",
    "    \n",
    "    # 최적화 기능 비활성화 후 데이터셋 추출 후 학습 진행\n",
    "    with torch.no_grad(): \n",
    "        \n",
    "        # 데이터셋 텐서화 진행(메모리 과다 사용 방지를 위해)\n",
    "        featureTS = torch.FloatTensor(feature.values).to(DEVICE)\n",
    "        targetTS = torch.FloatTensor(target.values).to(DEVICE)\n",
    "\n",
    "        # 학습 진행(예측값 뽑기)\n",
    "        pre_y = model(featureTS).to(DEVICE)\n",
    "\n",
    "        # 손실 계산 \n",
    "        loss = lossFunc(pre_y,targetTS)\n",
    "    \n",
    "        # 점수 추출\n",
    "        score = scoreFunc(pre_y, targetTS)\n",
    "\n",
    "    # 손실값과 성능지표 반환\n",
    "    return loss, score "
   ]
  },
  {
   "cell_type": "code",
   "execution_count": 4,
   "metadata": {},
   "outputs": [
    {
     "ename": "TypeError",
     "evalue": "EpochTraing() missing 6 required positional arguments: 'model', 'feature', 'target', 'lossFunc', 'optimizer', and 'BATCH_CNT'",
     "output_type": "error",
     "traceback": [
      "\u001b[1;31m---------------------------------------------------------------------------\u001b[0m",
      "\u001b[1;31mTypeError\u001b[0m                                 Traceback (most recent call last)",
      "Cell \u001b[1;32mIn[4], line 7\u001b[0m\n\u001b[0;32m      4\u001b[0m Train_val_score \u001b[38;5;241m=\u001b[39m {\u001b[38;5;124m'\u001b[39m\u001b[38;5;124mTRAIN\u001b[39m\u001b[38;5;124m'\u001b[39m:[], \u001b[38;5;124m'\u001b[39m\u001b[38;5;124mVAL\u001b[39m\u001b[38;5;124m'\u001b[39m:{}}\n\u001b[0;32m      5\u001b[0m \u001b[38;5;28;01mfor\u001b[39;00m epoch \u001b[38;5;129;01min\u001b[39;00m \u001b[38;5;28mrange\u001b[39m(EPOCHS) :\n\u001b[0;32m      6\u001b[0m     \u001b[38;5;66;03m# 학습 진행\u001b[39;00m\n\u001b[1;32m----> 7\u001b[0m     train_loss, train_score \u001b[38;5;241m=\u001b[39m \u001b[43mEpochTraing\u001b[49m\u001b[43m(\u001b[49m\u001b[43m)\u001b[49m\n\u001b[0;32m      8\u001b[0m     \u001b[38;5;66;03m# 검증 진행\u001b[39;00m\n\u001b[0;32m      9\u001b[0m     val_loss, val_score \u001b[38;5;241m=\u001b[39m testing()\n",
      "\u001b[1;31mTypeError\u001b[0m: EpochTraing() missing 6 required positional arguments: 'model', 'feature', 'target', 'lossFunc', 'optimizer', and 'BATCH_CNT'"
     ]
    }
   ],
   "source": [
    "# 학습 진행\n",
    "EPOCHS = 10\n",
    "Train_val_loss = {'TRAIN':[], 'VAL':[]}\n",
    "Train_val_score = {'TRAIN':[], 'VAL':{}}\n",
    "for epoch in range(EPOCHS) :\n",
    "    # 학습 진행\n",
    "    train_loss, train_score = EpochTraing()\n",
    "    # 검증 진행\n",
    "    val_loss, val_score = testing()\n",
    "    \n",
    "    # 에포크당 학습 및 검증 결과 저저장\n",
    "    Train_val_loss['TRAIN'].append(train_loss)\n",
    "    Train_val_score['TRAIN'].append(train_score)\n",
    "    Train_val_loss['VAL'].append(val_loss)\n",
    "    Train_val_score['VAL'].append(val_score)    \n",
    "\n",
    "    # 에포크당 학습 및 검증 결과 출력\n",
    "    print(f'[{epoch}.{EPOCHS}]\\n- [TRAIN_lOSS] : {train_loss} SCORE : {train_score}')\n",
    "    print(f' - [VALID]LOSS : {val_loss}  [VALID]SCORE : {val_score}')\n"
   ]
  }
 ],
 "metadata": {
  "kernelspec": {
   "display_name": "TORCH_38",
   "language": "python",
   "name": "python3"
  },
  "language_info": {
   "codemirror_mode": {
    "name": "ipython",
    "version": 3
   },
   "file_extension": ".py",
   "mimetype": "text/x-python",
   "name": "python",
   "nbconvert_exporter": "python",
   "pygments_lexer": "ipython3",
   "version": "3.8.19"
  }
 },
 "nbformat": 4,
 "nbformat_minor": 2
}
