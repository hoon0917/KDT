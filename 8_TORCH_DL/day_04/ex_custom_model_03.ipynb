{
 "cells": [
  {
   "cell_type": "markdown",
   "metadata": {},
   "source": [
    "#### 사용자 정의 모델 클래스\n",
    " - 부모 클래스 : nn.Module\n",
    " - 필수오버라이딩 : \n",
    "   * __ init __() : 모델 층 구성 => 설계\n",
    "   * foward() : 순방향 학습 진행 코드 구현\n",
    "- 동적 모델\n",
    "  * container 모듈 중 nn.ModuleList() 사용해서 동적으로 Layer 추가 \n",
    "    - forward 기능 미제공(학습 미적용)\n",
    "    - layer 인스턴스 요소 사이에 연관성 없음\n",
    "    - layer 인스턴스 요소는 인덱싱으로 접근"
   ]
  },
  {
   "cell_type": "markdown",
   "metadata": {},
   "source": [
    "- 동적 모델"
   ]
  },
  {
   "cell_type": "code",
   "execution_count": 70,
   "metadata": {},
   "outputs": [],
   "source": [
    "## 모듈로딩\n",
    "import torch                                # 텐서 관련 모듈\n",
    "import torch.nn as nn                       # 인공신경망 관련 모듈\n",
    "import torch.nn.functional as F             # 인공신경망 관련 함수들 모듈(손실함수, 활성화함수 등)\n",
    "import torch.optim as optim                 # 최적화 관련 모듈(가중치, 절편 빠르게 찾아주는 알고리즘)\n",
    "from torchinfo import summary               #모델 구조 및 정보 관련 모듈\n",
    "from torchmetrics.regression import *       # 회귀 성능 지표 관련 모듈\n",
    "from torchmetrics.classification import *   # 분류 성능 지표 관련 모듈"
   ]
  },
  {
   "cell_type": "code",
   "execution_count": 71,
   "metadata": {},
   "outputs": [],
   "source": [
    "# 랜덤 고정\n",
    "torch.manual_seed(10)\n",
    "\n",
    "# 텐서 저장 및 실행 위치\n",
    "DEVICE = 'cuda'if torch.cuda.is_available() else 'cpu'"
   ]
  },
  {
   "cell_type": "markdown",
   "metadata": {},
   "source": [
    "- 모델 설계 - 동적 목델\n",
    "  * 목표 : 은닉층의 개수가 동적인 모델\n",
    "  * 조건\n",
    "    * 입력층과 출력층 개수 동적   => 입력층의 입력값, 출력층의 출력값 필요\n",
    "    * 은닉층의 개수 동적 + 퍼셉트론 개수 동적 => 은닉층의 개수, 은닉층 마다 퍼셉트론 수 "
   ]
  },
  {
   "cell_type": "code",
   "execution_count": 72,
   "metadata": {},
   "outputs": [],
   "source": [
    "# 모델이름 : DynamicModel\n",
    "# 부모 클래스 : nn.Module\n",
    "# 매개변수 : in_in, out_out, h_ins=[], h_outs=[]\n",
    "# -----------------------------------------------------------------\n",
    "class DynamicModel(nn.Module) :\n",
    "    \n",
    "    # 모델 구조 설계 함수(생성자 메서드)\n",
    "    def __init__(self, in_in, in_out, out_out, h_ins=[], h_outs=[]) :\n",
    "        # 부모 클래스 생성\n",
    "        super().__init__()\n",
    "\n",
    "        self.in_layer = nn.Linear(in_in, h_ins[0] if len(h_ins) else in_out)\n",
    "        # 은닉층이 여러개 있으니 리스트에 담아주는 형태로 함 그렇게 해주는 게 nn.ModuleList\n",
    "        self.h_layers = nn.ModuleList()\n",
    "        for idx in range(len(h_ins)) :\n",
    "            self.h_layers.append(nn.Linear(h_ins[idx], h_outs[idx]))\n",
    "        self.out_layer = nn.Linear(h_outs[-1] if len(h_outs) else in_out, out_out)\n",
    "\n",
    "\n",
    "    # 학습 진행 콜백 메서드\n",
    "    def forward(self,x) :\n",
    "        # 입력층\n",
    "        y = self.in_layer(x)                    # y = x1w1+x2w2+x3w3+b\n",
    "        y = F.relu(y)                           # 0 <= y\n",
    "        # y = F.relu(self.in_layer(x))          # 위의 y 코드 하나로 합친게 이 코드\n",
    "        # 은닉층\n",
    "        # 현재 은닉층은 리스트에 담아져 있으니 하나씩 꺼내서 y를 입력하고 AF 적용\n",
    "        for linear in self.h_layers :\n",
    "            y = linear(y)\n",
    "            y = F.relu(y)\n",
    "        \n",
    "        # 출력층\n",
    "        return self.out_layer(y)\n",
    "\n"
   ]
  },
  {
   "cell_type": "code",
   "execution_count": 73,
   "metadata": {},
   "outputs": [],
   "source": [
    "# 모델 인스턴스 생성\n",
    "h_ins, h_outs = [30,50,70], [50,70,30]\n",
    "m1 = DynamicModel(3,5,2,h_ins, h_outs)"
   ]
  },
  {
   "cell_type": "code",
   "execution_count": 74,
   "metadata": {},
   "outputs": [
    {
     "name": "stdout",
     "output_type": "stream",
     "text": [
      "DynamicModel(\n",
      "  (in_layer): Linear(in_features=3, out_features=30, bias=True)\n",
      "  (h_layers): ModuleList(\n",
      "    (0): Linear(in_features=30, out_features=50, bias=True)\n",
      "    (1): Linear(in_features=50, out_features=70, bias=True)\n",
      "    (2): Linear(in_features=70, out_features=30, bias=True)\n",
      "  )\n",
      "  (out_layer): Linear(in_features=30, out_features=2, bias=True)\n",
      ")\n"
     ]
    }
   ],
   "source": [
    "# 모델 구조 확인\n",
    "print(m1)"
   ]
  },
  {
   "cell_type": "code",
   "execution_count": 75,
   "metadata": {},
   "outputs": [
    {
     "name": "stdout",
     "output_type": "stream",
     "text": [
      "in_layer.weight torch.Size([30, 3])\n",
      "in_layer.bias torch.Size([30])\n",
      "h_layers.0.weight torch.Size([50, 30])\n",
      "h_layers.0.bias torch.Size([50])\n",
      "h_layers.1.weight torch.Size([70, 50])\n",
      "h_layers.1.bias torch.Size([70])\n",
      "h_layers.2.weight torch.Size([30, 70])\n",
      "h_layers.2.bias torch.Size([30])\n",
      "out_layer.weight torch.Size([2, 30])\n",
      "out_layer.bias torch.Size([2])\n"
     ]
    }
   ],
   "source": [
    "# 모델 파라미터 확인\n",
    "for name, param in m1.named_parameters() :\n",
    "    print(name, param.shape)"
   ]
  },
  {
   "cell_type": "markdown",
   "metadata": {},
   "source": [
    "- 학습 진행"
   ]
  },
  {
   "cell_type": "code",
   "execution_count": 76,
   "metadata": {},
   "outputs": [],
   "source": [
    "## 임시 데이터 생성 \n",
    "dataTS = torch.FloatTensor([[1,2,3],[4,5,6],[7,8,9],[1,5,7]])           # 2D (4,3)\n",
    "targetTS = torch.FloatTensor([[1,2],[7,8],[5,3],[4,7]])                 # 2D (4,2)"
   ]
  },
  {
   "cell_type": "code",
   "execution_count": 77,
   "metadata": {},
   "outputs": [
    {
     "name": "stdout",
     "output_type": "stream",
     "text": [
      "tensor([[ 0.1482, -0.1187],\n",
      "        [ 0.1373, -0.1128],\n",
      "        [ 0.1396, -0.1334],\n",
      "        [ 0.1598, -0.0933]], grad_fn=<AddmmBackward0>)\n",
      "torch.Size([4, 2])\n"
     ]
    }
   ],
   "source": [
    "# 모델 학습 진행\n",
    "pre_y = m1(dataTS)\n",
    "\n",
    "print(pre_y, pre_y.shape, sep = '\\n')"
   ]
  },
  {
   "cell_type": "code",
   "execution_count": null,
   "metadata": {},
   "outputs": [],
   "source": []
  }
 ],
 "metadata": {
  "kernelspec": {
   "display_name": "TORCH_38",
   "language": "python",
   "name": "python3"
  },
  "language_info": {
   "codemirror_mode": {
    "name": "ipython",
    "version": 3
   },
   "file_extension": ".py",
   "mimetype": "text/x-python",
   "name": "python",
   "nbconvert_exporter": "python",
   "pygments_lexer": "ipython3",
   "version": "3.8.19"
  }
 },
 "nbformat": 4,
 "nbformat_minor": 2
}
