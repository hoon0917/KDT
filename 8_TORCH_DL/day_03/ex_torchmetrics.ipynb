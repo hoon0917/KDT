{
 "cells": [
  {
   "cell_type": "markdown",
   "metadata": {},
   "source": [
    "##### Torchmetrics 패키지\n",
    "- pytorch에서 모델 성능 평가 기능 제공 패키지\n",
    "- 추가 설치 필요\n",
    "    * pip : pip install torchmetrics\n",
    "    * conda : conda install -c condaforge torchmetrics\n",
    "- 사용법\n",
    " * 클래스 방식 : 인스턴스/객체 생성 후 사용\n",
    " * 함수 방식 : 바로 사용"
   ]
  },
  {
   "cell_type": "markdown",
   "metadata": {},
   "source": [
    "[1] 회귀(Regression) 성능지표"
   ]
  },
  {
   "cell_type": "code",
   "execution_count": 47,
   "metadata": {},
   "outputs": [],
   "source": [
    "from torchmetrics.functional.regression import r2_score, mean_squared_error, mean_absolute_error\n",
    "from torchmetrics.regression import R2Score, MeanSquaredError, MeanAbsoluteError\n",
    "import torch"
   ]
  },
  {
   "cell_type": "code",
   "execution_count": 48,
   "metadata": {},
   "outputs": [
    {
     "data": {
      "text/plain": [
       "tensor(0.9486)"
      ]
     },
     "execution_count": 48,
     "metadata": {},
     "output_type": "execute_result"
    }
   ],
   "source": [
    "# 클래스 방식 ------------------------------------------------------------\n",
    "'''\n",
    "클래스 방식이 있는 이유\n",
    "클래스는 재사용성과 확장성이 좋음\n",
    "그래서 이후 내가 R2Score 클래스에 내가 넣고 싶은 기능을 추가할 수도 있으니 만들어져 있음\n",
    "'''\n",
    "# 데이터\n",
    "target = torch.tensor([3, -0.5, 2, 7])  # 1D (4,)\n",
    "preds = torch.tensor([2.5,0.0,2,8])     # 1D (4,)\n",
    "\n",
    "# 성능평가 => R2Score : 0 ~ 1 : 1일때 좋음\n",
    "# R2Score 정답에 얼마나 근사하게 표현했는지\n",
    "r2score = R2Score()\n",
    "r2score(preds,target)\n",
    "#R2Score()(preds,target) 도 가능한 형태"
   ]
  },
  {
   "cell_type": "code",
   "execution_count": 49,
   "metadata": {},
   "outputs": [
    {
     "data": {
      "text/plain": [
       "tensor(0.9486)"
      ]
     },
     "execution_count": 49,
     "metadata": {},
     "output_type": "execute_result"
    }
   ],
   "source": [
    "# 함수 방식\n",
    "# 데이터\n",
    "target = torch.tensor([3, -0.5, 2, 7])  # 1D (4,)\n",
    "preds = torch.tensor([2.5,0.0,2,8])     # 1D (4,)\n",
    "\n",
    "# 성능평가 => r2_score\n",
    "r2_score(preds,target)\n"
   ]
  },
  {
   "cell_type": "code",
   "execution_count": 50,
   "metadata": {},
   "outputs": [
    {
     "name": "stdout",
     "output_type": "stream",
     "text": [
      "tensor(0.3750)\n",
      "tensor(0.3750)\n"
     ]
    },
    {
     "data": {
      "text/plain": [
       "tensor(0.3750)"
      ]
     },
     "execution_count": 50,
     "metadata": {},
     "output_type": "execute_result"
    }
   ],
   "source": [
    "# 데이터\n",
    "target = torch.tensor([3, -0.5, 2, 7])  # 1D (4,)\n",
    "preds = torch.tensor([2.5,0.0,2,8])     # 1D (4,)\n",
    "\n",
    "# 오차 계산 => 0에 가까울수록 좋음\n",
    "# 클래스 방식 \n",
    "meansquarederror = MeanSquaredError()\n",
    "print(meansquarederror(preds, target))\n",
    "print(MeanSquaredError()(preds,target))\n",
    "\n",
    "# 함수 방식 오차 계산\n",
    "mean_squared_error(preds,target)"
   ]
  },
  {
   "cell_type": "markdown",
   "metadata": {},
   "source": [
    "- 분류(Classfication) 성능평가지표\n",
    "    * Accuracy : 양성-양성 or 음성-음성 이라고 하는 경우 / 불균형 데이터인 경우 사용 X\n",
    "    * Precision : 예측은 양성 그리고 정답도 양성인 것\n",
    "    * Recall : 정답은 양성인데 진짜로 예측을 양성이라고 했는지\n",
    "    * F1-Score\n",
    "    * ConfusionMatrix\n",
    "    * ROC - AUC  => 의료분야 / 2진 분류"
   ]
  },
  {
   "cell_type": "code",
   "execution_count": 51,
   "metadata": {},
   "outputs": [],
   "source": [
    "# 모듈로딩\n",
    "from torchmetrics.classification import F1Score,Accuracy,Precision,Recall,ConfusionMatrix\n",
    "from torchmetrics.functional.classification import f1_score,accuracy,precision,recall,confusion_matrix"
   ]
  },
  {
   "cell_type": "code",
   "execution_count": 52,
   "metadata": {},
   "outputs": [
    {
     "name": "stdout",
     "output_type": "stream",
     "text": [
      "tensor(0.6667)\n",
      "tensor(0.6667)\n"
     ]
    }
   ],
   "source": [
    "# 2진분류일 경우 task='binary' 적어줘야 함\n",
    "from torchmetrics.classification import BinaryF1Score\n",
    "target = torch.tensor([0, 1, 1, 0, 1, 0])\n",
    "preds = torch.tensor([0, 1, 1, 0, 0, 1])\n",
    "\n",
    "f1 = F1Score(task='binary')\n",
    "print(f1(preds,target))\n",
    "\n",
    "\n",
    "print(BinaryF1Score()(preds,target))"
   ]
  },
  {
   "cell_type": "code",
   "execution_count": 53,
   "metadata": {},
   "outputs": [
    {
     "name": "stdout",
     "output_type": "stream",
     "text": [
      "tensor(0.4333)\n",
      "tensor(0.4333)\n"
     ]
    }
   ],
   "source": [
    "# 다중분류 => task = 'muliticlass' & num_classes 숫자 정해줘야 됨\n",
    "from torchmetrics.classification import MulticlassF1Score\n",
    "target = torch.tensor([0, 1, 2, 0, 2, 0])\n",
    "preds = torch.tensor([0, 2, 1, 0, 2, 1])\n",
    "\n",
    "# F1Score의 average는 micro가 기본값\n",
    "f1 = F1Score(task='multiclass', num_classes=3, average='macro')\n",
    "print(f1(preds,target))\n",
    "\n",
    "# MulticlassF1Score의 average는 macro가 기본값\n",
    "print(MulticlassF1Score(num_classes=3)(preds,target))\n",
    "\n",
    "## => 두 개의 average를 맞춰줘야 함"
   ]
  },
  {
   "cell_type": "code",
   "execution_count": 54,
   "metadata": {},
   "outputs": [
    {
     "name": "stdout",
     "output_type": "stream",
     "text": [
      "tensor(0.6667)\n",
      "tensor(0.6667)\n"
     ]
    }
   ],
   "source": [
    "# 2진분류일 경우 task='binary' 적어줘야 함\n",
    "from torchmetrics.classification import BinaryPrecision\n",
    "target = torch.tensor([0, 1, 1, 0, 1, 0])\n",
    "preds = torch.tensor([0, 1, 1, 0, 0, 1])\n",
    "\n",
    "\n",
    "# threshold : 임계값 조절\n",
    "p1 = Precision(task='binary',threshold=0.7)\n",
    "print(p1(preds,target))\n",
    "\n",
    "\n",
    "print(BinaryPrecision()(preds,target))"
   ]
  },
  {
   "cell_type": "code",
   "execution_count": 55,
   "metadata": {},
   "outputs": [
    {
     "name": "stdout",
     "output_type": "stream",
     "text": [
      "tensor(0.5000)\n",
      "tensor(0.5000)\n"
     ]
    }
   ],
   "source": [
    "# 다중분류 => task = 'muliticlass' & num_classes 숫자 정해줘야 됨\n",
    "from torchmetrics.classification import MulticlassPrecision\n",
    "target = torch.tensor([0, 1, 2, 0, 2, 0])\n",
    "preds = torch.tensor([0, 2, 1, 0, 2, 1])\n",
    "\n",
    "# F1Score의 average는 micro가 기본값\n",
    "mp = Precision(task='multiclass', num_classes=3, average='macro')\n",
    "print(mp(preds,target))\n",
    "\n",
    "# MulticlassF1Score의 average는 macro가 기본값\n",
    "print(MulticlassPrecision(num_classes=3)(preds,target))\n",
    "\n",
    "## => 두 개의 average를 맞춰줘야 함"
   ]
  },
  {
   "cell_type": "code",
   "execution_count": null,
   "metadata": {},
   "outputs": [],
   "source": []
  }
 ],
 "metadata": {
  "kernelspec": {
   "display_name": "TORCH_38",
   "language": "python",
   "name": "python3"
  },
  "language_info": {
   "codemirror_mode": {
    "name": "ipython",
    "version": 3
   },
   "file_extension": ".py",
   "mimetype": "text/x-python",
   "name": "python",
   "nbconvert_exporter": "python",
   "pygments_lexer": "ipython3",
   "version": "3.8.19"
  }
 },
 "nbformat": 4,
 "nbformat_minor": 2
}
