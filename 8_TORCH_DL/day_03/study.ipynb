{
 "cells": [
  {
   "cell_type": "markdown",
   "metadata": {},
   "source": [
    "- 프레임워크 : 개발에 필요한 모든것을 포함하고 있는 집합체\n",
    "  * ML알고리즘 패키지, 성능평가 패키지, 전처리 패키지, 데이터셋 패키지, 특성공학 패키지  \n",
    "\n",
    "\n",
    "- 인터페이스 : 서로 다른 요소/장치/사람 연결 시켜주는 것\n",
    "  * UI : 사용자와 컴퓨터/핸드폰/SW/HW 연결 ==> 버튼, 글자입력란, 그림\n",
    "  * OOP개념에서는 서로 다른 객체들이 동일한 기능을 사용할 수 있도록 해주는 기능  \n",
    "\n",
    "\n",
    "\n",
    "- 모듈 : 같은 목적의 변수, 함수 클래스를 포함한 1개 파일(py)\n",
    "    * 웹에 요청 목적의 변수, 함수, 클래스\n",
    "    * 웹에서 받은 응답을 처리하는 목적의 변수, 함수, 클래스\n",
    "    * 웹 주소 분석 목적의 변수, 함수, 클래스  \n",
    "\n",
    "\n",
    "\n",
    "- 패키지 : 같은 분야 or 유사 분야 모듈을 모아서 하나로 만들어 놓은 것\n",
    "\n",
    "- IDE 통합개발환경 : 개발에 필요한 모든 도구들을 제공해주는 SW\n",
    "  * 코드 작성, 디버깅, 필요 패키지 검색 및 설치 등"
   ]
  },
  {
   "cell_type": "markdown",
   "metadata": {},
   "source": []
  },
  {
   "cell_type": "code",
   "execution_count": null,
   "metadata": {
    "vscode": {
     "languageId": "plaintext"
    }
   },
   "outputs": [],
   "source": []
  }
 ],
 "metadata": {
  "language_info": {
   "name": "python"
  }
 },
 "nbformat": 4,
 "nbformat_minor": 2
}
