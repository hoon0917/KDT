{
 "cells": [
  {
   "cell_type": "markdown",
   "metadata": {},
   "source": [
    "[1] 모듈 로딩 및 데이터 준비\n",
    "\n",
    "[2] 모델 클래스 설계 및 정의\n",
    "   class 클래스명(nn.Module)\n",
    "        def __init__(self)\n",
    "            super().__init__()\n",
    "            self.in_layer = nn.Linear(4,10)\n",
    "            self.h_layer = nn.Linear(10,5)\n",
    "            self.out_layer = nn.Linear(5,1)\n",
    "        \n",
    "        def forward(self, data)\n",
    "            y = F.relu(self.in_layer(data))\n",
    "            y = F.relu(self.h_layer(y))\n",
    "            return = F.relu(self.out_layer(y))\n",
    "\n",
    "[3] 데이터셋 클래스 설계 및 정의\n",
    "    class 데이터셋 클래스명(Dataset) :\n",
    "    \n",
    "        def __init__(self,featureDF, targetDF) :\n",
    "            self.featureDF = featureDF\n",
    "            self.targetDF = targetDF\n",
    "            self.n_rows = featureDF.shape[0]\n",
    "            self.features = featureDF.shape[1]\n",
    "        \n",
    "        def __len__(self) :\n",
    "            return self.n_rows\n",
    "\n",
    "        def __getitem__(self,index) :\n",
    "            # 텐서화\n",
    "            featureTS = torch.FloatTensor(self.featureDF.iloc[index].values)\n",
    "            targetTS = torch.FloatTensor(self.targetDF.iloc[index].values)\n",
    "\n",
    "            return featureTS, targetTS\n",
    "\n",
    "\n",
    "[4] 학습 준비\n",
    "    [4-1] 학습 진행 설정값\n",
    "    EPOCH\n",
    "    DATA_SIZE\n",
    "    DEVICE\n",
    "    LR\n",
    "\n",
    "    [4-2]\n",
    "    모델 인스턴스 생성\n",
    "\n",
    "    데이터셋 분리\n",
    "\n",
    "    학습용 데이터로더 인스턴스 생성\n",
    "\n",
    "    최적화 인스턴스\n",
    "\n",
    "    손실함수\n",
    "\n",
    "[5] 학습 진행\n",
    "    LOSS_HISTORY, SCORE_HISTORY = [[],[]],[[],[]]\n",
    "    CNT = len(trainDL)\n",
    "\n",
    "    for"
   ]
  },
  {
   "cell_type": "markdown",
   "metadata": {},
   "source": []
  }
 ],
 "metadata": {
  "kernelspec": {
   "display_name": "TORCH_38",
   "language": "python",
   "name": "python3"
  },
  "language_info": {
   "name": "python",
   "version": "3.8.19"
  }
 },
 "nbformat": 4,
 "nbformat_minor": 2
}
