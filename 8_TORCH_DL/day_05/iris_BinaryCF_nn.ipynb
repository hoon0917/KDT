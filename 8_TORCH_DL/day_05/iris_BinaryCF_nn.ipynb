{
 "cells": [
  {
   "cell_type": "markdown",
   "metadata": {},
   "source": [
    "#### DNN기반 이진분류 모델 구현\n",
    " - 데이터셋 : iris.csv\n",
    " - feature : 전부 Sepal_Length, Sepal_Width, Petal_Length, Petal_Width\n",
    " - target/label : 1개 Setosa와 나머지\n",
    " - 학습방법 : 지도학습 > 분류 > 이진분류\n",
    " - 알고리즘 : 인공신경망(ANN) -> MLP, DNN : 은닉층이 많은 구성\n",
    " - 프레임워크 : Pytorch"
   ]
  },
  {
   "cell_type": "markdown",
   "metadata": {},
   "source": [
    "[1] 모듈 로딩 및 데이터 준비\n",
    "***"
   ]
  },
  {
   "cell_type": "code",
   "execution_count": 104,
   "metadata": {},
   "outputs": [],
   "source": [
    "# - 모델 관련\n",
    "import torch\n",
    "import torch.nn as nn\n",
    "import torch.nn.functional as F\n",
    "from torch.utils.data import Dataset, DataLoader\n",
    "import torch.optim as optim\n",
    "from torchmetrics.classification import F1Score, BinaryF1Score, BinaryConfusionMatrix\n",
    "from torchinfo import summary\n",
    "\n",
    "# - 데이터 관련\n",
    "import pandas as pd\n",
    "import matplotlib.pyplot as plt\n",
    "from sklearn.preprocessing import *\n",
    "from sklearn.model_selection import train_test_split"
   ]
  },
  {
   "cell_type": "code",
   "execution_count": 105,
   "metadata": {},
   "outputs": [],
   "source": [
    "# 활용 패키지 버전 체크  ==> 사용자 정의 함수로 구현해놓기\n",
    "def checkversion() :\n",
    "    print(f'Pytorch v {torch.__version__}')\n",
    "    print(f'pandas v {pd.__version__}')"
   ]
  },
  {
   "cell_type": "code",
   "execution_count": 106,
   "metadata": {},
   "outputs": [
    {
     "data": {
      "text/plain": [
       "array(['Setosa', 'Versicolor', 'Virginica'], dtype=object)"
      ]
     },
     "execution_count": 106,
     "metadata": {},
     "output_type": "execute_result"
    }
   ],
   "source": [
    "#### 데이터 로딩\n",
    "irisDF = pd.read_csv(r'C:\\Users\\KDP-17\\EX_PANDAS6\\TORCH_DL\\data\\iris.csv')\n",
    "irisDF['variety'].unique()"
   ]
  },
  {
   "cell_type": "code",
   "execution_count": 107,
   "metadata": {},
   "outputs": [
    {
     "data": {
      "text/plain": [
       "array([1, 0])"
      ]
     },
     "execution_count": 107,
     "metadata": {},
     "output_type": "execute_result"
    }
   ],
   "source": [
    "### 타겟 변경 ==> 정수화, 클래스3개 => 2개\n",
    "irisDF['variety']=(irisDF['variety'] == 'Setosa')\n",
    "irisDF['variety'] = irisDF['variety'].astype('int')\n",
    "irisDF['variety'].unique()"
   ]
  },
  {
   "cell_type": "markdown",
   "metadata": {},
   "source": [
    "[2] 모델 클래스 설계 및 정의<hr>\n",
    " - 클래스 목적 : iris 데이터 학습 및 추론\n",
    " - 클래스 이름 : IrisBCFModel\n",
    " - 부모 클래스 : nn.Module\n",
    " - 매개변수    : 층별 입/출력 개수 고정 => 매개변수 필요 없음 \n",
    " - 속성/필드   :  \n",
    " - 클래스 기능 : _ _ init _ _() : 모델 구조 설정, forward() : 순방향 학습  <= 오버라이딩(overriding)\n",
    " - 클래스 구조 \n",
    "   * 입력층 : 입력 4개     출력 10개 (퍼셉트론 10개 존재)\n",
    "   * 은닉층 : 입력 10개    출력 5개  (퍼셉트론 5개 존재)\n",
    "   * 출력층 : 입력 5개     출력 1개 (2진분류)\n",
    "\n",
    " - 활성화함수\n",
    "   * 클래스 형태 ==> nn.MELoss, nn.ReLU  -> _ _ init _ _() 메서드에서 사용\n",
    "   * 함수 형태  ==> torch.nn.functional 아래에 -> forward() 메서드에서 사용\n"
   ]
  },
  {
   "cell_type": "code",
   "execution_count": 108,
   "metadata": {},
   "outputs": [],
   "source": [
    "class irisBCFModel(nn.Module) :\n",
    "\n",
    "    # 모델 구조 구성 및 인스턴스 생성 메서드\n",
    "    def __init__(self) :\n",
    "        super().__init__()\n",
    "        self.in_layer = nn.Linear(4,10)\n",
    "        self.h_layer = nn.Linear(10,5)\n",
    "        self.out_layer = nn.Linear(5,1)\n",
    "\n",
    "    # 순방향 학습 진행 메서드\n",
    "    def forward(self, data) :\n",
    "        # 입력층\n",
    "        y = self.in_layer(data)             # f1w1+f2w2+f3w3+...+f10w10+b\n",
    "        F.relu(y)                           # relu => y 값의 범위 : 0 < y\n",
    "        \n",
    "        # 은닉층 : 10개의 숫자값이 들어옴(>=0)\n",
    "        y = self.h_layer(y)\n",
    "        F.relu(y)\n",
    "\n",
    "        # 출력층 : 30개의 숫자값이 들어옴(>=0)\n",
    "        return F.sigmoid(self.out_layer(y))"
   ]
  },
  {
   "cell_type": "code",
   "execution_count": 109,
   "metadata": {},
   "outputs": [
    {
     "name": "stdout",
     "output_type": "stream",
     "text": [
      "irisBCFModel(\n",
      "  (in_layer): Linear(in_features=4, out_features=10, bias=True)\n",
      "  (h_layer): Linear(in_features=10, out_features=5, bias=True)\n",
      "  (out_layer): Linear(in_features=5, out_features=1, bias=True)\n",
      ")\n"
     ]
    }
   ],
   "source": [
    "### 모델 인스턴스 생성\n",
    "model = irisBCFModel()\n",
    "print(model)"
   ]
  },
  {
   "cell_type": "code",
   "execution_count": 110,
   "metadata": {},
   "outputs": [
    {
     "data": {
      "text/plain": [
       "==========================================================================================\n",
       "Layer (type:depth-idx)                   Output Shape              Param #\n",
       "==========================================================================================\n",
       "irisBCFModel                             [10, 1]                   --\n",
       "├─Linear: 1-1                            [10, 10]                  50\n",
       "├─Linear: 1-2                            [10, 5]                   55\n",
       "├─Linear: 1-3                            [10, 1]                   6\n",
       "==========================================================================================\n",
       "Total params: 111\n",
       "Trainable params: 111\n",
       "Non-trainable params: 0\n",
       "Total mult-adds (M): 0.00\n",
       "==========================================================================================\n",
       "Input size (MB): 0.00\n",
       "Forward/backward pass size (MB): 0.00\n",
       "Params size (MB): 0.00\n",
       "Estimated Total Size (MB): 0.00\n",
       "=========================================================================================="
      ]
     },
     "execution_count": 110,
     "metadata": {},
     "output_type": "execute_result"
    }
   ],
   "source": [
    "### [테스트] 모델 사용 메모리 정보 확인\n",
    "summary(model, input_size=(10,4))"
   ]
  },
  {
   "cell_type": "markdown",
   "metadata": {},
   "source": [
    "[3] 데이터셋 클래스 설계 및 정의 <hr>"
   ]
  },
  {
   "cell_type": "code",
   "execution_count": 111,
   "metadata": {},
   "outputs": [],
   "source": [
    "class IrisDataset(Dataset) :\n",
    "\n",
    "    def __init__(self,featureDF, targetDF) :\n",
    "        self.featureDF = featureDF\n",
    "        self.targetDF = targetDF\n",
    "        self.n_rows = featureDF.shape[0]\n",
    "        self.n_features = featureDF.shape[1]\n",
    "\n",
    "    def __len__(self) :\n",
    "        return self.n_rows\n",
    "\n",
    "    def __getitem__(self, index) :\n",
    "        \n",
    "        # 텐서화\n",
    "        featureTS = torch.FloatTensor(self.featureDF.iloc[index].values)\n",
    "        targetTS = torch.FloatTensor(self.targetDF.iloc[index].values)\n",
    "\n",
    "        # 피쳐와 타겟 반환\n",
    "        return featureTS, targetTS"
   ]
  },
  {
   "cell_type": "code",
   "execution_count": 112,
   "metadata": {},
   "outputs": [
    {
     "name": "stdout",
     "output_type": "stream",
     "text": [
      "torch.Size([1, 4]) torch.Size([1, 1])\n"
     ]
    }
   ],
   "source": [
    "## [테스트] 데이터셋 인스턴스 생성\n",
    "\n",
    "# - DataFrame에서 피쳐와 타겟 추출\n",
    "featureDF = irisDF[irisDF.columns[:-1]]\n",
    "targetDF = irisDF[irisDF.columns[-1:]]\n",
    "\n",
    "\n",
    "# - 커스텀 데이터셋 인스턴스 생성\n",
    "irisDS = IrisDataset(featureDF,targetDF)\n",
    "\n",
    "# - 데이터로더 인스턴스 생성        <= DataLoader로 테스트 해야함 for문으로 feature랑 label 하나씩 뽑아서 확인하믄 됨\n",
    "irisDL = DataLoader(irisDS)\n",
    "for feature, label in irisDL :\n",
    "    print(feature.shape, label.shape)\n",
    "    break"
   ]
  },
  {
   "cell_type": "markdown",
   "metadata": {},
   "source": [
    "[4] 학습 준비 <hr>\n",
    " - 학습횟수 : EPOCH          <- 처음 ~ 끝까지 공부하는 단위  \n",
    " - 배치크기 : BATCH_SIZE     <- 한번에 학습할 데이터 양\n",
    " - 위치지정 : DEVICE         <- 텐서 저장 및 실행 위치 (GPU/CPU)\n",
    " - 학습률(lr) : 가중치와 절편 업데이트 시 경사하강법으로 업데이트 간격 설정 (0.001 ~ 0.1) <- 하이퍼파라미터"
   ]
  },
  {
   "cell_type": "code",
   "execution_count": 113,
   "metadata": {},
   "outputs": [],
   "source": [
    "### 학습 진행 관련 설정값\n",
    "EPOCH = 1000\n",
    "BATCH_SIZE = 10\n",
    "DEVICE = 'cuda' if torch.cuda.is_available() else 'cpu'\n",
    "LR = 0.001"
   ]
  },
  {
   "cell_type": "markdown",
   "metadata": {},
   "source": [
    " - 학습 준비에 필요한 것\n",
    "    * 인스턴스/객체 : 모델, 데이터셋, 최적화, (, 손실함수, 성능지표)"
   ]
  },
  {
   "cell_type": "code",
   "execution_count": 114,
   "metadata": {},
   "outputs": [],
   "source": [
    "# 찐 모델 인스턴스 생성\n",
    "model = irisBCFModel()\n",
    "\n",
    "# - 학습용, 검증용, 테스트용 데이터셋 분리\n",
    "X_train, X_test, y_train, y_test = train_test_split(featureDF,targetDF,random_state = 1)\n",
    "X_train, X_val, y_train, y_val = train_test_split(X_train,y_train,random_state = 1)\n",
    "\n",
    "# - 학습용, 검증용, 테스트용 인스턴스 생성\n",
    "trainDS = IrisDataset(X_train,y_train)\n",
    "valDS = IrisDataset(X_val,y_val)\n",
    "testDS = IrisDataset(X_test, y_test)\n",
    "\n",
    "# - 학습용 데이터로더 인스턴스 생성\n",
    "trainDL = DataLoader(trainDS,batch_size=BATCH_SIZE)\n",
    "\n",
    "# 최적화 인스턴스 - 최소의 손실을 만드는 w,b 찾는 작업 해주는 인스턴스\n",
    "# 최적화 인스턴스에 model.parameters() 전달 필요\n",
    "optimizer = optim.Adam(model.parameters(),lr=LR)\n",
    "\n",
    "\n",
    "# 손실함수 인스턴스 > 분류 > 이진분류 BinaryCrossEntropyLoss =>BCELoss \n",
    "#                                  예측값은 확률값으로 전달 ==> Sigmoid() AF 처리 필요\n",
    "regLoss = nn.BCELoss()"
   ]
  },
  {
   "cell_type": "markdown",
   "metadata": {},
   "source": [
    "[5] 학습 진행<hr>"
   ]
  },
  {
   "cell_type": "code",
   "execution_count": 115,
   "metadata": {},
   "outputs": [],
   "source": [
    "## 학습의 효과 확인을 위해 손실값과 성능평가값 저장 필요\n",
    "LOSS_HISTORY, SCORE_HISTORY = [[],[]],[[],[]]\n",
    "CNT = len(trainDL)\n",
    "\n",
    "for epoch in range(EPOCH) :\n",
    "    # 학습 모드로 모델 설정\n",
    "    model.train()\n",
    "\n",
    "\n",
    "    # 배치크기만큼 데이터 로딩해서 학습 진행\n",
    "    loss_total , score_total = 0, 0\n",
    "    for featureTS, targetTS in trainDL :\n",
    "        \n",
    "        # 학습 진행\n",
    "        pre_y = model(featureTS)\n",
    "\n",
    "        # 손실 계산\n",
    "        loss = regLoss(pre_y,targetTS)\n",
    "        loss_total += loss.item()\n",
    "\n",
    "        # 성능 평가\n",
    "        score = BinaryF1Score()(pre_y,targetTS,)\n",
    "        score_total += score.item()\n",
    "\n",
    "        # 최적화 진행\n",
    "        optimizer.zero_grad()\n",
    "        loss.backward()\n",
    "        optimizer.step()\n",
    "    \n",
    "    # 에포크 당 검증기능\n",
    "    # 모델 검증 모드 설정\n",
    "    model.eval()\n",
    "    with torch.no_grad():\n",
    "        # 검증 데이터셋\n",
    "        val_featureTS = torch.FloatTensor(valDS.featureDF.values)\n",
    "        val_targetTS = torch.FloatTensor(valDS.targetDF.values)\n",
    "        # 추론/평가\n",
    "        pre_val = model(val_featureTS)\n",
    "        # 손실계산\n",
    "        loss_val = regLoss(pre_val, val_targetTS)\n",
    "        # 성능평가\n",
    "        score_val = BinaryF1Score()(pre_val, val_targetTS)\n",
    "\n",
    "\n",
    "\n",
    "    # 손실값과 성능평가값 저장\n",
    "    LOSS_HISTORY[0].append(loss_total/CNT) \n",
    "    SCORE_HISTORY[0].append(score_total/CNT)\n",
    "    LOSS_HISTORY[1].append(loss_val) \n",
    "    SCORE_HISTORY[1].append(score_val)  "
   ]
  },
  {
   "cell_type": "markdown",
   "metadata": {},
   "source": [
    "-  학습 결과 체크 => 학습과 검증의 Loss 변화, 성능 변화 확인"
   ]
  }
 ],
 "metadata": {
  "kernelspec": {
   "display_name": "TORCH_38",
   "language": "python",
   "name": "python3"
  },
  "language_info": {
   "codemirror_mode": {
    "name": "ipython",
    "version": 3
   },
   "file_extension": ".py",
   "mimetype": "text/x-python",
   "name": "python",
   "nbconvert_exporter": "python",
   "pygments_lexer": "ipython3",
   "version": "3.8.19"
  }
 },
 "nbformat": 4,
 "nbformat_minor": 2
}
