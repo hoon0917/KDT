{
 "cells": [
  {
   "cell_type": "markdown",
   "metadata": {},
   "source": [
    "#### DNN기반 회귀 모델 구현\n",
    " - 데이터셋 : iris.csv\n",
    " - feature : 3개 Sepal_Length, Sepal_Width, Petal_Length\n",
    " - target/label : 1개 Petal_Width\n",
    " - 학습방법 : 지도학습 > 회귀\n",
    " - 알고리즘 : 인공신경망(ANN) -> MLP, DNN : 은닉층이 많은 구성\n",
    " - 프레임워크 : Pytorch"
   ]
  },
  {
   "cell_type": "markdown",
   "metadata": {},
   "source": [
    "[1] 모듈 로딩 및 데이터 준비\n",
    "***"
   ]
  },
  {
   "cell_type": "code",
   "execution_count": 2,
   "metadata": {},
   "outputs": [],
   "source": [
    "# - 모델 관련\n",
    "import torch\n",
    "import torch.nn as nn\n",
    "import torch.nn.functional as F\n",
    "from torch.utils.data import Dataset, DataLoader\n",
    "import torch.optim as optim\n",
    "from torchmetrics.regression import R2Score, MeanSquaredLogError\n",
    "from torchinfo import summary\n",
    "\n",
    "# - 데이터 관련\n",
    "import pandas as pd\n",
    "import matplotlib.pyplot as plt\n",
    "from sklearn.preprocessing import *\n",
    "from sklearn.model_selection import train_test_split"
   ]
  },
  {
   "cell_type": "code",
   "execution_count": 3,
   "metadata": {},
   "outputs": [],
   "source": [
    "# 활용 패키지 버전 체크  ==> 사용자 정의 함수로 구현해놓기\n",
    "def checkversion() :\n",
    "    print(f'Pytorch v {torch.__version__}')\n",
    "    print(f'pandas v {pd.__version__}')"
   ]
  },
  {
   "cell_type": "code",
   "execution_count": 4,
   "metadata": {},
   "outputs": [
    {
     "data": {
      "text/html": [
       "<div>\n",
       "<style scoped>\n",
       "    .dataframe tbody tr th:only-of-type {\n",
       "        vertical-align: middle;\n",
       "    }\n",
       "\n",
       "    .dataframe tbody tr th {\n",
       "        vertical-align: top;\n",
       "    }\n",
       "\n",
       "    .dataframe thead th {\n",
       "        text-align: right;\n",
       "    }\n",
       "</style>\n",
       "<table border=\"1\" class=\"dataframe\">\n",
       "  <thead>\n",
       "    <tr style=\"text-align: right;\">\n",
       "      <th></th>\n",
       "      <th>sepal.length</th>\n",
       "      <th>sepal.width</th>\n",
       "      <th>petal.length</th>\n",
       "      <th>petal.width</th>\n",
       "    </tr>\n",
       "  </thead>\n",
       "  <tbody>\n",
       "    <tr>\n",
       "      <th>0</th>\n",
       "      <td>5.1</td>\n",
       "      <td>3.5</td>\n",
       "      <td>1.4</td>\n",
       "      <td>0.2</td>\n",
       "    </tr>\n",
       "    <tr>\n",
       "      <th>1</th>\n",
       "      <td>4.9</td>\n",
       "      <td>3.0</td>\n",
       "      <td>1.4</td>\n",
       "      <td>0.2</td>\n",
       "    </tr>\n",
       "  </tbody>\n",
       "</table>\n",
       "</div>"
      ],
      "text/plain": [
       "   sepal.length  sepal.width  petal.length  petal.width\n",
       "0           5.1          3.5           1.4          0.2\n",
       "1           4.9          3.0           1.4          0.2"
      ]
     },
     "execution_count": 4,
     "metadata": {},
     "output_type": "execute_result"
    }
   ],
   "source": [
    "#### 데이터 로딩\n",
    "irisDF = pd.read_csv(r'C:\\Users\\hoon\\Desktop\\경대 KDT 6기\\EX_PANDAS6-main\\EX_PANDAS6-main\\TORCH_DL\\data\\iris.csv',usecols=[0,1,2,3])\n",
    "irisDF.head(2)"
   ]
  },
  {
   "cell_type": "markdown",
   "metadata": {},
   "source": [
    "[2] 모델 클래스 설계 및 정의 <hr>\n",
    " - 클래스 목적 : iris 데이터 학습 및 추론\n",
    " - 클래스 이름 : IrisRegModel\n",
    " - 부모 클래스 : nn.Module\n",
    " - 매개변수    : 층별 입/출력 개수 고정 => 매개변수 필요 없음 \n",
    " - 속성/필드   :  \n",
    " - 클래스 기능 : _ _ init _ _() : 모델 구조 설정, forward() : 순방향 학습  <= 오버라이딩(overriding)\n",
    " - 클래스 구조 \n",
    "   * 입력층 : 입력 3개     출력 10개\n",
    "   * 은닉층 : 입력 10개    출력 30개\n",
    "   * 출력층 : 입력 30개     출력 1개\n",
    "\n",
    " - 활성화함수\n",
    "   * 클래스 형태 ==> nn.MELoss, nn.ReLU  -> _ _ init _ _() 메서드에서 사용\n",
    "   * 함수 형태  ==> torch.nn.functional 아래에 -> forward() 메서드에서 사용"
   ]
  },
  {
   "cell_type": "code",
   "execution_count": 5,
   "metadata": {},
   "outputs": [],
   "source": [
    "class irisRegModel(nn.Module) :\n",
    "\n",
    "    # 모델 구조 구성 및 인스턴스 생성 메서드\n",
    "    def __init__(self) :\n",
    "        super().__init__()\n",
    "        self.in_layer = nn.Linear(3,10)\n",
    "        self.h_layer = nn.Linear(10,30)\n",
    "        self.out_layer = nn.Linear(30,1)\n",
    "\n",
    "    # 순방향 학습 진행 메서드\n",
    "    def forward(self, data) :\n",
    "        # 입력층\n",
    "        y = self.in_layer(data)             # f1w1+f2w2+f3w3+...+f10w10+b\n",
    "        F.relu(y)                           # relu => y 값의 범위 : 0 < y\n",
    "        \n",
    "        # 은닉층 : 10개의 숫자값이 들어옴(>=0)\n",
    "        y = self.h_layer(y)\n",
    "        F.relu(y)\n",
    "\n",
    "        # 출력층 : 30개의 숫자값이 들어옴(>=0)\n",
    "        return self.out_layer(y)\n",
    "        "
   ]
  },
  {
   "cell_type": "code",
   "execution_count": 6,
   "metadata": {},
   "outputs": [],
   "source": [
    "model = irisRegModel()"
   ]
  },
  {
   "cell_type": "code",
   "execution_count": 7,
   "metadata": {},
   "outputs": [
    {
     "data": {
      "text/plain": [
       "==========================================================================================\n",
       "Layer (type:depth-idx)                   Output Shape              Param #\n",
       "==========================================================================================\n",
       "irisRegModel                             [100000, 1]               --\n",
       "├─Linear: 1-1                            [100000, 10]              40\n",
       "├─Linear: 1-2                            [100000, 30]              330\n",
       "├─Linear: 1-3                            [100000, 1]               31\n",
       "==========================================================================================\n",
       "Total params: 401\n",
       "Trainable params: 401\n",
       "Non-trainable params: 0\n",
       "Total mult-adds (M): 40.10\n",
       "==========================================================================================\n",
       "Input size (MB): 1.20\n",
       "Forward/backward pass size (MB): 32.80\n",
       "Params size (MB): 0.00\n",
       "Estimated Total Size (MB): 34.00\n",
       "=========================================================================================="
      ]
     },
     "execution_count": 7,
     "metadata": {},
     "output_type": "execute_result"
    }
   ],
   "source": [
    "summary(model, input_size=(100000,3))"
   ]
  },
  {
   "cell_type": "markdown",
   "metadata": {},
   "source": [
    "[3] 데이터셋 클래스 설계 및 정의 <hr>\n",
    " - 데이터셋 : iris.csv\n",
    " - 피쳐개수 : 3개\n",
    " - 타겟개수 : 1개\n",
    " - 클래스명 :  IrisDataset\n",
    " - 부모클래스 : utils.data.Dataset\n",
    " - 속성/필드  : featureDF, targetDF, n_rows, n_features\n",
    " - 필수메서드 : \n",
    "    *  _ _ init _ _(self) : 데이터셋 저장 및 전처리, 기타 필요한 추가 속성 설정\n",
    "    * _ _ len _ _(self) : 데이터의 개수 반환\n",
    "    * _ _ getitem _ _(self, index) : 특정 인덱스의 피쳐와 타겟 반환"
   ]
  },
  {
   "cell_type": "code",
   "execution_count": 8,
   "metadata": {},
   "outputs": [],
   "source": [
    "class IrisDataset(Dataset) :\n",
    "\n",
    "    def __init__(self,featureDF, targetDF) :\n",
    "        self.featureDF = featureDF\n",
    "        self.targetDF = targetDF\n",
    "        self.n_rows = featureDF.shape[0]\n",
    "        self.n_features = featureDF.shape[1]\n",
    "\n",
    "    def __len__(self) :\n",
    "        return self.n_rows\n",
    "\n",
    "    def __getitem__(self, index) :\n",
    "        \n",
    "        # 텐서화\n",
    "        featureTS = torch.FloatTensor(self.featureDF.iloc[index].values)\n",
    "        targetTS = torch.FloatTensor(self.targetDF.iloc[index].values)\n",
    "\n",
    "        # 피쳐와 타겟 반환\n",
    "        return featureTS, targetTS"
   ]
  },
  {
   "cell_type": "code",
   "execution_count": 15,
   "metadata": {},
   "outputs": [
    {
     "name": "stdout",
     "output_type": "stream",
     "text": [
      "(150, 1)\n"
     ]
    },
    {
     "data": {
      "text/html": [
       "<div>\n",
       "<style scoped>\n",
       "    .dataframe tbody tr th:only-of-type {\n",
       "        vertical-align: middle;\n",
       "    }\n",
       "\n",
       "    .dataframe tbody tr th {\n",
       "        vertical-align: top;\n",
       "    }\n",
       "\n",
       "    .dataframe thead th {\n",
       "        text-align: right;\n",
       "    }\n",
       "</style>\n",
       "<table border=\"1\" class=\"dataframe\">\n",
       "  <thead>\n",
       "    <tr style=\"text-align: right;\">\n",
       "      <th></th>\n",
       "      <th>petal.width</th>\n",
       "    </tr>\n",
       "  </thead>\n",
       "  <tbody>\n",
       "    <tr>\n",
       "      <th>0</th>\n",
       "      <td>0.2</td>\n",
       "    </tr>\n",
       "    <tr>\n",
       "      <th>1</th>\n",
       "      <td>0.2</td>\n",
       "    </tr>\n",
       "    <tr>\n",
       "      <th>2</th>\n",
       "      <td>0.2</td>\n",
       "    </tr>\n",
       "    <tr>\n",
       "      <th>3</th>\n",
       "      <td>0.2</td>\n",
       "    </tr>\n",
       "    <tr>\n",
       "      <th>4</th>\n",
       "      <td>0.2</td>\n",
       "    </tr>\n",
       "    <tr>\n",
       "      <th>...</th>\n",
       "      <td>...</td>\n",
       "    </tr>\n",
       "    <tr>\n",
       "      <th>145</th>\n",
       "      <td>2.3</td>\n",
       "    </tr>\n",
       "    <tr>\n",
       "      <th>146</th>\n",
       "      <td>1.9</td>\n",
       "    </tr>\n",
       "    <tr>\n",
       "      <th>147</th>\n",
       "      <td>2.0</td>\n",
       "    </tr>\n",
       "    <tr>\n",
       "      <th>148</th>\n",
       "      <td>2.3</td>\n",
       "    </tr>\n",
       "    <tr>\n",
       "      <th>149</th>\n",
       "      <td>1.8</td>\n",
       "    </tr>\n",
       "  </tbody>\n",
       "</table>\n",
       "<p>150 rows × 1 columns</p>\n",
       "</div>"
      ],
      "text/plain": [
       "     petal.width\n",
       "0            0.2\n",
       "1            0.2\n",
       "2            0.2\n",
       "3            0.2\n",
       "4            0.2\n",
       "..           ...\n",
       "145          2.3\n",
       "146          1.9\n",
       "147          2.0\n",
       "148          2.3\n",
       "149          1.8\n",
       "\n",
       "[150 rows x 1 columns]"
      ]
     },
     "execution_count": 15,
     "metadata": {},
     "output_type": "execute_result"
    }
   ],
   "source": [
    "## 데이터셋 인스턴스 생성\n",
    "\n",
    "# - DataFrame에서 피쳐와 타겟 추출\n",
    "featureDF = irisDF[irisDF.columns[:-1]]\n",
    "targetDF = irisDF[irisDF.columns[-1:]]\n",
    "\n",
    "print(targetDF.shape)\n",
    "\n",
    "# - 커스텀 데이터셋 인스턴스 생성\n",
    "irisDS = IrisDataset(featureDF,targetDF)\n",
    "irisDS.targetDF"
   ]
  },
  {
   "cell_type": "markdown",
   "metadata": {},
   "source": [
    "[4] 학습 준비\n",
    " - 학습횟수 : EPOCH          <- 처음 ~ 끝까지 공부하는 단위  \n",
    " - 배치크기 : BATCH_SIZE     <- 한번에 학습할 데이터 양\n",
    " - 위치지정 : DEVICE         <- 텐서 저장 및 실행 위치 (GPU/CPU)\n",
    " - 학습률(lr) : 가중치와 절편 업데이트 시 경사하강법으로 업데이트 간격 설정 (0.001 ~ 0.1) <- 하이퍼파라미터"
   ]
  },
  {
   "cell_type": "code",
   "execution_count": 10,
   "metadata": {},
   "outputs": [],
   "source": [
    "### 학습 진행 관련 설정값\n",
    "EPOCH = 1\n",
    "BATCH_SIZE = 10\n",
    "BATCH_CNT = irisDF.shape[0]//BATCH_SIZE\n",
    "DEVICE = 'cuda' if torch.cuda.is_available() else 'cpu'\n",
    "LR = 0.001"
   ]
  },
  {
   "cell_type": "markdown",
   "metadata": {},
   "source": [
    " - 학습 준비에 필요한 것\n",
    "    * 인스턴스/객체 : 모델, 데이터셋, 최적화, (, 손실함수, 성능지표)"
   ]
  },
  {
   "cell_type": "code",
   "execution_count": 11,
   "metadata": {},
   "outputs": [],
   "source": [
    "# 모델 인스턴스\n",
    "model = irisRegModel()\n",
    "\n",
    "# 데이터셋 인스턴스\n",
    "X_train, X_test, y_train, y_test = train_test_split(featureDF,targetDF,random_state = 1)\n",
    "X_train, X_val, y_train, y_val = train_test_split(X_train,y_train,random_state = 1)\n",
    "\n",
    "trainDS = IrisDataset(X_train,y_train)\n",
    "valDS = IrisDataset(X_val,y_val)\n",
    "testDS = IrisDataset(X_test, y_test)\n",
    "\n",
    "# 데이터로더 인스턴스\n",
    "trainDL = DataLoader(trainDS,batch_size=BATCH_SIZE)\n"
   ]
  },
  {
   "cell_type": "code",
   "execution_count": 12,
   "metadata": {},
   "outputs": [
    {
     "name": "stdout",
     "output_type": "stream",
     "text": [
      "torch.Size([10, 3]) torch.Size([10, 1])\n"
     ]
    }
   ],
   "source": [
    "## [테스트] 데이터 로더\n",
    "for feature, target in trainDL :\n",
    "    print(feature.shape, target.shape)\n",
    "    break"
   ]
  },
  {
   "cell_type": "code",
   "execution_count": 13,
   "metadata": {},
   "outputs": [],
   "source": [
    "# 최적화 인스턴스 - 최소의 손실을 만드는 w,b 찾는 작업 해주는 인스턴스\n",
    "# 최적화 인스턴스에 model.parameters() 전달 필요\n",
    "optimizer = optim.Adam(model.parameters(),lr=LR)\n",
    "\n",
    "\n",
    "# 손실함수 인스턴스 > 회귀 - MSE, MAE, RMSE, ...\n",
    "regLoss = nn.MSELoss()"
   ]
  },
  {
   "cell_type": "markdown",
   "metadata": {},
   "source": [
    "[5] 학습 진행<hr>"
   ]
  },
  {
   "cell_type": "code",
   "execution_count": 14,
   "metadata": {},
   "outputs": [],
   "source": [
    "## 학습의 효과 확인을 위해 손실값과 성능평가값 저장 필요\n",
    "LOSS_HISTORY, SCORE_HISTORY = [[],[]],[[],[]]\n",
    "\n",
    "for epoch in range(EPOCH) :\n",
    "    # 학습 모드로 모델 설정\n",
    "    model.train()\n",
    "\n",
    "\n",
    "    # 배치크기만큼 데이터 로딩해서 학습 진행\n",
    "    loss_total , score_total = 0, 0\n",
    "    for featureTS, targetTS in trainDL :\n",
    "        \n",
    "        # 학습 진행\n",
    "        pre_y = model(featureTS)\n",
    "\n",
    "        # 손실 계산\n",
    "        loss = regLoss(pre_y,targetTS)\n",
    "        loss_total += loss.item()\n",
    "\n",
    "        # 성능 평가\n",
    "        score = R2Score()(pre_y,targetTS)\n",
    "        score_total += score.item()\n",
    "\n",
    "        # 최적화 진행\n",
    "        optimizer.zero_grad()\n",
    "        loss.backward()\n",
    "        optimizer.step()\n",
    "    \n",
    "    # 에포크 당 검증기능\n",
    "    # 모델 검증 모드 설정\n",
    "    model.eval()\n",
    "    with torch.no_grad():\n",
    "        # 검증 데이터셋\n",
    "        val_featureTS = torch.FloatTensor(valDS.featureDF.values)\n",
    "        val_targetTS = torch.FloatTensor(valDS.targetDF.values)\n",
    "        # 추론/평가\n",
    "        pre_val = model(val_featureTS)\n",
    "        # 손실계산\n",
    "        loss_val = regLoss(pre_val, val_targetTS)\n",
    "        # 성능평가\n",
    "        score_val = R2Score()(pre_val, val_targetTS)\n",
    "\n",
    "\n",
    "\n",
    "    # 손실값과 성능평가값 저장\n",
    "    LOSS_HISTORY[0].append(loss_total/BATCH_CNT) \n",
    "    SCORE_HISTORY[0].append(score_total/BATCH_CNT)\n",
    "    LOSS_HISTORY[1].append(loss_val) \n",
    "    SCORE_HISTORY[1].append(score_val)  "
   ]
  }
 ],
 "metadata": {
  "kernelspec": {
   "display_name": "TORCH_38",
   "language": "python",
   "name": "python3"
  },
  "language_info": {
   "codemirror_mode": {
    "name": "ipython",
    "version": 3
   },
   "file_extension": ".py",
   "mimetype": "text/x-python",
   "name": "python",
   "nbconvert_exporter": "python",
   "pygments_lexer": "ipython3",
   "version": "3.8.19"
  }
 },
 "nbformat": 4,
 "nbformat_minor": 2
}
