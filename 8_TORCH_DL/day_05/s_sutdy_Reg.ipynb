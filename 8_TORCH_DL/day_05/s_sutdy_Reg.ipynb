{
 "cells": [
  {
   "cell_type": "markdown",
   "metadata": {},
   "source": [
    "#### DNN 기반 회귀모델 구현\n",
    " - 데이터셋 : iris.csv\n",
    " - feature : 3개 \n",
    " - target : 1 개\n",
    " - 학습 유형 : 지도 학습 > 회귀\n",
    " - 알고리즘 : DNN "
   ]
  },
  {
   "cell_type": "markdown",
   "metadata": {},
   "source": [
    "[1] 모듈 로딩 및 데이터 준비"
   ]
  },
  {
   "cell_type": "code",
   "execution_count": 1,
   "metadata": {},
   "outputs": [],
   "source": [
    "# 모델 관련\n",
    "import torch\n",
    "import torch.nn as nn\n",
    "import torch.nn.functional as F\n",
    "import torch.optim as optim\n",
    "from torch.utils.data import Dataset,DataLoader\n",
    "from torchmetrics.regression import R2Score\n",
    "from torchinfo import summary\n",
    "\n",
    "\n",
    "# 데이터 관련\n",
    "import pandas as pd\n",
    "import matplotlib.pyplot as plt\n",
    "from sklearn.preprocessing import * \n",
    "from sklearn.model_selection import train_test_split"
   ]
  },
  {
   "cell_type": "code",
   "execution_count": 2,
   "metadata": {},
   "outputs": [
    {
     "name": "stdout",
     "output_type": "stream",
     "text": [
      "Pytorch v 2.4.1\n",
      "pandas v 2.0.3\n"
     ]
    }
   ],
   "source": [
    "# 활용 패키지 버전 체크  ==> 사용자 정의 함수로 구현해놓기\n",
    "def checkversion() :\n",
    "    print(f'Pytorch v {torch.__version__}')\n",
    "    print(f'pandas v {pd.__version__}')\n",
    "\n",
    "checkversion()"
   ]
  },
  {
   "cell_type": "code",
   "execution_count": 3,
   "metadata": {},
   "outputs": [],
   "source": [
    "# 데이터 준비\n",
    "irisDF = pd.read_csv(r'C:\\Users\\hoon\\Desktop\\경대 KDT 6기\\EX_PANDAS6-main\\EX_PANDAS6-main\\TORCH_DL\\data\\iris.csv',usecols=[0,1,2,3])"
   ]
  },
  {
   "cell_type": "markdown",
   "metadata": {},
   "source": [
    "[2] 모델 클래스 설계 및 정의"
   ]
  },
  {
   "cell_type": "code",
   "execution_count": 4,
   "metadata": {},
   "outputs": [],
   "source": [
    "# 학습용 모델 클래스 설계 및 정의\n",
    "\n",
    "class regmodel(nn.Module) :\n",
    "    # 인공신경망 정의\n",
    "    def __init__(self) :\n",
    "        super().__init__()\n",
    "        self.in_layer = nn.Linear(3,10)\n",
    "        self.h_layer = nn.Linear(10,5)\n",
    "        self.out_layer = nn.Linear(5,1)\n",
    "\n",
    "    def forward(self, data) :\n",
    "        # 입력층\n",
    "        y = F.relu(self.in_layer(data))\n",
    "\n",
    "        # 은닉층\n",
    "        y = F.relu(self.h_layer(y))\n",
    "\n",
    "        # 출력층\n",
    "        return self.out_layer(y)"
   ]
  },
  {
   "cell_type": "code",
   "execution_count": 5,
   "metadata": {},
   "outputs": [
    {
     "data": {
      "text/plain": [
       "==========================================================================================\n",
       "Layer (type:depth-idx)                   Output Shape              Param #\n",
       "==========================================================================================\n",
       "regmodel                                 [1000, 1]                 --\n",
       "├─Linear: 1-1                            [1000, 10]                40\n",
       "├─Linear: 1-2                            [1000, 5]                 55\n",
       "├─Linear: 1-3                            [1000, 1]                 6\n",
       "==========================================================================================\n",
       "Total params: 101\n",
       "Trainable params: 101\n",
       "Non-trainable params: 0\n",
       "Total mult-adds (M): 0.10\n",
       "==========================================================================================\n",
       "Input size (MB): 0.01\n",
       "Forward/backward pass size (MB): 0.13\n",
       "Params size (MB): 0.00\n",
       "Estimated Total Size (MB): 0.14\n",
       "=========================================================================================="
      ]
     },
     "execution_count": 5,
     "metadata": {},
     "output_type": "execute_result"
    }
   ],
   "source": [
    "# 테스트용 학습 모델 인스턴스 생성 및 확인\n",
    "test_model = regmodel()\n",
    "\n",
    "summary(test_model,input_size=(1000,3))"
   ]
  },
  {
   "cell_type": "markdown",
   "metadata": {},
   "source": [
    "[3] 데이터셋 클래스 설계 및 정의"
   ]
  },
  {
   "cell_type": "markdown",
   "metadata": {},
   "source": [
    "- 데이터셋 : iris.csv\n",
    "- 피쳐 : 3개\n",
    "- 타겟 : 1개\n",
    "- 클래스명 : regdataste()\n",
    "- 부모클래스 : utils.data.Dataset\n",
    "- 속성/필드 : featureDF, targetDF, n_rows, n_features\n",
    "- 필수 메서드 :\n",
    "    * _ _ init_ _(self)\n",
    "    * _ _ len _ _(self)\n",
    "    * _ _ getitem _ _(self)"
   ]
  },
  {
   "cell_type": "code",
   "execution_count": 6,
   "metadata": {},
   "outputs": [],
   "source": [
    "class regdataset(Dataset) :\n",
    "    def __init__(self,featureDF,targetDF) :\n",
    "        self.featureDF = featureDF\n",
    "        self.targetDF = targetDF\n",
    "        self.n_rows = featureDF.shape[0]\n",
    "        self.n_feature = featureDF.shape[1]\n",
    "\n",
    "    def __len__(self) :\n",
    "        return self.n_rows\n",
    "    \n",
    "    def __getitem__(self, index) :\n",
    "        # 텐서화\n",
    "        featureTS = torch.FloatTensor(self.featureDF.iloc[index].values)\n",
    "        targetTS = torch.FloatTensor(self.targetDF.iloc[index].values)\n",
    "\n",
    "        return featureTS,targetTS\n",
    "    "
   ]
  },
  {
   "cell_type": "code",
   "execution_count": 7,
   "metadata": {},
   "outputs": [
    {
     "data": {
      "text/plain": [
       "<__main__.regdataset at 0x295789a17f0>"
      ]
     },
     "execution_count": 7,
     "metadata": {},
     "output_type": "execute_result"
    }
   ],
   "source": [
    "## 데이터셋 인스턴스 생성\n",
    "\n",
    "# Dataframe에서 피쳐와 타겟 추출\n",
    "featureDF = irisDF[irisDF.columns[:-1]]\n",
    "targetDF = irisDF[[irisDF.columns[-1]]]\n",
    "\n",
    "# 커스텀 데이터셋 생성\n",
    "\n",
    "irisDS = regdataset(featureDF,targetDF)\n",
    "irisDS"
   ]
  },
  {
   "cell_type": "markdown",
   "metadata": {},
   "source": [
    "##### [4] 학습준비\n",
    " - 학습횟수 : EPOCH\n",
    " - 배치크기 : BATCH_SIZE\n",
    " - 저장 위치 지정 : DEVICE\n",
    " - 학습률(lr)"
   ]
  },
  {
   "cell_type": "code",
   "execution_count": 8,
   "metadata": {},
   "outputs": [],
   "source": [
    "EPOCH = 1\n",
    "BATCH_SIZE = 32\n",
    "BATCH_CNT = irisDF.shape[0] // BATCH_SIZE\n",
    "DEVICE = 'cuda' if torch.cuda.is_available() else 'cpu'\n",
    "LR = 0.001"
   ]
  },
  {
   "cell_type": "markdown",
   "metadata": {},
   "source": [
    "- 학습 준비에 필요한 것\n",
    "    * 학습 모델 인스턴스\n",
    "    * 데이터셋 인스턴스\n",
    "        * 학습용DS\n",
    "        * 검증용DS\n",
    "        * 테스트용DS\n",
    "    * 데이터로더 인스턴스"
   ]
  },
  {
   "cell_type": "code",
   "execution_count": 9,
   "metadata": {},
   "outputs": [],
   "source": [
    "# 학습 모델 인스턴스\n",
    "model = regmodel()\n",
    "\n",
    "# 데이터셋 인스턴스\n",
    "X_train, X_test, y_train, y_test = train_test_split(featureDF,targetDF, random_state=1)\n",
    "\n",
    "X_train, X_val, y_train, y_val = train_test_split(X_train,y_train,random_state=1)\n",
    "\n",
    "trainDS = regdataset(X_train, y_train)\n",
    "valDS = regdataset(X_val, y_val)\n",
    "testDS = regdataset(X_test, y_test)\n",
    "\n",
    "# 데이터로더 인스턴스\n",
    "trainDL = DataLoader(trainDS,batch_size=BATCH_SIZE)\n"
   ]
  },
  {
   "cell_type": "code",
   "execution_count": 10,
   "metadata": {},
   "outputs": [
    {
     "name": "stdout",
     "output_type": "stream",
     "text": [
      "torch.Size([32, 3]) torch.Size([32, 1])\n"
     ]
    }
   ],
   "source": [
    "# 데이터로더 테스트\n",
    "for feature, target in trainDL :\n",
    "    print(feature.shape, target.shape)\n",
    "    break"
   ]
  },
  {
   "cell_type": "code",
   "execution_count": 11,
   "metadata": {},
   "outputs": [],
   "source": [
    "# 최적화 인스턴스 생성\n",
    "optimizer = optim.Adam(model.parameters(),lr=LR)\n",
    "\n",
    "# 손실함수 인스턴스 생성\n",
    "regLoss = nn.MSELoss()"
   ]
  },
  {
   "cell_type": "code",
   "execution_count": 12,
   "metadata": {},
   "outputs": [],
   "source": [
    "## 학습 효과 확인 위한 손실값과 성능평가값 저장 필요\n",
    "Loss_History, Score_History = [[],[]],[[],[]]\n",
    "\n",
    "for epoch in range(EPOCH) :\n",
    "    # 모델 학습 모드 설정\n",
    "    model.train()\n",
    "\n",
    "    # 배치크기만큼 학습 진행\n",
    "    loss_total , score_total = 0,0\n",
    "    for featureTS, targetTS in trainDL :\n",
    "\n",
    "        # 학습 진행\n",
    "        pre_y = model(featureTS)\n",
    "\n",
    "        # 손실 계산\n",
    "        loss = regLoss(pre_y,targetTS)\n",
    "        loss_total += loss\n",
    "\n",
    "        # 성능평가 계산\n",
    "\n",
    "        score = R2Score()(pre_y,targetTS)\n",
    "        score_total += score\n",
    "\n",
    "        # 최적화 진행\n",
    "        optimizer.zero_grad()\n",
    "        loss.backward()\n",
    "        optimizer.step()\n",
    "\n",
    "    # 에코프 당 검증기능\n",
    "    # 모델 검증 기능 설정\n",
    "    model.eval()\n",
    "    with torch.no_grad() : # <-- 업데이트 안하려고\n",
    "        # 검증 데이터셋\n",
    "        val_featuresTS = torch.FloatTensor(valDS.featureDF.values)\n",
    "        val_targetTS = torch.FloatTensor(valDS.targetDF.values)\n",
    "\n",
    "        # 추론 / 평가\n",
    "        pre_val = model(val_featuresTS)\n",
    "        # 손실 계산\n",
    "        val_loss = regLoss(pre_val, val_targetTS)\n",
    "        # 성능 평가\n",
    "        val_score = R2Score()(pre_val,val_targetTS)\n",
    "\n",
    "\n",
    "    # 손실값과 성능평가값 저장\n",
    "    Loss_History[0].append(loss_total/BATCH_CNT)\n",
    "    Loss_History[1].append(val_loss)\n",
    "    Score_History[0].append(score_total/BATCH_CNT)\n",
    "    Score_History[1].append(val_score)\n",
    "    "
   ]
  },
  {
   "cell_type": "code",
   "execution_count": 13,
   "metadata": {},
   "outputs": [
    {
     "name": "stdout",
     "output_type": "stream",
     "text": [
      "[tensor(2.6831, grad_fn=<DivBackward0>)] [tensor(3.1160)]\n",
      "[tensor(-4.1531, grad_fn=<DivBackward0>)] [tensor(-3.8271)]\n"
     ]
    }
   ],
   "source": [
    "print(Loss_History[0], Loss_History[1])\n",
    "print(Score_History[0], Score_History[1])"
   ]
  },
  {
   "cell_type": "code",
   "execution_count": null,
   "metadata": {},
   "outputs": [],
   "source": []
  }
 ],
 "metadata": {
  "kernelspec": {
   "display_name": "TORCH_38",
   "language": "python",
   "name": "python3"
  },
  "language_info": {
   "codemirror_mode": {
    "name": "ipython",
    "version": 3
   },
   "file_extension": ".py",
   "mimetype": "text/x-python",
   "name": "python",
   "nbconvert_exporter": "python",
   "pygments_lexer": "ipython3",
   "version": "3.8.19"
  }
 },
 "nbformat": 4,
 "nbformat_minor": 2
}
