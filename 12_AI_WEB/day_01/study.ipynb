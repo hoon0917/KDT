{
 "cells": [
  {
   "cell_type": "markdown",
   "metadata": {},
   "source": [
    "프로토콜(protocall)\n",
    " - 규칙/규약\n",
    " - 서로 다른 기기/디바이스/장치 또는 프로그램 사이에서 데이터를 주고 받기 위한 규칙"
   ]
  },
  {
   "cell_type": "markdown",
   "metadata": {},
   "source": [
    "함수 : 자주 사용되는 기능/코드 ==> 재사용 good / 중복 작성 bad\n",
    " - 함수 프로토콜 설계 \n",
    " - 함수이름, 매개변수(타입, 이름), 반환값"
   ]
  },
  {
   "cell_type": "markdown",
   "metadata": {},
   "source": []
  }
 ],
 "metadata": {
  "kernelspec": {
   "display_name": "TORCH_TEXT",
   "language": "python",
   "name": "python3"
  },
  "language_info": {
   "name": "python",
   "version": "3.8.19"
  }
 },
 "nbformat": 4,
 "nbformat_minor": 2
}
