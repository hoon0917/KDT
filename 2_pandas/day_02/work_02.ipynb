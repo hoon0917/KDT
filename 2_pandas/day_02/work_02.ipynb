{
 "cells": [
  {
   "cell_type": "markdown",
   "metadata": {},
   "source": [
    "### 데이터셋 불러오기\n"
   ]
  },
  {
   "cell_type": "code",
   "execution_count": 23,
   "metadata": {},
   "outputs": [],
   "source": [
    "import pandas as pd"
   ]
  },
  {
   "cell_type": "markdown",
   "metadata": {},
   "source": [
    "첫 데이터셋 불러오기"
   ]
  },
  {
   "cell_type": "code",
   "execution_count": 24,
   "metadata": {},
   "outputs": [],
   "source": [
    "df=pd.read_csv(r\"C:\\Users\\KDP-17\\Desktop\\data.csv\")"
   ]
  },
  {
   "cell_type": "code",
   "execution_count": 25,
   "metadata": {},
   "outputs": [
    {
     "name": "stdout",
     "output_type": "stream",
     "text": [
      "   no     name  age gender\n",
      "0   1     Hong   10      F\n",
      "1   2     Atom   25      F\n",
      "2   3     Jang   63      M\n",
      "3   4  IronMan   48      F\n",
      "4   5     CapA  123      M\n",
      "5   6       Po   45      F\n",
      "6   7      San   25      M\n"
     ]
    }
   ],
   "source": [
    "print(df)"
   ]
  },
  {
   "cell_type": "markdown",
   "metadata": {},
   "source": [
    "데이터프레임 이해하기"
   ]
  },
  {
   "cell_type": "code",
   "execution_count": 26,
   "metadata": {},
   "outputs": [
    {
     "name": "stdout",
     "output_type": "stream",
     "text": [
      "<class 'pandas.core.frame.DataFrame'>\n"
     ]
    }
   ],
   "source": [
    "print(type(df))"
   ]
  },
  {
   "cell_type": "code",
   "execution_count": 27,
   "metadata": {},
   "outputs": [
    {
     "name": "stdout",
     "output_type": "stream",
     "text": [
      "(7, 4)\n"
     ]
    }
   ],
   "source": [
    "# 첫번째 값이 행 개수, 두번재 값이 열 개수\n",
    "print(df.shape)"
   ]
  },
  {
   "cell_type": "code",
   "execution_count": 28,
   "metadata": {},
   "outputs": [
    {
     "name": "stdout",
     "output_type": "stream",
     "text": [
      "Index(['no', 'name', 'age', 'gender'], dtype='object')\n"
     ]
    }
   ],
   "source": [
    "print(df.columns)"
   ]
  },
  {
   "cell_type": "code",
   "execution_count": 29,
   "metadata": {},
   "outputs": [
    {
     "name": "stdout",
     "output_type": "stream",
     "text": [
      "no         int64\n",
      "name      object\n",
      "age        int64\n",
      "gender    object\n",
      "dtype: object\n"
     ]
    }
   ],
   "source": [
    "print(df.dtypes)"
   ]
  },
  {
   "cell_type": "code",
   "execution_count": 32,
   "metadata": {},
   "outputs": [
    {
     "name": "stdout",
     "output_type": "stream",
     "text": [
      "<class 'pandas.core.frame.DataFrame'>\n",
      "RangeIndex: 7 entries, 0 to 6\n",
      "Data columns (total 4 columns):\n",
      " #   Column  Non-Null Count  Dtype \n",
      "---  ------  --------------  ----- \n",
      " 0   no      7 non-null      int64 \n",
      " 1   name    7 non-null      object\n",
      " 2   age     7 non-null      int64 \n",
      " 3   gender  7 non-null      object\n",
      "dtypes: int64(2), object(2)\n",
      "memory usage: 352.0+ bytes\n",
      "None\n"
     ]
    }
   ],
   "source": [
    "print(df.info())"
   ]
  },
  {
   "cell_type": "markdown",
   "metadata": {},
   "source": [
    "### 데이터 추출하기"
   ]
  },
  {
   "cell_type": "code",
   "execution_count": 31,
   "metadata": {},
   "outputs": [
    {
     "name": "stdout",
     "output_type": "stream",
     "text": [
      "   no     name  age gender\n",
      "0   1     Hong   10      F\n",
      "1   2     Atom   25      F\n",
      "2   3     Jang   63      M\n",
      "3   4  IronMan   48      F\n",
      "4   5     CapA  123      M\n"
     ]
    }
   ],
   "source": [
    "print(df.head())"
   ]
  },
  {
   "cell_type": "markdown",
   "metadata": {},
   "source": [
    "문자열로 열 데이터 추출하기\n"
   ]
  },
  {
   "cell_type": "code",
   "execution_count": 35,
   "metadata": {},
   "outputs": [
    {
     "name": "stdout",
     "output_type": "stream",
     "text": [
      "0       Hong\n",
      "1       Atom\n",
      "2       Jang\n",
      "3    IronMan\n",
      "4       CapA\n",
      "5         Po\n",
      "6        San\n",
      "Name: name, dtype: object\n"
     ]
    }
   ],
   "source": [
    "name_df=df['name']\n",
    "print(name_df)"
   ]
  },
  {
   "cell_type": "code",
   "execution_count": 34,
   "metadata": {},
   "outputs": [
    {
     "name": "stdout",
     "output_type": "stream",
     "text": [
      "0       Hong\n",
      "1       Atom\n",
      "2       Jang\n",
      "3    IronMan\n",
      "4       CapA\n",
      "Name: name, dtype: object\n"
     ]
    }
   ],
   "source": [
    "print(name_df.head())"
   ]
  },
  {
   "cell_type": "code",
   "execution_count": 37,
   "metadata": {},
   "outputs": [
    {
     "name": "stdout",
     "output_type": "stream",
     "text": [
      "2       Jang\n",
      "3    IronMan\n",
      "4       CapA\n",
      "5         Po\n",
      "6        San\n",
      "Name: name, dtype: object\n"
     ]
    }
   ],
   "source": [
    "print(name_df.tail())"
   ]
  },
  {
   "cell_type": "markdown",
   "metadata": {},
   "source": [
    "리스트로 열 데이터 추출하기"
   ]
  },
  {
   "cell_type": "code",
   "execution_count": 38,
   "metadata": {},
   "outputs": [
    {
     "name": "stdout",
     "output_type": "stream",
     "text": [
      "      name  age gender\n",
      "0     Hong   10      F\n",
      "1     Atom   25      F\n",
      "2     Jang   63      M\n",
      "3  IronMan   48      F\n",
      "4     CapA  123      M\n",
      "5       Po   45      F\n",
      "6      San   25      M\n"
     ]
    }
   ],
   "source": [
    "subset=df[['name','age','gender']]\n",
    "print(subset)"
   ]
  },
  {
   "cell_type": "code",
   "execution_count": 41,
   "metadata": {},
   "outputs": [
    {
     "name": "stdout",
     "output_type": "stream",
     "text": [
      "<class 'pandas.core.series.Series'>\n"
     ]
    }
   ],
   "source": [
    "name_df=df['name']\n",
    "print(type(name_df))"
   ]
  },
  {
   "cell_type": "code",
   "execution_count": 42,
   "metadata": {},
   "outputs": [
    {
     "name": "stdout",
     "output_type": "stream",
     "text": [
      "0       Hong\n",
      "1       Atom\n",
      "2       Jang\n",
      "3    IronMan\n",
      "4       CapA\n",
      "5         Po\n",
      "6        San\n",
      "Name: name, dtype: object\n"
     ]
    }
   ],
   "source": [
    "print(name_df)"
   ]
  },
  {
   "cell_type": "code",
   "execution_count": 43,
   "metadata": {},
   "outputs": [
    {
     "name": "stdout",
     "output_type": "stream",
     "text": [
      "<class 'pandas.core.frame.DataFrame'>\n"
     ]
    }
   ],
   "source": [
    "name_df_list=df[['name']]\n",
    "print(type(name_df_list))"
   ]
  },
  {
   "cell_type": "code",
   "execution_count": 44,
   "metadata": {},
   "outputs": [
    {
     "name": "stdout",
     "output_type": "stream",
     "text": [
      "      name\n",
      "0     Hong\n",
      "1     Atom\n",
      "2     Jang\n",
      "3  IronMan\n",
      "4     CapA\n",
      "5       Po\n",
      "6      San\n"
     ]
    }
   ],
   "source": [
    "print(name_df_list)"
   ]
  },
  {
   "cell_type": "code",
   "execution_count": 45,
   "metadata": {},
   "outputs": [
    {
     "name": "stdout",
     "output_type": "stream",
     "text": [
      "0       Hong\n",
      "1       Atom\n",
      "2       Jang\n",
      "3    IronMan\n",
      "4       CapA\n",
      "5         Po\n",
      "6        San\n",
      "Name: name, dtype: object\n"
     ]
    }
   ],
   "source": [
    "print(df.name)"
   ]
  },
  {
   "cell_type": "markdown",
   "metadata": {},
   "source": [
    "행 이름으로 행 데이터 추출하기"
   ]
  },
  {
   "cell_type": "code",
   "execution_count": 46,
   "metadata": {},
   "outputs": [
    {
     "name": "stdout",
     "output_type": "stream",
     "text": [
      "   no     name  age gender\n",
      "0   1     Hong   10      F\n",
      "1   2     Atom   25      F\n",
      "2   3     Jang   63      M\n",
      "3   4  IronMan   48      F\n",
      "4   5     CapA  123      M\n",
      "5   6       Po   45      F\n",
      "6   7      San   25      M\n"
     ]
    }
   ],
   "source": [
    "print(df)"
   ]
  },
  {
   "cell_type": "code",
   "execution_count": 47,
   "metadata": {},
   "outputs": [
    {
     "name": "stdout",
     "output_type": "stream",
     "text": [
      "no           1\n",
      "name      Hong\n",
      "age         10\n",
      "gender       F\n",
      "Name: 0, dtype: object\n"
     ]
    }
   ],
   "source": [
    "print(df.loc[0])"
   ]
  },
  {
   "cell_type": "code",
   "execution_count": 48,
   "metadata": {},
   "outputs": [
    {
     "name": "stdout",
     "output_type": "stream",
     "text": [
      "no          7\n",
      "name      San\n",
      "age        25\n",
      "gender      M\n",
      "Name: 6, dtype: object\n"
     ]
    }
   ],
   "source": [
    "print(df.loc[6])"
   ]
  },
  {
   "cell_type": "code",
   "execution_count": 50,
   "metadata": {},
   "outputs": [],
   "source": [
    "# print(df.loc[-1])"
   ]
  },
  {
   "cell_type": "code",
   "execution_count": 51,
   "metadata": {},
   "outputs": [],
   "source": [
    "number_of_rows=df.shape[0]"
   ]
  },
  {
   "cell_type": "code",
   "execution_count": 52,
   "metadata": {},
   "outputs": [],
   "source": [
    "last_row_index=number_of_rows-1"
   ]
  },
  {
   "cell_type": "code",
   "execution_count": 54,
   "metadata": {},
   "outputs": [
    {
     "name": "stdout",
     "output_type": "stream",
     "text": [
      "no          7\n",
      "name      San\n",
      "age        25\n",
      "gender      M\n",
      "Name: 6, dtype: object\n"
     ]
    }
   ],
   "source": [
    "print(df.loc[last_row_index])"
   ]
  },
  {
   "cell_type": "code",
   "execution_count": 55,
   "metadata": {},
   "outputs": [
    {
     "name": "stdout",
     "output_type": "stream",
     "text": [
      "   no name  age gender\n",
      "6   7  San   25      M\n"
     ]
    }
   ],
   "source": [
    "print(df.tail(n=1))"
   ]
  },
  {
   "cell_type": "code",
   "execution_count": 59,
   "metadata": {},
   "outputs": [
    {
     "name": "stdout",
     "output_type": "stream",
     "text": [
      "<class 'pandas.core.frame.DataFrame'>\n"
     ]
    }
   ],
   "source": [
    "print(type(df.tail(n=1)))"
   ]
  },
  {
   "cell_type": "code",
   "execution_count": 61,
   "metadata": {},
   "outputs": [
    {
     "name": "stdout",
     "output_type": "stream",
     "text": [
      "<class 'pandas.core.series.Series'>\n"
     ]
    }
   ],
   "source": [
    "print(type(df.loc[last_row_index]))"
   ]
  },
  {
   "cell_type": "code",
   "execution_count": 62,
   "metadata": {},
   "outputs": [
    {
     "name": "stdout",
     "output_type": "stream",
     "text": [
      "   no     name  age gender\n",
      "0   1     Hong   10      F\n",
      "1   2     Atom   25      F\n",
      "2   3     Jang   63      M\n",
      "3   4  IronMan   48      F\n",
      "4   5     CapA  123      M\n",
      "5   6       Po   45      F\n",
      "6   7      San   25      M\n"
     ]
    }
   ],
   "source": [
    "print(df)"
   ]
  },
  {
   "cell_type": "code",
   "execution_count": 63,
   "metadata": {},
   "outputs": [
    {
     "name": "stdout",
     "output_type": "stream",
     "text": [
      "   no     name  age gender\n",
      "0   1     Hong   10      F\n",
      "1   2     Atom   25      F\n",
      "2   3     Jang   63      M\n",
      "3   4  IronMan   48      F\n",
      "4   5     CapA  123      M\n",
      "5   6       Po   45      F\n"
     ]
    }
   ],
   "source": [
    "print(df.loc[0:5])"
   ]
  },
  {
   "cell_type": "code",
   "execution_count": 64,
   "metadata": {},
   "outputs": [
    {
     "name": "stdout",
     "output_type": "stream",
     "text": [
      "   no  name  age gender\n",
      "0   1  Hong   10      F\n",
      "1   2  Atom   25      F\n",
      "2   3  Jang   63      M\n"
     ]
    }
   ],
   "source": [
    "print(df.loc[[0,1,2]])"
   ]
  },
  {
   "cell_type": "code",
   "execution_count": 65,
   "metadata": {},
   "outputs": [
    {
     "name": "stdout",
     "output_type": "stream",
     "text": [
      "10\n"
     ]
    }
   ],
   "source": [
    "print(df.loc[0]['age'])"
   ]
  },
  {
   "cell_type": "markdown",
   "metadata": {},
   "source": [
    "행 번호로 행 데이터 추출하기"
   ]
  },
  {
   "cell_type": "code",
   "execution_count": 66,
   "metadata": {},
   "outputs": [
    {
     "name": "stdout",
     "output_type": "stream",
     "text": [
      "no           1\n",
      "name      Hong\n",
      "age         10\n",
      "gender       F\n",
      "Name: 0, dtype: object\n"
     ]
    }
   ],
   "source": [
    "print(df.iloc[0])"
   ]
  },
  {
   "cell_type": "code",
   "execution_count": 67,
   "metadata": {},
   "outputs": [
    {
     "name": "stdout",
     "output_type": "stream",
     "text": [
      "no         6\n",
      "name      Po\n",
      "age       45\n",
      "gender     F\n",
      "Name: 5, dtype: object\n"
     ]
    }
   ],
   "source": [
    "print(df.iloc[5])"
   ]
  },
  {
   "cell_type": "code",
   "execution_count": 68,
   "metadata": {},
   "outputs": [
    {
     "name": "stdout",
     "output_type": "stream",
     "text": [
      "no          7\n",
      "name      San\n",
      "age        25\n",
      "gender      M\n",
      "Name: 6, dtype: object\n"
     ]
    }
   ],
   "source": [
    "print(df.iloc[-1])"
   ]
  },
  {
   "cell_type": "code",
   "execution_count": 69,
   "metadata": {},
   "outputs": [
    {
     "name": "stdout",
     "output_type": "stream",
     "text": [
      "   no  name  age gender\n",
      "0   1  Hong   10      F\n",
      "5   6    Po   45      F\n",
      "6   7   San   25      M\n"
     ]
    }
   ],
   "source": [
    "print(df.iloc[[0,5,6]])"
   ]
  },
  {
   "cell_type": "markdown",
   "metadata": {},
   "source": [
    "슬라이싱 구문으로 데이터 추출하기"
   ]
  },
  {
   "cell_type": "code",
   "execution_count": 70,
   "metadata": {},
   "outputs": [
    {
     "name": "stdout",
     "output_type": "stream",
     "text": [
      "   no     name  age gender\n",
      "0   1     Hong   10      F\n",
      "1   2     Atom   25      F\n",
      "2   3     Jang   63      M\n",
      "3   4  IronMan   48      F\n",
      "4   5     CapA  123      M\n",
      "5   6       Po   45      F\n",
      "6   7      San   25      M\n"
     ]
    }
   ],
   "source": [
    "print(df)"
   ]
  },
  {
   "cell_type": "code",
   "execution_count": 72,
   "metadata": {},
   "outputs": [
    {
     "name": "stdout",
     "output_type": "stream",
     "text": [
      "      name  age\n",
      "0     Hong   10\n",
      "1     Atom   25\n",
      "2     Jang   63\n",
      "3  IronMan   48\n",
      "4     CapA  123\n",
      "5       Po   45\n",
      "6      San   25\n"
     ]
    }
   ],
   "source": [
    "subset=df.loc[:,['name','age']]\n",
    "print(subset)"
   ]
  },
  {
   "cell_type": "code",
   "execution_count": 77,
   "metadata": {},
   "outputs": [
    {
     "name": "stdout",
     "output_type": "stream",
     "text": [
      "   no     name  age gender\n",
      "0   1     Hong   10      F\n",
      "1   2     Atom   25      F\n",
      "2   3     Jang   63      M\n",
      "3   4  IronMan   48      F\n",
      "4   5     CapA  123      M\n",
      "5   6       Po   45      F\n",
      "6   7      San   25      M\n"
     ]
    }
   ],
   "source": [
    "print(df)"
   ]
  },
  {
   "cell_type": "code",
   "execution_count": 81,
   "metadata": {},
   "outputs": [
    {
     "name": "stdout",
     "output_type": "stream",
     "text": [
      "   no  name  age gender\n",
      "2   3  Jang   63      M\n",
      "4   5  CapA  123      M\n",
      "6   7   San   25      M\n"
     ]
    }
   ],
   "source": [
    "subset2=df.iloc[[2,4,-1]]\n",
    "print(subset2)"
   ]
  },
  {
   "cell_type": "markdown",
   "metadata": {},
   "source": [
    "range()로 데이터 추출하기"
   ]
  },
  {
   "cell_type": "code",
   "execution_count": 83,
   "metadata": {},
   "outputs": [
    {
     "name": "stdout",
     "output_type": "stream",
     "text": [
      "[0, 1, 2, 3, 4]\n"
     ]
    }
   ],
   "source": [
    "samll_range=list(range(5))\n",
    "print(samll_range)"
   ]
  },
  {
   "cell_type": "code",
   "execution_count": 84,
   "metadata": {},
   "outputs": [
    {
     "name": "stdout",
     "output_type": "stream",
     "text": [
      "   no     name  age gender\n",
      "0   1     Hong   10      F\n",
      "1   2     Atom   25      F\n",
      "2   3     Jang   63      M\n",
      "3   4  IronMan   48      F\n",
      "4   5     CapA  123      M\n"
     ]
    }
   ],
   "source": [
    "print(df.iloc[samll_range])"
   ]
  },
  {
   "cell_type": "code",
   "execution_count": 85,
   "metadata": {},
   "outputs": [
    {
     "name": "stdout",
     "output_type": "stream",
     "text": [
      "[3, 4, 5]\n"
     ]
    }
   ],
   "source": [
    "small_range2=list(range(3,6))\n",
    "print(small_range2)"
   ]
  },
  {
   "cell_type": "code",
   "execution_count": 87,
   "metadata": {},
   "outputs": [
    {
     "name": "stdout",
     "output_type": "stream",
     "text": [
      "[1, 3]\n"
     ]
    }
   ],
   "source": [
    "small_range3=list(range(1,5,2))\n",
    "print(small_range3)"
   ]
  },
  {
   "cell_type": "code",
   "execution_count": 97,
   "metadata": {},
   "outputs": [
    {
     "name": "stdout",
     "output_type": "stream",
     "text": [
      "      name gender\n",
      "0     Hong      F\n",
      "1     Atom      F\n",
      "2     Jang      M\n",
      "3  IronMan      F\n",
      "4     CapA      M\n",
      "5       Po      F\n",
      "6      San      M\n"
     ]
    }
   ],
   "source": [
    "print(df.iloc[:,small_range3])"
   ]
  },
  {
   "cell_type": "markdown",
   "metadata": {},
   "source": [
    "슬라이싱 구문과 range()비교하기"
   ]
  },
  {
   "cell_type": "code",
   "execution_count": 91,
   "metadata": {},
   "outputs": [
    {
     "name": "stdout",
     "output_type": "stream",
     "text": [
      "Index(['no', 'name', 'age', 'gender'], dtype='object')\n"
     ]
    }
   ],
   "source": [
    "print(df.columns)"
   ]
  },
  {
   "cell_type": "code",
   "execution_count": 96,
   "metadata": {},
   "outputs": [
    {
     "name": "stdout",
     "output_type": "stream",
     "text": [
      "   no     name  age\n",
      "0   1     Hong   10\n",
      "1   2     Atom   25\n",
      "2   3     Jang   63\n",
      "3   4  IronMan   48\n",
      "4   5     CapA  123\n",
      "5   6       Po   45\n",
      "6   7      San   25\n"
     ]
    }
   ],
   "source": [
    "small_range4=list(range(3))\n",
    "print(df.iloc[:,small_range4])"
   ]
  },
  {
   "cell_type": "code",
   "execution_count": 94,
   "metadata": {},
   "outputs": [
    {
     "name": "stdout",
     "output_type": "stream",
     "text": [
      "   no     name  age\n",
      "0   1     Hong   10\n",
      "1   2     Atom   25\n",
      "2   3     Jang   63\n",
      "3   4  IronMan   48\n",
      "4   5     CapA  123\n",
      "5   6       Po   45\n",
      "6   7      San   25\n"
     ]
    }
   ],
   "source": [
    "print(df.iloc[:,:3])"
   ]
  },
  {
   "cell_type": "code",
   "execution_count": 95,
   "metadata": {},
   "outputs": [
    {
     "name": "stdout",
     "output_type": "stream",
     "text": [
      "   no  name  age gender\n",
      "0   1  Hong   10      F\n",
      "1   2  Atom   25      F\n",
      "2   3  Jang   63      M\n"
     ]
    }
   ],
   "source": [
    "print(df.iloc[:3])"
   ]
  },
  {
   "cell_type": "code",
   "execution_count": 108,
   "metadata": {},
   "outputs": [
    {
     "name": "stdout",
     "output_type": "stream",
     "text": [
      "   no     name  age\n",
      "0   1     Hong   10\n",
      "1   2     Atom   25\n",
      "2   3     Jang   63\n",
      "3   4  IronMan   48\n",
      "4   5     CapA  123\n",
      "5   6       Po   45\n",
      "6   7      San   25\n"
     ]
    }
   ],
   "source": [
    "print(df.iloc[:,:3])\n"
   ]
  },
  {
   "cell_type": "code",
   "execution_count": 110,
   "metadata": {},
   "outputs": [
    {
     "name": "stdout",
     "output_type": "stream",
     "text": [
      "   no     name  age\n",
      "0   1     Hong   10\n",
      "1   2     Atom   25\n",
      "2   3     Jang   63\n",
      "3   4  IronMan   48\n",
      "4   5     CapA  123\n",
      "5   6       Po   45\n",
      "6   7      San   25\n"
     ]
    }
   ],
   "source": [
    "print(df.loc[:,'no':'age'])"
   ]
  },
  {
   "cell_type": "code",
   "execution_count": 111,
   "metadata": {},
   "outputs": [
    {
     "name": "stdout",
     "output_type": "stream",
     "text": [
      "   no     name  age gender\n",
      "0   1     Hong   10      F\n",
      "1   2     Atom   25      F\n",
      "2   3     Jang   63      M\n",
      "3   4  IronMan   48      F\n",
      "4   5     CapA  123      M\n",
      "5   6       Po   45      F\n"
     ]
    }
   ],
   "source": [
    "print(df.loc[0:5])"
   ]
  },
  {
   "cell_type": "code",
   "execution_count": 114,
   "metadata": {},
   "outputs": [
    {
     "name": "stdout",
     "output_type": "stream",
     "text": [
      "   no     name\n",
      "0   1     Hong\n",
      "1   2     Atom\n",
      "2   3     Jang\n",
      "3   4  IronMan\n",
      "4   5     CapA\n",
      "5   6       Po\n",
      "6   7      San\n"
     ]
    }
   ],
   "source": [
    "print(df.iloc[:,:2])"
   ]
  },
  {
   "cell_type": "code",
   "execution_count": 115,
   "metadata": {},
   "outputs": [
    {
     "name": "stdout",
     "output_type": "stream",
     "text": [
      "      name  age\n",
      "0     Hong   10\n",
      "1     Atom   25\n",
      "2     Jang   63\n",
      "3  IronMan   48\n",
      "4     CapA  123\n",
      "5       Po   45\n",
      "6      San   25\n"
     ]
    }
   ],
   "source": [
    "small_range6=list(range(1,3))\n",
    "subset=df.iloc[:,small_range6]\n",
    "print(subset)"
   ]
  },
  {
   "cell_type": "code",
   "execution_count": 116,
   "metadata": {},
   "outputs": [
    {
     "name": "stdout",
     "output_type": "stream",
     "text": [
      "      name  age\n",
      "0     Hong   10\n",
      "1     Atom   25\n",
      "2     Jang   63\n",
      "3  IronMan   48\n",
      "4     CapA  123\n",
      "5       Po   45\n",
      "6      San   25\n"
     ]
    }
   ],
   "source": [
    "subset=df.iloc[:,1:3]\n",
    "print(subset)"
   ]
  },
  {
   "cell_type": "code",
   "execution_count": 117,
   "metadata": {},
   "outputs": [
    {
     "name": "stdout",
     "output_type": "stream",
     "text": [
      "      name\n",
      "0     Hong\n",
      "1     Atom\n",
      "2     Jang\n",
      "3  IronMan\n",
      "4     CapA\n",
      "5       Po\n",
      "6      San\n"
     ]
    }
   ],
   "source": [
    "small_range7=list(range(1,3,2))\n",
    "subset=df.iloc[:,small_range7]\n",
    "print(subset)"
   ]
  },
  {
   "cell_type": "code",
   "execution_count": 119,
   "metadata": {},
   "outputs": [
    {
     "name": "stdout",
     "output_type": "stream",
     "text": [
      "   no  age\n",
      "0   1   10\n",
      "1   2   25\n",
      "2   3   63\n",
      "3   4   48\n",
      "4   5  123\n",
      "5   6   45\n",
      "6   7   25\n"
     ]
    }
   ],
   "source": [
    "print(df.iloc[:,:3:2])"
   ]
  },
  {
   "cell_type": "markdown",
   "metadata": {},
   "source": [
    "행과 열 함께 지정하여 추출하기"
   ]
  },
  {
   "cell_type": "code",
   "execution_count": 120,
   "metadata": {},
   "outputs": [
    {
     "name": "stdout",
     "output_type": "stream",
     "text": [
      "   no     name  age gender\n",
      "0   1     Hong   10      F\n",
      "1   2     Atom   25      F\n",
      "2   3     Jang   63      M\n",
      "3   4  IronMan   48      F\n",
      "4   5     CapA  123      M\n",
      "5   6       Po   45      F\n",
      "6   7      San   25      M\n"
     ]
    }
   ],
   "source": [
    "print(df)"
   ]
  },
  {
   "cell_type": "code",
   "execution_count": 122,
   "metadata": {},
   "outputs": [
    {
     "name": "stdout",
     "output_type": "stream",
     "text": [
      "IronMan\n"
     ]
    }
   ],
   "source": [
    "print(df.loc[3,'name'])"
   ]
  },
  {
   "cell_type": "code",
   "execution_count": 124,
   "metadata": {},
   "outputs": [
    {
     "name": "stdout",
     "output_type": "stream",
     "text": [
      "IronMan\n"
     ]
    }
   ],
   "source": [
    "print(df.iloc[3,1])"
   ]
  },
  {
   "cell_type": "markdown",
   "metadata": {},
   "source": [
    "여러 행과 열 지정하여 데이터 추출하기"
   ]
  },
  {
   "cell_type": "code",
   "execution_count": 125,
   "metadata": {},
   "outputs": [
    {
     "name": "stdout",
     "output_type": "stream",
     "text": [
      "   no     name  age gender\n",
      "0   1     Hong   10      F\n",
      "1   2     Atom   25      F\n",
      "2   3     Jang   63      M\n",
      "3   4  IronMan   48      F\n",
      "4   5     CapA  123      M\n",
      "5   6       Po   45      F\n",
      "6   7      San   25      M\n"
     ]
    }
   ],
   "source": [
    "print(df)"
   ]
  },
  {
   "cell_type": "code",
   "execution_count": 127,
   "metadata": {},
   "outputs": [
    {
     "name": "stdout",
     "output_type": "stream",
     "text": [
      "      name  age gender\n",
      "1     Atom   25      F\n",
      "2     Jang   63      M\n",
      "3  IronMan   48      F\n"
     ]
    }
   ],
   "source": [
    "print(df.iloc[[1,2,3],[1,2,3]])"
   ]
  },
  {
   "cell_type": "code",
   "execution_count": 148,
   "metadata": {},
   "outputs": [
    {
     "name": "stdout",
     "output_type": "stream",
     "text": [
      "   no  name  age gender\n",
      "0   1  Hong   10      F\n",
      "1   2  Atom   25      F\n",
      "2   3  Jang   63      M\n"
     ]
    }
   ],
   "source": [
    "print(df.iloc[:3][:4])"
   ]
  },
  {
   "cell_type": "code",
   "execution_count": 153,
   "metadata": {},
   "outputs": [
    {
     "name": "stdout",
     "output_type": "stream",
     "text": [
      "      name gender  age\n",
      "1     Atom      F   25\n",
      "2     Jang      M   63\n",
      "3  IronMan      F   48\n"
     ]
    }
   ],
   "source": [
    "print(df.loc[[1,2,3],['name','gender','age']])"
   ]
  },
  {
   "cell_type": "code",
   "execution_count": null,
   "metadata": {},
   "outputs": [],
   "source": []
  }
 ],
 "metadata": {
  "kernelspec": {
   "display_name": "py39",
   "language": "python",
   "name": "python3"
  },
  "language_info": {
   "codemirror_mode": {
    "name": "ipython",
    "version": 3
   },
   "file_extension": ".py",
   "mimetype": "text/x-python",
   "name": "python",
   "nbconvert_exporter": "python",
   "pygments_lexer": "ipython3",
   "version": "3.9.19"
  }
 },
 "nbformat": 4,
 "nbformat_minor": 2
}
