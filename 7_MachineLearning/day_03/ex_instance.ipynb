{
 "cells": [
  {
   "cell_type": "markdown",
   "metadata": {},
   "source": [
    "클래스와 인스턴스"
   ]
  },
  {
   "cell_type": "code",
   "execution_count": 10,
   "metadata": {},
   "outputs": [
    {
     "name": "stdout",
     "output_type": "stream",
     "text": [
      "[[37], [3], [28], [31], [37], [1], [14], [30], [32], [18], [42], [11], [3], [34], [32], [21], [5], [16], [48], [24], [3], [27], [9], [39], [23], [25], [27], [19], [44], [17]]\n"
     ]
    }
   ],
   "source": [
    "# 임시데이터 생성\n",
    "import random\n",
    "random.seed(10)\n",
    "\n",
    "data=[]\n",
    "\n",
    "for i in range(30):\n",
    "    x = random.randint(1,50)\n",
    "    data.append([x])\n",
    "print(data) "
   ]
  },
  {
   "cell_type": "code",
   "execution_count": 12,
   "metadata": {},
   "outputs": [
    {
     "name": "stdout",
     "output_type": "stream",
     "text": [
      "[1],[48]\n"
     ]
    }
   ],
   "source": [
    "### 스케일러에서 fit() 진행 내용\n",
    "print(f'{min(data)},{max(data)}')"
   ]
  },
  {
   "cell_type": "code",
   "execution_count": 16,
   "metadata": {},
   "outputs": [],
   "source": [
    "# 0 ~ 1 사이 값으로 전부 변환\n",
    "\n",
    "### 스케일러에서 transform() 시에 0 ~ 1 사이 값으로 변환\n",
    "result = [d[0]/max(data)[0] for d in data] # 리스트 컴프리헨션 사용\n"
   ]
  },
  {
   "cell_type": "code",
   "execution_count": 17,
   "metadata": {},
   "outputs": [
    {
     "data": {
      "text/plain": [
       "(0.020833333333333332, 1.0)"
      ]
     },
     "execution_count": 17,
     "metadata": {},
     "output_type": "execute_result"
    }
   ],
   "source": [
    "min(result),max(result)"
   ]
  },
  {
   "cell_type": "code",
   "execution_count": null,
   "metadata": {},
   "outputs": [],
   "source": []
  }
 ],
 "metadata": {
  "kernelspec": {
   "display_name": "ML_38",
   "language": "python",
   "name": "python3"
  },
  "language_info": {
   "codemirror_mode": {
    "name": "ipython",
    "version": 3
   },
   "file_extension": ".py",
   "mimetype": "text/x-python",
   "name": "python",
   "nbconvert_exporter": "python",
   "pygments_lexer": "ipython3",
   "version": "3.8.19"
  }
 },
 "nbformat": 4,
 "nbformat_minor": 2
}
