{
 "cells": [
  {
   "cell_type": "markdown",
   "metadata": {},
   "source": [
    "알고리즘이 들어간 인스턴스  \n",
    "fit(2D 문제, 1D 정답)  \n",
    "학습 진행 : 알고리즘 마다 학습 과정 다름  \n",
    "\n",
    "전처리 기능 scaler  \n",
    "fit(2D수치피쳐)  \n",
    "-> 수치 값 범위 설정 위한 준비, 데이터 기반의 수치 계산 값  \n",
    "transform() -> 변환"
   ]
  },
  {
   "cell_type": "markdown",
   "metadata": {},
   "source": []
  }
 ],
 "metadata": {
  "kernelspec": {
   "display_name": "ML_38",
   "language": "python",
   "name": "python3"
  },
  "language_info": {
   "name": "python",
   "version": "3.8.19"
  }
 },
 "nbformat": 4,
 "nbformat_minor": 2
}
