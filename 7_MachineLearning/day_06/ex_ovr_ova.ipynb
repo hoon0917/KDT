{
 "cells": [
  {
   "cell_type": "markdown",
   "metadata": {},
   "source": [
    "#### 다중분류를 위한 OvR(OvA)\n",
    " - 분류 클래스 수 만큼 2진 분류기를 생성하여 다중 분류를 진행"
   ]
  },
  {
   "cell_type": "markdown",
   "metadata": {},
   "source": [
    "#"
   ]
  },
  {
   "cell_type": "code",
   "execution_count": 46,
   "metadata": {},
   "outputs": [],
   "source": [
    "### 모듈로딩\n",
    "import pandas as pd\n",
    "from sklearn.model_selection import train_test_split\n",
    "from sklearn.datasets import load_digits"
   ]
  },
  {
   "cell_type": "markdown",
   "metadata": {},
   "source": [
    "- 데이터셋 load_digits\n",
    " * 내장 데이터셋\n",
    " * 이미지 데이터셋 => 8*8 크기 이미지\n",
    " * 이미지 라벨.타겟 => 숫자 0~9까지 즉, 총 10개 클래스"
   ]
  },
  {
   "cell_type": "code",
   "execution_count": 47,
   "metadata": {},
   "outputs": [
    {
     "name": "stdout",
     "output_type": "stream",
     "text": [
      "(1797, 64) 2 (1797,) 1\n"
     ]
    }
   ],
   "source": [
    "featureDF, targetSR = load_digits(as_frame=True,return_X_y=True)\n",
    "\n",
    "# 이미지 픽셀 : 0 ~ 255 범위\n",
    "featureDF = featureDF/255\n",
    "\n",
    "print(featureDF.shape, featureDF.ndim, targetSR.shape, targetSR.ndim)"
   ]
  },
  {
   "cell_type": "code",
   "execution_count": 48,
   "metadata": {},
   "outputs": [
    {
     "data": {
      "text/plain": [
       "(   pixel_0_0  pixel_0_1  pixel_0_2  pixel_0_3  pixel_0_4  pixel_0_5  \\\n",
       " 0        0.0        0.0   0.019608    0.05098   0.035294   0.003922   \n",
       " \n",
       "    pixel_0_6  pixel_0_7  pixel_1_0  pixel_1_1  ...  pixel_6_6  pixel_6_7  \\\n",
       " 0        0.0        0.0        0.0        0.0  ...        0.0        0.0   \n",
       " \n",
       "    pixel_7_0  pixel_7_1  pixel_7_2  pixel_7_3  pixel_7_4  pixel_7_5  \\\n",
       " 0        0.0        0.0   0.023529    0.05098   0.039216        0.0   \n",
       " \n",
       "    pixel_7_6  pixel_7_7  \n",
       " 0        0.0        0.0  \n",
       " \n",
       " [1 rows x 64 columns],\n",
       " <bound method NDFrame.head of 0       0\n",
       " 1       1\n",
       " 2       2\n",
       " 3       3\n",
       " 4       4\n",
       "        ..\n",
       " 1792    9\n",
       " 1793    0\n",
       " 1794    8\n",
       " 1795    9\n",
       " 1796    8\n",
       " Name: target, Length: 1797, dtype: int32>)"
      ]
     },
     "execution_count": 48,
     "metadata": {},
     "output_type": "execute_result"
    }
   ],
   "source": [
    "featureDF.head(1), targetSR.head"
   ]
  },
  {
   "cell_type": "code",
   "execution_count": 49,
   "metadata": {},
   "outputs": [
    {
     "name": "stdout",
     "output_type": "stream",
     "text": [
      "(8, 8)\n"
     ]
    },
    {
     "data": {
      "image/png": "[encoded data removed]",
      "text/plain": [
       "<Figure size 640x480 with 1 Axes>"
      ]
     },
     "metadata": {},
     "output_type": "display_data"
    }
   ],
   "source": [
    "## 이미 데이터 시각화\n",
    "import matplotlib.pyplot as plt\n",
    "\n",
    "imgdata = featureDF.iloc[0].to_numpy().reshape(-1,8)\n",
    "print(imgdata.shape)\n",
    "\n",
    "plt.imshow(imgdata)\n",
    "plt.show()"
   ]
  },
  {
   "cell_type": "markdown",
   "metadata": {},
   "source": [
    "- 학습용 데이터셋 준비 : trainDS, testDS"
   ]
  },
  {
   "cell_type": "code",
   "execution_count": 50,
   "metadata": {},
   "outputs": [],
   "source": [
    "X_train, X_test, y_train, y_test = train_test_split(featureDF,targetSR, stratify=targetSR, random_state=10)"
   ]
  },
  {
   "cell_type": "code",
   "execution_count": 51,
   "metadata": {},
   "outputs": [
    {
     "data": {
      "text/html": [
       "<div>\n",
       "<style scoped>\n",
       "    .dataframe tbody tr th:only-of-type {\n",
       "        vertical-align: middle;\n",
       "    }\n",
       "\n",
       "    .dataframe tbody tr th {\n",
       "        vertical-align: top;\n",
       "    }\n",
       "\n",
       "    .dataframe thead th {\n",
       "        text-align: right;\n",
       "    }\n",
       "</style>\n",
       "<table border=\"1\" class=\"dataframe\">\n",
       "  <thead>\n",
       "    <tr style=\"text-align: right;\">\n",
       "      <th></th>\n",
       "      <th>pixel_0_0</th>\n",
       "      <th>pixel_0_1</th>\n",
       "      <th>pixel_0_2</th>\n",
       "      <th>pixel_0_3</th>\n",
       "      <th>pixel_0_4</th>\n",
       "      <th>pixel_0_5</th>\n",
       "      <th>pixel_0_6</th>\n",
       "      <th>pixel_0_7</th>\n",
       "      <th>pixel_1_0</th>\n",
       "      <th>pixel_1_1</th>\n",
       "      <th>...</th>\n",
       "      <th>pixel_6_6</th>\n",
       "      <th>pixel_6_7</th>\n",
       "      <th>pixel_7_0</th>\n",
       "      <th>pixel_7_1</th>\n",
       "      <th>pixel_7_2</th>\n",
       "      <th>pixel_7_3</th>\n",
       "      <th>pixel_7_4</th>\n",
       "      <th>pixel_7_5</th>\n",
       "      <th>pixel_7_6</th>\n",
       "      <th>pixel_7_7</th>\n",
       "    </tr>\n",
       "  </thead>\n",
       "  <tbody>\n",
       "    <tr>\n",
       "      <th>count</th>\n",
       "      <td>1797.0</td>\n",
       "      <td>1797.000000</td>\n",
       "      <td>1797.000000</td>\n",
       "      <td>1797.000000</td>\n",
       "      <td>1797.000000</td>\n",
       "      <td>1797.000000</td>\n",
       "      <td>1797.000000</td>\n",
       "      <td>1797.000000</td>\n",
       "      <td>1797.000000</td>\n",
       "      <td>1797.000000</td>\n",
       "      <td>...</td>\n",
       "      <td>1797.000000</td>\n",
       "      <td>1797.00000</td>\n",
       "      <td>1797.000000</td>\n",
       "      <td>1797.000000</td>\n",
       "      <td>1797.000000</td>\n",
       "      <td>1797.000000</td>\n",
       "      <td>1797.000000</td>\n",
       "      <td>1797.000000</td>\n",
       "      <td>1797.000000</td>\n",
       "      <td>1797.000000</td>\n",
       "    </tr>\n",
       "    <tr>\n",
       "      <th>mean</th>\n",
       "      <td>0.0</td>\n",
       "      <td>0.001192</td>\n",
       "      <td>0.020411</td>\n",
       "      <td>0.046415</td>\n",
       "      <td>0.046463</td>\n",
       "      <td>0.022674</td>\n",
       "      <td>0.005342</td>\n",
       "      <td>0.000508</td>\n",
       "      <td>0.000022</td>\n",
       "      <td>0.007819</td>\n",
       "      <td>...</td>\n",
       "      <td>0.014608</td>\n",
       "      <td>0.00081</td>\n",
       "      <td>0.000002</td>\n",
       "      <td>0.001096</td>\n",
       "      <td>0.021794</td>\n",
       "      <td>0.047408</td>\n",
       "      <td>0.046310</td>\n",
       "      <td>0.026526</td>\n",
       "      <td>0.008109</td>\n",
       "      <td>0.001429</td>\n",
       "    </tr>\n",
       "    <tr>\n",
       "      <th>std</th>\n",
       "      <td>0.0</td>\n",
       "      <td>0.003558</td>\n",
       "      <td>0.018646</td>\n",
       "      <td>0.016662</td>\n",
       "      <td>0.016813</td>\n",
       "      <td>0.022221</td>\n",
       "      <td>0.013042</td>\n",
       "      <td>0.004068</td>\n",
       "      <td>0.000369</td>\n",
       "      <td>0.012534</td>\n",
       "      <td>...</td>\n",
       "      <td>0.019292</td>\n",
       "      <td>0.00386</td>\n",
       "      <td>0.000093</td>\n",
       "      <td>0.003664</td>\n",
       "      <td>0.020012</td>\n",
       "      <td>0.017156</td>\n",
       "      <td>0.019349</td>\n",
       "      <td>0.023140</td>\n",
       "      <td>0.016041</td>\n",
       "      <td>0.007295</td>\n",
       "    </tr>\n",
       "    <tr>\n",
       "      <th>min</th>\n",
       "      <td>0.0</td>\n",
       "      <td>0.000000</td>\n",
       "      <td>0.000000</td>\n",
       "      <td>0.000000</td>\n",
       "      <td>0.000000</td>\n",
       "      <td>0.000000</td>\n",
       "      <td>0.000000</td>\n",
       "      <td>0.000000</td>\n",
       "      <td>0.000000</td>\n",
       "      <td>0.000000</td>\n",
       "      <td>...</td>\n",
       "      <td>0.000000</td>\n",
       "      <td>0.00000</td>\n",
       "      <td>0.000000</td>\n",
       "      <td>0.000000</td>\n",
       "      <td>0.000000</td>\n",
       "      <td>0.000000</td>\n",
       "      <td>0.000000</td>\n",
       "      <td>0.000000</td>\n",
       "      <td>0.000000</td>\n",
       "      <td>0.000000</td>\n",
       "    </tr>\n",
       "    <tr>\n",
       "      <th>25%</th>\n",
       "      <td>0.0</td>\n",
       "      <td>0.000000</td>\n",
       "      <td>0.003922</td>\n",
       "      <td>0.039216</td>\n",
       "      <td>0.039216</td>\n",
       "      <td>0.000000</td>\n",
       "      <td>0.000000</td>\n",
       "      <td>0.000000</td>\n",
       "      <td>0.000000</td>\n",
       "      <td>0.000000</td>\n",
       "      <td>...</td>\n",
       "      <td>0.000000</td>\n",
       "      <td>0.00000</td>\n",
       "      <td>0.000000</td>\n",
       "      <td>0.000000</td>\n",
       "      <td>0.003922</td>\n",
       "      <td>0.043137</td>\n",
       "      <td>0.039216</td>\n",
       "      <td>0.000000</td>\n",
       "      <td>0.000000</td>\n",
       "      <td>0.000000</td>\n",
       "    </tr>\n",
       "    <tr>\n",
       "      <th>50%</th>\n",
       "      <td>0.0</td>\n",
       "      <td>0.000000</td>\n",
       "      <td>0.015686</td>\n",
       "      <td>0.050980</td>\n",
       "      <td>0.050980</td>\n",
       "      <td>0.015686</td>\n",
       "      <td>0.000000</td>\n",
       "      <td>0.000000</td>\n",
       "      <td>0.000000</td>\n",
       "      <td>0.000000</td>\n",
       "      <td>...</td>\n",
       "      <td>0.003922</td>\n",
       "      <td>0.00000</td>\n",
       "      <td>0.000000</td>\n",
       "      <td>0.000000</td>\n",
       "      <td>0.015686</td>\n",
       "      <td>0.050980</td>\n",
       "      <td>0.054902</td>\n",
       "      <td>0.023529</td>\n",
       "      <td>0.000000</td>\n",
       "      <td>0.000000</td>\n",
       "    </tr>\n",
       "    <tr>\n",
       "      <th>75%</th>\n",
       "      <td>0.0</td>\n",
       "      <td>0.000000</td>\n",
       "      <td>0.035294</td>\n",
       "      <td>0.058824</td>\n",
       "      <td>0.058824</td>\n",
       "      <td>0.043137</td>\n",
       "      <td>0.000000</td>\n",
       "      <td>0.000000</td>\n",
       "      <td>0.000000</td>\n",
       "      <td>0.011765</td>\n",
       "      <td>...</td>\n",
       "      <td>0.027451</td>\n",
       "      <td>0.00000</td>\n",
       "      <td>0.000000</td>\n",
       "      <td>0.000000</td>\n",
       "      <td>0.039216</td>\n",
       "      <td>0.062745</td>\n",
       "      <td>0.062745</td>\n",
       "      <td>0.047059</td>\n",
       "      <td>0.007843</td>\n",
       "      <td>0.000000</td>\n",
       "    </tr>\n",
       "    <tr>\n",
       "      <th>max</th>\n",
       "      <td>0.0</td>\n",
       "      <td>0.031373</td>\n",
       "      <td>0.062745</td>\n",
       "      <td>0.062745</td>\n",
       "      <td>0.062745</td>\n",
       "      <td>0.062745</td>\n",
       "      <td>0.062745</td>\n",
       "      <td>0.058824</td>\n",
       "      <td>0.007843</td>\n",
       "      <td>0.062745</td>\n",
       "      <td>...</td>\n",
       "      <td>0.062745</td>\n",
       "      <td>0.05098</td>\n",
       "      <td>0.003922</td>\n",
       "      <td>0.035294</td>\n",
       "      <td>0.062745</td>\n",
       "      <td>0.062745</td>\n",
       "      <td>0.062745</td>\n",
       "      <td>0.062745</td>\n",
       "      <td>0.062745</td>\n",
       "      <td>0.062745</td>\n",
       "    </tr>\n",
       "  </tbody>\n",
       "</table>\n",
       "<p>8 rows × 64 columns</p>\n",
       "</div>"
      ],
      "text/plain": [
       "       pixel_0_0    pixel_0_1    pixel_0_2    pixel_0_3    pixel_0_4  \\\n",
       "count     1797.0  1797.000000  1797.000000  1797.000000  1797.000000   \n",
       "mean         0.0     0.001192     0.020411     0.046415     0.046463   \n",
       "std          0.0     0.003558     0.018646     0.016662     0.016813   \n",
       "min          0.0     0.000000     0.000000     0.000000     0.000000   \n",
       "25%          0.0     0.000000     0.003922     0.039216     0.039216   \n",
       "50%          0.0     0.000000     0.015686     0.050980     0.050980   \n",
       "75%          0.0     0.000000     0.035294     0.058824     0.058824   \n",
       "max          0.0     0.031373     0.062745     0.062745     0.062745   \n",
       "\n",
       "         pixel_0_5    pixel_0_6    pixel_0_7    pixel_1_0    pixel_1_1  ...  \\\n",
       "count  1797.000000  1797.000000  1797.000000  1797.000000  1797.000000  ...   \n",
       "mean      0.022674     0.005342     0.000508     0.000022     0.007819  ...   \n",
       "std       0.022221     0.013042     0.004068     0.000369     0.012534  ...   \n",
       "min       0.000000     0.000000     0.000000     0.000000     0.000000  ...   \n",
       "25%       0.000000     0.000000     0.000000     0.000000     0.000000  ...   \n",
       "50%       0.015686     0.000000     0.000000     0.000000     0.000000  ...   \n",
       "75%       0.043137     0.000000     0.000000     0.000000     0.011765  ...   \n",
       "max       0.062745     0.062745     0.058824     0.007843     0.062745  ...   \n",
       "\n",
       "         pixel_6_6   pixel_6_7    pixel_7_0    pixel_7_1    pixel_7_2  \\\n",
       "count  1797.000000  1797.00000  1797.000000  1797.000000  1797.000000   \n",
       "mean      0.014608     0.00081     0.000002     0.001096     0.021794   \n",
       "std       0.019292     0.00386     0.000093     0.003664     0.020012   \n",
       "min       0.000000     0.00000     0.000000     0.000000     0.000000   \n",
       "25%       0.000000     0.00000     0.000000     0.000000     0.003922   \n",
       "50%       0.003922     0.00000     0.000000     0.000000     0.015686   \n",
       "75%       0.027451     0.00000     0.000000     0.000000     0.039216   \n",
       "max       0.062745     0.05098     0.003922     0.035294     0.062745   \n",
       "\n",
       "         pixel_7_3    pixel_7_4    pixel_7_5    pixel_7_6    pixel_7_7  \n",
       "count  1797.000000  1797.000000  1797.000000  1797.000000  1797.000000  \n",
       "mean      0.047408     0.046310     0.026526     0.008109     0.001429  \n",
       "std       0.017156     0.019349     0.023140     0.016041     0.007295  \n",
       "min       0.000000     0.000000     0.000000     0.000000     0.000000  \n",
       "25%       0.043137     0.039216     0.000000     0.000000     0.000000  \n",
       "50%       0.050980     0.054902     0.023529     0.000000     0.000000  \n",
       "75%       0.062745     0.062745     0.047059     0.007843     0.000000  \n",
       "max       0.062745     0.062745     0.062745     0.062745     0.062745  \n",
       "\n",
       "[8 rows x 64 columns]"
      ]
     },
     "execution_count": 51,
     "metadata": {},
     "output_type": "execute_result"
    }
   ],
   "source": [
    "featureDF.describe()"
   ]
  },
  {
   "cell_type": "code",
   "execution_count": 52,
   "metadata": {},
   "outputs": [
    {
     "data": {
      "text/html": [
       "<style>#sk-container-id-3 {color: black;}#sk-container-id-3 pre{padding: 0;}#sk-container-id-3 div.sk-toggleable {background-color: white;}#sk-container-id-3 label.sk-toggleable__label {cursor: pointer;display: block;width: 100%;margin-bottom: 0;padding: 0.3em;box-sizing: border-box;text-align: center;}#sk-container-id-3 label.sk-toggleable__label-arrow:before {content: \"▸\";float: left;margin-right: 0.25em;color: #696969;}#sk-container-id-3 label.sk-toggleable__label-arrow:hover:before {color: black;}#sk-container-id-3 div.sk-estimator:hover label.sk-toggleable__label-arrow:before {color: black;}#sk-container-id-3 div.sk-toggleable__content {max-height: 0;max-width: 0;overflow: hidden;text-align: left;background-color: #f0f8ff;}#sk-container-id-3 div.sk-toggleable__content pre {margin: 0.2em;color: black;border-radius: 0.25em;background-color: #f0f8ff;}#sk-container-id-3 input.sk-toggleable__control:checked~div.sk-toggleable__content {max-height: 200px;max-width: 100%;overflow: auto;}#sk-container-id-3 input.sk-toggleable__control:checked~label.sk-toggleable__label-arrow:before {content: \"▾\";}#sk-container-id-3 div.sk-estimator input.sk-toggleable__control:checked~label.sk-toggleable__label {background-color: #d4ebff;}#sk-container-id-3 div.sk-label input.sk-toggleable__control:checked~label.sk-toggleable__label {background-color: #d4ebff;}#sk-container-id-3 input.sk-hidden--visually {border: 0;clip: rect(1px 1px 1px 1px);clip: rect(1px, 1px, 1px, 1px);height: 1px;margin: -1px;overflow: hidden;padding: 0;position: absolute;width: 1px;}#sk-container-id-3 div.sk-estimator {font-family: monospace;background-color: #f0f8ff;border: 1px dotted black;border-radius: 0.25em;box-sizing: border-box;margin-bottom: 0.5em;}#sk-container-id-3 div.sk-estimator:hover {background-color: #d4ebff;}#sk-container-id-3 div.sk-parallel-item::after {content: \"\";width: 100%;border-bottom: 1px solid gray;flex-grow: 1;}#sk-container-id-3 div.sk-label:hover label.sk-toggleable__label {background-color: #d4ebff;}#sk-container-id-3 div.sk-serial::before {content: \"\";position: absolute;border-left: 1px solid gray;box-sizing: border-box;top: 0;bottom: 0;left: 50%;z-index: 0;}#sk-container-id-3 div.sk-serial {display: flex;flex-direction: column;align-items: center;background-color: white;padding-right: 0.2em;padding-left: 0.2em;position: relative;}#sk-container-id-3 div.sk-item {position: relative;z-index: 1;}#sk-container-id-3 div.sk-parallel {display: flex;align-items: stretch;justify-content: center;background-color: white;position: relative;}#sk-container-id-3 div.sk-item::before, #sk-container-id-3 div.sk-parallel-item::before {content: \"\";position: absolute;border-left: 1px solid gray;box-sizing: border-box;top: 0;bottom: 0;left: 50%;z-index: -1;}#sk-container-id-3 div.sk-parallel-item {display: flex;flex-direction: column;z-index: 1;position: relative;background-color: white;}#sk-container-id-3 div.sk-parallel-item:first-child::after {align-self: flex-end;width: 50%;}#sk-container-id-3 div.sk-parallel-item:last-child::after {align-self: flex-start;width: 50%;}#sk-container-id-3 div.sk-parallel-item:only-child::after {width: 0;}#sk-container-id-3 div.sk-dashed-wrapped {border: 1px dashed gray;margin: 0 0.4em 0.5em 0.4em;box-sizing: border-box;padding-bottom: 0.4em;background-color: white;}#sk-container-id-3 div.sk-label label {font-family: monospace;font-weight: bold;display: inline-block;line-height: 1.2em;}#sk-container-id-3 div.sk-label-container {text-align: center;}#sk-container-id-3 div.sk-container {/* jupyter's `normalize.less` sets `[hidden] { display: none; }` but bootstrap.min.css set `[hidden] { display: none !important; }` so we also need the `!important` here to be able to override the default hidden behavior on the sphinx rendered scikit-learn.org. See: https://github.com/scikit-learn/scikit-learn/issues/21755 */display: inline-block !important;position: relative;}#sk-container-id-3 div.sk-text-repr-fallback {display: none;}</style><div id=\"sk-container-id-3\" class=\"sk-top-container\"><div class=\"sk-text-repr-fallback\"><pre>OneVsRestClassifier(estimator=LogisticRegression(max_iter=1000))</pre><b>In a Jupyter environment, please rerun this cell to show the HTML representation or trust the notebook. <br />On GitHub, the HTML representation is unable to render, please try loading this page with nbviewer.org.</b></div><div class=\"sk-container\" hidden><div class=\"sk-item sk-dashed-wrapped\"><div class=\"sk-label-container\"><div class=\"sk-label sk-toggleable\"><input class=\"sk-toggleable__control sk-hidden--visually\" id=\"sk-estimator-id-7\" type=\"checkbox\" ><label for=\"sk-estimator-id-7\" class=\"sk-toggleable__label sk-toggleable__label-arrow\">OneVsRestClassifier</label><div class=\"sk-toggleable__content\"><pre>OneVsRestClassifier(estimator=LogisticRegression(max_iter=1000))</pre></div></div></div><div class=\"sk-parallel\"><div class=\"sk-parallel-item\"><div class=\"sk-item\"><div class=\"sk-label-container\"><div class=\"sk-label sk-toggleable\"><input class=\"sk-toggleable__control sk-hidden--visually\" id=\"sk-estimator-id-8\" type=\"checkbox\" ><label for=\"sk-estimator-id-8\" class=\"sk-toggleable__label sk-toggleable__label-arrow\">estimator: LogisticRegression</label><div class=\"sk-toggleable__content\"><pre>LogisticRegression(max_iter=1000)</pre></div></div></div><div class=\"sk-serial\"><div class=\"sk-item\"><div class=\"sk-estimator sk-toggleable\"><input class=\"sk-toggleable__control sk-hidden--visually\" id=\"sk-estimator-id-9\" type=\"checkbox\" ><label for=\"sk-estimator-id-9\" class=\"sk-toggleable__label sk-toggleable__label-arrow\">LogisticRegression</label><div class=\"sk-toggleable__content\"><pre>LogisticRegression(max_iter=1000)</pre></div></div></div></div></div></div></div></div></div></div>"
      ],
      "text/plain": [
       "OneVsRestClassifier(estimator=LogisticRegression(max_iter=1000))"
      ]
     },
     "execution_count": 52,
     "metadata": {},
     "output_type": "execute_result"
    }
   ],
   "source": [
    "# 모듈로딩\n",
    "from sklearn.multiclass import OneVsRestClassifier\n",
    "from sklearn.linear_model import LogisticRegression\n",
    "\n",
    "ovr_clf = OneVsRestClassifier(LogisticRegression(max_iter=1000))\n",
    "ovr_clf.fit(X_train,y_train)"
   ]
  },
  {
   "cell_type": "code",
   "execution_count": 53,
   "metadata": {},
   "outputs": [
    {
     "name": "stdout",
     "output_type": "stream",
     "text": [
      "ovr_clf.estimators_ : 10\n",
      "ovr_clf.classes_ : [0 1 2 3 4 5 6 7 8 9]\n",
      "ovr_clf.n_classes_ : 10\n",
      "ovr_clf.label_binarizer_ : LabelBinarizer(sparse_output=True)\n"
     ]
    }
   ],
   "source": [
    "# 모델 파라미터\n",
    "print(f'ovr_clf.estimators_ : {len(ovr_clf.estimators_)}')\n",
    "print(f'ovr_clf.classes_ : {ovr_clf.classes_}')\n",
    "print(f'ovr_clf.n_classes_ : {ovr_clf.n_classes_}')\n",
    "print(f'ovr_clf.label_binarizer_ : {ovr_clf.label_binarizer_}')"
   ]
  },
  {
   "cell_type": "code",
   "execution_count": 54,
   "metadata": {},
   "outputs": [
    {
     "name": "stdout",
     "output_type": "stream",
     "text": [
      "[0]분류기 [[ 0.00000000e+00 -1.17211304e-01 -3.61976716e-01  6.37992922e-01\n",
      "  -2.59516080e-01 -1.28004235e+00 -5.49554643e-01 -5.15394269e-02\n",
      "  -2.48867098e-03 -4.50770969e-01  8.75529916e-01  6.75669778e-01\n",
      "   7.61063082e-01  1.42181524e+00 -3.72707245e-01 -4.79082752e-02\n",
      "  -8.76059290e-04  4.83967023e-01  1.73526178e+00 -5.66661564e-01\n",
      "  -1.82795465e+00  2.02796255e+00  6.80700634e-01 -2.29999080e-02\n",
      "  -2.33809952e-04  1.17166680e+00  1.43124099e+00 -2.77339186e+00\n",
      "  -4.06945241e+00  6.21786489e-01  1.75117326e+00 -1.03944146e-03\n",
      "   0.00000000e+00  1.44042261e+00  1.66074394e+00 -3.35466822e+00\n",
      "  -4.16837941e+00 -1.82033356e-01  1.70005379e+00  0.00000000e+00\n",
      "  -6.22709065e-03  7.53400694e-01  2.70397833e+00 -2.23501260e+00\n",
      "  -2.41565152e+00  1.07409288e+00  9.19098746e-01 -1.27278179e-02\n",
      "  -1.92354211e-03  2.32108843e-02  2.27842435e+00  3.91210660e-01\n",
      "   5.69341433e-01  1.80144114e+00 -6.51051162e-01 -7.93462636e-02\n",
      "  -3.44895266e-04 -1.12691963e-01 -5.45168374e-01  6.15148191e-01\n",
      "   5.74332392e-01 -6.74337529e-01 -7.72613638e-01 -1.34406555e-01]] [-2.29468486]\n",
      "[1]분류기 [[ 0.00000000e+00 -1.43074212e-01 -1.13222466e+00 -1.18067721e+00\n",
      "  -8.66008388e-01  1.69236482e-01 -1.95312886e-01 -6.14955127e-02\n",
      "  -3.63208695e-03 -8.81948124e-01 -2.79276354e+00  1.76256320e-01\n",
      "   1.54147406e+00  3.22755297e-01 -3.19917859e-01 -5.40605791e-02\n",
      "  -1.14912689e-03 -6.37309809e-01 -1.21465423e+00  3.46825892e+00\n",
      "   3.13346570e+00 -1.35821427e-01 -4.52731014e-01 -2.66531624e-02\n",
      "  -5.52114329e-04 -6.86466952e-02  7.01489745e-02  2.40061635e+00\n",
      "   1.58889642e+00 -6.31001977e-01 -8.09495740e-01 -1.20504142e-03\n",
      "   0.00000000e+00 -5.58573593e-01 -2.60303153e-01  1.11371547e+00\n",
      "   1.28958756e+00 -1.55165890e+00 -1.11288446e+00  0.00000000e+00\n",
      "  -6.20134712e-03 -5.77248724e-01 -7.31357764e-01  1.11707950e+00\n",
      "   2.29409300e+00 -1.13735139e+00 -1.31249235e+00 -1.57889275e-02\n",
      "  -2.36914727e-03 -2.76038444e-01 -1.06551511e+00  6.07529364e-01\n",
      "   1.78865436e+00 -3.40830352e-01 -7.01325560e-01  2.17160950e-01\n",
      "  -5.26048341e-04 -1.35093070e-01 -1.44949934e+00 -1.29175188e+00\n",
      "   5.53022255e-01  1.04939739e+00  4.91393595e-01  5.66230996e-01]] [-2.36198092]\n",
      "[2]분류기 [[ 0.00000000e+00  2.84256726e-01  1.81257135e+00  8.28493841e-01\n",
      "  -9.64802426e-01 -1.51285302e+00 -5.07992486e-01 -4.37785056e-02\n",
      "   2.69090344e-03  1.34321085e+00  1.39567887e+00  1.26081944e-01\n",
      "   1.04820898e+00 -1.27799804e+00 -6.01000609e-01 -3.36444432e-02\n",
      "   2.12996919e-03  7.60716310e-01 -7.81405380e-01 -1.11792830e+00\n",
      "   1.77155022e+00 -8.24018840e-01 -4.59762214e-01 -1.29122788e-02\n",
      "  -3.12023879e-04 -6.63863664e-01 -3.09067186e+00 -2.12300030e+00\n",
      "   7.59327354e-01 -1.12400612e+00 -7.59793806e-01 -5.60949086e-04\n",
      "   0.00000000e+00 -8.55328057e-01 -2.64632199e+00 -3.03200166e-01\n",
      "   1.02722414e-01 -2.67630078e+00 -1.22317776e+00  0.00000000e+00\n",
      "  -3.43010080e-03 -3.76686193e-01 -6.69312227e-01  2.08920477e+00\n",
      "  -3.41306629e-02 -2.60020735e+00 -1.14148329e+00 -6.80489362e-03\n",
      "   9.77107212e-03  3.14707351e-01  1.53357407e+00  2.07148040e+00\n",
      "   1.38598108e+00  8.64160255e-01  1.46435582e+00  2.00461392e-01\n",
      "   3.45651758e-03  3.20917896e-01  1.88075422e+00  5.94580844e-01\n",
      "   4.91056451e-01  2.03073274e+00  2.63937856e+00  7.29059173e-01]] [-2.2516465]\n",
      "[3]분류기 [[ 0.00000000e+00  1.14240692e-01  1.13590277e+00  9.77239777e-01\n",
      "   1.16360411e+00  8.04150738e-01 -2.48111673e-01 -5.12143009e-02\n",
      "   2.90891511e-03  9.82376793e-01  8.64783025e-01 -1.04786363e+00\n",
      "   4.09162537e-01  1.55655529e+00  1.34270044e-01 -3.48472034e-02\n",
      "   2.13551396e-03 -2.69274583e-01 -2.78973976e+00 -1.53406601e+00\n",
      "   2.09941502e+00  4.50570267e-01 -4.48591458e-01 -1.72135192e-02\n",
      "  -2.02187942e-04 -8.99269860e-01 -3.26682313e+00  5.23185873e-02\n",
      "   1.65517496e+00 -1.04801342e+00 -9.82251804e-01 -6.80304659e-04\n",
      "   0.00000000e+00 -8.47912490e-01 -2.58499333e+00 -1.44487986e+00\n",
      "   9.67820057e-01  1.19960607e+00 -3.06612564e-01  0.00000000e+00\n",
      "  -2.87347577e-03 -3.88296716e-01 -2.12154517e+00 -2.67694533e+00\n",
      "  -1.34890985e+00  1.94840827e+00  1.28836649e+00 -1.22849025e-02\n",
      "  -1.38263026e-03  4.42999805e-02 -1.94491290e-01 -1.31465787e+00\n",
      "  -4.28731681e-01  1.80789513e+00  9.73419853e-01 -6.62202893e-02\n",
      "  -3.10908961e-04  4.08311138e-02  1.42821585e+00  1.10625244e+00\n",
      "   1.04652572e+00  7.94133067e-01 -3.89622331e-01 -1.83926474e-01]] [-2.27127952]\n",
      "[4]분류기 [[ 0.00000000e+00 -1.04428388e-01 -1.74603046e+00 -2.04838209e+00\n",
      "  -2.46867066e-01 -1.72133916e+00 -6.15961716e-01  7.72367968e-03\n",
      "  -2.07093633e-03 -6.36068361e-01 -2.78743112e+00  3.01917932e-01\n",
      "  -8.39695758e-01 -2.58781526e+00 -3.85839133e-01  8.28435859e-02\n",
      "  -6.75546699e-04 -7.07054740e-01  1.02783962e-01  1.68556131e+00\n",
      "  -6.97330467e-01 -8.58458404e-01  8.19824332e-01  1.21277158e-01\n",
      "   3.23764155e-03  8.15913319e-01  2.08508802e+00 -1.01519476e+00\n",
      "  -7.97089604e-01  1.25588958e+00  1.58974945e+00  9.49346514e-03\n",
      "   0.00000000e+00  2.65640245e+00  2.52474876e+00  8.96108957e-02\n",
      "   1.14193889e+00  2.26791235e+00  1.06467420e+00  0.00000000e+00\n",
      "   4.07225302e-02  2.14277169e+00  1.68627117e+00  2.11082787e+00\n",
      "   2.82426644e+00  9.15247874e-01 -7.88666499e-01 -1.59788414e-02\n",
      "   5.09772172e-03  2.23632884e-01 -1.94554157e+00 -1.01497348e+00\n",
      "   1.65877701e+00 -1.89684712e+00 -1.57168032e+00 -9.22049929e-02\n",
      "  -3.70485854e-04 -8.04642556e-02 -1.82397888e+00 -1.77719293e+00\n",
      "   8.20211214e-02 -2.06121457e+00 -8.52263216e-01 -1.43159256e-01]] [-2.10811058]\n",
      "[5]분류기 [[ 0.00000000e+00  3.27525761e-01  2.18216238e+00  4.44986880e-01\n",
      "   9.32666578e-01  2.97038300e+00  1.20820090e+00 -5.17267209e-02\n",
      "  -3.53309242e-03  8.39269494e-01  1.96519977e+00  5.06729534e-03\n",
      "  -9.55935276e-01 -1.05160847e+00  4.38335223e-02 -4.02133909e-02\n",
      "  -1.20564656e-03  1.33529546e+00  1.99010810e+00 -4.79909903e-01\n",
      "  -2.37455471e+00 -3.45384225e+00 -8.67073897e-01 -2.68474355e-02\n",
      "  -4.93949480e-04  1.39149228e+00  2.43167081e+00  1.51451126e+00\n",
      "  -2.74864181e-01 -1.33552027e+00 -8.77422820e-01 -1.21374777e-03\n",
      "   0.00000000e+00 -1.06188667e-01  5.17310216e-02 -4.35841262e-01\n",
      "  -7.94169085e-01 -4.73577774e-01 -4.71155176e-01  0.00000000e+00\n",
      "  -4.28020829e-03 -5.75411591e-01 -2.57677568e+00 -1.69283143e+00\n",
      "  -9.58188764e-02  3.26537178e-02 -4.72653180e-01 -1.15552642e-02\n",
      "  -1.48600504e-03  8.67715601e-02 -7.01508256e-01 -6.06916863e-01\n",
      "   6.98112165e-01 -6.29157501e-01 -1.14929566e+00 -9.27793812e-02\n",
      "  -2.83866543e-04  3.17992687e-01  2.30868153e+00  1.16931405e+00\n",
      "  -1.13471451e+00 -1.92701940e+00 -8.63335056e-01 -1.80439956e-01]] [-2.15938996]\n",
      "[6]분류기 [[ 0.00000000e+00 -1.28330716e-01 -1.68338530e+00 -1.50647641e-01\n",
      "  -7.29365568e-01 -1.63141716e+00 -4.73250813e-01 -4.36690583e-02\n",
      "  -2.78696898e-03 -8.06326111e-01 -1.28879098e+00  1.02344202e+00\n",
      "  -1.63221615e+00 -2.86036844e+00 -6.44992224e-01 -4.12058431e-02\n",
      "  -9.14955238e-04 -8.20057894e-01  1.05379303e+00  9.46440657e-01\n",
      "  -2.56780213e+00 -3.16147299e+00 -7.70677736e-01 -2.38985320e-02\n",
      "  -3.92322207e-04 -1.55747585e-01  1.83141815e+00 -1.25246951e-01\n",
      "  -2.32935436e+00 -2.27543833e+00 -1.02191301e+00 -1.06897334e-03\n",
      "   0.00000000e+00  3.29558686e-01  2.86894627e+00  1.75208960e+00\n",
      "   8.56641123e-01  7.24097225e-01 -6.90115921e-02  0.00000000e+00\n",
      "  -7.54189592e-03 -7.98546263e-02  3.05394829e+00  1.33056175e+00\n",
      "  -1.03593063e+00  6.76363047e-01  2.44477842e+00  9.49601579e-02\n",
      "  -1.76924701e-03 -2.56404864e-01  1.06342396e+00  1.27770834e+00\n",
      "  -1.79061836e+00  1.07443636e+00  2.93520022e+00  1.12451291e-01\n",
      "  -2.81192282e-04 -1.18103264e-01 -1.64689624e+00 -5.45125041e-01\n",
      "   1.22251834e+00  2.64280912e+00  8.98863922e-01 -1.71642468e-01]] [-2.29711841]\n",
      "[7]분류기 [[ 0.00000000e+00 -6.68737826e-02 -1.12357318e-01  6.65211705e-01\n",
      "   1.09793716e+00  2.25893864e+00  1.68035879e+00  3.95090667e-01\n",
      "  -2.90062700e-03 -4.60161997e-01  7.80497425e-02 -9.91308197e-02\n",
      "   3.00227274e-01  1.77423989e+00  1.49254460e+00  2.38080925e-01\n",
      "  -9.20404745e-04 -7.81829113e-01 -2.23978944e+00 -2.16082078e+00\n",
      "  -2.06456810e-01  1.47809113e+00  5.95185955e-01  2.96125583e-02\n",
      "  -4.21538596e-04 -8.55698250e-01 -2.15193447e+00 -1.34144358e+00\n",
      "   7.16893802e-01  1.97656930e+00  1.13404207e+00 -1.48664377e-03\n",
      "   0.00000000e+00 -3.08322304e-01  7.42491533e-01  1.89065653e+00\n",
      "   1.83209896e+00  1.37334940e+00  8.61981408e-01  0.00000000e+00\n",
      "  -4.57498613e-03 -1.29262670e-01 -5.35101977e-01  1.74020721e+00\n",
      "   1.27558718e+00 -1.67183187e+00 -1.01403935e+00 -1.00740381e-02\n",
      "  -1.98657551e-03 -2.44249855e-01 -1.84542373e+00  1.29762452e+00\n",
      "  -1.71259646e+00 -3.52695966e+00 -1.39980199e+00 -7.33623266e-02\n",
      "  -4.23901609e-04 -7.24371800e-02  2.62297689e-01 -2.73445887e-02\n",
      "  -4.14095374e+00 -2.73265586e+00 -8.12173361e-01 -1.41300906e-01]] [-2.10291016]\n",
      "[8]분류기 [[ 0.00000000e+00 -8.99691540e-02 -9.35238994e-02 -1.27435931e-01\n",
      "   1.72644962e-01  1.04470579e-01 -4.27980393e-01 -5.71200133e-02\n",
      "   1.54083830e-02 -5.39424161e-02  1.04599791e+00 -2.05269613e-01\n",
      "  -5.50167599e-01  1.62115006e+00  2.93176166e-01 -4.61811070e-02\n",
      "   2.77287768e-03  3.14864905e-01  9.79336206e-01  8.42673004e-02\n",
      "   1.71776152e-01  1.85367094e+00  2.15998545e-01 -2.09823629e-02\n",
      "  -3.62221944e-04 -4.93033664e-01 -8.53345060e-02  1.89468078e+00\n",
      "   1.52924992e+00 -2.69266803e-01 -8.00087704e-01 -1.02022923e-03\n",
      "   0.00000000e+00 -9.53567562e-01 -5.28621883e-01  2.32170641e+00\n",
      "   1.16770134e+00 -1.98047760e+00 -1.33343902e+00  0.00000000e+00\n",
      "  -4.39869582e-03 -2.84337339e-01  1.78169927e+00  7.66265170e-01\n",
      "   6.05536059e-01  3.03225876e-01 -9.89243393e-01 -1.33388385e-02\n",
      "  -2.06552439e-03  1.40841319e-01  1.62768481e+00 -7.66344103e-01\n",
      "  -6.43084191e-01  4.71401890e-01 -6.26018572e-01 -9.87369162e-02\n",
      "  -4.46523461e-04 -6.93748953e-02 -3.11914689e-01  3.66439539e-01\n",
      "   6.44857826e-01 -5.81644016e-03 -4.01089366e-01 -1.70031120e-01]] [-2.65985259]\n",
      "[9]분류기 [[ 0.00000000e+00 -8.50706343e-02  3.87745200e-02 -1.97294285e-02\n",
      "  -3.00181926e-01 -7.82138767e-02  1.38348602e-01 -4.21425694e-02\n",
      "  -3.52962950e-03  1.05224223e-01  8.34068092e-01 -9.60492174e-01\n",
      "  -5.28823668e-02  1.26222749e+00  3.89616369e-01 -2.44898126e-02\n",
      "  -1.33387437e-03  3.73067447e-01  1.29064224e+00 -3.70620646e-01\n",
      "   5.58840957e-01  2.73556581e+00  6.69613003e-01 -2.26233917e-03\n",
      "  -2.53149851e-04 -2.50286976e-01  7.32188652e-01  1.70033847e+00\n",
      "   1.43244033e+00  2.83206344e+00  6.45759494e-01 -1.24900083e-03\n",
      "   0.00000000e+00 -9.62858074e-01 -1.98671982e+00 -1.52169641e+00\n",
      "  -2.35725132e+00  1.14219208e+00  7.44268576e-01  0.00000000e+00\n",
      "  -3.33684387e-03 -6.01851311e-01 -2.71889595e+00 -2.65994975e+00\n",
      "  -2.12604026e+00  4.30372866e-01  9.59034522e-01  2.05900127e-03\n",
      "  -1.37875348e-03 -5.05265244e-02 -7.02201167e-01 -1.97173859e+00\n",
      "  -1.59048948e+00  4.00873020e-01  6.51097498e-01 -3.09408274e-02\n",
      "  -3.02911847e-04 -9.75870934e-02 -8.26646653e-02 -1.52709664e-01\n",
      "   6.06475709e-01  8.64756663e-01  3.70964348e-02 -1.60503784e-01]] [-2.19798758]\n"
     ]
    }
   ],
   "source": [
    "for idx in range(ovr_clf.n_classes_):\n",
    "    print(f'[{idx}]분류기', ovr_clf.estimators_[idx].coef_, ovr_clf.estimators_[idx].intercept_)"
   ]
  },
  {
   "cell_type": "code",
   "execution_count": 86,
   "metadata": {},
   "outputs": [
    {
     "name": "stdout",
     "output_type": "stream",
     "text": [
      "확률값 : [[0.0787733  0.07785004 0.11759237 0.19225415 0.04654342 0.10645157\n",
      "  0.08302338 0.06987207 0.09086352 0.13677619]\n",
      " [0.11828699 0.06343049 0.07983869 0.15454072 0.06514682 0.10996318\n",
      "  0.05301651 0.08138243 0.09232361 0.18207057]\n",
      " [0.08495929 0.08861693 0.06808398 0.08225892 0.11548253 0.11978089\n",
      "  0.05975883 0.18208459 0.09322917 0.10574487]\n",
      " [0.0918344  0.12082816 0.09048671 0.07607    0.09319821 0.10774621\n",
      "  0.07351068 0.0998756  0.15659425 0.08985579]\n",
      " [0.0767191  0.08928901 0.06765447 0.04952569 0.18302774 0.12253555\n",
      "  0.10407496 0.14374714 0.08563126 0.07779507]]\n",
      "[3 9 7 8 4]\n"
     ]
    }
   ],
   "source": [
    "print(f'확률값 : {ovr_clf.predict_proba(X_test.iloc[:5])}')\n",
    "print(ovr_clf.predict(X_test)[:5])"
   ]
  },
  {
   "cell_type": "code",
   "execution_count": 78,
   "metadata": {},
   "outputs": [
    {
     "data": {
      "text/plain": [
       "array([[-2.46014186, -2.47293224, -2.0164841 , -1.43658085, -3.02068395,\n",
       "        -2.12855139, -2.40297413, -2.58965629, -2.30415988, -1.84340565]])"
      ]
     },
     "execution_count": 78,
     "metadata": {},
     "output_type": "execute_result"
    }
   ],
   "source": [
    "ovr_clf.decision_function(X_test.iloc[:1])"
   ]
  },
  {
   "cell_type": "code",
   "execution_count": 63,
   "metadata": {},
   "outputs": [
    {
     "name": "stdout",
     "output_type": "stream",
     "text": [
      "[3 9 7 8 4]\n"
     ]
    }
   ],
   "source": [
    "\n"
   ]
  },
  {
   "cell_type": "code",
   "execution_count": null,
   "metadata": {},
   "outputs": [],
   "source": []
  },
  {
   "cell_type": "code",
   "execution_count": null,
   "metadata": {},
   "outputs": [],
   "source": []
  }
 ],
 "metadata": {
  "kernelspec": {
   "display_name": "ML_38",
   "language": "python",
   "name": "python3"
  },
  "language_info": {
   "codemirror_mode": {
    "name": "ipython",
    "version": 3
   },
   "file_extension": ".py",
   "mimetype": "text/x-python",
   "name": "python",
   "nbconvert_exporter": "python",
   "pygments_lexer": "ipython3",
   "version": "3.8.19"
  }
 },
 "nbformat": 4,
 "nbformat_minor": 2
}
