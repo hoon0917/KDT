{
 "cells": [
  {
   "cell_type": "markdown",
   "metadata": {},
   "source": [
    "### Feature_selection\n",
    "\n",
    "\n",
    "1. Filtering 방법\n",
    " - 타겟/종속변수에 관련성이 높은 피쳐/독립변수 선택\n",
    " - 상관계수\n",
    " - k개에서 차차 늘려가기\n",
    "\n",
    "2. Wrapper 방법\n",
    " - Forward 방식 : 기준에 따라 k개의 피쳐를 선택 -> 성능 평가 -> 피쳐 추가\n",
    " - Backward 방식: 모든 피쳐 넣음 -> 성능 평가 -> 피쳐 제거\n",
    " - step-Wide 방식 : Forward + Backward\n",
    "\n",
    "3. Embedding 방법\n",
    " - 모델 내부에 피쳐 선택 기능 포함(Important Feature), 주성분분석(PCA)"
   ]
  },
  {
   "cell_type": "markdown",
   "metadata": {},
   "source": [
    "#### Trunning -> 모델 수정\n",
    "\n",
    "\n",
    "1. 모델의 성능 높이기\n",
    " - scikit-learn에서 모델 인스턴스의 score 메서드\n",
    " - 모델이 평가기준이 되는 성능지표 => 분류/회귀에 따라 다름\n",
    "\n",
    "2. 모델 성능에 영향을 미치는 매개변수 -> Hyper-parameter\n",
    " - KNN -> K 개수\n",
    " - LinearRegression -> 가중치, 기울기 초기화 값, 규제\n",
    " - 학습 알고리즘마다 Hyper-parameter가 다름\n",
    "\n",
    "3. 피쳐 제어\n",
    " - 피쳐 개수 조절\n",
    " - 피쳐 추출/압축"
   ]
  },
  {
   "cell_type": "markdown",
   "metadata": {},
   "source": [
    "### 기계학습\n",
    "데이터 기반 ==> 규칙/패턴 ==> 수식 ==> 모델\n",
    "\n",
    "모델 생성 이유\n",
    " - 미래 예측\n",
    " - 정확한 정보 제공\n",
    "\n",
    "학습 판단 기준\n",
    " - 학습용 DS   ==> 학습용 + 테스트용\n",
    " - 테스트용 DS\n",
    " - 테스트용으로 해서 점수가 잘 나오는게 좋음\n",
    " - 과대적합 : 학습용 점수 높고 테스트용 점수 낮음 즉, 일반화가 안되었음"
   ]
  },
  {
   "cell_type": "markdown",
   "metadata": {},
   "source": [
    "### ML Process\n",
    "\n",
    "\n",
    "1. 데이터 준비 => 데이터 로딩, 데이터 확인(실제 데이터 확인 및 탐색)\n",
    "\n",
    "2. 데이터 전처리 \n",
    " - 정제(결측치, 중복값, 이상치, 컬럼별 고유값(unique))  \n",
    " - 피쳐에 대한 처리(인코딩, 스케일링(fit, transform),...)  \n",
    " - 피쳐 선택, 가공  \n",
    " - 피쳐와 타겟(독립변수와 종속변수)\n",
    " \n",
    "3. 학습 준비 \n",
    " - 데이터셋 (train, validation, test)\n",
    " - 데이터 부족 및 일반화를 위해 train, test 데이터셋 분리\n",
    "\n",
    "4. 교차 검증(cross_validate)\n",
    " - 사용 데이터셋 : train 데이터셋\n",
    "\n",
    "5. 모델 평가\n",
    " - 사용 데이터셋 : test 데이터셋\n",
    " - 평가 기준 : 분류/회귀 다름\n",
    "\n",
    "6. 모델의 성능을 높이는 튜닝 작업 진행  \n",
    " - Hyper parameter 제어 : 모델 인스턴스 생성 시 매개변수 설정 변경  \n",
    " - 새로운 모델로 학습 진행\n"
   ]
  },
  {
   "cell_type": "markdown",
   "metadata": {},
   "source": []
  }
 ],
 "metadata": {
  "kernelspec": {
   "display_name": "ML_38",
   "language": "python",
   "name": "python3"
  },
  "language_info": {
   "name": "python",
   "version": "3.8.19"
  }
 },
 "nbformat": 4,
 "nbformat_minor": 2
}
