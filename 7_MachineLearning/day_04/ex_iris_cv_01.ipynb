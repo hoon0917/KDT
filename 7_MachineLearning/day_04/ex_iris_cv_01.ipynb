{
 "cells": [
  {
   "cell_type": "markdown",
   "metadata": {},
   "source": [
    "#### 붓꽃 품종 분류\n",
    " - 목표 : 붓꽃의 3개 품종 분류하기\n",
    " - 데이터셋 : 내장 데이터셋 사용\n",
    " - 피쳐 : 4개\n",
    " - 타겟 : 1개(품종)\n",
    " - 학습 : 지도학습 > 분류"
   ]
  },
  {
   "cell_type": "markdown",
   "metadata": {},
   "source": [
    "[1] 데이터 준비"
   ]
  },
  {
   "cell_type": "code",
   "execution_count": 422,
   "metadata": {},
   "outputs": [],
   "source": [
    "# 모듈로딩\n",
    "from sklearn.datasets import load_iris\n",
    "from sklearn.model_selection import train_test_split\n",
    "import pandas as pd\n",
    "import matplotlib.pyplot as plt\n",
    "import numpy as np\n"
   ]
  },
  {
   "cell_type": "code",
   "execution_count": 423,
   "metadata": {},
   "outputs": [],
   "source": [
    "# 내장 데이터셋 로딩\n",
    "data = load_iris(as_frame=True)"
   ]
  },
  {
   "cell_type": "code",
   "execution_count": 424,
   "metadata": {},
   "outputs": [
    {
     "data": {
      "text/plain": [
       "dict_keys(['data', 'target', 'frame', 'target_names', 'DESCR', 'feature_names', 'filename', 'data_module'])"
      ]
     },
     "execution_count": 424,
     "metadata": {},
     "output_type": "execute_result"
    }
   ],
   "source": [
    "# Bunch 인스턴스 => dict와 유사한 형태\n",
    "data.keys()"
   ]
  },
  {
   "cell_type": "code",
   "execution_count": 425,
   "metadata": {},
   "outputs": [],
   "source": [
    "featureDF = data['data']\n",
    "targetSR = data['target']"
   ]
  },
  {
   "cell_type": "code",
   "execution_count": 426,
   "metadata": {},
   "outputs": [
    {
     "data": {
      "text/plain": [
       "((150, 4), (150,))"
      ]
     },
     "execution_count": 426,
     "metadata": {},
     "output_type": "execute_result"
    }
   ],
   "source": [
    "featureDF.shape, targetSR.shape"
   ]
  },
  {
   "cell_type": "markdown",
   "metadata": {},
   "source": [
    "[2] 데이터셋 준비\n",
    " - 학습용, 검증용, 테스트용"
   ]
  },
  {
   "cell_type": "code",
   "execution_count": 427,
   "metadata": {},
   "outputs": [],
   "source": [
    "# 학습용, 테스트용 분리\n",
    "X_train, X_test, y_train, Y_test = train_test_split(featureDF, targetSR, \n",
    "                                                    stratify=targetSR)"
   ]
  },
  {
   "cell_type": "code",
   "execution_count": 428,
   "metadata": {},
   "outputs": [],
   "source": [
    "# 학습용, 검증용 분리(X_train 가져와서 분리)\n",
    "X_train, X_val, y_train, y_val = train_test_split(X_train, y_train, \n",
    "                                                  stratify=y_train)"
   ]
  },
  {
   "cell_type": "code",
   "execution_count": 429,
   "metadata": {},
   "outputs": [
    {
     "name": "stdout",
     "output_type": "stream",
     "text": [
      "Train DS : 84   0.56%\n",
      "val DS : 28   0.18666666666666668%\n",
      "Test DS : 38   0.25333333333333335%\n"
     ]
    }
   ],
   "source": [
    "print(f'Train DS : {X_train.shape[0]}   {X_train.shape[0]/featureDF.shape[0]}%')\n",
    "print(f'val DS : {X_val.shape[0]}   {X_val.shape[0]/featureDF.shape[0]}%')\n",
    "print(f'Test DS : {X_test.shape[0]}   {X_test.shape[0]/featureDF.shape[0]}%')"
   ]
  },
  {
   "cell_type": "markdown",
   "metadata": {},
   "source": [
    "[3] 교차검증 방식"
   ]
  },
  {
   "cell_type": "code",
   "execution_count": 430,
   "metadata": {},
   "outputs": [],
   "source": [
    "from sklearn.model_selection import KFold, StratifiedKFold\n",
    "from sklearn.tree import DecisionTreeClassifier"
   ]
  },
  {
   "cell_type": "code",
   "execution_count": 431,
   "metadata": {},
   "outputs": [],
   "source": [
    "# 모델 인스턴스 생성\n",
    "dtc_model = DecisionTreeClassifier()\n",
    "\n",
    "# [3-1] FKold 기반 ---------------------------\n",
    "# 정확도 저장 리스트\n",
    "accuracys = []\n",
    "\n",
    "# KFold 인스턴스 생성 [기본 k=5]\n",
    "kfold = KFold()"
   ]
  },
  {
   "cell_type": "code",
   "execution_count": 432,
   "metadata": {},
   "outputs": [
    {
     "name": "stdout",
     "output_type": "stream",
     "text": [
      "1번째 Train 정확도 : 1.0 Val 정확도 : 1.0\n",
      "2번째 Train 정확도 : 1.0 Val 정확도 : 1.0\n",
      "3번째 Train 정확도 : 1.0 Val 정확도 : 0.8666666666666667\n",
      "4번째 Train 정확도 : 1.0 Val 정확도 : 0.9333333333333333\n",
      "5번째 Train 정확도 : 1.0 Val 정확도 : 0.7333333333333333\n"
     ]
    }
   ],
   "source": [
    "# k의 개수만큼 데이터셋으로 학습 반복\n",
    "# k등분 후 학습용 데이터셋 인덱스, 검증용 데이터셋 인덱스 반환\n",
    "for idx, (train_index, val_index) in enumerate(kfold.split(featureDF),1):\n",
    "\n",
    "    #print(f'train_index : {train_index.tolist()}')\n",
    "\n",
    "    # X_train, X_val 데이터셋 설정\n",
    "    X_train,y_train = featureDF.iloc[train_index.tolist()], targetSR[train_index.tolist()]\n",
    "    X_val,y_val = featureDF.iloc[val_index.tolist()], targetSR[val_index.tolist()]\n",
    "\n",
    "    #학습 진행\n",
    "    dtc_model.fit(X_train,y_train)\n",
    "\n",
    "    # 평가 => 분류의 경우 score() 메서드 => 정확도 반환\n",
    "    train_acc = dtc_model.score(X_train,y_train)\n",
    "    val_acc = dtc_model.score(X_val,y_val)\n",
    "\n",
    "    accuracys.append([train_acc,val_acc])\n",
    "    print(f'{idx}번째 Train 정확도 : {train_acc} Val 정확도 : {val_acc}')"
   ]
  },
  {
   "cell_type": "code",
   "execution_count": 433,
   "metadata": {},
   "outputs": [
    {
     "name": "stdout",
     "output_type": "stream",
     "text": [
      "Train 정확도 : 1.0   val 정확도 : 0.91\n"
     ]
    }
   ],
   "source": [
    "# 평균 계산\n",
    "train_mean = sum([value[0] for value in accuracys])/kfold.n_splits\n",
    "test_mean = sum([value[1] for value in accuracys])/kfold.n_splits\n",
    "\n",
    "print(f'Train 정확도 : {train_mean}   val 정확도 : {test_mean:.2f}')"
   ]
  },
  {
   "cell_type": "code",
   "execution_count": 434,
   "metadata": {},
   "outputs": [
    {
     "name": "stdout",
     "output_type": "stream",
     "text": [
      "1번째 Train 정확도 : 1.0 Val 정확도 : 0.9666666666666667\n",
      "2번째 Train 정확도 : 1.0 Val 정확도 : 0.9666666666666667\n",
      "3번째 Train 정확도 : 1.0 Val 정확도 : 0.9\n",
      "4번째 Train 정확도 : 1.0 Val 정확도 : 1.0\n",
      "5번째 Train 정확도 : 1.0 Val 정확도 : 1.0\n"
     ]
    }
   ],
   "source": [
    "# [3-2] stratifiedFold : 정답/레이블/타겟의 비율을 고려해서 데이터 나눠줌\n",
    "\n",
    "accuracys=[]\n",
    "\n",
    "skFold = StratifiedKFold()\n",
    "# k의 개수만큼 데이터셋으로 학습 반복\n",
    "# k등분 후 학습용 데이터셋 인덱스, 검증용 데이터셋 인덱스 반환\n",
    "for idx, (train_index, val_index) in enumerate(skFold.split(featureDF,targetSR),1):\n",
    "\n",
    "    #print(f'train_index : {train_index.tolist()}')\n",
    "\n",
    "    # X_train, X_val 데이터셋 설정\n",
    "    X_train,y_train = featureDF.iloc[train_index.tolist()], targetSR[train_index.tolist()]\n",
    "    X_val,y_val = featureDF.iloc[val_index.tolist()], targetSR[val_index.tolist()]\n",
    "\n",
    "    #학습 진행\n",
    "    dtc_model.fit(X_train,y_train)\n",
    "\n",
    "    # 평가 => 분류의 경우 score() 메서드 => 정확도 반환\n",
    "    train_acc = dtc_model.score(X_train,y_train)\n",
    "    val_acc = dtc_model.score(X_val,y_val)\n",
    "\n",
    "    accuracys.append([train_acc,val_acc])\n",
    "    print(f'{idx}번째 Train 정확도 : {train_acc} Val 정확도 : {val_acc}')"
   ]
  },
  {
   "cell_type": "code",
   "execution_count": 435,
   "metadata": {},
   "outputs": [
    {
     "name": "stdout",
     "output_type": "stream",
     "text": [
      "Train 정확도 : 1.0   val 정확도 : 0.97\n"
     ]
    }
   ],
   "source": [
    "# 평균 계산\n",
    "train_mean = sum([value[0] for value in accuracys])/kfold.n_splits\n",
    "test_mean = sum([value[1] for value in accuracys])/kfold.n_splits\n",
    "\n",
    "print(f'Train 정확도 : {train_mean}   val 정확도 : {test_mean:.2f}')"
   ]
  },
  {
   "cell_type": "markdown",
   "metadata": {},
   "source": [
    "교차검증 및 성능평가 동시 진행 함수 \n",
    "- cross_val_score\n",
    "- cross_val_predict"
   ]
  },
  {
   "cell_type": "code",
   "execution_count": 436,
   "metadata": {},
   "outputs": [],
   "source": [
    "from sklearn.model_selection import cross_val_score, cross_val_predict, cross_validate"
   ]
  },
  {
   "cell_type": "code",
   "execution_count": 437,
   "metadata": {},
   "outputs": [],
   "source": [
    "### [1] 전체 DS ==> 학습용과 테스트용 DS 분리\n",
    "X_train, X_test, y_train, y_test = train_test_split(featureDF,targetSR,\n",
    "                                                    stratify=targetSR,\n",
    "                                                    random_state=10)"
   ]
  },
  {
   "cell_type": "code",
   "execution_count": 438,
   "metadata": {},
   "outputs": [],
   "source": [
    "### corss_val_predict\n",
    "predict = cross_val_predict(dtc_model,X_train,y_train,cv=3)"
   ]
  },
  {
   "cell_type": "code",
   "execution_count": 439,
   "metadata": {},
   "outputs": [
    {
     "name": "stdout",
     "output_type": "stream",
     "text": [
      "predict : [0 2 1 0 1 1 2 1 1 1 2 0 2 2 1 2 0 2 0 2 0 1 1 1 0 1 0 2 2 2 1 2 0 0 0 1 0\n",
      " 0 0 1 1 2 0 2 1 0 2 1 0 0 2 0 2 0 0 0 1 1 1 0 1 2 1 0 1 1 2 1 2 0 1 2 1 0\n",
      " 2 2 1 1 0 2 2 1 1 2 1 2 1 2 0 0 0 0 0 2 1 2 2 2 0 0 2 0 1 2 2 2 0 1 0 2 0\n",
      " 1]\n"
     ]
    }
   ],
   "source": [
    "print(f'predict : {predict}')"
   ]
  },
  {
   "cell_type": "code",
   "execution_count": 440,
   "metadata": {},
   "outputs": [
    {
     "data": {
      "text/plain": [
       "array([1.        , 0.91666667, 1.        , 0.81818182, 0.90909091,\n",
       "       0.90909091, 1.        , 0.90909091, 1.        , 0.81818182])"
      ]
     },
     "execution_count": 440,
     "metadata": {},
     "output_type": "execute_result"
    }
   ],
   "source": [
    "### cross_val_score\n",
    "score = cross_val_score(dtc_model,X_train,y_train, cv=10)\n",
    "score"
   ]
  },
  {
   "cell_type": "code",
   "execution_count": 441,
   "metadata": {},
   "outputs": [
    {
     "data": {
      "text/html": [
       "<div>\n",
       "<style scoped>\n",
       "    .dataframe tbody tr th:only-of-type {\n",
       "        vertical-align: middle;\n",
       "    }\n",
       "\n",
       "    .dataframe tbody tr th {\n",
       "        vertical-align: top;\n",
       "    }\n",
       "\n",
       "    .dataframe thead th {\n",
       "        text-align: right;\n",
       "    }\n",
       "</style>\n",
       "<table border=\"1\" class=\"dataframe\">\n",
       "  <thead>\n",
       "    <tr style=\"text-align: right;\">\n",
       "      <th></th>\n",
       "      <th>test_score</th>\n",
       "      <th>train_score</th>\n",
       "    </tr>\n",
       "  </thead>\n",
       "  <tbody>\n",
       "    <tr>\n",
       "      <th>0</th>\n",
       "      <td>0.956522</td>\n",
       "      <td>1.0</td>\n",
       "    </tr>\n",
       "    <tr>\n",
       "      <th>1</th>\n",
       "      <td>0.956522</td>\n",
       "      <td>1.0</td>\n",
       "    </tr>\n",
       "    <tr>\n",
       "      <th>2</th>\n",
       "      <td>0.954545</td>\n",
       "      <td>1.0</td>\n",
       "    </tr>\n",
       "    <tr>\n",
       "      <th>3</th>\n",
       "      <td>0.863636</td>\n",
       "      <td>1.0</td>\n",
       "    </tr>\n",
       "    <tr>\n",
       "      <th>4</th>\n",
       "      <td>0.909091</td>\n",
       "      <td>1.0</td>\n",
       "    </tr>\n",
       "  </tbody>\n",
       "</table>\n",
       "</div>"
      ],
      "text/plain": [
       "   test_score  train_score\n",
       "0    0.956522          1.0\n",
       "1    0.956522          1.0\n",
       "2    0.954545          1.0\n",
       "3    0.863636          1.0\n",
       "4    0.909091          1.0"
      ]
     },
     "execution_count": 441,
     "metadata": {},
     "output_type": "execute_result"
    }
   ],
   "source": [
    "### cross_validate\n",
    "'''\n",
    "estimator : 각 순서의 값을 구할 때 사용된 모델\n",
    "estimator의 사용법 : 각 score가 구해졌을 때 사용된 모델이 명시되어 있으니 최고의 score를 출력한 모델이 무엇인지 알 수 있음\n",
    "이후 해당 모델을 사용하면 됨\n",
    "모델의 형태는 변하지 않지만 그 안의 값이 변함\n",
    "'''\n",
    "result = cross_validate(dtc_model,X_train,y_train, \n",
    "                        return_train_score=True,\n",
    "                        return_estimator=True)\n",
    "resultDF= pd.DataFrame(result).loc[:,['test_score','train_score']]\n",
    "resultDF"
   ]
  },
  {
   "cell_type": "code",
   "execution_count": 442,
   "metadata": {},
   "outputs": [
    {
     "data": {
      "text/html": [
       "<style>#sk-container-id-11 {color: black;}#sk-container-id-11 pre{padding: 0;}#sk-container-id-11 div.sk-toggleable {background-color: white;}#sk-container-id-11 label.sk-toggleable__label {cursor: pointer;display: block;width: 100%;margin-bottom: 0;padding: 0.3em;box-sizing: border-box;text-align: center;}#sk-container-id-11 label.sk-toggleable__label-arrow:before {content: \"▸\";float: left;margin-right: 0.25em;color: #696969;}#sk-container-id-11 label.sk-toggleable__label-arrow:hover:before {color: black;}#sk-container-id-11 div.sk-estimator:hover label.sk-toggleable__label-arrow:before {color: black;}#sk-container-id-11 div.sk-toggleable__content {max-height: 0;max-width: 0;overflow: hidden;text-align: left;background-color: #f0f8ff;}#sk-container-id-11 div.sk-toggleable__content pre {margin: 0.2em;color: black;border-radius: 0.25em;background-color: #f0f8ff;}#sk-container-id-11 input.sk-toggleable__control:checked~div.sk-toggleable__content {max-height: 200px;max-width: 100%;overflow: auto;}#sk-container-id-11 input.sk-toggleable__control:checked~label.sk-toggleable__label-arrow:before {content: \"▾\";}#sk-container-id-11 div.sk-estimator input.sk-toggleable__control:checked~label.sk-toggleable__label {background-color: #d4ebff;}#sk-container-id-11 div.sk-label input.sk-toggleable__control:checked~label.sk-toggleable__label {background-color: #d4ebff;}#sk-container-id-11 input.sk-hidden--visually {border: 0;clip: rect(1px 1px 1px 1px);clip: rect(1px, 1px, 1px, 1px);height: 1px;margin: -1px;overflow: hidden;padding: 0;position: absolute;width: 1px;}#sk-container-id-11 div.sk-estimator {font-family: monospace;background-color: #f0f8ff;border: 1px dotted black;border-radius: 0.25em;box-sizing: border-box;margin-bottom: 0.5em;}#sk-container-id-11 div.sk-estimator:hover {background-color: #d4ebff;}#sk-container-id-11 div.sk-parallel-item::after {content: \"\";width: 100%;border-bottom: 1px solid gray;flex-grow: 1;}#sk-container-id-11 div.sk-label:hover label.sk-toggleable__label {background-color: #d4ebff;}#sk-container-id-11 div.sk-serial::before {content: \"\";position: absolute;border-left: 1px solid gray;box-sizing: border-box;top: 0;bottom: 0;left: 50%;z-index: 0;}#sk-container-id-11 div.sk-serial {display: flex;flex-direction: column;align-items: center;background-color: white;padding-right: 0.2em;padding-left: 0.2em;position: relative;}#sk-container-id-11 div.sk-item {position: relative;z-index: 1;}#sk-container-id-11 div.sk-parallel {display: flex;align-items: stretch;justify-content: center;background-color: white;position: relative;}#sk-container-id-11 div.sk-item::before, #sk-container-id-11 div.sk-parallel-item::before {content: \"\";position: absolute;border-left: 1px solid gray;box-sizing: border-box;top: 0;bottom: 0;left: 50%;z-index: -1;}#sk-container-id-11 div.sk-parallel-item {display: flex;flex-direction: column;z-index: 1;position: relative;background-color: white;}#sk-container-id-11 div.sk-parallel-item:first-child::after {align-self: flex-end;width: 50%;}#sk-container-id-11 div.sk-parallel-item:last-child::after {align-self: flex-start;width: 50%;}#sk-container-id-11 div.sk-parallel-item:only-child::after {width: 0;}#sk-container-id-11 div.sk-dashed-wrapped {border: 1px dashed gray;margin: 0 0.4em 0.5em 0.4em;box-sizing: border-box;padding-bottom: 0.4em;background-color: white;}#sk-container-id-11 div.sk-label label {font-family: monospace;font-weight: bold;display: inline-block;line-height: 1.2em;}#sk-container-id-11 div.sk-label-container {text-align: center;}#sk-container-id-11 div.sk-container {/* jupyter's `normalize.less` sets `[hidden] { display: none; }` but bootstrap.min.css set `[hidden] { display: none !important; }` so we also need the `!important` here to be able to override the default hidden behavior on the sphinx rendered scikit-learn.org. See: https://github.com/scikit-learn/scikit-learn/issues/21755 */display: inline-block !important;position: relative;}#sk-container-id-11 div.sk-text-repr-fallback {display: none;}</style><div id=\"sk-container-id-11\" class=\"sk-top-container\"><div class=\"sk-text-repr-fallback\"><pre>DecisionTreeClassifier()</pre><b>In a Jupyter environment, please rerun this cell to show the HTML representation or trust the notebook. <br />On GitHub, the HTML representation is unable to render, please try loading this page with nbviewer.org.</b></div><div class=\"sk-container\" hidden><div class=\"sk-item\"><div class=\"sk-estimator sk-toggleable\"><input class=\"sk-toggleable__control sk-hidden--visually\" id=\"sk-estimator-id-11\" type=\"checkbox\" checked><label for=\"sk-estimator-id-11\" class=\"sk-toggleable__label sk-toggleable__label-arrow\">DecisionTreeClassifier</label><div class=\"sk-toggleable__content\"><pre>DecisionTreeClassifier()</pre></div></div></div></div></div>"
      ],
      "text/plain": [
       "DecisionTreeClassifier()"
      ]
     },
     "execution_count": 442,
     "metadata": {},
     "output_type": "execute_result"
    }
   ],
   "source": [
    "# best_model\n",
    "best_model = result['estimator'][1]\n",
    "best_model"
   ]
  },
  {
   "cell_type": "markdown",
   "metadata": {},
   "source": [
    "테스트 데이터로 확인"
   ]
  },
  {
   "cell_type": "code",
   "execution_count": 443,
   "metadata": {},
   "outputs": [
    {
     "data": {
      "text/plain": [
       "array([1, 1, 2, 2, 2, 1, 0, 2, 2, 0, 1, 1, 1, 1, 0, 2, 0, 1, 0, 0, 2, 2,\n",
       "       0, 1, 2, 0, 2, 2, 1, 2, 0, 0, 0, 1, 1, 1, 0, 2])"
      ]
     },
     "execution_count": 443,
     "metadata": {},
     "output_type": "execute_result"
    }
   ],
   "source": [
    "best_model.predict(X_test)"
   ]
  },
  {
   "cell_type": "code",
   "execution_count": 445,
   "metadata": {},
   "outputs": [
    {
     "data": {
      "text/plain": [
       "1.0"
      ]
     },
     "execution_count": 445,
     "metadata": {},
     "output_type": "execute_result"
    }
   ],
   "source": [
    "best_model.score(X_test,y_test)"
   ]
  },
  {
   "cell_type": "markdown",
   "metadata": {},
   "source": [
    "1. 전처리\n",
    "2. 학습용 테스트용 분리\n",
    "3. cross_validate(자동교차검증)로 최적의 모델 찾기\n",
    "4. 테스트 데이터로 확인\n"
   ]
  },
  {
   "cell_type": "code",
   "execution_count": null,
   "metadata": {},
   "outputs": [],
   "source": []
  },
  {
   "cell_type": "code",
   "execution_count": null,
   "metadata": {},
   "outputs": [],
   "source": []
  },
  {
   "cell_type": "markdown",
   "metadata": {},
   "source": []
  }
 ],
 "metadata": {
  "kernelspec": {
   "display_name": "ML_38",
   "language": "python",
   "name": "python3"
  },
  "language_info": {
   "codemirror_mode": {
    "name": "ipython",
    "version": 3
   },
   "file_extension": ".py",
   "mimetype": "text/x-python",
   "name": "python",
   "nbconvert_exporter": "python",
   "pygments_lexer": "ipython3",
   "version": "3.8.19"
  }
 },
 "nbformat": 4,
 "nbformat_minor": 2
}
