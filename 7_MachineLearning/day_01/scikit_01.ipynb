{
 "cells": [
  {
   "cell_type": "markdown",
   "metadata": {},
   "source": [
    "##### 생선의 무게와 크기로 생선 분류\n",
    " - 데이터셋 : fish.csv \n",
    " - 피쳐/입력데이터 : Weight, Length\n",
    " - 타겟/클래스/출력 : Species\n",
    " - 기계학습 방법 : 지도학습 ==> 분류\n",
    " - 분류 알고리즘(문제해결방법) : 미정"
   ]
  },
  {
   "cell_type": "code",
   "execution_count": 2,
   "metadata": {},
   "outputs": [],
   "source": [
    "import pandas as pd\n",
    "import matplotlib.pyplot as plt "
   ]
  },
  {
   "cell_type": "code",
   "execution_count": 3,
   "metadata": {},
   "outputs": [],
   "source": [
    "# csv ==> DataFrame\n",
    "## - 첫번째 줄 : 컬럼명 존재\n",
    "## - 구분자 : 쉼표\n",
    "## - 로딩컬럼 : Species, Weight, Length"
   ]
  },
  {
   "cell_type": "code",
   "execution_count": 4,
   "metadata": {},
   "outputs": [],
   "source": [
    "# 경로 => 상대경로, 절대경로\n",
    "# 상대경로 : 현재 파일을 기준으로 경로를 설정\n",
    "# -./ : 현재 위치 의미\n",
    "# - ../ : 상위 즉, 한단계 위의 위치 의미\n",
    "DATA_FILE = '../data/fish.csv'\n",
    "\n",
    "\n",
    "# 절대경로 : 드라이브(C,D, E...)를 기준으로 경로 설정"
   ]
  },
  {
   "cell_type": "code",
   "execution_count": 5,
   "metadata": {},
   "outputs": [],
   "source": [
    "# csv ==> DataFrame\n",
    "## - 첫번째 줄 : 컬럼명 존재\n",
    "## - 구분자 : 쉼표\n",
    "## - 로딩컬럼 : Species, Weight, Length\n",
    "fishDF = pd.read_csv(DATA_FILE,usecols=[0,1,2])"
   ]
  },
  {
   "cell_type": "code",
   "execution_count": 6,
   "metadata": {},
   "outputs": [
    {
     "name": "stdout",
     "output_type": "stream",
     "text": [
      "<class 'pandas.core.frame.DataFrame'>\n",
      "RangeIndex: 159 entries, 0 to 158\n",
      "Data columns (total 3 columns):\n",
      " #   Column   Non-Null Count  Dtype  \n",
      "---  ------   --------------  -----  \n",
      " 0   Species  159 non-null    object \n",
      " 1   Weight   159 non-null    float64\n",
      " 2   Length   159 non-null    float64\n",
      "dtypes: float64(2), object(1)\n",
      "memory usage: 3.9+ KB\n"
     ]
    }
   ],
   "source": [
    "# 1-1 정보 확인\n",
    "fishDF.info()"
   ]
  },
  {
   "cell_type": "code",
   "execution_count": 7,
   "metadata": {},
   "outputs": [
    {
     "data": {
      "text/plain": [
       "Species    Weight  Length\n",
       "Roach      160.0   22.5      2\n",
       "Perch      120.0   22.0      2\n",
       "Bream      600.0   32.0      2\n",
       "           700.0   33.0      2\n",
       "           242.0   25.4      1\n",
       "                            ..\n",
       "Perch      100.0   18.0      1\n",
       "           110.0   21.0      1\n",
       "                   22.0      1\n",
       "           115.0   21.0      1\n",
       "Whitefish  1000.0  40.0      1\n",
       "Name: count, Length: 155, dtype: int64"
      ]
     },
     "execution_count": 7,
     "metadata": {},
     "output_type": "execute_result"
    }
   ],
   "source": [
    "# 1-2 컬럼별 결측치 확인\n",
    "# -> isnull() x\n",
    "# 컬럼별 고유값 확인\n",
    "fishDF.value_counts()"
   ]
  },
  {
   "cell_type": "code",
   "execution_count": 8,
   "metadata": {},
   "outputs": [],
   "source": [
    "# 1-3 컬럼별 중복값 확인\n",
    "# -> 길이와 무게가 같다고 해서 높이,너비,대각선 길이가 같지는 않음\n",
    "# -> 중복데이터 유지 "
   ]
  },
  {
   "cell_type": "code",
   "execution_count": 9,
   "metadata": {},
   "outputs": [
    {
     "data": {
      "text/plain": [
       "{'Bream': 0,\n",
       " 'Roach': 1,\n",
       " 'Whitefish': 2,\n",
       " 'Parkki': 3,\n",
       " 'Perch': 4,\n",
       " 'Pike': 5,\n",
       " 'Smelt': 6}"
      ]
     },
     "execution_count": 9,
     "metadata": {},
     "output_type": "execute_result"
    }
   ],
   "source": [
    "# 2 피쳐와 타켓의 관계, 피쳐와 피쳐의 관계\n",
    "# 2-1 피쳐와 타켓의 관계 => 연관성 확인\n",
    "# 연관성 -> 상관계수 확인\n",
    "# object 타입의 품종을 int로 변환한 컬럼 추가 fish_num\n",
    "# ndarray -> list 형변환\n",
    "names = fishDF['Species'].unique().tolist()\n",
    "{name: idx for idx, name in enumerate(names)} # 딕셔너리 컨프리헨션 dict comprehension\n"
   ]
  },
  {
   "cell_type": "code",
   "execution_count": 10,
   "metadata": {},
   "outputs": [],
   "source": [
    "values=fishDF['Species'].replace({'Bream':1,'Roach':2,'Whitefish':3,'Parkki':4,'Perch':5,'Pike':6,'Smelt':7})\n",
    "fishDF['code']=values"
   ]
  },
  {
   "cell_type": "code",
   "execution_count": 11,
   "metadata": {},
   "outputs": [
    {
     "data": {
      "text/plain": [
       "code\n",
       "5    56\n",
       "1    35\n",
       "2    20\n",
       "6    17\n",
       "7    14\n",
       "4    11\n",
       "3     6\n",
       "Name: count, dtype: int64"
      ]
     },
     "execution_count": 11,
     "metadata": {},
     "output_type": "execute_result"
    }
   ],
   "source": [
    "fishDF['code'].value_counts()"
   ]
  },
  {
   "cell_type": "code",
   "execution_count": 12,
   "metadata": {},
   "outputs": [
    {
     "data": {
      "text/html": [
       "<div>\n",
       "<style scoped>\n",
       "    .dataframe tbody tr th:only-of-type {\n",
       "        vertical-align: middle;\n",
       "    }\n",
       "\n",
       "    .dataframe tbody tr th {\n",
       "        vertical-align: top;\n",
       "    }\n",
       "\n",
       "    .dataframe thead th {\n",
       "        text-align: right;\n",
       "    }\n",
       "</style>\n",
       "<table border=\"1\" class=\"dataframe\">\n",
       "  <thead>\n",
       "    <tr style=\"text-align: right;\">\n",
       "      <th></th>\n",
       "      <th>Weight</th>\n",
       "      <th>Length</th>\n",
       "      <th>code</th>\n",
       "    </tr>\n",
       "  </thead>\n",
       "  <tbody>\n",
       "    <tr>\n",
       "      <th>Weight</th>\n",
       "      <td>1.000000</td>\n",
       "      <td>0.918618</td>\n",
       "      <td>-0.176783</td>\n",
       "    </tr>\n",
       "    <tr>\n",
       "      <th>Length</th>\n",
       "      <td>0.918618</td>\n",
       "      <td>1.000000</td>\n",
       "      <td>-0.118425</td>\n",
       "    </tr>\n",
       "    <tr>\n",
       "      <th>code</th>\n",
       "      <td>-0.176783</td>\n",
       "      <td>-0.118425</td>\n",
       "      <td>1.000000</td>\n",
       "    </tr>\n",
       "  </tbody>\n",
       "</table>\n",
       "</div>"
      ],
      "text/plain": [
       "          Weight    Length      code\n",
       "Weight  1.000000  0.918618 -0.176783\n",
       "Length  0.918618  1.000000 -0.118425\n",
       "code   -0.176783 -0.118425  1.000000"
      ]
     },
     "execution_count": 12,
     "metadata": {},
     "output_type": "execute_result"
    }
   ],
   "source": [
    "# 7가지 종류에 대한 상관계수\n",
    "fishDF.corr(numeric_only=True)"
   ]
  },
  {
   "cell_type": "code",
   "execution_count": 13,
   "metadata": {},
   "outputs": [],
   "source": [
    "# 도미(Bream)와 빙어(Smelt)의 상관관계 계수\n",
    "mask =(fishDF['Species'] == 'Bream') | (fishDF['Species'] == 'Smelt')"
   ]
  },
  {
   "cell_type": "code",
   "execution_count": 14,
   "metadata": {},
   "outputs": [],
   "source": [
    "twofishDF = fishDF[mask]"
   ]
  },
  {
   "cell_type": "code",
   "execution_count": 15,
   "metadata": {},
   "outputs": [
    {
     "data": {
      "text/html": [
       "<div>\n",
       "<style scoped>\n",
       "    .dataframe tbody tr th:only-of-type {\n",
       "        vertical-align: middle;\n",
       "    }\n",
       "\n",
       "    .dataframe tbody tr th {\n",
       "        vertical-align: top;\n",
       "    }\n",
       "\n",
       "    .dataframe thead th {\n",
       "        text-align: right;\n",
       "    }\n",
       "</style>\n",
       "<table border=\"1\" class=\"dataframe\">\n",
       "  <thead>\n",
       "    <tr style=\"text-align: right;\">\n",
       "      <th></th>\n",
       "      <th>Weight</th>\n",
       "      <th>Length</th>\n",
       "      <th>code</th>\n",
       "    </tr>\n",
       "  </thead>\n",
       "  <tbody>\n",
       "    <tr>\n",
       "      <th>Weight</th>\n",
       "      <td>1.000000</td>\n",
       "      <td>0.960347</td>\n",
       "      <td>-0.843828</td>\n",
       "    </tr>\n",
       "    <tr>\n",
       "      <th>Length</th>\n",
       "      <td>0.960347</td>\n",
       "      <td>1.000000</td>\n",
       "      <td>-0.944132</td>\n",
       "    </tr>\n",
       "    <tr>\n",
       "      <th>code</th>\n",
       "      <td>-0.843828</td>\n",
       "      <td>-0.944132</td>\n",
       "      <td>1.000000</td>\n",
       "    </tr>\n",
       "  </tbody>\n",
       "</table>\n",
       "</div>"
      ],
      "text/plain": [
       "          Weight    Length      code\n",
       "Weight  1.000000  0.960347 -0.843828\n",
       "Length  0.960347  1.000000 -0.944132\n",
       "code   -0.843828 -0.944132  1.000000"
      ]
     },
     "execution_count": 15,
     "metadata": {},
     "output_type": "execute_result"
    }
   ],
   "source": [
    "twofishDF.corr(numeric_only=True)"
   ]
  },
  {
   "cell_type": "code",
   "execution_count": null,
   "metadata": {},
   "outputs": [],
   "source": []
  }
 ],
 "metadata": {
  "kernelspec": {
   "display_name": "base",
   "language": "python",
   "name": "python3"
  },
  "language_info": {
   "codemirror_mode": {
    "name": "ipython",
    "version": 3
   },
   "file_extension": ".py",
   "mimetype": "text/x-python",
   "name": "python",
   "nbconvert_exporter": "python",
   "pygments_lexer": "ipython3",
   "version": "3.8.19"
  }
 },
 "nbformat": 4,
 "nbformat_minor": 2
}
