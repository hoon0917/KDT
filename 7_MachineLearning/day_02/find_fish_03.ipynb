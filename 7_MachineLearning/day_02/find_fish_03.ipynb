{
  "cells": [
    {
      "cell_type": "markdown",
      "metadata": {
        "id": "OvX0HaeZJLGA"
      },
      "source": [
        "### 생선 분류\n",
        "- 데이터셋 : fish.csv\n",
        "- 피쳐/특성 : Weight, Lenght\n",
        "- 타겟/라벨 : Species\n",
        "- 학습방법 : 지도학습 => 분류\n",
        "- 학습알고리즘 : 최근접이웃알고리즘"
      ]
    },
    {
      "cell_type": "markdown",
      "metadata": {
        "id": "-U_9wqAKJLGC"
      },
      "source": [
        "[1] 데이터 준비"
      ]
    },
    {
      "cell_type": "code",
      "execution_count": 100,
      "metadata": {
        "id": "0P1HQbTJJLGC"
      },
      "outputs": [],
      "source": [
        "import pandas as pd\n",
        "import matplotlib.pyplot as plt"
      ]
    },
    {
      "cell_type": "code",
      "execution_count": 101,
      "metadata": {
        "id": "ev3Z-5BHJLGD"
      },
      "outputs": [],
      "source": [
        "DATA_FILE = '../data/fish.csv'"
      ]
    },
    {
      "cell_type": "code",
      "execution_count": 102,
      "metadata": {
        "id": "NW-9UyN0JLGD",
        "outputId": "c0ad6495-ad5e-4faa-d6f9-2779cf5887df"
      },
      "outputs": [
        {
          "data": {
            "text/html": [
              "<div>\n",
              "<style scoped>\n",
              "    .dataframe tbody tr th:only-of-type {\n",
              "        vertical-align: middle;\n",
              "    }\n",
              "\n",
              "    .dataframe tbody tr th {\n",
              "        vertical-align: top;\n",
              "    }\n",
              "\n",
              "    .dataframe thead th {\n",
              "        text-align: right;\n",
              "    }\n",
              "</style>\n",
              "<table border=\"1\" class=\"dataframe\">\n",
              "  <thead>\n",
              "    <tr style=\"text-align: right;\">\n",
              "      <th></th>\n",
              "      <th>Species</th>\n",
              "      <th>Weight</th>\n",
              "      <th>Length</th>\n",
              "    </tr>\n",
              "  </thead>\n",
              "  <tbody>\n",
              "    <tr>\n",
              "      <th>0</th>\n",
              "      <td>Bream</td>\n",
              "      <td>242.0</td>\n",
              "      <td>25.4</td>\n",
              "    </tr>\n",
              "    <tr>\n",
              "      <th>1</th>\n",
              "      <td>Bream</td>\n",
              "      <td>290.0</td>\n",
              "      <td>26.3</td>\n",
              "    </tr>\n",
              "    <tr>\n",
              "      <th>2</th>\n",
              "      <td>Bream</td>\n",
              "      <td>340.0</td>\n",
              "      <td>26.5</td>\n",
              "    </tr>\n",
              "  </tbody>\n",
              "</table>\n",
              "</div>"
            ],
            "text/plain": [
              "  Species  Weight  Length\n",
              "0   Bream   242.0    25.4\n",
              "1   Bream   290.0    26.3\n",
              "2   Bream   340.0    26.5"
            ]
          },
          "execution_count": 102,
          "metadata": {},
          "output_type": "execute_result"
        }
      ],
      "source": [
        "# 행 : Bream, Smelt,  컬럼 :  Species, Weight, Height => 0, 1, 2\n",
        "fishDF=pd.read_csv(DATA_FILE, usecols=[0,1,2])\n",
        "fishDF.head(3)"
      ]
    },
    {
      "cell_type": "code",
      "execution_count": 103,
      "metadata": {
        "id": "BtKtK2WPJLGE",
        "outputId": "542d4ce2-3246-4362-8684-dc1b4f4f7eed"
      },
      "outputs": [
        {
          "data": {
            "text/plain": [
              "RangeIndex(start=0, stop=49, step=1)"
            ]
          },
          "execution_count": 103,
          "metadata": {},
          "output_type": "execute_result"
        }
      ],
      "source": [
        "mask =(fishDF['Species'] == 'Bream') | (fishDF['Species'] == 'Smelt')\n",
        "twoDF=fishDF[mask]\n",
        "twoDF.reset_index(drop=True, inplace=True)\n",
        "twoDF.index"
      ]
    },
    {
      "cell_type": "code",
      "execution_count": 104,
      "metadata": {
        "id": "JJA89n3PJLGE",
        "outputId": "613241fd-86d2-4d5d-a960-1ed232846304"
      },
      "outputs": [
        {
          "name": "stderr",
          "output_type": "stream",
          "text": [
            "C:\\Users\\KDP-17\\AppData\\Local\\Temp\\ipykernel_20372\\1978998237.py:3: SettingWithCopyWarning: \n",
            "A value is trying to be set on a copy of a slice from a DataFrame.\n",
            "Try using .loc[row_indexer,col_indexer] = value instead\n",
            "\n",
            "See the caveats in the documentation: https://pandas.pydata.org/pandas-docs/stable/user_guide/indexing.html#returning-a-view-versus-a-copy\n",
            "  twoDF['FCode'] = new_cols\n"
          ]
        }
      ],
      "source": [
        "# Species 컬럼을 수치화  => Bream 0, Smelt 1\n",
        "new_cols=twoDF.loc[:, 'Species'].replace({'Bream':0, 'Smelt':1})\n",
        "twoDF['FCode'] = new_cols"
      ]
    },
    {
      "cell_type": "code",
      "execution_count": 105,
      "metadata": {
        "id": "lwOtEnkYJLGE",
        "outputId": "49d87e2c-c724-4144-9aab-c3e17a9b7ab5"
      },
      "outputs": [
        {
          "data": {
            "text/html": [
              "<div>\n",
              "<style scoped>\n",
              "    .dataframe tbody tr th:only-of-type {\n",
              "        vertical-align: middle;\n",
              "    }\n",
              "\n",
              "    .dataframe tbody tr th {\n",
              "        vertical-align: top;\n",
              "    }\n",
              "\n",
              "    .dataframe thead th {\n",
              "        text-align: right;\n",
              "    }\n",
              "</style>\n",
              "<table border=\"1\" class=\"dataframe\">\n",
              "  <thead>\n",
              "    <tr style=\"text-align: right;\">\n",
              "      <th></th>\n",
              "      <th>Species</th>\n",
              "      <th>Weight</th>\n",
              "      <th>Length</th>\n",
              "      <th>FCode</th>\n",
              "    </tr>\n",
              "  </thead>\n",
              "  <tbody>\n",
              "    <tr>\n",
              "      <th>0</th>\n",
              "      <td>Bream</td>\n",
              "      <td>242.0</td>\n",
              "      <td>25.4</td>\n",
              "      <td>0</td>\n",
              "    </tr>\n",
              "    <tr>\n",
              "      <th>1</th>\n",
              "      <td>Bream</td>\n",
              "      <td>290.0</td>\n",
              "      <td>26.3</td>\n",
              "      <td>0</td>\n",
              "    </tr>\n",
              "    <tr>\n",
              "      <th>2</th>\n",
              "      <td>Bream</td>\n",
              "      <td>340.0</td>\n",
              "      <td>26.5</td>\n",
              "      <td>0</td>\n",
              "    </tr>\n",
              "  </tbody>\n",
              "</table>\n",
              "</div>"
            ],
            "text/plain": [
              "  Species  Weight  Length  FCode\n",
              "0   Bream   242.0    25.4      0\n",
              "1   Bream   290.0    26.3      0\n",
              "2   Bream   340.0    26.5      0"
            ]
          },
          "execution_count": 105,
          "metadata": {},
          "output_type": "execute_result"
        }
      ],
      "source": [
        "twoDF.head(3)"
      ]
    },
    {
      "cell_type": "markdown",
      "metadata": {
        "id": "FmwXVd4XJLGF"
      },
      "source": [
        "[2] 피쳐와 타겟 분리"
      ]
    },
    {
      "cell_type": "code",
      "execution_count": 106,
      "metadata": {
        "id": "bEqRrPTvJLGF",
        "outputId": "6bfffecf-cc01-41ec-9130-7a95353df9b7"
      },
      "outputs": [
        {
          "name": "stdout",
          "output_type": "stream",
          "text": [
            "features => (49, 2), 2D\n",
            "target=> (49,), 1D\n"
          ]
        }
      ],
      "source": [
        "features=twoDF[['Weight','Length']]\n",
        "target=twoDF['FCode']\n",
        "\n",
        "print(f'features => {features.shape}, {features.ndim}D')\n",
        "print(f'target=> {target.shape}, {target.ndim}D')"
      ]
    },
    {
      "cell_type": "markdown",
      "metadata": {
        "id": "GPuN_nYnJLGF"
      },
      "source": [
        "[3] 데이터셋 준비 => 학습용, 테스트용"
      ]
    },
    {
      "cell_type": "code",
      "execution_count": 107,
      "metadata": {
        "id": "NNF2nmJaJLGF"
      },
      "outputs": [],
      "source": [
        "from sklearn.model_selection import train_test_split"
      ]
    },
    {
      "cell_type": "code",
      "execution_count": 108,
      "metadata": {
        "id": "dLXP_ziqJLGF"
      },
      "outputs": [],
      "source": [
        "# train:test = 80:20 ===> test_size=0.2 또는 train_size=0.8\n",
        "# stratify 매개변수 : 분류일 경우 사용, 분류 타겟의 종류에 대한 비율을 고려\n",
        "X_train, X_test, y_train, y_test = train_test_split(features,\n",
        "                                                    target,\n",
        "                                                    test_size=0.2,\n",
        "                                                    stratify=target,\n",
        "                                                    random_state=10)"
      ]
    },
    {
      "cell_type": "code",
      "execution_count": 109,
      "metadata": {
        "id": "46FnFuzIJLGG",
        "outputId": "96746c3b-6dc3-4ab5-85b3-8df6cf3c3afb"
      },
      "outputs": [
        {
          "name": "stdout",
          "output_type": "stream",
          "text": [
            "X_train : (39, 2), 2D\n",
            "y_train : (39,), 1D\n",
            "X_test  : (10, 2), 2D\n",
            "y_test  : (10,), 1D\n"
          ]
        }
      ],
      "source": [
        "# train:test = 80:20 체크\n",
        "print(f'X_train : {X_train.shape}, {X_train.ndim}D')\n",
        "print(f'y_train : {y_train.shape}, {y_train.ndim}D')\n",
        "\n",
        "print(f'X_test  : {X_test.shape}, {X_test.ndim}D')\n",
        "print(f'y_test  : {y_test.shape}, {y_test.ndim}D')"
      ]
    },
    {
      "cell_type": "code",
      "execution_count": 110,
      "metadata": {
        "id": "JdET4uc3JLGG",
        "outputId": "592a434e-531d-4949-d132-7be0dc114780"
      },
      "outputs": [
        {
          "data": {
            "text/plain": [
              "(0.717948717948718, 0.28205128205128205)"
            ]
          },
          "execution_count": 110,
          "metadata": {},
          "output_type": "execute_result"
        }
      ],
      "source": [
        "# target 0(Bream), 1(Smelt)의 비율\n",
        "y_train.value_counts()[0]/y_train.shape[0] , y_train.value_counts()[1]/y_train.shape[0]"
      ]
    },
    {
      "cell_type": "code",
      "execution_count": 111,
      "metadata": {
        "id": "Gsn2P3DHJLGG",
        "outputId": "cf5d83b9-52d1-484f-e09e-ab41b39d4766"
      },
      "outputs": [
        {
          "data": {
            "text/plain": [
              "(0.7, 0.3)"
            ]
          },
          "execution_count": 111,
          "metadata": {},
          "output_type": "execute_result"
        }
      ],
      "source": [
        "y_test.value_counts()[0]/y_test.shape[0] , y_test.value_counts()[1]/y_test.shape[0]"
      ]
    },
    {
      "cell_type": "markdown",
      "metadata": {
        "id": "vTkX9DEuJLGG"
      },
      "source": [
        "[3-2] 피쳐 스케일링"
      ]
    },
    {
      "cell_type": "code",
      "execution_count": 112,
      "metadata": {
        "id": "_UHVQAUjJLGG"
      },
      "outputs": [],
      "source": [
        "from sklearn.preprocessing import MinMaxScaler"
      ]
    },
    {
      "cell_type": "code",
      "execution_count": 113,
      "metadata": {
        "id": "8biEnDuQJLGG"
      },
      "outputs": [],
      "source": [
        "# 스케일러 인스턴스 생성\n",
        "mmScaler = MinMaxScaler()"
      ]
    },
    {
      "cell_type": "code",
      "execution_count": 114,
      "metadata": {
        "id": "eTuDkL7gJLGG",
        "outputId": "f6bad490-08e4-4bb3-8783-6b73e28b4ff5"
      },
      "outputs": [
        {
          "data": {
            "text/html": [
              "<style>#sk-container-id-7 {color: black;}#sk-container-id-7 pre{padding: 0;}#sk-container-id-7 div.sk-toggleable {background-color: white;}#sk-container-id-7 label.sk-toggleable__label {cursor: pointer;display: block;width: 100%;margin-bottom: 0;padding: 0.3em;box-sizing: border-box;text-align: center;}#sk-container-id-7 label.sk-toggleable__label-arrow:before {content: \"▸\";float: left;margin-right: 0.25em;color: #696969;}#sk-container-id-7 label.sk-toggleable__label-arrow:hover:before {color: black;}#sk-container-id-7 div.sk-estimator:hover label.sk-toggleable__label-arrow:before {color: black;}#sk-container-id-7 div.sk-toggleable__content {max-height: 0;max-width: 0;overflow: hidden;text-align: left;background-color: #f0f8ff;}#sk-container-id-7 div.sk-toggleable__content pre {margin: 0.2em;color: black;border-radius: 0.25em;background-color: #f0f8ff;}#sk-container-id-7 input.sk-toggleable__control:checked~div.sk-toggleable__content {max-height: 200px;max-width: 100%;overflow: auto;}#sk-container-id-7 input.sk-toggleable__control:checked~label.sk-toggleable__label-arrow:before {content: \"▾\";}#sk-container-id-7 div.sk-estimator input.sk-toggleable__control:checked~label.sk-toggleable__label {background-color: #d4ebff;}#sk-container-id-7 div.sk-label input.sk-toggleable__control:checked~label.sk-toggleable__label {background-color: #d4ebff;}#sk-container-id-7 input.sk-hidden--visually {border: 0;clip: rect(1px 1px 1px 1px);clip: rect(1px, 1px, 1px, 1px);height: 1px;margin: -1px;overflow: hidden;padding: 0;position: absolute;width: 1px;}#sk-container-id-7 div.sk-estimator {font-family: monospace;background-color: #f0f8ff;border: 1px dotted black;border-radius: 0.25em;box-sizing: border-box;margin-bottom: 0.5em;}#sk-container-id-7 div.sk-estimator:hover {background-color: #d4ebff;}#sk-container-id-7 div.sk-parallel-item::after {content: \"\";width: 100%;border-bottom: 1px solid gray;flex-grow: 1;}#sk-container-id-7 div.sk-label:hover label.sk-toggleable__label {background-color: #d4ebff;}#sk-container-id-7 div.sk-serial::before {content: \"\";position: absolute;border-left: 1px solid gray;box-sizing: border-box;top: 0;bottom: 0;left: 50%;z-index: 0;}#sk-container-id-7 div.sk-serial {display: flex;flex-direction: column;align-items: center;background-color: white;padding-right: 0.2em;padding-left: 0.2em;position: relative;}#sk-container-id-7 div.sk-item {position: relative;z-index: 1;}#sk-container-id-7 div.sk-parallel {display: flex;align-items: stretch;justify-content: center;background-color: white;position: relative;}#sk-container-id-7 div.sk-item::before, #sk-container-id-7 div.sk-parallel-item::before {content: \"\";position: absolute;border-left: 1px solid gray;box-sizing: border-box;top: 0;bottom: 0;left: 50%;z-index: -1;}#sk-container-id-7 div.sk-parallel-item {display: flex;flex-direction: column;z-index: 1;position: relative;background-color: white;}#sk-container-id-7 div.sk-parallel-item:first-child::after {align-self: flex-end;width: 50%;}#sk-container-id-7 div.sk-parallel-item:last-child::after {align-self: flex-start;width: 50%;}#sk-container-id-7 div.sk-parallel-item:only-child::after {width: 0;}#sk-container-id-7 div.sk-dashed-wrapped {border: 1px dashed gray;margin: 0 0.4em 0.5em 0.4em;box-sizing: border-box;padding-bottom: 0.4em;background-color: white;}#sk-container-id-7 div.sk-label label {font-family: monospace;font-weight: bold;display: inline-block;line-height: 1.2em;}#sk-container-id-7 div.sk-label-container {text-align: center;}#sk-container-id-7 div.sk-container {/* jupyter's `normalize.less` sets `[hidden] { display: none; }` but bootstrap.min.css set `[hidden] { display: none !important; }` so we also need the `!important` here to be able to override the default hidden behavior on the sphinx rendered scikit-learn.org. See: https://github.com/scikit-learn/scikit-learn/issues/21755 */display: inline-block !important;position: relative;}#sk-container-id-7 div.sk-text-repr-fallback {display: none;}</style><div id=\"sk-container-id-7\" class=\"sk-top-container\"><div class=\"sk-text-repr-fallback\"><pre>MinMaxScaler()</pre><b>In a Jupyter environment, please rerun this cell to show the HTML representation or trust the notebook. <br />On GitHub, the HTML representation is unable to render, please try loading this page with nbviewer.org.</b></div><div class=\"sk-container\" hidden><div class=\"sk-item\"><div class=\"sk-estimator sk-toggleable\"><input class=\"sk-toggleable__control sk-hidden--visually\" id=\"sk-estimator-id-7\" type=\"checkbox\" checked><label for=\"sk-estimator-id-7\" class=\"sk-toggleable__label sk-toggleable__label-arrow\">MinMaxScaler</label><div class=\"sk-toggleable__content\"><pre>MinMaxScaler()</pre></div></div></div></div></div>"
            ],
            "text/plain": [
              "MinMaxScaler()"
            ]
          },
          "execution_count": 114,
          "metadata": {},
          "output_type": "execute_result"
        }
      ],
      "source": [
        "# 데이터에 기반한 MinMaxScaler 동작을 위한 학습 진행\n",
        "mmScaler.fit(X_train)"
      ]
    },
    {
      "cell_type": "code",
      "execution_count": 115,
      "metadata": {
        "id": "DL-eA0BOJLGH",
        "outputId": "b9f4ed09-ad77-4c85-e07b-97d91f1fc81e"
      },
      "outputs": [
        {
          "data": {
            "text/plain": [
              "(array([-0.00674519, -0.31410256]),\n",
              " array([6.7, 9.8]),\n",
              " array([0.00100675, 0.03205128]),\n",
              " array([1000.,   41.]))"
            ]
          },
          "execution_count": 115,
          "metadata": {},
          "output_type": "execute_result"
        }
      ],
      "source": [
        "mmScaler.min_, mmScaler.data_min_, mmScaler.scale_, mmScaler.data_max_"
      ]
    },
    {
      "cell_type": "code",
      "execution_count": 116,
      "metadata": {
        "id": "2wQZ1PDAJLGH",
        "outputId": "3fe365c0-55fb-4e77-ff6d-eecf11bda7c8"
      },
      "outputs": [
        {
          "data": {
            "text/plain": [
              "((39, 2), 0.0, 1.0000000000000002)"
            ]
          },
          "execution_count": 116,
          "metadata": {},
          "output_type": "execute_result"
        }
      ],
      "source": [
        "# 학습용 데이터셋 ==> 스케일링 ==> ndarray 타입 반환\n",
        "X_train_scaled=mmScaler.transform(X_train)\n",
        "X_train_scaled.shape, X_train_scaled.min(), X_train_scaled.max()"
      ]
    },
    {
      "cell_type": "code",
      "execution_count": 117,
      "metadata": {
        "id": "a1q4JR0OJLGH",
        "outputId": "8a51a28e-1699-485e-d0da-62de33286a65"
      },
      "outputs": [
        {
          "data": {
            "text/plain": [
              "((10, 2), 0.0033222591362126247, 0.8489882210812445)"
            ]
          },
          "execution_count": 117,
          "metadata": {},
          "output_type": "execute_result"
        }
      ],
      "source": [
        "# 테스트용 데이터셋 ==> 스케일링 ==> ndarray 타입 반환\n",
        "X_test_scaled = mmScaler.transform(X_test)\n",
        "X_test_scaled.shape, X_test_scaled.min(), X_test_scaled.max()"
      ]
    },
    {
      "cell_type": "markdown",
      "metadata": {
        "id": "MtoR1IV8JLGH"
      },
      "source": [
        "[4] 훈련/학습 진행\n",
        "- 학습 알고리즘 인스턴스 생성\n",
        "- 학습진행 => fit()"
      ]
    },
    {
      "cell_type": "code",
      "execution_count": 118,
      "metadata": {
        "id": "a24-YKIqJLGH"
      },
      "outputs": [],
      "source": [
        "from sklearn.neighbors import KNeighborsClassifier"
      ]
    },
    {
      "cell_type": "code",
      "execution_count": 119,
      "metadata": {
        "id": "UtoXrqViJLGH"
      },
      "outputs": [],
      "source": [
        "# 인스턴스 생성\n",
        "model = KNeighborsClassifier()"
      ]
    },
    {
      "cell_type": "code",
      "execution_count": 120,
      "metadata": {
        "id": "KysB2sXYJLGH",
        "outputId": "a0d77a8b-efe1-442e-d358-5b4e3f2ed702"
      },
      "outputs": [
        {
          "data": {
            "text/html": [
              "<style>#sk-container-id-8 {color: black;}#sk-container-id-8 pre{padding: 0;}#sk-container-id-8 div.sk-toggleable {background-color: white;}#sk-container-id-8 label.sk-toggleable__label {cursor: pointer;display: block;width: 100%;margin-bottom: 0;padding: 0.3em;box-sizing: border-box;text-align: center;}#sk-container-id-8 label.sk-toggleable__label-arrow:before {content: \"▸\";float: left;margin-right: 0.25em;color: #696969;}#sk-container-id-8 label.sk-toggleable__label-arrow:hover:before {color: black;}#sk-container-id-8 div.sk-estimator:hover label.sk-toggleable__label-arrow:before {color: black;}#sk-container-id-8 div.sk-toggleable__content {max-height: 0;max-width: 0;overflow: hidden;text-align: left;background-color: #f0f8ff;}#sk-container-id-8 div.sk-toggleable__content pre {margin: 0.2em;color: black;border-radius: 0.25em;background-color: #f0f8ff;}#sk-container-id-8 input.sk-toggleable__control:checked~div.sk-toggleable__content {max-height: 200px;max-width: 100%;overflow: auto;}#sk-container-id-8 input.sk-toggleable__control:checked~label.sk-toggleable__label-arrow:before {content: \"▾\";}#sk-container-id-8 div.sk-estimator input.sk-toggleable__control:checked~label.sk-toggleable__label {background-color: #d4ebff;}#sk-container-id-8 div.sk-label input.sk-toggleable__control:checked~label.sk-toggleable__label {background-color: #d4ebff;}#sk-container-id-8 input.sk-hidden--visually {border: 0;clip: rect(1px 1px 1px 1px);clip: rect(1px, 1px, 1px, 1px);height: 1px;margin: -1px;overflow: hidden;padding: 0;position: absolute;width: 1px;}#sk-container-id-8 div.sk-estimator {font-family: monospace;background-color: #f0f8ff;border: 1px dotted black;border-radius: 0.25em;box-sizing: border-box;margin-bottom: 0.5em;}#sk-container-id-8 div.sk-estimator:hover {background-color: #d4ebff;}#sk-container-id-8 div.sk-parallel-item::after {content: \"\";width: 100%;border-bottom: 1px solid gray;flex-grow: 1;}#sk-container-id-8 div.sk-label:hover label.sk-toggleable__label {background-color: #d4ebff;}#sk-container-id-8 div.sk-serial::before {content: \"\";position: absolute;border-left: 1px solid gray;box-sizing: border-box;top: 0;bottom: 0;left: 50%;z-index: 0;}#sk-container-id-8 div.sk-serial {display: flex;flex-direction: column;align-items: center;background-color: white;padding-right: 0.2em;padding-left: 0.2em;position: relative;}#sk-container-id-8 div.sk-item {position: relative;z-index: 1;}#sk-container-id-8 div.sk-parallel {display: flex;align-items: stretch;justify-content: center;background-color: white;position: relative;}#sk-container-id-8 div.sk-item::before, #sk-container-id-8 div.sk-parallel-item::before {content: \"\";position: absolute;border-left: 1px solid gray;box-sizing: border-box;top: 0;bottom: 0;left: 50%;z-index: -1;}#sk-container-id-8 div.sk-parallel-item {display: flex;flex-direction: column;z-index: 1;position: relative;background-color: white;}#sk-container-id-8 div.sk-parallel-item:first-child::after {align-self: flex-end;width: 50%;}#sk-container-id-8 div.sk-parallel-item:last-child::after {align-self: flex-start;width: 50%;}#sk-container-id-8 div.sk-parallel-item:only-child::after {width: 0;}#sk-container-id-8 div.sk-dashed-wrapped {border: 1px dashed gray;margin: 0 0.4em 0.5em 0.4em;box-sizing: border-box;padding-bottom: 0.4em;background-color: white;}#sk-container-id-8 div.sk-label label {font-family: monospace;font-weight: bold;display: inline-block;line-height: 1.2em;}#sk-container-id-8 div.sk-label-container {text-align: center;}#sk-container-id-8 div.sk-container {/* jupyter's `normalize.less` sets `[hidden] { display: none; }` but bootstrap.min.css set `[hidden] { display: none !important; }` so we also need the `!important` here to be able to override the default hidden behavior on the sphinx rendered scikit-learn.org. See: https://github.com/scikit-learn/scikit-learn/issues/21755 */display: inline-block !important;position: relative;}#sk-container-id-8 div.sk-text-repr-fallback {display: none;}</style><div id=\"sk-container-id-8\" class=\"sk-top-container\"><div class=\"sk-text-repr-fallback\"><pre>KNeighborsClassifier()</pre><b>In a Jupyter environment, please rerun this cell to show the HTML representation or trust the notebook. <br />On GitHub, the HTML representation is unable to render, please try loading this page with nbviewer.org.</b></div><div class=\"sk-container\" hidden><div class=\"sk-item\"><div class=\"sk-estimator sk-toggleable\"><input class=\"sk-toggleable__control sk-hidden--visually\" id=\"sk-estimator-id-8\" type=\"checkbox\" checked><label for=\"sk-estimator-id-8\" class=\"sk-toggleable__label sk-toggleable__label-arrow\">KNeighborsClassifier</label><div class=\"sk-toggleable__content\"><pre>KNeighborsClassifier()</pre></div></div></div></div></div>"
            ],
            "text/plain": [
              "KNeighborsClassifier()"
            ]
          },
          "execution_count": 120,
          "metadata": {},
          "output_type": "execute_result"
        }
      ],
      "source": [
        "# 학습 진행 ==> 학습용 데이터셋\n",
        "model.fit(X_train_scaled, y_train)"
      ]
    },
    {
      "cell_type": "code",
      "execution_count": 121,
      "metadata": {
        "id": "GJH3LquvJLGH",
        "outputId": "89e763bb-9da9-4d1a-fbd2-0ffc59ffe689"
      },
      "outputs": [
        {
          "data": {
            "text/plain": [
              "(array([0, 1], dtype=int64), 39)"
            ]
          },
          "execution_count": 121,
          "metadata": {},
          "output_type": "execute_result"
        }
      ],
      "source": [
        "# 학습 후 모델 파라미터\n",
        "model.classes_ , model.n_samples_fit_\n",
        "# model.feature_names_in_,   <== ndarray일 경우 컬럼명 X"
      ]
    },
    {
      "cell_type": "markdown",
      "metadata": {
        "id": "EI94rGE0JLGI"
      },
      "source": [
        "[5] 모델 성능평가 ==> score() 메서드 + 테스트 데이터셋"
      ]
    },
    {
      "cell_type": "code",
      "execution_count": 122,
      "metadata": {
        "id": "WMubfrqTJLGI",
        "outputId": "e2320b91-7a5a-4142-b811-c972007e5289"
      },
      "outputs": [
        {
          "data": {
            "text/plain": [
              "1.0"
            ]
          },
          "execution_count": 122,
          "metadata": {},
          "output_type": "execute_result"
        }
      ],
      "source": [
        "model.score(X_test_scaled, y_test)"
      ]
    },
    {
      "cell_type": "markdown",
      "metadata": {
        "id": "QJ6BHrKnJLGI"
      },
      "source": [
        "[6] 최적의 k 개수 찾기 ==> 모델의 성능 영향 미치는 파라미터\n",
        " - 하이퍼파라미터"
      ]
    },
    {
      "cell_type": "code",
      "execution_count": 123,
      "metadata": {
        "id": "yhSIYevLgZAs"
      },
      "outputs": [
        {
          "data": {
            "text/plain": [
              "'\\nk 값의 범위를 지정하고 k값의 변화에 따라 점수의 변동 봄\\n'"
            ]
          },
          "execution_count": 123,
          "metadata": {},
          "output_type": "execute_result"
        }
      ],
      "source": [
        "# k의 범위 : 1 ~ 전체 데이터 개수\n",
        "\n",
        "scores = [] \n",
        "points=[]\n",
        "for k in range(1,40):\n",
        "    # 최근접 이웃 데이터 수 설정\n",
        "    model.n_neighbors = k\n",
        "    \n",
        "    # # 모델 예측 값 추출\n",
        "    # model.fit(X_test_scaled, y_train) # fit의 역할 : 모델 실행을 위한 값 넣어줌\n",
        "\n",
        "    # 점수 계산 및 저장\n",
        "    jumsu = model.score(X_test_scaled, y_test)\n",
        "    # print(f'[{k}]jumsu => {jumsu}')\n",
        "\n",
        "    if k >1 : \n",
        "        if jumsu != scores[-1]:\n",
        "            points.append(k)\n",
        "    scores.append(jumsu)\n",
        "\n",
        "'''\n",
        "k 값의 범위를 지정하고 k값의 변화에 따라 점수의 변동 봄\n",
        "'''\n",
        "    "
      ]
    },
    {
      "cell_type": "code",
      "execution_count": 124,
      "metadata": {},
      "outputs": [
        {
          "data": {
            "image/png": "[encoded data removed]",
            "text/plain": [
              "<Figure size 640x480 with 1 Axes>"
            ]
          },
          "metadata": {},
          "output_type": "display_data"
        }
      ],
      "source": [
        "# x축 : k\n",
        "# y축 : jumsu\n",
        "\n",
        "plt.plot(range(1,40),scores)\n",
        "plt.xlabel('K')\n",
        "plt.ylabel('scores')\n",
        "plt.axvline(points[0]-1,0.0,1.0,color='red')\n",
        "plt.show()"
      ]
    },
    {
      "cell_type": "code",
      "execution_count": null,
      "metadata": {},
      "outputs": [],
      "source": []
    },
    {
      "cell_type": "code",
      "execution_count": null,
      "metadata": {},
      "outputs": [],
      "source": []
    },
    {
      "cell_type": "code",
      "execution_count": null,
      "metadata": {},
      "outputs": [],
      "source": []
    },
    {
      "cell_type": "code",
      "execution_count": 125,
      "metadata": {
        "id": "Rcg6etl-JLGI",
        "outputId": "3339c2df-5ceb-4200-c891-1941dd647c69"
      },
      "outputs": [
        {
          "data": {
            "text/html": [
              "<div>\n",
              "<style scoped>\n",
              "    .dataframe tbody tr th:only-of-type {\n",
              "        vertical-align: middle;\n",
              "    }\n",
              "\n",
              "    .dataframe tbody tr th {\n",
              "        vertical-align: top;\n",
              "    }\n",
              "\n",
              "    .dataframe thead th {\n",
              "        text-align: right;\n",
              "    }\n",
              "</style>\n",
              "<table border=\"1\" class=\"dataframe\">\n",
              "  <thead>\n",
              "    <tr style=\"text-align: right;\">\n",
              "      <th></th>\n",
              "      <th>Weight</th>\n",
              "      <th>Length</th>\n",
              "    </tr>\n",
              "  </thead>\n",
              "  <tbody>\n",
              "    <tr>\n",
              "      <th>0</th>\n",
              "      <td>413</td>\n",
              "      <td>27.8</td>\n",
              "    </tr>\n",
              "  </tbody>\n",
              "</table>\n",
              "</div>"
            ],
            "text/plain": [
              "   Weight  Length\n",
              "0     413    27.8"
            ]
          },
          "execution_count": 125,
          "metadata": {},
          "output_type": "execute_result"
        }
      ],
      "source": [
        "new_data = pd.DataFrame([[413, 27.8]], columns=['Weight','Length'])\n",
        "new_data"
      ]
    },
    {
      "cell_type": "code",
      "execution_count": null,
      "metadata": {
        "id": "Kuy68E1vfdb0"
      },
      "outputs": [],
      "source": []
    },
    {
      "cell_type": "code",
      "execution_count": 126,
      "metadata": {
        "id": "7nwc2yE7JLGI",
        "outputId": "dbcbd78a-0dda-4dc4-db0f-38e292c4c32f"
      },
      "outputs": [
        {
          "data": {
            "text/plain": [
              "array([[0.40904057, 0.57692308]])"
            ]
          },
          "execution_count": 126,
          "metadata": {},
          "output_type": "execute_result"
        }
      ],
      "source": [
        "new_data_scaled=mmScaler.transform(new_data)\n",
        "new_data_scaled"
      ]
    },
    {
      "cell_type": "code",
      "execution_count": 127,
      "metadata": {
        "id": "Fd-8gmP9JLGI",
        "outputId": "b7efd6e3-248f-4609-ef42-cc342b533d39"
      },
      "outputs": [
        {
          "data": {
            "text/plain": [
              "array([0], dtype=int64)"
            ]
          },
          "execution_count": 127,
          "metadata": {},
          "output_type": "execute_result"
        }
      ],
      "source": [
        "# 임의의 새로운 데이터의 예측\n",
        "model.predict(new_data_scaled)"
      ]
    },
    {
      "cell_type": "code",
      "execution_count": 128,
      "metadata": {
        "id": "bnwEBYgZJLGJ"
      },
      "outputs": [],
      "source": [
        "### 최근접한 k개 데이터 찾기\n",
        "distance, index=model.kneighbors(new_data_scaled)"
      ]
    },
    {
      "cell_type": "code",
      "execution_count": 129,
      "metadata": {
        "id": "SuChqhEkJLGJ",
        "outputId": "81178600-c569-41ff-c25a-576a3eac8c71"
      },
      "outputs": [
        {
          "data": {
            "text/plain": [
              "[25,\n",
              " 22,\n",
              " 21,\n",
              " 0,\n",
              " 6,\n",
              " 17,\n",
              " 29,\n",
              " 10,\n",
              " 2,\n",
              " 36,\n",
              " 12,\n",
              " 37,\n",
              " 33,\n",
              " 30,\n",
              " 23,\n",
              " 31,\n",
              " 11,\n",
              " 9,\n",
              " 14,\n",
              " 24,\n",
              " 26,\n",
              " 16,\n",
              " 5,\n",
              " 35,\n",
              " 3,\n",
              " 20,\n",
              " 18,\n",
              " 4,\n",
              " 1,\n",
              " 27,\n",
              " 7,\n",
              " 28,\n",
              " 15,\n",
              " 19,\n",
              " 13,\n",
              " 38,\n",
              " 32,\n",
              " 34,\n",
              " 8]"
            ]
          },
          "execution_count": 129,
          "metadata": {},
          "output_type": "execute_result"
        }
      ],
      "source": [
        "neighbors=index.reshape(-1).tolist()\n",
        "neighbors"
      ]
    },
    {
      "cell_type": "code",
      "execution_count": 130,
      "metadata": {
        "id": "USwWinIOJLGJ",
        "outputId": "8ddd0582-ad4d-4696-b67b-b27f1683dd7c"
      },
      "outputs": [
        {
          "data": {
            "text/plain": [
              "array([[4.26155240e-01, 6.15384615e-01],\n",
              "       [3.58703312e-01, 6.15384615e-01],\n",
              "       [4.46290144e-01, 6.37820513e-01],\n",
              "       [3.85885432e-01, 6.47435897e-01],\n",
              "       [4.46290144e-01, 6.47435897e-01],\n",
              "       [3.35548173e-01, 5.35256410e-01],\n",
              "       [4.96627404e-01, 6.37820513e-01],\n",
              "       [4.71458774e-01, 6.79487179e-01],\n",
              "       [2.85210913e-01, 5.28846154e-01],\n",
              "       [4.96627404e-01, 6.79487179e-01],\n",
              "       [4.96627404e-01, 6.95512821e-01],\n",
              "       [3.35548173e-01, 7.11538462e-01],\n",
              "       [5.97301923e-01, 7.11538462e-01],\n",
              "       [5.72133293e-01, 7.75641026e-01],\n",
              "       [6.07369375e-01, 7.59615385e-01],\n",
              "       [6.17436827e-01, 7.91666667e-01],\n",
              "       [6.47639183e-01, 7.59615385e-01],\n",
              "       [6.97976442e-01, 7.43589744e-01],\n",
              "       [6.82875264e-01, 7.75641026e-01],\n",
              "       [6.77841538e-01, 8.07692308e-01],\n",
              "       [6.97976442e-01, 8.07692308e-01],\n",
              "       [7.18111346e-01, 8.07692308e-01],\n",
              "       [1.32890365e-02, 1.66666667e-01],\n",
              "       [9.19460385e-01, 9.19871795e-01],\n",
              "       [5.53709856e-03, 1.02564103e-01],\n",
              "       [6.74519279e-03, 8.33333333e-02],\n",
              "       [9.24494111e-01, 9.51923077e-01],\n",
              "       [9.54696466e-01, 9.19871795e-01],\n",
              "       [3.12091010e-03, 7.05128205e-02],\n",
              "       [3.22158462e-03, 6.41025641e-02],\n",
              "       [1.00000000e+00, 8.71794872e-01],\n",
              "       [2.01349039e-03, 4.80769231e-02],\n",
              "       [3.12091010e-03, 4.48717949e-02],\n",
              "       [3.02023558e-03, 3.84615385e-02],\n",
              "       [3.02023558e-04, 2.56410256e-02],\n",
              "       [9.49662740e-01, 1.00000000e+00],\n",
              "       [8.05396154e-04, 2.24358974e-02],\n",
              "       [9.74831370e-01, 1.00000000e+00],\n",
              "       [0.00000000e+00, 0.00000000e+00]])"
            ]
          },
          "execution_count": 130,
          "metadata": {},
          "output_type": "execute_result"
        }
      ],
      "source": [
        "X_train_scaled[neighbors]"
      ]
    },
    {
      "cell_type": "code",
      "execution_count": 131,
      "metadata": {
        "id": "wlCB5-gcJLGJ",
        "outputId": "55000285-5c34-4b3f-a1cf-72e852af7be7"
      },
      "outputs": [
        {
          "name": "stdout",
          "output_type": "stream",
          "text": [
            "[[0.40904057 0.57692308]]\n",
            "[4.26155240e-01 3.58703312e-01 4.46290144e-01 3.85885432e-01\n",
            " 4.46290144e-01 3.35548173e-01 4.96627404e-01 4.71458774e-01\n",
            " 2.85210913e-01 4.96627404e-01 4.96627404e-01 3.35548173e-01\n",
            " 5.97301923e-01 5.72133293e-01 6.07369375e-01 6.17436827e-01\n",
            " 6.47639183e-01 6.97976442e-01 6.82875264e-01 6.77841538e-01\n",
            " 6.97976442e-01 7.18111346e-01 1.32890365e-02 9.19460385e-01\n",
            " 5.53709856e-03 6.74519279e-03 9.24494111e-01 9.54696466e-01\n",
            " 3.12091010e-03 3.22158462e-03 1.00000000e+00 2.01349039e-03\n",
            " 3.12091010e-03 3.02023558e-03 3.02023558e-04 9.49662740e-01\n",
            " 8.05396154e-04 9.74831370e-01 0.00000000e+00]\n",
            "[0.61538462 0.61538462 0.63782051 0.6474359  0.6474359  0.53525641\n",
            " 0.63782051 0.67948718 0.52884615 0.67948718 0.69551282 0.71153846\n",
            " 0.71153846 0.77564103 0.75961538 0.79166667 0.75961538 0.74358974\n",
            " 0.77564103 0.80769231 0.80769231 0.80769231 0.16666667 0.91987179\n",
            " 0.1025641  0.08333333 0.95192308 0.91987179 0.07051282 0.06410256\n",
            " 0.87179487 0.04807692 0.04487179 0.03846154 0.02564103 1.\n",
            " 0.0224359  1.         0.        ]\n"
          ]
        }
      ],
      "source": [
        "k_weight=X_train_scaled[neighbors][:,0]\n",
        "k_length=X_train_scaled[neighbors][:,1]\n",
        "\n",
        "print(new_data_scaled)\n",
        "print(k_weight, k_length, sep='\\n')"
      ]
    },
    {
      "cell_type": "code",
      "execution_count": 132,
      "metadata": {
        "id": "WpUBmznxJLGJ",
        "outputId": "33f06932-5047-48f4-e9f8-3228adba1dce"
      },
      "outputs": [
        {
          "data": {
            "text/plain": [
              "(0.4090405718312696, 0.5769230769230771)"
            ]
          },
          "execution_count": 132,
          "metadata": {},
          "output_type": "execute_result"
        }
      ],
      "source": [
        "new_data_scaled[0,0], new_data_scaled[0,1]"
      ]
    },
    {
      "cell_type": "code",
      "execution_count": 133,
      "metadata": {
        "id": "F5UazPBnJLGQ",
        "outputId": "3ed7f740-7531-4512-b86b-115b3009998f"
      },
      "outputs": [
        {
          "data": {
            "text/plain": [
              "(array([3.85885432e-01, 3.12091010e-03, 2.85210913e-01, 5.53709856e-03,\n",
              "        9.54696466e-01, 1.32890365e-02, 4.46290144e-01, 1.00000000e+00,\n",
              "        0.00000000e+00, 6.97976442e-01, 4.71458774e-01, 6.47639183e-01,\n",
              "        4.96627404e-01, 3.02023558e-04, 6.82875264e-01, 3.12091010e-03,\n",
              "        7.18111346e-01, 3.35548173e-01, 9.24494111e-01, 3.02023558e-03,\n",
              "        6.74519279e-03, 4.46290144e-01, 3.58703312e-01, 6.07369375e-01,\n",
              "        6.77841538e-01, 4.26155240e-01, 6.97976442e-01, 3.22158462e-03,\n",
              "        2.01349039e-03, 4.96627404e-01, 5.72133293e-01, 6.17436827e-01,\n",
              "        8.05396154e-04, 5.97301923e-01, 9.74831370e-01, 9.19460385e-01,\n",
              "        4.96627404e-01, 3.35548173e-01, 9.49662740e-01]),\n",
              " array([0.6474359 , 0.07051282, 0.52884615, 0.1025641 , 0.91987179,\n",
              "        0.16666667, 0.6474359 , 0.87179487, 0.        , 0.74358974,\n",
              "        0.67948718, 0.75961538, 0.69551282, 0.02564103, 0.77564103,\n",
              "        0.04487179, 0.80769231, 0.53525641, 0.95192308, 0.03846154,\n",
              "        0.08333333, 0.63782051, 0.61538462, 0.75961538, 0.80769231,\n",
              "        0.61538462, 0.80769231, 0.06410256, 0.04807692, 0.63782051,\n",
              "        0.77564103, 0.79166667, 0.0224359 , 0.71153846, 1.        ,\n",
              "        0.91987179, 0.67948718, 0.71153846, 1.        ]))"
            ]
          },
          "execution_count": 133,
          "metadata": {},
          "output_type": "execute_result"
        }
      ],
      "source": [
        "X_train_scaled[:,0], X_train_scaled[:,1]"
      ]
    },
    {
      "cell_type": "code",
      "execution_count": 134,
      "metadata": {
        "id": "_04gnQIbJLGQ",
        "outputId": "c440a475-5899-4931-9df1-99c706f408ae"
      },
      "outputs": [
        {
          "data": {
            "image/png": "[encoded data removed]",
            "text/plain": [
              "<Figure size 640x480 with 1 Axes>"
            ]
          },
          "metadata": {},
          "output_type": "display_data"
        }
      ],
      "source": [
        "### 시각화로 확인\n",
        "# 도미(Bream), 빙어(Smelt)에 대한 시각화 ==> 2개 피쳐 Weight, Length로 Bream,Smelt 분류 가능함\n",
        "plt.scatter(X_train_scaled[:,0], X_train_scaled[:,1], c='blue')\n",
        "plt.scatter(X_test_scaled[:,0], X_test_scaled[:,1], c='blue')\n",
        "plt.plot(new_data_scaled[0,0], new_data_scaled[0,1], 'r^')\n",
        "plt.scatter(k_weight, k_length,c='green')\n",
        "plt.show()"
      ]
    },
    {
      "cell_type": "code",
      "execution_count": null,
      "metadata": {
        "id": "nePgO7f1JLGQ"
      },
      "outputs": [],
      "source": []
    }
  ],
  "metadata": {
    "colab": {
      "provenance": []
    },
    "kernelspec": {
      "display_name": "ML_38",
      "language": "python",
      "name": "python3"
    },
    "language_info": {
      "codemirror_mode": {
        "name": "ipython",
        "version": 3
      },
      "file_extension": ".py",
      "mimetype": "text/x-python",
      "name": "python",
      "nbconvert_exporter": "python",
      "pygments_lexer": "ipython3",
      "version": "3.8.19"
    }
  },
  "nbformat": 4,
  "nbformat_minor": 0
}
