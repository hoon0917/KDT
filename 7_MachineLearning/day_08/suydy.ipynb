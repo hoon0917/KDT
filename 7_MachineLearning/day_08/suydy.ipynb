{
 "cells": [
  {
   "cell_type": "markdown",
   "metadata": {},
   "source": [
    "범주형, 수치형 ==> 모두 처리/회귀 분류 해야함  \n",
    "but sklearn은 범주형 지원X ==> 범주형은 Encoding 해줘야 함\n",
    "\n",
    "  * LabelEncoder   => 0,1,2...          1D : y,target\n",
    "  * OrdinalEncoder => 0,1,2...\n",
    "  * OneHotEncoder => 1이 하나인 패턴"
   ]
  },
  {
   "cell_type": "markdown",
   "metadata": {},
   "source": [
    "#### 이때까지 배운 모델\n",
    " - KNN\n",
    " - Lindear-model : LinearRegression => 다중(피쳐 다수),다항(곡선)  \n",
    "                                    => 과대적합 해결 방법 : 모델 직접 제어(규제) = 릿지, 라쏘  \n",
    "                                         * 릿지 : 영향력이 낮은 피쳐의 coef_를 0에 가깝게  \n",
    "                                         *  라쏘 : 영향력이 낮은 피쳐의 coef_를 0으로  \n",
    "                                         *  릿지와 라쏘의 하이퍼파라미터 : alpha(0~강하게)  \n",
    "                                    => 선형식을 활용한 분류 방법 : 로지스틱 회귀(선형식의 결과를 확률값으로 변경 0.0~1.0)  \n",
    "                                         * OVR/OVA : 2진분류기 여러개   \n",
    "                                         * OVO : 2진분류기 여러개  \n",
    " - Tree-model : DecisionTree(CART) => 회귀/분류 : 범주형/수치형  \n",
    "                * 하이퍼파라미터 많음  \n",
    " - Ensemble-model : Voting, Bagging -> RandomForest C/R  "
   ]
  },
  {
   "cell_type": "markdown",
   "metadata": {},
   "source": []
  }
 ],
 "metadata": {
  "language_info": {
   "name": "python"
  }
 },
 "nbformat": 4,
 "nbformat_minor": 2
}
