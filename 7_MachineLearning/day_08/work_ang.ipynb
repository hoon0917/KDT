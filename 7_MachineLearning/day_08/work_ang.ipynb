{
 "cells": [
  {
   "cell_type": "markdown",
   "metadata": {},
   "source": [
    "#### 알파벳 기반 언어 식별 모델\n",
    " - 데이터셋 lang.zip 사용해서 생성\n",
    " - 학습방법 : 지도학습>분류 - 다중분류\n",
    " - 알고리즘 : 다양하게"
   ]
  },
  {
   "cell_type": "markdown",
   "metadata": {},
   "source": [
    "[1] 모듈 로딩 및 데이터 준비"
   ]
  },
  {
   "cell_type": "code",
   "execution_count": 71,
   "metadata": {},
   "outputs": [],
   "source": [
    "# 모듈 로딩\n",
    "import pandas as pd\n",
    "import numpy as np\n",
    "import os\n"
   ]
  },
  {
   "cell_type": "code",
   "execution_count": 72,
   "metadata": {},
   "outputs": [],
   "source": [
    "# 데이터 파일\n",
    "train_path = '../data/lang/train/'\n",
    "test_path = '../data/lang/test/'\n",
    "\n",
    "train_csv = '../data/lang_train.csv'\n",
    "test_csv = '../data/lang_test.csv'"
   ]
  },
  {
   "cell_type": "code",
   "execution_count": 73,
   "metadata": {},
   "outputs": [
    {
     "name": "stdout",
     "output_type": "stream",
     "text": [
      "../data/lang_train.csv 파일이 없습니다\n"
     ]
    }
   ],
   "source": [
    "# 파일 읽기 => open() -> read()\n",
    "#          => with open() as 구문\n",
    "\n",
    "if not os.path.exists(train_csv):\n",
    "    print(f'{train_csv} 파일이 없습니다')\n",
    "else :\n",
    "    with open(train_csv, mode='r') as f:\n",
    "        alldata = f.read()    \n",
    "        print(f'File Data {alldata}')\n",
    "\n",
    " "
   ]
  },
  {
   "cell_type": "code",
   "execution_count": 74,
   "metadata": {},
   "outputs": [
    {
     "name": "stdout",
     "output_type": "stream",
     "text": [
      "alldata => 4595\n"
     ]
    }
   ],
   "source": [
    "# 폴더 안 파일 가져오기\n",
    "files = os.listdir(train_path)\n",
    "\n",
    "for file in files:\n",
    "    # print(train_path+file)\n",
    "    with open(train_path+file, mode='r') as f:\n",
    "        alldata=f.read()\n",
    "\n",
    "    # 대소문자 통일\n",
    "    alldata = alldata.lower()\n",
    "\n",
    "    # 알파벳 아닌 문자들 제거\n",
    "    alldata=alldata.replace('\\n', '')\n",
    "\n",
    "    for ch in alldata :\n",
    "        if ord('a') > ord(ch) or ord(ch) > ord('z'):\n",
    "            alldata = alldata.replace(ch,'')\n",
    "    print(f'alldata => {len(alldata)}')\n",
    "\n",
    "\n",
    "    # a ~ z 개수 카운팅\n",
    "    break"
   ]
  },
  {
   "cell_type": "code",
   "execution_count": 77,
   "metadata": {},
   "outputs": [
    {
     "data": {
      "text/plain": [
       "Counter({'t': 370,\n",
       "         'h': 201,\n",
       "         'e': 484,\n",
       "         'm': 121,\n",
       "         'a': 349,\n",
       "         'i': 340,\n",
       "         'n': 356,\n",
       "         'r': 357,\n",
       "         'y': 92,\n",
       "         'f': 72,\n",
       "         'o': 412,\n",
       "         'd': 212,\n",
       "         'u': 119,\n",
       "         's': 282,\n",
       "         'b': 59,\n",
       "         'l': 247,\n",
       "         'g': 88,\n",
       "         'c': 210,\n",
       "         'v': 45,\n",
       "         'p': 76,\n",
       "         'j': 8,\n",
       "         'w': 65,\n",
       "         'k': 25,\n",
       "         'x': 3,\n",
       "         'z': 2})"
      ]
     },
     "execution_count": 77,
     "metadata": {},
     "output_type": "execute_result"
    }
   ],
   "source": [
    "# 데이터 안에 각 알파벳이 몇개 있는지 알려줌\n",
    "from collections import Counter\n",
    "Counter(alldata)"
   ]
  },
  {
   "cell_type": "code",
   "execution_count": 78,
   "metadata": {},
   "outputs": [],
   "source": [
    "# 파일쓰기 => mode=='w' : 파일이 존재하면 덮어쓰기, 파일이 없으면 생성 후 쓰기\n",
    "#         => mode='a'  : 파일이 존재하면 추가하기. 파일이 없으면 생성 후 쓰기"
   ]
  },
  {
   "cell_type": "code",
   "execution_count": null,
   "metadata": {},
   "outputs": [],
   "source": []
  }
 ],
 "metadata": {
  "kernelspec": {
   "display_name": "ML_38",
   "language": "python",
   "name": "python3"
  },
  "language_info": {
   "codemirror_mode": {
    "name": "ipython",
    "version": 3
   },
   "file_extension": ".py",
   "mimetype": "text/x-python",
   "name": "python",
   "nbconvert_exporter": "python",
   "pygments_lexer": "ipython3",
   "version": "3.8.19"
  }
 },
 "nbformat": 4,
 "nbformat_minor": 2
}
