{
 "cells": [
  {
   "cell_type": "markdown",
   "metadata": {},
   "source": [
    "2진분류기 5개  \n",
    "1번째 2진분류기 => 양성/True에 대한 값을 추출 decision_function ==> 확률  \n",
    "2번째 2진분류기 => 양성/True에 대한 값을 추출 decision_function ==> 확률  \n",
    "3번째 2진분류기 => 양성/True에 대한 값을 추출 decision_function ==> 확률  \n",
    "4번째 2진분류기 => 양성/True에 대한 값을 추출 decision_function ==> 확률  \n",
    "5번째 2진분류기 => 양성/True에 대한 값을 추출 decision_function ==> 확률  "
   ]
  }
 ],
 "metadata": {
  "language_info": {
   "name": "python"
  }
 },
 "nbformat": 4,
 "nbformat_minor": 2
}
