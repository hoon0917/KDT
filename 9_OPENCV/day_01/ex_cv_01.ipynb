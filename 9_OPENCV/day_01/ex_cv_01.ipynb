{
 "cells": [
  {
   "cell_type": "markdown",
   "metadata": {},
   "source": [
    "##### OpenCV 기본 사용법"
   ]
  },
  {
   "cell_type": "code",
   "execution_count": 2,
   "metadata": {},
   "outputs": [],
   "source": [
    "# 모듈로딩\n",
    "import cv2\n",
    "import os\n",
    "import numpy as np"
   ]
  },
  {
   "cell_type": "code",
   "execution_count": 3,
   "metadata": {},
   "outputs": [],
   "source": [
    "# 이미지 관련 공통변수\n",
    "IMG_DIR='../image/'"
   ]
  },
  {
   "cell_type": "markdown",
   "metadata": {},
   "source": [
    "[1] 이미지 읽기 ==> ndarray"
   ]
  },
  {
   "cell_type": "code",
   "execution_count": 4,
   "metadata": {},
   "outputs": [],
   "source": [
    "# 이미지 파일 경로+파일명\n",
    "IMG_FILE = IMG_DIR+'logo.png'\n",
    "\n",
    "im_data = cv2.imread(IMG_FILE)\n",
    "\n",
    "# 플래그를 보고싶은 경우\n",
    "gray_data = cv2.imread(IMG_FILE, flags=cv2.IMREAD_GRAYSCALE)"
   ]
  },
  {
   "cell_type": "code",
   "execution_count": null,
   "metadata": {},
   "outputs": [],
   "source": [
    "# 이미지 데이터 속성\n",
    "print('[im_data]')\n",
    "print(f'shape {im_data.shape}')\n",
    "print(f'ndim {im_data.ndim}D ')\n",
    "print('-----------')\n",
    "print('[gray_data]')                # <= grayscale의 경우 채널 안만들어줌 \n",
    "print(f'shape {gray_data.shape}')\n",
    "print(f'ndim {gray_data.ndim}D ')"
   ]
  },
  {
   "cell_type": "markdown",
   "metadata": {},
   "source": [
    "[2] 이미지 화면 출력 -> imshow()"
   ]
  },
  {
   "cell_type": "code",
   "execution_count": 6,
   "metadata": {},
   "outputs": [],
   "source": [
    "import time\n",
    "# 이미지 창 띄우기\n",
    "cv2.imshow('[IMG_DATA]',im_data)\n",
    "cv2.imshow('[gray_data]',gray_data)\n",
    "# 이미지 창 위에 이벤트 대기\n",
    "cv2.waitKey()\n",
    "# 이미지 창 닫기\n",
    "cv2.destroyAllWindows()\n",
    "\n",
    "# 1초 일시정지\n",
    "time.sleep(1)\n",
    "cv2.destroyAllWindows()"
   ]
  },
  {
   "cell_type": "code",
   "execution_count": 9,
   "metadata": {},
   "outputs": [
    {
     "name": "stdout",
     "output_type": "stream",
     "text": [
      "key_code : 111\n",
      "key_code : 112\n",
      "key_code : 115\n"
     ]
    }
   ],
   "source": [
    "### 'X', 'X' 입력 시 모든 이미지 창 닫기\n",
    "### 's', 'S' 입력 시 이미지 저장\n",
    "cv2.imshow('[IMG_DATA]',im_data)\n",
    "cv2.imshow('[gray_data]',gray_data)\n",
    "\n",
    "while True :\n",
    "    # 키보드이벤트 대기함수\n",
    "    key_code = cv2.waitKey()\n",
    "    print(f'key_code : {key_code}')\n",
    "\n",
    "    if chr(key_code) in ['x','X'] :\n",
    "        # 모든 창 닫기\n",
    "        cv2.destroyAllWindows()\n",
    "        break\n",
    "    elif chr(key_code) in ['s','S'] :\n",
    "        # 이미지 저장\n",
    "        cv2.imwrite('google_logo_copy.jpg',gray_data)\n",
    "        # 모든 창 닫기\n",
    "        cv2.destroyAllWindows()\n",
    "        break"
   ]
  },
  {
   "cell_type": "code",
   "execution_count": null,
   "metadata": {},
   "outputs": [],
   "source": []
  }
 ],
 "metadata": {
  "kernelspec": {
   "display_name": "OPENCV_38",
   "language": "python",
   "name": "python3"
  },
  "language_info": {
   "codemirror_mode": {
    "name": "ipython",
    "version": 3
   },
   "file_extension": ".py",
   "mimetype": "text/x-python",
   "name": "python",
   "nbconvert_exporter": "python",
   "pygments_lexer": "ipython3",
   "version": "3.8.20"
  }
 },
 "nbformat": 4,
 "nbformat_minor": 2
}
