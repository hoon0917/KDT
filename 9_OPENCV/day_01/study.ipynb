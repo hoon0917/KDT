{
 "cells": [
  {
   "cell_type": "markdown",
   "metadata": {},
   "source": [
    "with open의 기본값은 text를 읽어오게 되어 있음  \n",
    "=> with open('a.txt', mode = 'wt')  \n",
    "\n",
    "그래서 binary를 열려면 mode = 'wb' or mode = 'rb' 이렇게 넣어줘야 함  "
   ]
  },
  {
   "cell_type": "markdown",
   "metadata": {},
   "source": []
  }
 ],
 "metadata": {
  "kernelspec": {
   "display_name": "OPENCV_38",
   "language": "python",
   "name": "python3"
  },
  "language_info": {
   "name": "python",
   "version": "3.8.20"
  }
 },
 "nbformat": 4,
 "nbformat_minor": 2
}
