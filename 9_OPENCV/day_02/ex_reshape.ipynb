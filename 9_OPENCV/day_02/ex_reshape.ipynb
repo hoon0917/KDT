{
 "cells": [
  {
   "cell_type": "markdown",
   "metadata": {},
   "source": [
    "#### ndarray & tensor의 차원 축소, 차원 추가\n",
    "- 모델에 입출력 시 shape 설정을 위해서 필요"
   ]
  },
  {
   "cell_type": "code",
   "execution_count": 10,
   "metadata": {},
   "outputs": [],
   "source": [
    "# 모듈 로딩\n",
    "import numpy as np\n",
    "import cv2 \n",
    "import torch"
   ]
  },
  {
   "cell_type": "code",
   "execution_count": 11,
   "metadata": {},
   "outputs": [
    {
     "data": {
      "text/plain": [
       "((200, 100), 2)"
      ]
     },
     "execution_count": 11,
     "metadata": {},
     "output_type": "execute_result"
    }
   ],
   "source": [
    "## 임의의 데이터 생성\n",
    "data = np.full((200,100),7)\n",
    "data.shape, data.ndim"
   ]
  },
  {
   "cell_type": "markdown",
   "metadata": {},
   "source": [
    " - 차원 추가<hr>\n",
    "    * Numpy인 경우 : ndarray.reshape(), np.expand_dims(), np.newaxis()\n",
    "    * pytorch인 경우 : \n",
    "      * 추가 : reshape(), unsqueez(dim=숫자)\n",
    "    "
   ]
  },
  {
   "cell_type": "code",
   "execution_count": 13,
   "metadata": {},
   "outputs": [
    {
     "data": {
      "text/plain": [
       "((200, 100, 1), 3)"
      ]
     },
     "execution_count": 13,
     "metadata": {},
     "output_type": "execute_result"
    }
   ],
   "source": [
    "## numpy 기반\n",
    "## - 채널 차원 추가 하기 => 방법1) reshape()\n",
    "data1 = data.reshape((200,100,1))\n",
    "data1.shape, data1.ndim"
   ]
  },
  {
   "cell_type": "code",
   "execution_count": 14,
   "metadata": {},
   "outputs": [
    {
     "data": {
      "text/plain": [
       "((200, 100, 1), 3)"
      ]
     },
     "execution_count": 14,
     "metadata": {},
     "output_type": "execute_result"
    }
   ],
   "source": [
    "## - 채널 차원 추가 하기 => 방법2) expand_dims()\n",
    "data2 = np.expand_dims(data, axis=2)\n",
    "data2.shape, data2.ndim"
   ]
  },
  {
   "cell_type": "code",
   "execution_count": 17,
   "metadata": {},
   "outputs": [
    {
     "data": {
      "text/plain": [
       "((200, 100, 1), 3)"
      ]
     },
     "execution_count": 17,
     "metadata": {},
     "output_type": "execute_result"
    }
   ],
   "source": [
    "## - 채널 차원 추가 하기 => 방법3) newaxis : 함수 아님 그냥 축 추가해주는 거\n",
    "data3 = data[:, :,np.newaxis]\n",
    "data3.shape, data3.ndim"
   ]
  },
  {
   "cell_type": "code",
   "execution_count": 21,
   "metadata": {},
   "outputs": [
    {
     "name": "stdout",
     "output_type": "stream",
     "text": [
      "<class 'numpy.ndarray'> (200, 100) 2\n"
     ]
    },
    {
     "data": {
      "text/plain": [
       "tensor([[7, 7, 7,  ..., 7, 7, 7],\n",
       "        [7, 7, 7,  ..., 7, 7, 7],\n",
       "        [7, 7, 7,  ..., 7, 7, 7],\n",
       "        ...,\n",
       "        [7, 7, 7,  ..., 7, 7, 7],\n",
       "        [7, 7, 7,  ..., 7, 7, 7],\n",
       "        [7, 7, 7,  ..., 7, 7, 7]], dtype=torch.int32)"
      ]
     },
     "execution_count": 21,
     "metadata": {},
     "output_type": "execute_result"
    }
   ],
   "source": [
    "## pytorch 기반\n",
    "print(type(data), data.shape, data.ndim)\n",
    "\n",
    "dataTS = torch.IntTensor(data)\n",
    "dataTS"
   ]
  },
  {
   "cell_type": "code",
   "execution_count": 24,
   "metadata": {},
   "outputs": [
    {
     "data": {
      "text/plain": [
       "tensor([[[7],\n",
       "         [7],\n",
       "         [7],\n",
       "         ...,\n",
       "         [7],\n",
       "         [7],\n",
       "         [7]],\n",
       "\n",
       "        [[7],\n",
       "         [7],\n",
       "         [7],\n",
       "         ...,\n",
       "         [7],\n",
       "         [7],\n",
       "         [7]],\n",
       "\n",
       "        [[7],\n",
       "         [7],\n",
       "         [7],\n",
       "         ...,\n",
       "         [7],\n",
       "         [7],\n",
       "         [7]],\n",
       "\n",
       "        ...,\n",
       "\n",
       "        [[7],\n",
       "         [7],\n",
       "         [7],\n",
       "         ...,\n",
       "         [7],\n",
       "         [7],\n",
       "         [7]],\n",
       "\n",
       "        [[7],\n",
       "         [7],\n",
       "         [7],\n",
       "         ...,\n",
       "         [7],\n",
       "         [7],\n",
       "         [7]],\n",
       "\n",
       "        [[7],\n",
       "         [7],\n",
       "         [7],\n",
       "         ...,\n",
       "         [7],\n",
       "         [7],\n",
       "         [7]]], dtype=torch.int32)"
      ]
     },
     "execution_count": 24,
     "metadata": {},
     "output_type": "execute_result"
    }
   ],
   "source": [
    "## - 채널 차원 추가 하기 => 방법1) reshape()\n",
    "dataTS1 = dataTS.reshape((200,100,1))"
   ]
  },
  {
   "cell_type": "code",
   "execution_count": 27,
   "metadata": {},
   "outputs": [
    {
     "data": {
      "text/plain": [
       "torch.Size([200, 100, 1])"
      ]
     },
     "execution_count": 27,
     "metadata": {},
     "output_type": "execute_result"
    }
   ],
   "source": [
    "## - 채널 차원 추가 하기 => 방법2) unsqueeze(ndim=숫자)\n",
    "dataTS2 = dataTS.unsqueeze(dim=2)\n",
    "dataTS2.shape"
   ]
  },
  {
   "cell_type": "markdown",
   "metadata": {},
   "source": [
    " - shape 변경<hr>\n",
    "    * numpy인 경우 : T, tranpose()\n",
    "    * torch인 경우 : T, transpoes(), permute()"
   ]
  },
  {
   "cell_type": "code",
   "execution_count": 30,
   "metadata": {},
   "outputs": [
    {
     "name": "stdout",
     "output_type": "stream",
     "text": [
      "torch.Size([1, 100, 200])\n"
     ]
    }
   ],
   "source": [
    "## - shape 변경 => 방법1) 속성 T : 현재 axis를 역순으로 변경\n",
    "print(dataTS2.T.shape)"
   ]
  },
  {
   "cell_type": "code",
   "execution_count": 32,
   "metadata": {},
   "outputs": [
    {
     "name": "stdout",
     "output_type": "stream",
     "text": [
      "torch.Size([200, 1, 100])\n"
     ]
    }
   ],
   "source": [
    "## - shape 변경 => 방법2) transpose() 2개의 축을 원하는 축 위치로 변경\n",
    "print(dataTS2.transpose(1,2).shape)"
   ]
  },
  {
   "cell_type": "code",
   "execution_count": 34,
   "metadata": {},
   "outputs": [
    {
     "name": "stdout",
     "output_type": "stream",
     "text": [
      "torch.Size([200, 100, 1])\n",
      "torch.Size([1, 200, 100])\n"
     ]
    }
   ],
   "source": [
    "## - shape 변경 => 방법3) permute() 모든 축 원하는 위치로 변경\n",
    "print(dataTS2.shape)\n",
    "print(dataTS2.permute((2,0,1)).shape)"
   ]
  },
  {
   "cell_type": "markdown",
   "metadata": {},
   "source": [
    "- 차원 제거 <hr>\n",
    "   * numpy인 경우 : reshape(),squeeze()\n",
    "   * pytorch인 경우 : reshape(), squeeze()"
   ]
  },
  {
   "cell_type": "code",
   "execution_count": 35,
   "metadata": {},
   "outputs": [
    {
     "name": "stdout",
     "output_type": "stream",
     "text": [
      "(200, 100, 1)\n",
      "(200, 1, 100, 1)\n"
     ]
    }
   ],
   "source": [
    "## numpy인 경우\n",
    "data2 = np.expand_dims(data, axis=2)\n",
    "data3 = np.expand_dims(data2, axis=1)\n",
    "\n",
    "print(data2.shape)\n",
    "print(data3.shape)"
   ]
  },
  {
   "cell_type": "code",
   "execution_count": 36,
   "metadata": {},
   "outputs": [
    {
     "name": "stdout",
     "output_type": "stream",
     "text": [
      "(200, 100)\n",
      "(200, 100)\n"
     ]
    }
   ],
   "source": [
    "# 1차원 축 제거 => 방법1) reshape()\n",
    "print(data2.reshape(200,-1).shape)\n",
    "print(data3.reshape(200,-1).shape)"
   ]
  },
  {
   "cell_type": "code",
   "execution_count": 43,
   "metadata": {},
   "outputs": [
    {
     "name": "stdout",
     "output_type": "stream",
     "text": [
      "(200, 100)\n",
      "(200, 100)\n",
      "(200, 1, 100)\n"
     ]
    }
   ],
   "source": [
    "# 1차원 축 제거 => 방법2) squeeze() : 1차원 축 제거\n",
    "print(data2.squeeze().shape)\n",
    "print(data3.squeeze().shape)\n",
    "print(data3.squeeze(axis=3).shape) # 지정된 축이 1D면 삭제, 아니면 ERROR"
   ]
  },
  {
   "cell_type": "code",
   "execution_count": 40,
   "metadata": {},
   "outputs": [
    {
     "name": "stdout",
     "output_type": "stream",
     "text": [
      "torch.Size([200, 100, 1])\n",
      "torch.Size([200, 1, 100, 1])\n"
     ]
    }
   ],
   "source": [
    "## pytorch인 경우\n",
    "data2 = np.expand_dims(data, axis=2)\n",
    "data3 = np.expand_dims(data2, axis=1)\n",
    "\n",
    "dataTS2 = torch.IntTensor(data2)\n",
    "dataTS3 = torch.IntTensor(data3)\n",
    "\n",
    "print(dataTS2.shape)\n",
    "print(dataTS3.shape)"
   ]
  },
  {
   "cell_type": "code",
   "execution_count": 41,
   "metadata": {},
   "outputs": [
    {
     "name": "stdout",
     "output_type": "stream",
     "text": [
      "torch.Size([200, 100])\n",
      "torch.Size([200, 100])\n"
     ]
    }
   ],
   "source": [
    "# 1차원 축 제거 => 방법1) reshape()\n",
    "print(dataTS2.reshape(200,-1).shape)\n",
    "print(dataTS3.reshape(200,-1).shape)"
   ]
  },
  {
   "cell_type": "code",
   "execution_count": 44,
   "metadata": {},
   "outputs": [
    {
     "name": "stdout",
     "output_type": "stream",
     "text": [
      "torch.Size([200, 100])\n",
      "torch.Size([200, 100])\n",
      "torch.Size([200, 1, 100])\n"
     ]
    }
   ],
   "source": [
    "# 1차원 축 제거 => 방법2) squeeze() : 1차원 축 제거\n",
    "print(dataTS2.squeeze().shape)\n",
    "print(dataTS3.squeeze().shape)\n",
    "print(dataTS3.squeeze(axis=3).shape) # 지정된 축이 1D면 삭제, 아니면 ERROR"
   ]
  },
  {
   "cell_type": "code",
   "execution_count": null,
   "metadata": {},
   "outputs": [],
   "source": [
    "# pytorch에서 메서드명_() 형태라면 원본 텐서에 적용됨 pandas의 inplace=True와 같은 역할\n",
    "print(dataTS3.squeeze_(dim=1).shape)"
   ]
  }
 ],
 "metadata": {
  "kernelspec": {
   "display_name": "OPENCV_38",
   "language": "python",
   "name": "python3"
  },
  "language_info": {
   "codemirror_mode": {
    "name": "ipython",
    "version": 3
   },
   "file_extension": ".py",
   "mimetype": "text/x-python",
   "name": "python",
   "nbconvert_exporter": "python",
   "pygments_lexer": "ipython3",
   "version": "3.8.20"
  }
 },
 "nbformat": 4,
 "nbformat_minor": 2
}
