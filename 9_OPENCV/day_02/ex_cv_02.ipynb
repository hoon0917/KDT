{
 "cells": [
  {
   "cell_type": "markdown",
   "metadata": {},
   "source": [
    "#### Video 처리 \n",
    " - cv2.VideoCapture(동영상 또는 카메라번호) 함수\n"
   ]
  },
  {
   "cell_type": "code",
   "execution_count": 23,
   "metadata": {},
   "outputs": [],
   "source": [
    "## 모듈 로딩\n",
    "import cv2\n",
    "import numpy as np"
   ]
  },
  {
   "cell_type": "code",
   "execution_count": 24,
   "metadata": {},
   "outputs": [],
   "source": [
    "## 데이터 및 디바이스 설정\n",
    "DIR_PATH = '../image/'\n",
    "\n",
    "CAM_DEVICE = 0"
   ]
  },
  {
   "cell_type": "markdown",
   "metadata": {},
   "source": [
    "- [카메라 관련 영상 처리]"
   ]
  },
  {
   "cell_type": "code",
   "execution_count": 25,
   "metadata": {},
   "outputs": [
    {
     "name": "stdout",
     "output_type": "stream",
     "text": [
      "2024 10\n"
     ]
    },
    {
     "data": {
      "text/plain": [
       "'24/10'"
      ]
     },
     "execution_count": 25,
     "metadata": {},
     "output_type": "execute_result"
    }
   ],
   "source": [
    "# 파일명 만들기 쉽게 하기 위해 캡쳐 당시 시간을 기준으로 하는법 \n",
    "import time\n",
    "\n",
    "time.ctime()\n",
    "\n",
    "# 현재 날짜 시간 정보 저장 인스턴스\n",
    "cur_time = time.localtime()\n",
    "\n",
    "print(cur_time.tm_year, cur_time.tm_hour)\n",
    "time.strftime('%y/%H',cur_time)"
   ]
  },
  {
   "cell_type": "code",
   "execution_count": 29,
   "metadata": {},
   "outputs": [
    {
     "data": {
      "text/plain": [
       "'capture_24.10.jpg'"
      ]
     },
     "execution_count": 29,
     "metadata": {},
     "output_type": "execute_result"
    }
   ],
   "source": [
    "cur_time = time.localtime()\n",
    "SAVE_FILE = f'capture_{time.strftime(\"%y.%H\",cur_time)}.jpg'\n",
    "SAVE_FILE"
   ]
  },
  {
   "cell_type": "code",
   "execution_count": 31,
   "metadata": {},
   "outputs": [
    {
     "name": "stdout",
     "output_type": "stream",
     "text": [
      "영상 재생 정지\n"
     ]
    }
   ],
   "source": [
    "# 카메라와 연결 여부 체크\n",
    "cam = cv2.VideoCapture(CAM_DEVICE)\n",
    "\n",
    "if cam.isOpened() :\n",
    "    while True :\n",
    "        ret, img = cam.read()            # ret(return)을 보고 참이라면 img를 imshow()로 띄워라\n",
    "        if ret : \n",
    "            cv2.imshow('VIDEO',img)\n",
    "            if cv2.waitKey(10) != -1 :   # 뭐라도 입력되면 멈춰라! 입력을 안하고 있으면 -1인 것을 이용\n",
    "                print('영상 재생 정지')\n",
    "                SAVE_FILE = cv2.imwrite(DIR_PATH+f'capture_{time.strftime(\"%y.%H\",cur_time)}.jpg',img)\n",
    "                cv2.destroyAllWindows()\n",
    "                break\n",
    "        else :\n",
    "            print('영상 읽기 실패')\n",
    "            break\n",
    "else :\n",
    "    print('카메라 연결 여부 체크 필요')"
   ]
  },
  {
   "cell_type": "code",
   "execution_count": null,
   "metadata": {},
   "outputs": [],
   "source": []
  }
 ],
 "metadata": {
  "kernelspec": {
   "display_name": "OPENCV_38",
   "language": "python",
   "name": "python3"
  },
  "language_info": {
   "codemirror_mode": {
    "name": "ipython",
    "version": 3
   },
   "file_extension": ".py",
   "mimetype": "text/x-python",
   "name": "python",
   "nbconvert_exporter": "python",
   "pygments_lexer": "ipython3",
   "version": "3.8.20"
  }
 },
 "nbformat": 4,
 "nbformat_minor": 2
}
