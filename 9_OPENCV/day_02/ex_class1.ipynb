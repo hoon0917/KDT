{
 "cells": [
  {
   "cell_type": "markdown",
   "metadata": {},
   "source": [
    "#### 클래스 속성들\n",
    "- OOP(객체지향언어) 특징\n",
    "    * 상속\n",
    "    * 다형성\n",
    "    * 캡슐화 => 속성이 외부에 비공개, 직접 속성 접근 불가, 간접 속성 접근 가능\n",
    "        - 간접 속성 접근 방법 : getter/setter"
   ]
  },
  {
   "cell_type": "code",
   "execution_count": 18,
   "metadata": {},
   "outputs": [],
   "source": [
    "class person :\n",
    "    # 클래스 변수\n",
    "    # - person클래스로 생성된 인스턴스들의 공유 변수\n",
    "    # - 인스턴스 생성 없이 사용 가능 변수\n",
    "    loc = 'Korea'\n",
    "\n",
    "    # 인스턴스 생성 메서드(생성자 메서드 - Constructor)\n",
    "    def __init__(self,name,age,gender) :\n",
    "        self.name = name\n",
    "        self.age = age\n",
    "        #self.gender = gender\n",
    "        self.__gender = gender  # => 비공개 속성됨. 인스턴스 변수명으로 직접 접근 불가\n",
    "\n",
    "    # 비공개 인스턴스 간접 접근 메서드 => get속성명(), set속성명(새로운값) : 읽기, 변경\n",
    "    def getGender(self) :\n",
    "        return self.__gender\n",
    "    \n",
    "    def setGender(self,gender) :\n",
    "        self.__gender = gender\n",
    "\n"
   ]
  },
  {
   "cell_type": "code",
   "execution_count": 19,
   "metadata": {},
   "outputs": [
    {
     "data": {
      "text/plain": [
       "('popop', 'Korea', 15, 'Korea')"
      ]
     },
     "execution_count": 19,
     "metadata": {},
     "output_type": "execute_result"
    }
   ],
   "source": [
    "# person.loc => 가능 왜냐하면 클래스 변수니깐\n",
    "\n",
    "# person. name => 불가능 왜냐하면 생성자 메서드니까 인스턴스 있어야 함\n",
    "p1 = person('popop',15,'Male')\n",
    "p1.name, p1.loc, p1.age, person.loc"
   ]
  },
  {
   "cell_type": "code",
   "execution_count": 20,
   "metadata": {},
   "outputs": [
    {
     "data": {
      "text/plain": [
       "'원더우먼'"
      ]
     },
     "execution_count": 20,
     "metadata": {},
     "output_type": "execute_result"
    }
   ],
   "source": [
    "# 인스턴스 변수 속성 변경\n",
    "p1.name = '원더우먼'\n",
    "p1.name"
   ]
  },
  {
   "cell_type": "code",
   "execution_count": 23,
   "metadata": {},
   "outputs": [
    {
     "data": {
      "text/plain": [
       "'Female'"
      ]
     },
     "execution_count": 23,
     "metadata": {},
     "output_type": "execute_result"
    }
   ],
   "source": [
    "# 간접 접근 메서드 사용해보기\n",
    "# getGender()로 읽어보기\n",
    "p1.getGender()\n",
    "\n",
    "# setGender로 male => Female로 변경 해보기\n",
    "p1.setGender('Female')\n",
    "p1.getGender()"
   ]
  }
 ],
 "metadata": {
  "kernelspec": {
   "display_name": "OPENCV_38",
   "language": "python",
   "name": "python3"
  },
  "language_info": {
   "codemirror_mode": {
    "name": "ipython",
    "version": 3
   },
   "file_extension": ".py",
   "mimetype": "text/x-python",
   "name": "python",
   "nbconvert_exporter": "python",
   "pygments_lexer": "ipython3",
   "version": "3.8.20"
  }
 },
 "nbformat": 4,
 "nbformat_minor": 2
}
