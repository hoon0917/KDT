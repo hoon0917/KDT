{
 "cells": [
  {
   "cell_type": "code",
   "execution_count": 1,
   "metadata": {},
   "outputs": [],
   "source": [
    "import pymysql\n",
    "import pandas as pd\n",
    "import csv"
   ]
  },
  {
   "cell_type": "code",
   "execution_count": 10,
   "metadata": {},
   "outputs": [
    {
     "name": "stdout",
     "output_type": "stream",
     "text": [
      "language_id name last_update \n",
      "{'language_id': 1, 'name': 'English', 'last_update': datetime.datetime(2006, 2, 15, 5, 2, 19)}\n",
      "{'language_id': 2, 'name': 'Italian', 'last_update': datetime.datetime(2006, 2, 15, 5, 2, 19)}\n",
      "{'language_id': 3, 'name': 'Japanese', 'last_update': datetime.datetime(2006, 2, 15, 5, 2, 19)}\n",
      "{'language_id': 4, 'name': 'Mandarin', 'last_update': datetime.datetime(2006, 2, 15, 5, 2, 19)}\n",
      "{'language_id': 5, 'name': 'French', 'last_update': datetime.datetime(2006, 2, 15, 5, 2, 19)}\n",
      "{'language_id': 6, 'name': 'German', 'last_update': datetime.datetime(2006, 2, 15, 5, 2, 19)}\n",
      "\n",
      "   language_id      name         last_update\n",
      "0            1   English 2006-02-15 05:02:19\n",
      "1            2   Italian 2006-02-15 05:02:19\n",
      "2            3  Japanese 2006-02-15 05:02:19\n",
      "3            4  Mandarin 2006-02-15 05:02:19\n",
      "4            5    French 2006-02-15 05:02:19\n",
      "5            6    German 2006-02-15 05:02:19\n"
     ]
    }
   ],
   "source": [
    "# mysql의 sakila 데이터베이스에 연결\n",
    "conn  = pymysql.connect(host='localhost', user = 'root', \n",
    "                        password='1234',db='sakila', charset='utf8')\n",
    "\n",
    "# 가져올 테이블 선택\n",
    "cur = conn.cursor(pymysql.cursors.DictCursor)\n",
    "cur.execute('select * from language')\n",
    "\n",
    "# 헤더 정보 가져오기\n",
    "desc = cur.description\n",
    "for i in range(len(desc)):\n",
    "    print(desc[i][0], end=' ')\n",
    "print()\n",
    "\n",
    "# 모든 데이터 가져오기\n",
    "rows= cur.fetchall()\n",
    "for data in rows:\n",
    "    print(data)\n",
    "print()\n",
    "\n",
    "# DataFrame으로 변환\n",
    "language_df = pd.DataFrame(rows)\n",
    "print(language_df)\n",
    "# 데이터베이스 연결 종료\n",
    "cur.close()\n",
    "conn.close()"
   ]
  },
  {
   "cell_type": "code",
   "execution_count": 11,
   "metadata": {},
   "outputs": [
    {
     "data": {
      "text/html": [
       "<div>\n",
       "<style scoped>\n",
       "    .dataframe tbody tr th:only-of-type {\n",
       "        vertical-align: middle;\n",
       "    }\n",
       "\n",
       "    .dataframe tbody tr th {\n",
       "        vertical-align: top;\n",
       "    }\n",
       "\n",
       "    .dataframe thead th {\n",
       "        text-align: right;\n",
       "    }\n",
       "</style>\n",
       "<table border=\"1\" class=\"dataframe\">\n",
       "  <thead>\n",
       "    <tr style=\"text-align: right;\">\n",
       "      <th></th>\n",
       "      <th>language_id</th>\n",
       "      <th>name</th>\n",
       "      <th>last_update</th>\n",
       "    </tr>\n",
       "  </thead>\n",
       "  <tbody>\n",
       "    <tr>\n",
       "      <th>0</th>\n",
       "      <td>1</td>\n",
       "      <td>English</td>\n",
       "      <td>2006-02-15 05:02:19</td>\n",
       "    </tr>\n",
       "    <tr>\n",
       "      <th>1</th>\n",
       "      <td>2</td>\n",
       "      <td>Italian</td>\n",
       "      <td>2006-02-15 05:02:19</td>\n",
       "    </tr>\n",
       "    <tr>\n",
       "      <th>2</th>\n",
       "      <td>3</td>\n",
       "      <td>Japanese</td>\n",
       "      <td>2006-02-15 05:02:19</td>\n",
       "    </tr>\n",
       "    <tr>\n",
       "      <th>3</th>\n",
       "      <td>4</td>\n",
       "      <td>Mandarin</td>\n",
       "      <td>2006-02-15 05:02:19</td>\n",
       "    </tr>\n",
       "    <tr>\n",
       "      <th>4</th>\n",
       "      <td>5</td>\n",
       "      <td>French</td>\n",
       "      <td>2006-02-15 05:02:19</td>\n",
       "    </tr>\n",
       "    <tr>\n",
       "      <th>5</th>\n",
       "      <td>6</td>\n",
       "      <td>German</td>\n",
       "      <td>2006-02-15 05:02:19</td>\n",
       "    </tr>\n",
       "  </tbody>\n",
       "</table>\n",
       "</div>"
      ],
      "text/plain": [
       "   language_id      name         last_update\n",
       "0            1   English 2006-02-15 05:02:19\n",
       "1            2   Italian 2006-02-15 05:02:19\n",
       "2            3  Japanese 2006-02-15 05:02:19\n",
       "3            4  Mandarin 2006-02-15 05:02:19\n",
       "4            5    French 2006-02-15 05:02:19\n",
       "5            6    German 2006-02-15 05:02:19"
      ]
     },
     "execution_count": 11,
     "metadata": {},
     "output_type": "execute_result"
    }
   ],
   "source": [
    "language_df"
   ]
  }
 ],
 "metadata": {
  "kernelspec": {
   "display_name": "py39",
   "language": "python",
   "name": "python3"
  },
  "language_info": {
   "codemirror_mode": {
    "name": "ipython",
    "version": 3
   },
   "file_extension": ".py",
   "mimetype": "text/x-python",
   "name": "python",
   "nbconvert_exporter": "python",
   "pygments_lexer": "ipython3",
   "version": "3.9.19"
  }
 },
 "nbformat": 4,
 "nbformat_minor": 2
}
