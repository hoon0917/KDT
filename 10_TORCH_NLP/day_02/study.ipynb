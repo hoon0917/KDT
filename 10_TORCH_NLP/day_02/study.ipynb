{
 "cells": [
  {
   "cell_type": "markdown",
   "metadata": {},
   "source": [
    "- 텍스트 데이터 ==> 말뭉치/코퍼스\n",
    "- 형태소분리 ==> 토큰(문장, 단어, 바이트-문자 1개)\n",
    "- 불필요한 토큰 제거 ==> 구두점,  + 추가\n",
    "-                  ==> 빈도 높은 의미 없는 토큰(인칭대명사,관사,조사...)\n",
    "-                  ==> 빈도 낮은 단어들 검사, 중요하지 않은 토큰 제거\n",
    "- 중복 토큰, 의미가 동일한 토큰 통합 제거 ==> 동일 부분 추출 어근(사전) 만들기  \n",
    "- 텍스트 ==> 수치화"
   ]
  },
  {
   "cell_type": "markdown",
   "metadata": {},
   "source": []
  }
 ],
 "metadata": {
  "kernelspec": {
   "display_name": "TORCH_TEXT",
   "language": "python",
   "name": "python3"
  },
  "language_info": {
   "name": "python",
   "version": "3.8.19"
  }
 },
 "nbformat": 4,
 "nbformat_minor": 2
}
