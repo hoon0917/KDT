{
 "cells": [
  {
   "cell_type": "markdown",
   "metadata": {},
   "source": [
    "#### 자연어 처리를 위한 전처리\n",
    " - 정제\n",
    " * 토큰화 전후로 진행됨\n",
    " * 100프로 제거는 어려움\n",
    " * 불용어 제거, 빈도에 따른 제거, 길이에 따른 제거"
   ]
  },
  {
   "cell_type": "code",
   "execution_count": 1,
   "metadata": {},
   "outputs": [],
   "source": [
    "## 모듈 로딩\n",
    "from nltk.corpus import stopwords\n",
    "from nltk.tokenize import word_tokenize"
   ]
  },
  {
   "cell_type": "code",
   "execution_count": 2,
   "metadata": {},
   "outputs": [
    {
     "name": "stdout",
     "output_type": "stream",
     "text": [
      "영어 불용어 : 179\n",
      "i\n",
      "me my myself we our ours ourselves you you're you've you'll you'd your yours yourself yourselves he him his himself\n",
      "she she's her hers herself it it's its itself they them their theirs themselves what which who whom this that\n",
      "that'll these those am is are was were be been being have has had having do does did doing a\n",
      "an the and but if or because as until while of at by for with about against between into through\n",
      "during before after above below to from up down in out on off over under again further then once "
     ]
    }
   ],
   "source": [
    "# NLTK 제공 영어 d=불용어 리스트 가져오기\n",
    "english_sw=stopwords.words('english')\n",
    "\n",
    "print(f'영어 불용어 : {len(english_sw)}')\n",
    "for idx, i in enumerate(english_sw[:100]):\n",
    "    print(i, end=' ' if idx%20 else '\\n')"
   ]
  },
  {
   "cell_type": "code",
   "execution_count": 3,
   "metadata": {},
   "outputs": [],
   "source": [
    "## 토큰에서 불용어 제거하기\n",
    "sentence = '''This was not the map we found in Billy Bones's chest, but an accurate copy, \n",
    "complete in all things--names and heights and soundings--with the single exception of the red \n",
    "crosses and the written notes.'''"
   ]
  },
  {
   "cell_type": "code",
   "execution_count": 4,
   "metadata": {},
   "outputs": [
    {
     "name": "stdout",
     "output_type": "stream",
     "text": [
      "{'!': {\"This was not the map we found in Billy Bones's chest, but an accurate copy, \\ncomplete in all things--names and heights and soundings--with the single exception of the red \\ncrosses and the written notes.\"}}\n",
      "{'\"': {\"This was not the map we found in Billy Bones's chest, but an accurate copy, \\ncomplete in all things--names and heights and soundings--with the single exception of the red \\ncrosses and the written notes.\"}}\n",
      "{'#': {\"This was not the map we found in Billy Bones's chest, but an accurate copy, \\ncomplete in all things--names and heights and soundings--with the single exception of the red \\ncrosses and the written notes.\"}}\n",
      "{'$': {\"This was not the map we found in Billy Bones's chest, but an accurate copy, \\ncomplete in all things--names and heights and soundings--with the single exception of the red \\ncrosses and the written notes.\"}}\n",
      "{'%': {\"This was not the map we found in Billy Bones's chest, but an accurate copy, \\ncomplete in all things--names and heights and soundings--with the single exception of the red \\ncrosses and the written notes.\"}}\n",
      "{'&': {\"This was not the map we found in Billy Bones's chest, but an accurate copy, \\ncomplete in all things--names and heights and soundings--with the single exception of the red \\ncrosses and the written notes.\"}}\n",
      "{\"'\": {'This was not the map we found in Billy Boness chest, but an accurate copy, \\ncomplete in all things--names and heights and soundings--with the single exception of the red \\ncrosses and the written notes.'}}\n",
      "{'(': {'This was not the map we found in Billy Boness chest, but an accurate copy, \\ncomplete in all things--names and heights and soundings--with the single exception of the red \\ncrosses and the written notes.'}}\n",
      "{')': {'This was not the map we found in Billy Boness chest, but an accurate copy, \\ncomplete in all things--names and heights and soundings--with the single exception of the red \\ncrosses and the written notes.'}}\n",
      "{'*': {'This was not the map we found in Billy Boness chest, but an accurate copy, \\ncomplete in all things--names and heights and soundings--with the single exception of the red \\ncrosses and the written notes.'}}\n",
      "{'+': {'This was not the map we found in Billy Boness chest, but an accurate copy, \\ncomplete in all things--names and heights and soundings--with the single exception of the red \\ncrosses and the written notes.'}}\n",
      "{',': {'This was not the map we found in Billy Boness chest but an accurate copy \\ncomplete in all things--names and heights and soundings--with the single exception of the red \\ncrosses and the written notes.'}}\n",
      "{'-': {'This was not the map we found in Billy Boness chest but an accurate copy \\ncomplete in all thingsnames and heights and soundingswith the single exception of the red \\ncrosses and the written notes.'}}\n",
      "{'.': {'This was not the map we found in Billy Boness chest but an accurate copy \\ncomplete in all thingsnames and heights and soundingswith the single exception of the red \\ncrosses and the written notes'}}\n",
      "{'/': {'This was not the map we found in Billy Boness chest but an accurate copy \\ncomplete in all thingsnames and heights and soundingswith the single exception of the red \\ncrosses and the written notes'}}\n",
      "{':': {'This was not the map we found in Billy Boness chest but an accurate copy \\ncomplete in all thingsnames and heights and soundingswith the single exception of the red \\ncrosses and the written notes'}}\n",
      "{';': {'This was not the map we found in Billy Boness chest but an accurate copy \\ncomplete in all thingsnames and heights and soundingswith the single exception of the red \\ncrosses and the written notes'}}\n",
      "{'<': {'This was not the map we found in Billy Boness chest but an accurate copy \\ncomplete in all thingsnames and heights and soundingswith the single exception of the red \\ncrosses and the written notes'}}\n",
      "{'=': {'This was not the map we found in Billy Boness chest but an accurate copy \\ncomplete in all thingsnames and heights and soundingswith the single exception of the red \\ncrosses and the written notes'}}\n",
      "{'>': {'This was not the map we found in Billy Boness chest but an accurate copy \\ncomplete in all thingsnames and heights and soundingswith the single exception of the red \\ncrosses and the written notes'}}\n",
      "{'?': {'This was not the map we found in Billy Boness chest but an accurate copy \\ncomplete in all thingsnames and heights and soundingswith the single exception of the red \\ncrosses and the written notes'}}\n",
      "{'@': {'This was not the map we found in Billy Boness chest but an accurate copy \\ncomplete in all thingsnames and heights and soundingswith the single exception of the red \\ncrosses and the written notes'}}\n",
      "{'[': {'This was not the map we found in Billy Boness chest but an accurate copy \\ncomplete in all thingsnames and heights and soundingswith the single exception of the red \\ncrosses and the written notes'}}\n",
      "{'\\\\': {'This was not the map we found in Billy Boness chest but an accurate copy \\ncomplete in all thingsnames and heights and soundingswith the single exception of the red \\ncrosses and the written notes'}}\n",
      "{']': {'This was not the map we found in Billy Boness chest but an accurate copy \\ncomplete in all thingsnames and heights and soundingswith the single exception of the red \\ncrosses and the written notes'}}\n",
      "{'^': {'This was not the map we found in Billy Boness chest but an accurate copy \\ncomplete in all thingsnames and heights and soundingswith the single exception of the red \\ncrosses and the written notes'}}\n",
      "{'_': {'This was not the map we found in Billy Boness chest but an accurate copy \\ncomplete in all thingsnames and heights and soundingswith the single exception of the red \\ncrosses and the written notes'}}\n",
      "{'`': {'This was not the map we found in Billy Boness chest but an accurate copy \\ncomplete in all thingsnames and heights and soundingswith the single exception of the red \\ncrosses and the written notes'}}\n",
      "{'{': {'This was not the map we found in Billy Boness chest but an accurate copy \\ncomplete in all thingsnames and heights and soundingswith the single exception of the red \\ncrosses and the written notes'}}\n",
      "{'|': {'This was not the map we found in Billy Boness chest but an accurate copy \\ncomplete in all thingsnames and heights and soundingswith the single exception of the red \\ncrosses and the written notes'}}\n",
      "{'}': {'This was not the map we found in Billy Boness chest but an accurate copy \\ncomplete in all thingsnames and heights and soundingswith the single exception of the red \\ncrosses and the written notes'}}\n",
      "{'~': {'This was not the map we found in Billy Boness chest but an accurate copy \\ncomplete in all thingsnames and heights and soundingswith the single exception of the red \\ncrosses and the written notes'}}\n"
     ]
    }
   ],
   "source": [
    "## 구두점 제거\n",
    "import string\n",
    "\n",
    "punct = string.punctuation\n",
    "for pun in punct :\n",
    "    sentence = sentence.replace(pun,'')\n",
    "    print({pun : {sentence}})\n",
    "\n"
   ]
  },
  {
   "cell_type": "code",
   "execution_count": 5,
   "metadata": {},
   "outputs": [
    {
     "name": "stdout",
     "output_type": "stream",
     "text": [
      "['this', 'was', 'not', 'the', 'map', 'we', 'found', 'in', 'billy', 'boness', 'chest', 'but', 'an', 'accurate', 'copy', 'complete', 'in', 'all', 'thingsnames', 'and', 'heights', 'and', 'soundingswith', 'the', 'single', 'exception', 'of', 'the', 'red', 'crosses', 'and', 'the', 'written', 'notes']\n"
     ]
    }
   ],
   "source": [
    "# 대소문자 통일\n",
    "sentence = sentence.lower()\n",
    "\n",
    "## 토큰화 진행\n",
    "tokens = word_tokenize(sentence)\n",
    "print(tokens)"
   ]
  },
  {
   "cell_type": "code",
   "execution_count": 8,
   "metadata": {},
   "outputs": [
    {
     "name": "stdout",
     "output_type": "stream",
     "text": [
      "notes : False\n",
      "written : False\n",
      "the : True\n",
      "crosses : False\n",
      "red : False\n",
      "the : True\n",
      "exception : False\n",
      "single : False\n",
      "the : True\n",
      "soundingswith : False\n",
      "heights : False\n",
      "thingsnames : False\n",
      "all : True\n",
      "complete : False\n",
      "copy : False\n",
      "accurate : False\n",
      "an : True\n",
      "chest : False\n",
      "boness : False\n",
      "billy : False\n",
      "found : False\n",
      "map : False\n",
      "was : True\n"
     ]
    }
   ],
   "source": [
    "## 불용어 제거 : 분석에 의미가 없는 토큰 제거\n",
    "## 토큰화 한게 불용어 리스트(english_sw)에 있다면 제거\n",
    "for token in tokens[::-1] :\n",
    "    print(f'{token} : {token in english_sw}')\n",
    "    if token in english_sw :\n",
    "        # 제거\n",
    "        tokens.remove(token)\n",
    "    if token in list(punct) :\n",
    "        tokens.remove(token)"
   ]
  },
  {
   "cell_type": "code",
   "execution_count": 7,
   "metadata": {},
   "outputs": [
    {
     "data": {
      "text/plain": [
       "['notes',\n",
       " 'written',\n",
       " 'the',\n",
       " 'crosses',\n",
       " 'red',\n",
       " 'the',\n",
       " 'exception',\n",
       " 'single',\n",
       " 'the',\n",
       " 'soundingswith',\n",
       " 'heights',\n",
       " 'thingsnames',\n",
       " 'all',\n",
       " 'complete',\n",
       " 'copy',\n",
       " 'accurate',\n",
       " 'an',\n",
       " 'chest',\n",
       " 'boness',\n",
       " 'billy',\n",
       " 'found',\n",
       " 'map',\n",
       " 'was']"
      ]
     },
     "execution_count": 7,
     "metadata": {},
     "output_type": "execute_result"
    }
   ],
   "source": [
    "tokens[::-1]"
   ]
  },
  {
   "cell_type": "code",
   "execution_count": null,
   "metadata": {},
   "outputs": [],
   "source": []
  }
 ],
 "metadata": {
  "kernelspec": {
   "display_name": "TORCH_TEXT",
   "language": "python",
   "name": "python3"
  },
  "language_info": {
   "codemirror_mode": {
    "name": "ipython",
    "version": 3
   },
   "file_extension": ".py",
   "mimetype": "text/x-python",
   "name": "python",
   "nbconvert_exporter": "python",
   "pygments_lexer": "ipython3",
   "version": "3.8.19"
  }
 },
 "nbformat": 4,
 "nbformat_minor": 2
}
