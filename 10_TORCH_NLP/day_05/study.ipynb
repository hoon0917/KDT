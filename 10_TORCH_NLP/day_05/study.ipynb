{
 "cells": [
  {
   "cell_type": "markdown",
   "metadata": {},
   "source": [
    "[텍스트전처리]\n",
    "- 토큰화                                                ==> 최적 토큰화 패키지\n",
    "- 정제 (불용어, 구두점, 개발자 지정 제거 문자)            ==> 불용어, 구두점\n",
    "- 단어사전(정수)\n",
    "- 문장 ==> 수치화\n",
    "- 문장 길이 통일, 패딩\n",
    "- 정수 수치화 ==> 원핫인코딩 변환 : 파이토치는 필요없음\n",
    "\n",
    "[모델]\n",
    "- 임베딩층 : 차원 축소 [예: 샘플 5개, 3000개 피쳐 ===> 샘플 5개, 30개 피쳐]\n",
    "- RNN/LSTM/GRU층"
   ]
  },
  {
   "cell_type": "markdown",
   "metadata": {},
   "source": []
  }
 ],
 "metadata": {
  "kernelspec": {
   "display_name": "TORCH_TEXT",
   "language": "python",
   "name": "python3"
  },
  "language_info": {
   "name": "python",
   "version": "3.8.19"
  }
 },
 "nbformat": 4,
 "nbformat_minor": 2
}
