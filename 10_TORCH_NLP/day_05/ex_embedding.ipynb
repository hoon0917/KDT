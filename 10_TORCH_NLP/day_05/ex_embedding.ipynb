{
 "cells": [
  {
   "cell_type": "code",
   "execution_count": 17,
   "metadata": {},
   "outputs": [],
   "source": [
    "## 단어 사전 생성\n",
    "train_data = 'you need to know to code'\n",
    "\n",
    "# 중복을 제거한 단어들의 집한인 단어 집합 생성\n",
    "word_set = set(train_data.split())\n",
    "\n",
    "# 단어 집합의 각 단어에 고유한 정수 맵핑\n",
    "vocab = {word: i + 2 for i, word in enumerate(word_set)}\n",
    "vocab['<pad>'] = 0\n",
    "vocab['<unk>'] = 1"
   ]
  },
  {
   "cell_type": "code",
   "execution_count": 18,
   "metadata": {},
   "outputs": [],
   "source": [
    "import torch\n",
    "import torch.nn as nn"
   ]
  },
  {
   "cell_type": "code",
   "execution_count": 19,
   "metadata": {},
   "outputs": [],
   "source": [
    "# 임의의 임베딩의 룩업 테이블\n",
    "embedding_table = torch.FloatTensor([\n",
    "                                    [0.0, 0.0, 0.0],\n",
    "                                    [0.0, 0.0, 0.0],\n",
    "                                    [0.2, 0.9, 0.3],\n",
    "                                    [0.1, 0.5, 0.7],\n",
    "                                    [0.2, 0.1, 0.8],\n",
    "                                    [0.4, 0.1, 0.1],\n",
    "                                    [0.1, 0.8, 0.9],\n",
    "                                    [0.6, 0.1, 0.1]])"
   ]
  },
  {
   "cell_type": "code",
   "execution_count": 20,
   "metadata": {},
   "outputs": [
    {
     "name": "stdout",
     "output_type": "stream",
     "text": [
      "idxes : tensor([6, 3, 5, 1])\n",
      "tensor([[0.1000, 0.8000, 0.9000],\n",
      "        [0.1000, 0.5000, 0.7000],\n",
      "        [0.4000, 0.1000, 0.1000],\n",
      "        [0.0000, 0.0000, 0.0000]])\n"
     ]
    }
   ],
   "source": [
    "## 토큰 정수 ==> 임베딩 벡터 변환\n",
    "sample = 'you need to run'.split()\n",
    "idxes = []\n",
    "\n",
    "# 각 단어를 정수로 변환\n",
    "for word in sample :\n",
    "    try :\n",
    "        idxes.append(vocab[word])\n",
    "    # 단어 집합에 없는 단어일 경우 <unk> 대체\n",
    "    except KeyError :\n",
    "        idxes.append(vocab['<unk>'])\n",
    "\n",
    "# 텐서화 진행\n",
    "idxes = torch.LongTensor(idxes)\n",
    "print(f'idxes : {idxes}')\n",
    "\n",
    "# 각 정수를 인덱스로 임베딩 테이블에서 값 가져오기\n",
    "lookup_result = embedding_table[idxes, :]\n",
    "print(lookup_result)"
   ]
  },
  {
   "cell_type": "code",
   "execution_count": 21,
   "metadata": {},
   "outputs": [],
   "source": [
    "embedding_layer = nn.Embedding(num_embeddings=len(vocab),\n",
    "                               embedding_dim=3,\n",
    "                               padding_idx=0)"
   ]
  },
  {
   "cell_type": "code",
   "execution_count": 22,
   "metadata": {},
   "outputs": [
    {
     "name": "stdout",
     "output_type": "stream",
     "text": [
      "Parameter containing:\n",
      "tensor([[ 0.0000,  0.0000,  0.0000],\n",
      "        [ 1.0386, -1.1644,  1.3114],\n",
      "        [ 1.8211, -0.6533, -0.2636],\n",
      "        [ 0.2606, -1.5370,  0.5730],\n",
      "        [-0.1539, -0.0380,  0.2743],\n",
      "        [-0.5296,  0.2568, -0.5376],\n",
      "        [-0.5059, -2.5957, -1.3783]], requires_grad=True)\n"
     ]
    }
   ],
   "source": [
    "print(embedding_layer.weight)"
   ]
  },
  {
   "cell_type": "code",
   "execution_count": null,
   "metadata": {},
   "outputs": [],
   "source": []
  }
 ],
 "metadata": {
  "kernelspec": {
   "display_name": "TORCH_TEXT",
   "language": "python",
   "name": "python3"
  },
  "language_info": {
   "codemirror_mode": {
    "name": "ipython",
    "version": 3
   },
   "file_extension": ".py",
   "mimetype": "text/x-python",
   "name": "python",
   "nbconvert_exporter": "python",
   "pygments_lexer": "ipython3",
   "version": "3.8.19"
  }
 },
 "nbformat": 4,
 "nbformat_minor": 2
}
