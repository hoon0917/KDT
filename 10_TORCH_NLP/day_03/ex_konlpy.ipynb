{
 "cells": [
  {
   "cell_type": "markdown",
   "metadata": {},
   "source": [
    "##### 한국어 형태소 분석\n",
    "- konlpy 패키지 활용\n",
    "    * 내부에 5가지 형태소 분석 패키지 포함\n",
    "    * 5가지 형태소 분석기 사용법 동일. 쉬움"
   ]
  },
  {
   "cell_type": "markdown",
   "metadata": {},
   "source": [
    "- [1] 모듈 로딩<hr>"
   ]
  },
  {
   "cell_type": "code",
   "execution_count": 14,
   "metadata": {},
   "outputs": [],
   "source": [
    "from konlpy.tag import *"
   ]
  },
  {
   "cell_type": "markdown",
   "metadata": {},
   "source": [
    "- [2] 다양한 형태소 분석기 활용<hr>"
   ]
  },
  {
   "cell_type": "code",
   "execution_count": 15,
   "metadata": {},
   "outputs": [],
   "source": [
    "#### 한나무 형태소 분석기\n",
    "han = Hannanum()\n",
    "\n",
    "text = '메이플랜드 같이 할 분 구합니다. 제가 힐 잘 해 드릴게요!!'"
   ]
  },
  {
   "cell_type": "code",
   "execution_count": 16,
   "metadata": {},
   "outputs": [
    {
     "name": "stdout",
     "output_type": "stream",
     "text": [
      "['메이플랜드', '같', '이', '하', 'ㄹ', '분', '구하', 'ㅂ니다', '.', '저', '가', '힐', '잘', '하', '어', '드릴게요', '!!']\n"
     ]
    }
   ],
   "source": [
    "### 형태소 분리\n",
    "result = han.morphs(text)\n",
    "\n",
    "print(result)"
   ]
  },
  {
   "cell_type": "code",
   "execution_count": 17,
   "metadata": {},
   "outputs": [
    {
     "name": "stdout",
     "output_type": "stream",
     "text": [
      "['메이플랜드', '분', '저', '힐', '드릴게요']\n"
     ]
    }
   ],
   "source": [
    "### 명사만 추출 분리\n",
    "result = han.nouns(text)\n",
    "\n",
    "print(result)"
   ]
  },
  {
   "cell_type": "code",
   "execution_count": 18,
   "metadata": {},
   "outputs": [
    {
     "name": "stdout",
     "output_type": "stream",
     "text": [
      "[('메이플랜드', 'N'), ('같', 'P'), ('이', 'X'), ('하', 'P'), ('ㄹ', 'E'), ('분', 'N'), ('구하', 'P'), ('ㅂ니다', 'E'), ('.', 'S'), ('저', 'N'), ('가', 'J'), ('힐', 'N'), ('잘', 'M'), ('하', 'P'), ('어', 'E'), ('드릴게요', 'N'), ('!!', 'S')]\n"
     ]
    }
   ],
   "source": [
    "### 품사 태깅 추출 분리\n",
    "result = han.pos(text)\n",
    "\n",
    "print(result)"
   ]
  },
  {
   "cell_type": "code",
   "execution_count": 20,
   "metadata": {},
   "outputs": [],
   "source": [
    "### 꼬꼬마 형태소 분석기\n",
    "kkma = Kkma()"
   ]
  },
  {
   "cell_type": "code",
   "execution_count": 25,
   "metadata": {},
   "outputs": [
    {
     "name": "stdout",
     "output_type": "stream",
     "text": [
      "['메이', '플', '랜드', '같이', '하', 'ㄹ', '분', '구하', 'ㅂ니다', '.', '저', '가', '힐', '잘', '하', '어', '드리', 'ㄹ게요', '!!']\n",
      "['메이', '메이플랜드', '플', '랜드', '분', '저', '힐']\n",
      "[('메이', 'NNG'), ('플', 'UN'), ('랜드', 'NNG'), ('같이', 'MAG'), ('하', 'VV'), ('ㄹ', 'ETD'), ('분', 'NNB'), ('구하', 'VV'), ('ㅂ니다', 'EFN'), ('.', 'SF'), ('저', 'NP'), ('가', 'JKS'), ('힐', 'NNG'), ('잘', 'MAG'), ('하', 'VV'), ('어', 'ECS'), ('드리', 'VXV'), ('ㄹ게요', 'EFN'), ('!!', 'SW')]\n"
     ]
    }
   ],
   "source": [
    "### 형태소 분석\n",
    "print(kkma.morphs(text))\n",
    "\n",
    "### 명사만 추출\n",
    "print(kkma.nouns(text))\n",
    "\n",
    "### 품사 태깅 후 분리\n",
    "print(kkma.pos(text))"
   ]
  },
  {
   "cell_type": "code",
   "execution_count": 28,
   "metadata": {},
   "outputs": [
    {
     "name": "stdout",
     "output_type": "stream",
     "text": [
      "['메이플', '랜드', '같이', '할', '분', '구합', '니', '다', '.', '제', '가', '힐', '잘', '해', '드릴게요', '!!']\n",
      "['메이플', '랜드', '분', '구합', '니', '제', '힐', '해']\n",
      "[('메이플', 'Noun'), ('랜드', 'Noun'), ('같이', 'Adverb'), ('할', 'Verb'), ('분', 'Noun'), ('구합', 'Noun'), ('니', 'Noun'), ('다', 'Josa'), ('.', 'Punctuation'), ('제', 'Noun'), ('가', 'Josa'), ('힐', 'Noun'), ('잘', 'Verb'), ('해', 'Noun'), ('드릴게요', 'Verb'), ('!!', 'Punctuation')]\n"
     ]
    }
   ],
   "source": [
    "#### OKT 형태소 분석기\n",
    "okt = Okt()\n",
    "\n",
    "### 형태소 분석\n",
    "print(okt.morphs(text))\n",
    "\n",
    "### 명사만 추출\n",
    "print(okt.nouns(text))\n",
    "\n",
    "### 품사 태깅 후 분리\n",
    "print(okt.pos(text))"
   ]
  },
  {
   "cell_type": "code",
   "execution_count": null,
   "metadata": {},
   "outputs": [],
   "source": []
  }
 ],
 "metadata": {
  "kernelspec": {
   "display_name": "TORCH_TEXT",
   "language": "python",
   "name": "python3"
  },
  "language_info": {
   "codemirror_mode": {
    "name": "ipython",
    "version": 3
   },
   "file_extension": ".py",
   "mimetype": "text/x-python",
   "name": "python",
   "nbconvert_exporter": "python",
   "pygments_lexer": "ipython3",
   "version": "3.8.19"
  }
 },
 "nbformat": 4,
 "nbformat_minor": 2
}
