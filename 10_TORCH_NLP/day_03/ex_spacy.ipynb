{
 "cells": [
  {
   "cell_type": "markdown",
   "metadata": {},
   "source": [
    "#####  한국어 형태소 분석기 spacy\n",
    "- 빠른 속도와 정확도가 높은 형태소 분석기\n",
    "- 설치 2단계 \n",
    "    * 형태소 분석기 설치\n",
    "    * 언어별 모델 설치"
   ]
  },
  {
   "cell_type": "code",
   "execution_count": 1,
   "metadata": {},
   "outputs": [],
   "source": [
    "### 모듈 로딩\n",
    "import spacy"
   ]
  },
  {
   "cell_type": "code",
   "execution_count": 4,
   "metadata": {},
   "outputs": [],
   "source": [
    "### 언어 모델 설정\n",
    "LANG_MODEL = 'ko_core_news_lg'"
   ]
  },
  {
   "cell_type": "code",
   "execution_count": 5,
   "metadata": {},
   "outputs": [],
   "source": [
    "### 한국어 분석기 생성\n",
    "nlp = spacy.load(LANG_MODEL)"
   ]
  },
  {
   "cell_type": "code",
   "execution_count": 14,
   "metadata": {},
   "outputs": [
    {
     "name": "stdout",
     "output_type": "stream",
     "text": [
      "일만    , 일+만   , ADV   , ncpa+jxc, False\n",
      "하고    , 하+고   , SCONJ , pvg+ecs, False\n",
      "놀지    , 놀+지   , VERB  , pvg+ecx, False\n",
      "않으면   , 않+으면  , SCONJ , px+ecs, False\n",
      "바보가   , 바보+가  , NOUN  , ncn+jcc, False\n",
      "된다    , 되+ㄴ다  , VERB  , pvg+ef, False\n"
     ]
    }
   ],
   "source": [
    "text = '일만 하고 놀지 않으면 바보가 된다'\n",
    "doc = nlp(text) \n",
    "\n",
    "for token in doc :\n",
    "    # 표제어, 단어 품사, 자세한 품사, 불용어 여부\n",
    "    print(f'{token.text:6}, {token.lemma_:6}, {token.pos_:6}, {token.tag_:6}, {token.is_stop}')"
   ]
  },
  {
   "cell_type": "code",
   "execution_count": 21,
   "metadata": {},
   "outputs": [],
   "source": [
    "my_tokens =[]\n",
    "for token in doc :\n",
    "    # print(token.text)       토큰에 저장된 텍스트 속성\n",
    "    # print(token.lemma_)     토큰의 표제어 속성\n",
    "    # print(token.pos_)       토큰의 푸맛 속성\n",
    "    # print(token.tag_)       토큰의 상세품사 속성\n",
    "    # print(token.is_stop)    토큰의 불용어 여부 속성\n",
    "    # print(token.is_punct)   토큰의 구두점 여부 속성\n",
    "    if (not token.is_punct) or (not token.is_stop) :\n",
    "        my_tokens.append(token)"
   ]
  },
  {
   "cell_type": "code",
   "execution_count": 22,
   "metadata": {},
   "outputs": [
    {
     "name": "stdout",
     "output_type": "stream",
     "text": [
      "[일만, 하고, 놀지, 않으면, 바보가, 된다]\n"
     ]
    }
   ],
   "source": [
    "print(my_tokens)"
   ]
  },
  {
   "cell_type": "code",
   "execution_count": null,
   "metadata": {},
   "outputs": [],
   "source": [
    "from IPython.display import "
   ]
  }
 ],
 "metadata": {
  "kernelspec": {
   "display_name": "TORCH_TEXT",
   "language": "python",
   "name": "python3"
  },
  "language_info": {
   "codemirror_mode": {
    "name": "ipython",
    "version": 3
   },
   "file_extension": ".py",
   "mimetype": "text/x-python",
   "name": "python",
   "nbconvert_exporter": "python",
   "pygments_lexer": "ipython3",
   "version": "3.8.19"
  }
 },
 "nbformat": 4,
 "nbformat_minor": 2
}
